{
 "cells": [
  {
   "cell_type": "code",
   "execution_count": 1,
   "metadata": {},
   "outputs": [],
   "source": [
    "# First import the packages we'll need\n",
    "# Numpy is for numerical analysis\n",
    "import numpy as np\n",
    "# Pandas is for data storage and manipulation\n",
    "import pandas as pd\n",
    "# Matplotlib and seaborn are for plotting\n",
    "import matplotlib.pyplot as plt\n",
    "%matplotlib inline\n",
    "import seaborn as sns"
   ]
  },
  {
   "cell_type": "markdown",
   "metadata": {},
   "source": [
    "\n",
    "1. Go to the following website: https://www.rug.nl/ggdc/productivity/pwt/\n",
    "\n",
    "Download Penn World Table version 9.1 database in your preferred format. Consider the following countries: UK, USA, Denmark, France, and Colombia.\n",
    "\n",
    "a.  Using data in 2017, calculate real output per worker, real capital stock per worker, and human capital index for each of the countries you picked. Use 'rgdpna' (Real GDP at constant 2011 national prices (in mil. 2011USD)) as a measure of real GDP, use 'rnna' (Capital stock at constant 2011 national prices (in mil. 2011USD)) as a measure of real capital stock, use 'emp'(Number of persons engaged (in millions)) as a measure of employment, and use 'hc' (Human capital index, based on years of schooling and returns to education) as a measure of human capital.\n",
    "\n",
    "b. Assume a Cobb-Douglas production function with $\\alpha=1/3$. Suppose countries differ only with respect to their investment rates. For each country listed above, calculate Solow model's predicted output per worker relative to the UK output per worker. For investment rates of countries, use average of variable csh\\_i (Share of gross capital formation at current PPPs) over the years 1970-2017. Generate a table comparing Solow model's predicted output per worker relative to the UK with actual output per worker relative to the UK (in 2017, or in the latest available year). Hint, I ask you to do an exercise similar to what we have done in lecture 3. Briefly comment on the table.  \n",
    "\n",
    "c. Now, assume that countries differ with respect to investment rates and employment growth rates. Assume that depreciation rates in all countries are equal to 5%, $\\delta=0.05$. Calculate average annual employment growth rates of the above listed countries from 1970 to 2017. Repeat the exercise in part b. Create a table that compares Solow model's predicted output per worker differences with actual output per worker differences relative to the UK. Briefly comment on the table.\n",
    "\n",
    "d. Now, assume that countries differ not only in their investment and employment growth rates but also in their human capital. For this exercise use variable hc in 2017 (Human capital index, based on years of schooling and returns to education) as $h$ in the Solow model. Assume that depreciation rates in all countries are equal to 5%, $\\delta=0.05$. . Repeat part c while considering human capital differences across countries. Create a table and briefly comment on it.\n",
    "\n",
    "e.Do your predictions approach to actual income differences as you take into account more variables? \n",
    "\n"
   ]
  },
  {
   "cell_type": "code",
   "execution_count": 4,
   "metadata": {
    "scrolled": true
   },
   "outputs": [],
   "source": [
    "# Here, I download the Penn World Tables legend\n",
    "df_legend = pd.read_excel('https://www.rug.nl/ggdc/docs/pwt100.xlsx',sheet_name='Legend')\n",
    "df_legend.dropna(subset=inplace=True)\n",
    "# I create a dictionary of variables names and definitions\n",
    "df_legend = dict(zip(df_legend['Variable name'],df_legend['Variable definition']))"
   ]
  },
  {
   "cell_type": "code",
   "execution_count": 5,
   "metadata": {},
   "outputs": [
    {
     "data": {
      "text/plain": [
       "{}"
      ]
     },
     "execution_count": 5,
     "metadata": {},
     "output_type": "execute_result"
    }
   ],
   "source": [
    "df_legend"
   ]
  },
  {
   "cell_type": "code",
   "execution_count": 3,
   "metadata": {
    "scrolled": true
   },
   "outputs": [
    {
     "ename": "KeyError",
     "evalue": "'cgdpe'",
     "output_type": "error",
     "traceback": [
      "\u001b[0;31m---------------------------------------------------------------------------\u001b[0m",
      "\u001b[0;31mKeyError\u001b[0m                                  Traceback (most recent call last)",
      "\u001b[0;32m<ipython-input-3-07c5e9aa000a>\u001b[0m in \u001b[0;36m<module>\u001b[0;34m\u001b[0m\n\u001b[1;32m      1\u001b[0m \u001b[0;31m# Here are the variables, we will need in this analysis\u001b[0m\u001b[0;34m\u001b[0m\u001b[0;34m\u001b[0m\u001b[0;34m\u001b[0m\u001b[0m\n\u001b[0;32m----> 2\u001b[0;31m \u001b[0mprint\u001b[0m\u001b[0;34m(\u001b[0m\u001b[0;34m'cgdpe = '\u001b[0m\u001b[0;34m,\u001b[0m \u001b[0mdf_legend\u001b[0m\u001b[0;34m[\u001b[0m\u001b[0;34m'cgdpe'\u001b[0m\u001b[0;34m]\u001b[0m\u001b[0;34m)\u001b[0m\u001b[0;34m\u001b[0m\u001b[0;34m\u001b[0m\u001b[0m\n\u001b[0m\u001b[1;32m      3\u001b[0m \u001b[0mprint\u001b[0m\u001b[0;34m(\u001b[0m\u001b[0;34m'rnna = '\u001b[0m\u001b[0;34m,\u001b[0m \u001b[0mdf_legend\u001b[0m\u001b[0;34m[\u001b[0m\u001b[0;34m'rnna'\u001b[0m\u001b[0;34m]\u001b[0m\u001b[0;34m)\u001b[0m\u001b[0;34m\u001b[0m\u001b[0;34m\u001b[0m\u001b[0m\n\u001b[1;32m      4\u001b[0m \u001b[0mprint\u001b[0m\u001b[0;34m(\u001b[0m\u001b[0;34m'emp = '\u001b[0m\u001b[0;34m,\u001b[0m \u001b[0mdf_legend\u001b[0m\u001b[0;34m[\u001b[0m\u001b[0;34m'emp'\u001b[0m\u001b[0;34m]\u001b[0m\u001b[0;34m)\u001b[0m\u001b[0;34m\u001b[0m\u001b[0;34m\u001b[0m\u001b[0m\n\u001b[1;32m      5\u001b[0m \u001b[0mprint\u001b[0m\u001b[0;34m(\u001b[0m\u001b[0;34m'hc ='\u001b[0m\u001b[0;34m,\u001b[0m \u001b[0mdf_legend\u001b[0m\u001b[0;34m[\u001b[0m\u001b[0;34m'hc'\u001b[0m\u001b[0;34m]\u001b[0m\u001b[0;34m)\u001b[0m\u001b[0;34m\u001b[0m\u001b[0;34m\u001b[0m\u001b[0m\n",
      "\u001b[0;31mKeyError\u001b[0m: 'cgdpe'"
     ]
    }
   ],
   "source": [
    "# Here are the variables, we will need in this analysis\n",
    "print('cgdpe = ', df_legend['cgdpe'])\n",
    "print('rnna = ', df_legend['rnna'])\n",
    "print('emp = ', df_legend['emp'])\n",
    "print('hc =', df_legend['hc'])\n",
    "print('csh_i =', df_legend['csh_i'])"
   ]
  },
  {
   "cell_type": "code",
   "execution_count": null,
   "metadata": {},
   "outputs": [],
   "source": [
    "# now download the data\n",
    "df = pd.read_excel('https://www.rug.nl/ggdc/docs/pwt100.xlsx',sheet_name='Data')"
   ]
  },
  {
   "cell_type": "code",
   "execution_count": null,
   "metadata": {},
   "outputs": [],
   "source": [
    "# create GDP per worker \n",
    "df['gdpPerworker'] = df['cgdpe']/df.emp"
   ]
  },
  {
   "cell_type": "code",
   "execution_count": null,
   "metadata": {},
   "outputs": [],
   "source": [
    "# Penn World Tables contain many variables, but these are the variables ...\n",
    "# I need to create the table asked in part a\n",
    "var_list = ['countrycode','country','cgdpe','emp','hc','year']"
   ]
  },
  {
   "cell_type": "code",
   "execution_count": null,
   "metadata": {},
   "outputs": [],
   "source": [
    "## Here, we create the table asked in part a)\n",
    "\n",
    "# This cell does five things:\n",
    "# 1) It selects the countries in my list: df.countrycode.isin(country_list)\n",
    "# 2) It selects year 2017: (df.year==2017)\n",
    "# 3) It selects the variables that I want to display :\n",
    "#               [['country','year','gdpPerworker','capPerworker','hc','emp','pop']]\n",
    "# 4) It rounds the variables to 2 decimal points: .round(decimals=2)\n",
    "# 5) Sets country as index: .set_index('country') \n",
    "df[(df.year==2019)][\n",
    "    ['country','year','gdpPerworker','hc','emp','pop']].round(decimals=2)"
   ]
  },
  {
   "cell_type": "code",
   "execution_count": null,
   "metadata": {},
   "outputs": [],
   "source": [
    "## To solve part b, I first need to calculate average investment rate ...\n",
    "# for each country from 1970 to 2007\n",
    "\n",
    "# This cell does the following things:\n",
    "# 1) It selects data from years 1970 to 2017: df[df.year.isin(np.arange(1970,2018))]\n",
    "# np.arange(1970,2018) creates a list from 1970 to 2017.\n",
    "# intervals on python is right-open. Hence np.arange(1970,2018) creates an array that does not inclue 2018\n",
    "# 2) it takes averages of the investment rates for each country:\n",
    "                #.groupby(['countrycode','country'])['csh_i'].mean()\n",
    "# 3) it resets data index\n",
    "# 4) it renames 'csh_i' variable to \"Investment rate\"\n",
    "    \n",
    "begin,end=1990,2019\n",
    "df_fundamentals = (df[df.year.isin(np.arange(begin,end))]\n",
    "                   .groupby(['countrycode','country'])['csh_i'].mean().reset_index().rename(\n",
    "                       columns={'csh_i':'Investment rate'}))"
   ]
  },
  {
   "cell_type": "code",
   "execution_count": null,
   "metadata": {
    "scrolled": true
   },
   "outputs": [],
   "source": [
    "# Now look at he investment rate of the countries we calculated above\n",
    "# In fact we calculated invesment rate for each country in our data\n",
    "# we display investment rate only for the countries we are interested in\n",
    "\n",
    "df_fundamentals.set_index('countrycode',inplace=True)\n",
    "df_fundamentals.round(decimals=2)"
   ]
  },
  {
   "cell_type": "code",
   "execution_count": null,
   "metadata": {},
   "outputs": [],
   "source": [
    "# In part c, we need to calculate the average employment growth"
   ]
  },
  {
   "cell_type": "code",
   "execution_count": null,
   "metadata": {},
   "outputs": [],
   "source": [
    "# first sort our data by country and by year\n",
    "# we need by year sorting to ensure that 1970 data comes earlier than 2017 data ...\n",
    "# in our dataset. We need this in the next cell\n",
    "df.sort_values(['countrycode','year'],inplace=True)"
   ]
  },
  {
   "cell_type": "code",
   "execution_count": null,
   "metadata": {},
   "outputs": [],
   "source": [
    "# This cell calculates the average annual employment growth rate from 1970 to 2017\n",
    "# It first selects the years 1970 and 2017\n",
    "# For each country it calculate average annual employment growth rate ...\n",
    "# using this formula = (emp_2017/emp_1970)^(1/47)-1\n",
    "# there are multiple ways of calculating average employment growth rate,...\n",
    "# the above is one of them\n",
    "\n",
    "# Here is how code works:\n",
    "# 1) it selects data from years 1970 and 2017: df[df.year.isin([1970,2017])]\n",
    "# 2) It groups the data based on countrycodes: .groupby(['countrycode']\n",
    "# 3) for each country code, we have 2 observations, from 1970 and from 2017\n",
    "# x['emp'].values[0] is the first observation from 1970 \n",
    "# x['emp'].values[1] is the second observation from 2017\n",
    "# the average annual employment growth is equal to x['emp'].values[1]/x['emp'].values[0])**(1/47)-1, ...\n",
    "# where x represent a country\n",
    "# 4) Lastly it renames what we calculated as 'Employment growth': .rename(columns={0:'Employment growth'})\n",
    "\n",
    "df_emp_growth = (df[df.year.isin([begin,end])]\n",
    "                 .groupby(['countrycode']).apply(lambda x: (x['emp'].values[1]/x['emp'].values[0])**(1/(end-begin))-1)\n",
    "                 .reset_index().rename(columns={0:'Employment growth'}))"
   ]
  },
  {
   "cell_type": "code",
   "execution_count": null,
   "metadata": {
    "scrolled": true
   },
   "outputs": [],
   "source": [
    "# show the employment growth rate for the countries we selected\n",
    "df_emp_growth.set_index('countrycode',inplace=True)\n",
    "df_emp_growth.round(decimals=3)"
   ]
  },
  {
   "cell_type": "code",
   "execution_count": null,
   "metadata": {},
   "outputs": [],
   "source": [
    "# merge df_fundamentals data (contains invesment rates) with df_emp_growth (contains employment growth rate)\n",
    "df_fundamentals= df_fundamentals.join(df_emp_growth,how='left')"
   ]
  },
  {
   "cell_type": "code",
   "execution_count": null,
   "metadata": {},
   "outputs": [],
   "source": [
    "df"
   ]
  },
  {
   "cell_type": "code",
   "execution_count": null,
   "metadata": {
    "scrolled": true
   },
   "outputs": [],
   "source": [
    "# in part d, we will need human capital values\n",
    "# merge our df_fundamentals data with the Penn World Tables\n",
    "# but, we don't need all of PWT, select only year 2017, and other required variables\n",
    "df_fundamentals = df_fundamentals.join(df[df.year == end].set_index('countrycode')[\n",
    "    ['emp','gdpPerworker','hc']],how='left')"
   ]
  },
  {
   "cell_type": "code",
   "execution_count": null,
   "metadata": {},
   "outputs": [],
   "source": [
    "# we will calculate Solow's predicted output per worker relative to the UK\n",
    "# hence, create a different data just for the UK values\n",
    "gbr = df_fundamentals.loc['GBR']"
   ]
  },
  {
   "cell_type": "code",
   "execution_count": 24,
   "metadata": {},
   "outputs": [],
   "source": [
    "# now add columns to df_fundamentals data, consisting of corresponding values from the UK\n",
    "for var in ['Investment rate','Employment growth','hc','gdpPerworker']:\n",
    "    df_fundamentals[f'{var}, GBR'] = gbr[var]"
   ]
  },
  {
   "cell_type": "code",
   "execution_count": 27,
   "metadata": {},
   "outputs": [
    {
     "data": {
      "text/html": [
       "<div>\n",
       "<style scoped>\n",
       "    .dataframe tbody tr th:only-of-type {\n",
       "        vertical-align: middle;\n",
       "    }\n",
       "\n",
       "    .dataframe tbody tr th {\n",
       "        vertical-align: top;\n",
       "    }\n",
       "\n",
       "    .dataframe thead th {\n",
       "        text-align: right;\n",
       "    }\n",
       "</style>\n",
       "<table border=\"1\" class=\"dataframe\">\n",
       "  <thead>\n",
       "    <tr style=\"text-align: right;\">\n",
       "      <th></th>\n",
       "      <th>country</th>\n",
       "      <th>Investment rate</th>\n",
       "      <th>Employment growth</th>\n",
       "      <th>emp</th>\n",
       "      <th>gdpPerworker</th>\n",
       "      <th>hc</th>\n",
       "      <th>Investment rate, GBR</th>\n",
       "      <th>Employment growth, GBR</th>\n",
       "      <th>hc, GBR</th>\n",
       "      <th>gdpPerworker, GBR</th>\n",
       "    </tr>\n",
       "    <tr>\n",
       "      <th>countrycode</th>\n",
       "      <th></th>\n",
       "      <th></th>\n",
       "      <th></th>\n",
       "      <th></th>\n",
       "      <th></th>\n",
       "      <th></th>\n",
       "      <th></th>\n",
       "      <th></th>\n",
       "      <th></th>\n",
       "      <th></th>\n",
       "    </tr>\n",
       "  </thead>\n",
       "  <tbody>\n",
       "    <tr>\n",
       "      <th>ABW</th>\n",
       "      <td>Aruba</td>\n",
       "      <td>0.358</td>\n",
       "      <td>NaN</td>\n",
       "      <td>0.048</td>\n",
       "      <td>82190.373</td>\n",
       "      <td>NaN</td>\n",
       "      <td>0.233</td>\n",
       "      <td>0.007</td>\n",
       "      <td>3.774</td>\n",
       "      <td>94307.441</td>\n",
       "    </tr>\n",
       "    <tr>\n",
       "      <th>AGO</th>\n",
       "      <td>Angola</td>\n",
       "      <td>0.371</td>\n",
       "      <td>0.032</td>\n",
       "      <td>16.645</td>\n",
       "      <td>13684.117</td>\n",
       "      <td>1.482</td>\n",
       "      <td>0.233</td>\n",
       "      <td>0.007</td>\n",
       "      <td>3.774</td>\n",
       "      <td>94307.441</td>\n",
       "    </tr>\n",
       "    <tr>\n",
       "      <th>AIA</th>\n",
       "      <td>Anguilla</td>\n",
       "      <td>0.488</td>\n",
       "      <td>NaN</td>\n",
       "      <td>NaN</td>\n",
       "      <td>NaN</td>\n",
       "      <td>NaN</td>\n",
       "      <td>0.233</td>\n",
       "      <td>0.007</td>\n",
       "      <td>3.774</td>\n",
       "      <td>94307.441</td>\n",
       "    </tr>\n",
       "    <tr>\n",
       "      <th>ALB</th>\n",
       "      <td>Albania</td>\n",
       "      <td>0.191</td>\n",
       "      <td>-0.007</td>\n",
       "      <td>1.076</td>\n",
       "      <td>33282.294</td>\n",
       "      <td>2.965</td>\n",
       "      <td>0.233</td>\n",
       "      <td>0.007</td>\n",
       "      <td>3.774</td>\n",
       "      <td>94307.441</td>\n",
       "    </tr>\n",
       "    <tr>\n",
       "      <th>ARE</th>\n",
       "      <td>United Arab Emirates</td>\n",
       "      <td>0.297</td>\n",
       "      <td>0.064</td>\n",
       "      <td>5.809</td>\n",
       "      <td>116760.296</td>\n",
       "      <td>2.747</td>\n",
       "      <td>0.233</td>\n",
       "      <td>0.007</td>\n",
       "      <td>3.774</td>\n",
       "      <td>94307.441</td>\n",
       "    </tr>\n",
       "    <tr>\n",
       "      <th>...</th>\n",
       "      <td>...</td>\n",
       "      <td>...</td>\n",
       "      <td>...</td>\n",
       "      <td>...</td>\n",
       "      <td>...</td>\n",
       "      <td>...</td>\n",
       "      <td>...</td>\n",
       "      <td>...</td>\n",
       "      <td>...</td>\n",
       "      <td>...</td>\n",
       "    </tr>\n",
       "    <tr>\n",
       "      <th>VNM</th>\n",
       "      <td>Viet Nam</td>\n",
       "      <td>0.212</td>\n",
       "      <td>0.019</td>\n",
       "      <td>50.400</td>\n",
       "      <td>14838.497</td>\n",
       "      <td>2.870</td>\n",
       "      <td>0.233</td>\n",
       "      <td>0.007</td>\n",
       "      <td>3.774</td>\n",
       "      <td>94307.441</td>\n",
       "    </tr>\n",
       "    <tr>\n",
       "      <th>YEM</th>\n",
       "      <td>Yemen</td>\n",
       "      <td>0.125</td>\n",
       "      <td>0.033</td>\n",
       "      <td>5.532</td>\n",
       "      <td>9027.143</td>\n",
       "      <td>1.843</td>\n",
       "      <td>0.233</td>\n",
       "      <td>0.007</td>\n",
       "      <td>3.774</td>\n",
       "      <td>94307.441</td>\n",
       "    </tr>\n",
       "    <tr>\n",
       "      <th>ZAF</th>\n",
       "      <td>South Africa</td>\n",
       "      <td>0.172</td>\n",
       "      <td>0.016</td>\n",
       "      <td>18.643</td>\n",
       "      <td>40136.115</td>\n",
       "      <td>2.908</td>\n",
       "      <td>0.233</td>\n",
       "      <td>0.007</td>\n",
       "      <td>3.774</td>\n",
       "      <td>94307.441</td>\n",
       "    </tr>\n",
       "    <tr>\n",
       "      <th>ZMB</th>\n",
       "      <td>Zambia</td>\n",
       "      <td>0.231</td>\n",
       "      <td>0.027</td>\n",
       "      <td>5.225</td>\n",
       "      <td>11041.172</td>\n",
       "      <td>2.687</td>\n",
       "      <td>0.233</td>\n",
       "      <td>0.007</td>\n",
       "      <td>3.774</td>\n",
       "      <td>94307.441</td>\n",
       "    </tr>\n",
       "    <tr>\n",
       "      <th>ZWE</th>\n",
       "      <td>Zimbabwe</td>\n",
       "      <td>0.169</td>\n",
       "      <td>0.014</td>\n",
       "      <td>6.831</td>\n",
       "      <td>6196.020</td>\n",
       "      <td>2.713</td>\n",
       "      <td>0.233</td>\n",
       "      <td>0.007</td>\n",
       "      <td>3.774</td>\n",
       "      <td>94307.441</td>\n",
       "    </tr>\n",
       "  </tbody>\n",
       "</table>\n",
       "<p>183 rows × 10 columns</p>\n",
       "</div>"
      ],
      "text/plain": [
       "                          country  Investment rate  Employment growth     emp  \\\n",
       "countrycode                                                                     \n",
       "ABW                         Aruba            0.358                NaN   0.048   \n",
       "AGO                        Angola            0.371              0.032  16.645   \n",
       "AIA                      Anguilla            0.488                NaN     NaN   \n",
       "ALB                       Albania            0.191             -0.007   1.076   \n",
       "ARE          United Arab Emirates            0.297              0.064   5.809   \n",
       "...                           ...              ...                ...     ...   \n",
       "VNM                      Viet Nam            0.212              0.019  50.400   \n",
       "YEM                         Yemen            0.125              0.033   5.532   \n",
       "ZAF                  South Africa            0.172              0.016  18.643   \n",
       "ZMB                        Zambia            0.231              0.027   5.225   \n",
       "ZWE                      Zimbabwe            0.169              0.014   6.831   \n",
       "\n",
       "             gdpPerworker     hc  Investment rate, GBR  \\\n",
       "countrycode                                              \n",
       "ABW             82190.373    NaN                 0.233   \n",
       "AGO             13684.117  1.482                 0.233   \n",
       "AIA                   NaN    NaN                 0.233   \n",
       "ALB             33282.294  2.965                 0.233   \n",
       "ARE            116760.296  2.747                 0.233   \n",
       "...                   ...    ...                   ...   \n",
       "VNM             14838.497  2.870                 0.233   \n",
       "YEM              9027.143  1.843                 0.233   \n",
       "ZAF             40136.115  2.908                 0.233   \n",
       "ZMB             11041.172  2.687                 0.233   \n",
       "ZWE              6196.020  2.713                 0.233   \n",
       "\n",
       "             Employment growth, GBR  hc, GBR  gdpPerworker, GBR  \n",
       "countrycode                                                      \n",
       "ABW                           0.007    3.774          94307.441  \n",
       "AGO                           0.007    3.774          94307.441  \n",
       "AIA                           0.007    3.774          94307.441  \n",
       "ALB                           0.007    3.774          94307.441  \n",
       "ARE                           0.007    3.774          94307.441  \n",
       "...                             ...      ...                ...  \n",
       "VNM                           0.007    3.774          94307.441  \n",
       "YEM                           0.007    3.774          94307.441  \n",
       "ZAF                           0.007    3.774          94307.441  \n",
       "ZMB                           0.007    3.774          94307.441  \n",
       "ZWE                           0.007    3.774          94307.441  \n",
       "\n",
       "[183 rows x 10 columns]"
      ]
     },
     "execution_count": 27,
     "metadata": {},
     "output_type": "execute_result"
    }
   ],
   "source": [
    "# here is our data\n",
    "df_fundamentals.round(decimals=3)"
   ]
  },
  {
   "cell_type": "code",
   "execution_count": 28,
   "metadata": {},
   "outputs": [],
   "source": [
    "# We have prepared our data to conduct the required analysis\n",
    "# First set our parameter values\n",
    "alpha=1/3\n",
    "delta = .05\n",
    "# In many parts of the analysis, we will write alpha/(1-alpha)...\n",
    "# create a new variable to redue typing\n",
    "alpham = alpha/(1-alpha)"
   ]
  },
  {
   "cell_type": "markdown",
   "metadata": {},
   "source": [
    "Notice that at the steady state of the Solow model income per worker is equal to\n",
    "$$y^\\ast = A^{1/(1-\\alpha)}\\left(\\frac{\\gamma}{\\delta+n} \\right)^{\\alpha/(1-\\alpha)}h.$$\n",
    "\n",
    "Therefore income per worker ratios are (assuming countries have the same technology, $A$):\n",
    "$$\\frac{y_i}{y_{UK}} = \\left(\\frac{\\frac{\\gamma_i}{\\delta+n_i}}{\\frac{\\gamma_{UK}}{\\delta+n_{UK}}} \\right)^{\\alpha/(1-\\alpha)}\\frac{h_i}{h_{UK}}.$$\n",
    "\n",
    "Rewrite the above formula:\n",
    "$$\\frac{y_i}{y_{UK}} = \\left(\\frac{\\gamma_i}{\\gamma_{UK}}\\right)^{\\alpha/(1-\\alpha)}\\left(\\frac{\\delta+n_{UK}}{\\delta+n_i}\\right)^{\\alpha/(1-\\alpha)}\\frac{h_i}{h_{UK}}.$$\n",
    "\n",
    "\n"
   ]
  },
  {
   "cell_type": "markdown",
   "metadata": {},
   "source": [
    "In part b, we assume countries differ only with respect to their investment rates. Therefore:\n",
    "$$\\frac{y_i}{y_{UK}} = \\left(\\frac{\\gamma_i}{\\gamma_{UK}}\\right)^{\\alpha/(1-\\alpha)}.$$\n",
    "\n",
    "    \n"
   ]
  },
  {
   "cell_type": "code",
   "execution_count": 29,
   "metadata": {},
   "outputs": [],
   "source": [
    "# calculate Solow's predicted income per worker ratios as in the above formula\n",
    "df_fundamentals['rel_GDP_pred_inv']=(df_fundamentals['Investment rate']/df_fundamentals['Investment rate, GBR'])**alpham"
   ]
  },
  {
   "cell_type": "code",
   "execution_count": 30,
   "metadata": {},
   "outputs": [],
   "source": [
    "# calculate the actual output per worker rations from data\n",
    "df_fundamentals['rel_GDP'] = df_fundamentals['gdpPerworker']/df_fundamentals['gdpPerworker, GBR']"
   ]
  },
  {
   "cell_type": "markdown",
   "metadata": {},
   "source": [
    "In part c, countries differ with respect to their employment growth rates as well as their investment rates:\n",
    "\n",
    "$$\\frac{y_i}{y_{UK}} = \\left(\\frac{\\frac{\\gamma_i}{\\delta+n_i}}{\\frac{\\gamma_{UK}}{\\delta+n_{UK}}} \\right)^{\\alpha/(1-\\alpha)}.$$\n",
    "\n",
    "\n"
   ]
  },
  {
   "cell_type": "code",
   "execution_count": 31,
   "metadata": {},
   "outputs": [],
   "source": [
    "## calculate Solow's predicted income per worker ratios as in the above formula\n",
    "df_fundamentals['rel_GDP_pred_inv_emp']=((df_fundamentals['Investment rate']/\n",
    "                                          (delta+df_fundamentals['Employment growth']))\n",
    "                                         /(df_fundamentals['Investment rate, GBR']/\n",
    "                                          (delta+df_fundamentals['Employment growth, GBR'])))**alpham"
   ]
  },
  {
   "cell_type": "markdown",
   "metadata": {},
   "source": [
    "In part d, countries differ with respect to their human capital, employment growth rate and investment rate\n",
    "\n",
    "\n",
    "\n",
    "$$\\frac{y_i}{y_{UK}} = \\left(\\frac{\\frac{\\gamma_i}{\\delta+n_i}}{\\frac{\\gamma_{UK}}{\\delta+n_{UK}}} \\right)^{\\alpha/(1-\\alpha)}\\frac{h_i}{h_{UK}}.$$\n",
    "\n"
   ]
  },
  {
   "cell_type": "code",
   "execution_count": 32,
   "metadata": {},
   "outputs": [],
   "source": [
    "## calculate Solow's predicted income per worker ratios as in the above formula\n",
    "df_fundamentals['rel_GDP_pred_inv_emp_hc'] = (df_fundamentals['rel_GDP_pred_inv_emp']*\n",
    "                                              df_fundamentals['hc']/df_fundamentals['hc, GBR'])"
   ]
  },
  {
   "cell_type": "code",
   "execution_count": 33,
   "metadata": {},
   "outputs": [],
   "source": [
    "# I need this cell to rename the table columns\n",
    "column_names = dict(zip(['rel_GDP_pred_inv','rel_GDP_pred_inv_emp','rel_GDP_pred_inv_emp_hc','rel_GDP'],\n",
    "    ['Prediction, part b','Prediction, part c','Prediction, part d','Actual']))"
   ]
  },
  {
   "cell_type": "code",
   "execution_count": 34,
   "metadata": {},
   "outputs": [
    {
     "data": {
      "text/html": [
       "<div>\n",
       "<style scoped>\n",
       "    .dataframe tbody tr th:only-of-type {\n",
       "        vertical-align: middle;\n",
       "    }\n",
       "\n",
       "    .dataframe tbody tr th {\n",
       "        vertical-align: top;\n",
       "    }\n",
       "\n",
       "    .dataframe thead th {\n",
       "        text-align: right;\n",
       "    }\n",
       "</style>\n",
       "<table border=\"1\" class=\"dataframe\">\n",
       "  <thead>\n",
       "    <tr style=\"text-align: right;\">\n",
       "      <th></th>\n",
       "      <th>country</th>\n",
       "      <th>Investment rate</th>\n",
       "      <th>Employment growth</th>\n",
       "      <th>emp</th>\n",
       "      <th>gdpPerworker</th>\n",
       "      <th>hc</th>\n",
       "      <th>Investment rate, GBR</th>\n",
       "      <th>Employment growth, GBR</th>\n",
       "      <th>hc, GBR</th>\n",
       "      <th>gdpPerworker, GBR</th>\n",
       "      <th>rel_GDP_pred_inv</th>\n",
       "      <th>rel_GDP</th>\n",
       "      <th>rel_GDP_pred_inv_emp</th>\n",
       "      <th>rel_GDP_pred_inv_emp_hc</th>\n",
       "    </tr>\n",
       "    <tr>\n",
       "      <th>countrycode</th>\n",
       "      <th></th>\n",
       "      <th></th>\n",
       "      <th></th>\n",
       "      <th></th>\n",
       "      <th></th>\n",
       "      <th></th>\n",
       "      <th></th>\n",
       "      <th></th>\n",
       "      <th></th>\n",
       "      <th></th>\n",
       "      <th></th>\n",
       "      <th></th>\n",
       "      <th></th>\n",
       "      <th></th>\n",
       "    </tr>\n",
       "  </thead>\n",
       "  <tbody>\n",
       "    <tr>\n",
       "      <th>ABW</th>\n",
       "      <td>Aruba</td>\n",
       "      <td>0.357905</td>\n",
       "      <td>NaN</td>\n",
       "      <td>0.047601</td>\n",
       "      <td>82190.373006</td>\n",
       "      <td>NaN</td>\n",
       "      <td>0.23272</td>\n",
       "      <td>0.007309</td>\n",
       "      <td>3.773596</td>\n",
       "      <td>94307.440997</td>\n",
       "      <td>1.240131</td>\n",
       "      <td>0.871515</td>\n",
       "      <td>NaN</td>\n",
       "      <td>NaN</td>\n",
       "    </tr>\n",
       "    <tr>\n",
       "      <th>AGO</th>\n",
       "      <td>Angola</td>\n",
       "      <td>0.370672</td>\n",
       "      <td>0.032051</td>\n",
       "      <td>16.644962</td>\n",
       "      <td>13684.116859</td>\n",
       "      <td>1.481984</td>\n",
       "      <td>0.23272</td>\n",
       "      <td>0.007309</td>\n",
       "      <td>3.773596</td>\n",
       "      <td>94307.440997</td>\n",
       "      <td>1.262055</td>\n",
       "      <td>0.145101</td>\n",
       "      <td>1.054741</td>\n",
       "      <td>0.414223</td>\n",
       "    </tr>\n",
       "    <tr>\n",
       "      <th>AIA</th>\n",
       "      <td>Anguilla</td>\n",
       "      <td>0.488237</td>\n",
       "      <td>NaN</td>\n",
       "      <td>NaN</td>\n",
       "      <td>NaN</td>\n",
       "      <td>NaN</td>\n",
       "      <td>0.23272</td>\n",
       "      <td>0.007309</td>\n",
       "      <td>3.773596</td>\n",
       "      <td>94307.440997</td>\n",
       "      <td>1.448434</td>\n",
       "      <td>NaN</td>\n",
       "      <td>NaN</td>\n",
       "      <td>NaN</td>\n",
       "    </tr>\n",
       "    <tr>\n",
       "      <th>ALB</th>\n",
       "      <td>Albania</td>\n",
       "      <td>0.191489</td>\n",
       "      <td>-0.007132</td>\n",
       "      <td>1.075898</td>\n",
       "      <td>33282.294369</td>\n",
       "      <td>2.964992</td>\n",
       "      <td>0.23272</td>\n",
       "      <td>0.007309</td>\n",
       "      <td>3.773596</td>\n",
       "      <td>94307.440997</td>\n",
       "      <td>0.907101</td>\n",
       "      <td>0.352913</td>\n",
       "      <td>1.048813</td>\n",
       "      <td>0.824074</td>\n",
       "    </tr>\n",
       "    <tr>\n",
       "      <th>ARE</th>\n",
       "      <td>United Arab Emirates</td>\n",
       "      <td>0.296662</td>\n",
       "      <td>0.064468</td>\n",
       "      <td>5.808834</td>\n",
       "      <td>116760.296238</td>\n",
       "      <td>2.746695</td>\n",
       "      <td>0.23272</td>\n",
       "      <td>0.007309</td>\n",
       "      <td>3.773596</td>\n",
       "      <td>94307.440997</td>\n",
       "      <td>1.129054</td>\n",
       "      <td>1.238081</td>\n",
       "      <td>0.798882</td>\n",
       "      <td>0.581484</td>\n",
       "    </tr>\n",
       "    <tr>\n",
       "      <th>...</th>\n",
       "      <td>...</td>\n",
       "      <td>...</td>\n",
       "      <td>...</td>\n",
       "      <td>...</td>\n",
       "      <td>...</td>\n",
       "      <td>...</td>\n",
       "      <td>...</td>\n",
       "      <td>...</td>\n",
       "      <td>...</td>\n",
       "      <td>...</td>\n",
       "      <td>...</td>\n",
       "      <td>...</td>\n",
       "      <td>...</td>\n",
       "      <td>...</td>\n",
       "    </tr>\n",
       "    <tr>\n",
       "      <th>VNM</th>\n",
       "      <td>Viet Nam</td>\n",
       "      <td>0.211867</td>\n",
       "      <td>0.019181</td>\n",
       "      <td>50.399563</td>\n",
       "      <td>14838.496763</td>\n",
       "      <td>2.869998</td>\n",
       "      <td>0.23272</td>\n",
       "      <td>0.007309</td>\n",
       "      <td>3.773596</td>\n",
       "      <td>94307.440997</td>\n",
       "      <td>0.954147</td>\n",
       "      <td>0.157342</td>\n",
       "      <td>0.868423</td>\n",
       "      <td>0.660477</td>\n",
       "    </tr>\n",
       "    <tr>\n",
       "      <th>YEM</th>\n",
       "      <td>Yemen</td>\n",
       "      <td>0.124907</td>\n",
       "      <td>0.033158</td>\n",
       "      <td>5.531877</td>\n",
       "      <td>9027.142614</td>\n",
       "      <td>1.842989</td>\n",
       "      <td>0.23272</td>\n",
       "      <td>0.007309</td>\n",
       "      <td>3.773596</td>\n",
       "      <td>94307.440997</td>\n",
       "      <td>0.732617</td>\n",
       "      <td>0.095720</td>\n",
       "      <td>0.608185</td>\n",
       "      <td>0.297032</td>\n",
       "    </tr>\n",
       "    <tr>\n",
       "      <th>ZAF</th>\n",
       "      <td>South Africa</td>\n",
       "      <td>0.172253</td>\n",
       "      <td>0.016499</td>\n",
       "      <td>18.642710</td>\n",
       "      <td>40136.114774</td>\n",
       "      <td>2.908202</td>\n",
       "      <td>0.23272</td>\n",
       "      <td>0.007309</td>\n",
       "      <td>3.773596</td>\n",
       "      <td>94307.440997</td>\n",
       "      <td>0.860334</td>\n",
       "      <td>0.425588</td>\n",
       "      <td>0.798677</td>\n",
       "      <td>0.615517</td>\n",
       "    </tr>\n",
       "    <tr>\n",
       "      <th>ZMB</th>\n",
       "      <td>Zambia</td>\n",
       "      <td>0.230754</td>\n",
       "      <td>0.027354</td>\n",
       "      <td>5.225448</td>\n",
       "      <td>11041.172014</td>\n",
       "      <td>2.686845</td>\n",
       "      <td>0.23272</td>\n",
       "      <td>0.007309</td>\n",
       "      <td>3.773596</td>\n",
       "      <td>94307.440997</td>\n",
       "      <td>0.995768</td>\n",
       "      <td>0.117076</td>\n",
       "      <td>0.857092</td>\n",
       "      <td>0.610260</td>\n",
       "    </tr>\n",
       "    <tr>\n",
       "      <th>ZWE</th>\n",
       "      <td>Zimbabwe</td>\n",
       "      <td>0.168953</td>\n",
       "      <td>0.013972</td>\n",
       "      <td>6.831017</td>\n",
       "      <td>6196.020305</td>\n",
       "      <td>2.713408</td>\n",
       "      <td>0.23272</td>\n",
       "      <td>0.007309</td>\n",
       "      <td>3.773596</td>\n",
       "      <td>94307.440997</td>\n",
       "      <td>0.852053</td>\n",
       "      <td>0.065700</td>\n",
       "      <td>0.806460</td>\n",
       "      <td>0.579886</td>\n",
       "    </tr>\n",
       "  </tbody>\n",
       "</table>\n",
       "<p>183 rows × 14 columns</p>\n",
       "</div>"
      ],
      "text/plain": [
       "                          country  Investment rate  Employment growth  \\\n",
       "countrycode                                                             \n",
       "ABW                         Aruba         0.357905                NaN   \n",
       "AGO                        Angola         0.370672           0.032051   \n",
       "AIA                      Anguilla         0.488237                NaN   \n",
       "ALB                       Albania         0.191489          -0.007132   \n",
       "ARE          United Arab Emirates         0.296662           0.064468   \n",
       "...                           ...              ...                ...   \n",
       "VNM                      Viet Nam         0.211867           0.019181   \n",
       "YEM                         Yemen         0.124907           0.033158   \n",
       "ZAF                  South Africa         0.172253           0.016499   \n",
       "ZMB                        Zambia         0.230754           0.027354   \n",
       "ZWE                      Zimbabwe         0.168953           0.013972   \n",
       "\n",
       "                   emp   gdpPerworker        hc  Investment rate, GBR  \\\n",
       "countrycode                                                             \n",
       "ABW           0.047601   82190.373006       NaN               0.23272   \n",
       "AGO          16.644962   13684.116859  1.481984               0.23272   \n",
       "AIA                NaN            NaN       NaN               0.23272   \n",
       "ALB           1.075898   33282.294369  2.964992               0.23272   \n",
       "ARE           5.808834  116760.296238  2.746695               0.23272   \n",
       "...                ...            ...       ...                   ...   \n",
       "VNM          50.399563   14838.496763  2.869998               0.23272   \n",
       "YEM           5.531877    9027.142614  1.842989               0.23272   \n",
       "ZAF          18.642710   40136.114774  2.908202               0.23272   \n",
       "ZMB           5.225448   11041.172014  2.686845               0.23272   \n",
       "ZWE           6.831017    6196.020305  2.713408               0.23272   \n",
       "\n",
       "             Employment growth, GBR   hc, GBR  gdpPerworker, GBR  \\\n",
       "countrycode                                                        \n",
       "ABW                        0.007309  3.773596       94307.440997   \n",
       "AGO                        0.007309  3.773596       94307.440997   \n",
       "AIA                        0.007309  3.773596       94307.440997   \n",
       "ALB                        0.007309  3.773596       94307.440997   \n",
       "ARE                        0.007309  3.773596       94307.440997   \n",
       "...                             ...       ...                ...   \n",
       "VNM                        0.007309  3.773596       94307.440997   \n",
       "YEM                        0.007309  3.773596       94307.440997   \n",
       "ZAF                        0.007309  3.773596       94307.440997   \n",
       "ZMB                        0.007309  3.773596       94307.440997   \n",
       "ZWE                        0.007309  3.773596       94307.440997   \n",
       "\n",
       "             rel_GDP_pred_inv   rel_GDP  rel_GDP_pred_inv_emp  \\\n",
       "countrycode                                                     \n",
       "ABW                  1.240131  0.871515                   NaN   \n",
       "AGO                  1.262055  0.145101              1.054741   \n",
       "AIA                  1.448434       NaN                   NaN   \n",
       "ALB                  0.907101  0.352913              1.048813   \n",
       "ARE                  1.129054  1.238081              0.798882   \n",
       "...                       ...       ...                   ...   \n",
       "VNM                  0.954147  0.157342              0.868423   \n",
       "YEM                  0.732617  0.095720              0.608185   \n",
       "ZAF                  0.860334  0.425588              0.798677   \n",
       "ZMB                  0.995768  0.117076              0.857092   \n",
       "ZWE                  0.852053  0.065700              0.806460   \n",
       "\n",
       "             rel_GDP_pred_inv_emp_hc  \n",
       "countrycode                           \n",
       "ABW                              NaN  \n",
       "AGO                         0.414223  \n",
       "AIA                              NaN  \n",
       "ALB                         0.824074  \n",
       "ARE                         0.581484  \n",
       "...                              ...  \n",
       "VNM                         0.660477  \n",
       "YEM                         0.297032  \n",
       "ZAF                         0.615517  \n",
       "ZMB                         0.610260  \n",
       "ZWE                         0.579886  \n",
       "\n",
       "[183 rows x 14 columns]"
      ]
     },
     "execution_count": 34,
     "metadata": {},
     "output_type": "execute_result"
    }
   ],
   "source": [
    "df_fundamentals"
   ]
  },
  {
   "cell_type": "code",
   "execution_count": 37,
   "metadata": {},
   "outputs": [],
   "source": [
    "# here is Solow's predicted output per worker ratios under different assumptions\n",
    "results_1=(df_fundamentals[\n",
    "    ['rel_GDP_pred_inv','rel_GDP_pred_inv_emp','rel_GDP_pred_inv_emp_hc','rel_GDP']].rename(columns=column_names).round(decimals=2))"
   ]
  },
  {
   "cell_type": "code",
   "execution_count": 38,
   "metadata": {},
   "outputs": [],
   "source": [
    "country_list = ['ARG','BRA','CAF','DNK','NGA','ITA']"
   ]
  },
  {
   "cell_type": "code",
   "execution_count": 39,
   "metadata": {},
   "outputs": [
    {
     "data": {
      "text/html": [
       "<div>\n",
       "<style scoped>\n",
       "    .dataframe tbody tr th:only-of-type {\n",
       "        vertical-align: middle;\n",
       "    }\n",
       "\n",
       "    .dataframe tbody tr th {\n",
       "        vertical-align: top;\n",
       "    }\n",
       "\n",
       "    .dataframe thead th {\n",
       "        text-align: right;\n",
       "    }\n",
       "</style>\n",
       "<table border=\"1\" class=\"dataframe\">\n",
       "  <thead>\n",
       "    <tr style=\"text-align: right;\">\n",
       "      <th></th>\n",
       "      <th>Prediction, part b</th>\n",
       "      <th>Prediction, part c</th>\n",
       "      <th>Prediction, part d</th>\n",
       "      <th>Actual</th>\n",
       "    </tr>\n",
       "    <tr>\n",
       "      <th>countrycode</th>\n",
       "      <th></th>\n",
       "      <th></th>\n",
       "      <th></th>\n",
       "      <th></th>\n",
       "    </tr>\n",
       "  </thead>\n",
       "  <tbody>\n",
       "    <tr>\n",
       "      <th>ARG</th>\n",
       "      <td>0.83</td>\n",
       "      <td>0.75</td>\n",
       "      <td>0.62</td>\n",
       "      <td>0.51</td>\n",
       "    </tr>\n",
       "    <tr>\n",
       "      <th>BRA</th>\n",
       "      <td>0.92</td>\n",
       "      <td>0.87</td>\n",
       "      <td>0.71</td>\n",
       "      <td>0.35</td>\n",
       "    </tr>\n",
       "    <tr>\n",
       "      <th>CAF</th>\n",
       "      <td>0.70</td>\n",
       "      <td>0.64</td>\n",
       "      <td>0.27</td>\n",
       "      <td>0.03</td>\n",
       "    </tr>\n",
       "    <tr>\n",
       "      <th>DNK</th>\n",
       "      <td>1.05</td>\n",
       "      <td>1.08</td>\n",
       "      <td>1.03</td>\n",
       "      <td>1.15</td>\n",
       "    </tr>\n",
       "    <tr>\n",
       "      <th>NGA</th>\n",
       "      <td>0.96</td>\n",
       "      <td>0.80</td>\n",
       "      <td>0.42</td>\n",
       "      <td>0.14</td>\n",
       "    </tr>\n",
       "    <tr>\n",
       "      <th>ITA</th>\n",
       "      <td>1.06</td>\n",
       "      <td>1.09</td>\n",
       "      <td>0.91</td>\n",
       "      <td>1.04</td>\n",
       "    </tr>\n",
       "  </tbody>\n",
       "</table>\n",
       "</div>"
      ],
      "text/plain": [
       "             Prediction, part b  Prediction, part c  Prediction, part d  \\\n",
       "countrycode                                                               \n",
       "ARG                        0.83                0.75                0.62   \n",
       "BRA                        0.92                0.87                0.71   \n",
       "CAF                        0.70                0.64                0.27   \n",
       "DNK                        1.05                1.08                1.03   \n",
       "NGA                        0.96                0.80                0.42   \n",
       "ITA                        1.06                1.09                0.91   \n",
       "\n",
       "             Actual  \n",
       "countrycode          \n",
       "ARG            0.51  \n",
       "BRA            0.35  \n",
       "CAF            0.03  \n",
       "DNK            1.15  \n",
       "NGA            0.14  \n",
       "ITA            1.04  "
      ]
     },
     "execution_count": 39,
     "metadata": {},
     "output_type": "execute_result"
    }
   ],
   "source": [
    "results_1.loc[country_list]"
   ]
  },
  {
   "cell_type": "code",
   "execution_count": null,
   "metadata": {},
   "outputs": [],
   "source": [
    "m = 10\n",
    "n = 8\n",
    "results_1.iloc[n*m:(n+1)*m]"
   ]
  },
  {
   "cell_type": "markdown",
   "metadata": {},
   "source": [
    "In the above table, as we add more variables into our equation, Solow model's predicted income per worker ratios for Colombia is getting closer to its actual level, but not for other countries. "
   ]
  },
  {
   "cell_type": "code",
   "execution_count": null,
   "metadata": {},
   "outputs": [],
   "source": [
    "fig,ax = plt.subplots(figsize=(6,6))\n",
    "ax.scatter(df_fundamentals['rel_GDP_pred_inv'],df_fundamentals['rel_GDP'],\n",
    "          sizes=df_fundamentals['emp'].values,color=colors[0],alpha=.7,label='$\\gamma$')\n",
    "ax.scatter(df_fundamentals['rel_GDP_pred_inv_emp'],df_fundamentals['rel_GDP'],\n",
    "          sizes=df_fundamentals['emp'].values,color=colors[1],alpha=.7,label='$\\gamma,n$')\n",
    "ax.scatter(df_fundamentals['rel_GDP_pred_inv_emp_hc'],df_fundamentals['rel_GDP'],\n",
    "          sizes=df_fundamentals['emp'].values,color=colors[2],alpha=.7,label='$\\gamma,n,h$')\n",
    "ax.spines['left'].set_visible(False)\n",
    "ax.spines['right'].set_visible(False)\n",
    "ax.spines['top'].set_visible(False)\n",
    "ax.spines['bottom'].set_visible(False)\n",
    "ax.set_xlabel('Predicted')\n",
    "ax.set_ylabel('Actual')\n",
    "ticks = [0,.4,.8,1.2,1.6]\n",
    "ax.set_xlim(-0.2,1.7)\n",
    "ax.set_ylim(-0.2,1.7)\n",
    "ax.set_xticks(ticks)\n",
    "ax.set_yticks(ticks)\n",
    "\n",
    "\n",
    "ax.legend(loc='upper left',frameon=False)\n",
    "plt.savefig('./rel_GDP_pred_inv_emp_hc.svg',bbox_inches='tight')"
   ]
  },
  {
   "cell_type": "markdown",
   "metadata": {},
   "source": [
    "When we look at all the countries, the model does well as we control more and more variables. However, as shown in our table, the model does not do as well with 4 examples of advanced economies. We could conclude that the Solow model does in well in accounting for the income per worker differences between developed and developing countries. But, it does not do as well for accounting for the income per worker differences between developed countries, like the UK, the US, France and Denmark listed in our question. Productivity differences is the main factor accounting the income per differences among  the developed countries."
   ]
  },
  {
   "cell_type": "markdown",
   "metadata": {},
   "source": [
    "2. Consider the extended Solow model. Suppose the production function is $Y =  K^\\alpha (ehL)^{1-\\alpha}.$\n",
    "\n",
    "a. Derive change in capital per effective worker, $\\dot{\\tilde{k}}$, as a function of capital per effective worker, $\\tilde{k}$, and other exogenous variables in the model.\n",
    "\n",
    "b. Suppose that investment rate is 20%, $\\gamma =.2$, depreciation rate is 5\\%, $\\delta=.05$, population growth rate is 1\\%, $n=.01$, labor-augmenting technological progress rate is 2\\%, $g = .02$, human capital is equal to 1, $h=1$,  and capital income share is .33, $\\alpha=.33$. Find steady state capital per effective worker, income per effective worker, consumption per effective worker.\n",
    "\n",
    "c. Suppose at time $t=0$, the economy is at the steady state, and level of labor-augmenting technology is equal to 1, $e(0)=1$. What's the income per worker level at time $t=20$? Remember that if a variable (say M) grows at a constant rate, say m, then the value of M at time $t$ is equal to $\\exp(mt)$ times the value of M at time $0$, i.e. $M(t)=M(0)\\exp(mt).$\n",
    "\n",
    "d. Suppose again that at time $t=0$, the economy is at the steady state and level of labor-augmenting technology is equal to 1, $e(0)=1$. Now, suddenly (and unexpectedly) the human capital increases by 10\\%, i.e. $h^{new} = 1.1$. Starting from the steady state you found in part b, simulate the model for 100 periods, and calculate capital per effective worker, capital per worker, income per effective worker, and income per worker at each time period.\n"
   ]
  },
  {
   "cell_type": "code",
   "execution_count": null,
   "metadata": {},
   "outputs": [],
   "source": [
    "# First, set our parameter values\n",
    "alpha = .33\n",
    "delta = .05\n",
    "h = 1\n",
    "n = 0.01\n",
    "g = 0.02\n",
    "gamma = .2\n",
    "# this is one way of defining a function in python\n",
    "# f is our production function, output per effective workers\n",
    "f = lambda k,h: k**alpha*h**(1-alpha)\n",
    "# this is our kdot function\n",
    "kdot = lambda k,h: gamma*k**alpha*h**(1-alpha)-(delta+n+g)*k"
   ]
  },
  {
   "cell_type": "markdown",
   "metadata": {},
   "source": [
    "At the steady state:\n",
    "    $$\\tilde{k}^\\ast = \\left(\\frac{\\gamma}{n+g+\\delta}\\right)^{1/(1-\\alpha)}h $$\n",
    "\n",
    "Everytime:\n",
    "  $$ \\tilde{y} = \\tilde{k}^\\alpha h^{1-\\alpha} $$\n",
    "  $$ \\tilde{c} = (1-\\gamma)\\tilde{y}$$"
   ]
  },
  {
   "cell_type": "code",
   "execution_count": null,
   "metadata": {},
   "outputs": [],
   "source": [
    "# calculate the steady state variables\n",
    "k_tilde_ss = (gamma/(n+delta+g))**(1/(1-alpha))*h\n",
    "y_tilde_ss = k_tilde_ss**alpha*h**(1-alpha)\n",
    "c_tilde_ss = y_tilde_ss*(1-alpha)"
   ]
  },
  {
   "cell_type": "code",
   "execution_count": null,
   "metadata": {},
   "outputs": [],
   "source": [
    "print('Steady state capital per effective worker = ', np.round(k_tilde_ss,decimals=2))\n",
    "print('Steady state ouput per effective worker = ', np.round(y_tilde_ss,decimals=2))\n",
    "print('Steady state consumption per effective worker = ', np.round(c_tilde_ss,decimals=2))"
   ]
  },
  {
   "cell_type": "markdown",
   "metadata": {},
   "source": [
    "Recall the definition of $\\tilde{y} \\equiv \\frac{Y}{eL}$ and  $y\\equiv \\frac{Y}{L}$. Therefore, $y=e\\tilde{y}$. In part c, the economy is at the steady state, $\\tilde{y}\\ast$, and $e$ is growing at a constant rate. But we know the initial value of $e(0)=1$, the growth rate of $e$, $g=0.02$. Therefore, $e(20)=e(0)\\exp(g*20).$ Hence, $y(20)=e(20)*\\tilde{y}^\\ast$. "
   ]
  },
  {
   "cell_type": "code",
   "execution_count": null,
   "metadata": {},
   "outputs": [],
   "source": [
    "print('Income per worker at t=20 is equal to', np.round(np.exp(g*20)*y_tilde_ss,decimals=2))"
   ]
  },
  {
   "cell_type": "markdown",
   "metadata": {},
   "source": [
    "To solve for part d, we first need to simulate $\\tilde{k}$ and $\\tilde{y}$ over time. We can quite easily calculate $e$ over time using the initial value of $e$, $e(0)$, and the growth rate of $e$, $g=0.02$. Then using $y(t)=\\tilde{y(t)}e(t)$ equality, we can generete $y$ sequence over time."
   ]
  },
  {
   "cell_type": "code",
   "execution_count": null,
   "metadata": {},
   "outputs": [],
   "source": [
    "# k_tilde_seq will be sequence of k tilde over time\n",
    "# since the economy was at the steady state, I initiate k_tilde sequence with 10 values...\n",
    "# all equal to the steady state value\n",
    "# you assume this is the value of k_tilde before time t=0 and at time t=0,...\n",
    "# as there is no change in k_tilde at time t=0. k_tilde will begin increasing at t=1\n",
    "k_tilde_seq = [k_tilde_ss,]*10"
   ]
  },
  {
   "cell_type": "code",
   "execution_count": null,
   "metadata": {},
   "outputs": [],
   "source": [
    "# I also create a sequence of human capital\n",
    "# h is equal to 1 initially, then it becomes 1.1\n",
    "h_seq = np.ones(111)\n",
    "# assume 9th element of the sequence corresponds to time t=0\n",
    "h_seq[9:] = 1.1"
   ]
  },
  {
   "cell_type": "code",
   "execution_count": null,
   "metadata": {},
   "outputs": [],
   "source": [
    "# starting from the 9th element, or time t=0, simulate the model to get k_tilde over time\n",
    "for t in range(9,110):\n",
    "    # k_prime is the next periods capital\n",
    "    # k_prime is equal to current capital plus the change in capital\n",
    "    k_prime = k_tilde_seq[t]+kdot(k_tilde_seq[t],h_seq[t])\n",
    "    k_tilde_seq.append(k_prime)"
   ]
  },
  {
   "cell_type": "code",
   "execution_count": null,
   "metadata": {},
   "outputs": [],
   "source": [
    "# generate e sequence as given in the formula: e(t) = e(0)*exp(g*t)\n",
    "e_seq = [np.exp(t*g) for t in range(-9,102)]"
   ]
  },
  {
   "cell_type": "code",
   "execution_count": null,
   "metadata": {},
   "outputs": [],
   "source": [
    "# k = k_tilde*e\n",
    "k_seq = np.array(k_tilde_seq)*np.array(e_seq)"
   ]
  },
  {
   "cell_type": "code",
   "execution_count": null,
   "metadata": {},
   "outputs": [],
   "source": [
    "# y_tilde = k_tilde^alpha*h^(1-alpha)\n",
    "y_tilde_seq = [f(k_tilde_seq[t],h_seq[t]) for t in range(111)]"
   ]
  },
  {
   "cell_type": "code",
   "execution_count": null,
   "metadata": {},
   "outputs": [],
   "source": [
    "# y = y_tilde*e\n",
    "y_seq = np.array(y_tilde_seq)*np.array(e_seq)"
   ]
  },
  {
   "cell_type": "code",
   "execution_count": null,
   "metadata": {},
   "outputs": [],
   "source": [
    "# now put all these variables into a table\n",
    "df2 = pd.DataFrame({'Time':np.arange(-9,102),\n",
    "                    'h':h_seq,\n",
    "                    'k tilde':k_tilde_seq,\n",
    "                   'y tilde':y_tilde_seq,\n",
    "                   'e':e_seq,\n",
    "                   'k':k_seq,\n",
    "                   'y':y_seq})"
   ]
  },
  {
   "cell_type": "code",
   "execution_count": null,
   "metadata": {},
   "outputs": [],
   "source": [
    "# here is how our data looks like\n",
    "df2.head(15)"
   ]
  },
  {
   "cell_type": "code",
   "execution_count": null,
   "metadata": {},
   "outputs": [],
   "source": [
    "df2[df2.Time==60].round(decimals=2)"
   ]
  },
  {
   "cell_type": "code",
   "execution_count": null,
   "metadata": {},
   "outputs": [],
   "source": [
    "# plot k_tilde over time\n",
    "fig,ax = plt.subplots()\n",
    "plt.plot(df2.Time,df2['k tilde'],'k',linewidth=2)\n",
    "ax.spines['left'].set_visible(False)\n",
    "ax.spines['right'].set_visible(False)\n",
    "ax.spines['top'].set_visible(False)\n",
    "ax.spines['bottom'].set_visible(False)\n",
    "ax.set_xlabel('Time')\n",
    "ax.set_title(r'$\\tilde{k}$')"
   ]
  },
  {
   "cell_type": "code",
   "execution_count": null,
   "metadata": {},
   "outputs": [],
   "source": [
    "# plot y_tilde over time\n",
    "fig,ax = plt.subplots()\n",
    "plt.plot(df2.Time,df2['y tilde'],'k.',linewidth=2)\n",
    "ax.spines['left'].set_visible(False)\n",
    "ax.spines['right'].set_visible(False)\n",
    "ax.spines['top'].set_visible(False)\n",
    "ax.spines['bottom'].set_visible(False)\n",
    "ax.set_xlabel('Time')\n",
    "ax.set_title(r'$\\tilde{y}$')"
   ]
  },
  {
   "cell_type": "code",
   "execution_count": null,
   "metadata": {},
   "outputs": [],
   "source": [
    "# plot k over time\n",
    "yticks = [5,10,20,40]\n",
    "fig,ax = plt.subplots()\n",
    "plt.plot(df2.Time,df2['k'],'k',linewidth=2)\n",
    "plt.plot(df2.Time,k_tilde_ss*np.array(e_seq),'k--',linewidth=2)\n",
    "ax.set_yscale('log')\n",
    "ax.set_ylim(ymax=50)\n",
    "ax.set_yticks(yticks)\n",
    "ax.set_yticklabels(yticks)\n",
    "ax.spines['left'].set_visible(False)\n",
    "ax.spines['right'].set_visible(False)\n",
    "ax.spines['top'].set_visible(False)\n",
    "ax.spines['bottom'].set_visible(False)\n",
    "ax.set_xlabel('Time')\n",
    "ax.set_title(r'$k$')"
   ]
  },
  {
   "cell_type": "code",
   "execution_count": null,
   "metadata": {},
   "outputs": [],
   "source": [
    "# plot y over time\n",
    "yticks = [2,4,8,16]\n",
    "fig,ax = plt.subplots()\n",
    "plt.plot(df2.Time,df2['y'],'k.',linewidth=2)\n",
    "plt.plot(df2.Time,y_tilde_ss*np.array(e_seq),'k--',linewidth=2)\n",
    "ax.set_yscale('log')\n",
    "ax.set_ylim(ymax=20)\n",
    "ax.set_yticks(yticks)\n",
    "ax.set_yticklabels(yticks)\n",
    "ax.spines['left'].set_visible(False)\n",
    "ax.spines['right'].set_visible(False)\n",
    "ax.spines['top'].set_visible(False)\n",
    "ax.spines['bottom'].set_visible(False)\n",
    "ax.set_xlabel('Time')\n",
    "ax.set_title(r'$y$')"
   ]
  },
  {
   "cell_type": "code",
   "execution_count": null,
   "metadata": {},
   "outputs": [],
   "source": [
    "# plot growth rate of y over time\n",
    "fig,ax = plt.subplots()\n",
    "plt.plot(df2.Time,np.log(df2['y']).diff(),'k.',linewidth=2)\n",
    "ax.spines['left'].set_visible(False)\n",
    "ax.spines['right'].set_visible(False)\n",
    "ax.spines['top'].set_visible(False)\n",
    "ax.spines['bottom'].set_visible(False)\n",
    "ax.set_ylim(ymax= .023)\n",
    "ax.set_xlabel('Time')\n",
    "ax.set_title(r'$\\dot{y}/y$')"
   ]
  },
  {
   "cell_type": "code",
   "execution_count": null,
   "metadata": {},
   "outputs": [],
   "source": []
  },
  {
   "cell_type": "code",
   "execution_count": null,
   "metadata": {},
   "outputs": [],
   "source": []
  }
 ],
 "metadata": {
  "kernelspec": {
   "display_name": "Python 3",
   "language": "python",
   "name": "python3"
  },
  "language_info": {
   "codemirror_mode": {
    "name": "ipython",
    "version": 3
   },
   "file_extension": ".py",
   "mimetype": "text/x-python",
   "name": "python",
   "nbconvert_exporter": "python",
   "pygments_lexer": "ipython3",
   "version": "3.7.7"
  }
 },
 "nbformat": 4,
 "nbformat_minor": 2
}
