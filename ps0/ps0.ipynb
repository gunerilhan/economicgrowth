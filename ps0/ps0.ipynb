{
 "cells": [
  {
   "cell_type": "markdown",
   "metadata": {},
   "source": [
    "### Solutions for Problem Set #0\n",
    "\n",
    "This notebook is in html. To be able to run it, please click: [![Open In Colab](https://colab.research.google.com/assets/colab-badge.svg)](https://colab.research.google.com/github/gunerilhan/economicgrowth/blob/master/ps0/ps0.ipynb)"
   ]
  },
  {
   "cell_type": "markdown",
   "metadata": {},
   "source": [
    "First import some of the package we will use in this exercise"
   ]
  },
  {
   "cell_type": "code",
   "execution_count": 1,
   "metadata": {},
   "outputs": [],
   "source": [
    "import numpy as np\n",
    "import pandas as pd\n",
    "import matplotlib.pyplot as plt\n",
    "from matplotlib import style\n",
    "%matplotlib inline\n",
    "style.use('https://gunerilhan.github.io/img/fivethirtyeight-modified.mplstyle')"
   ]
  },
  {
   "cell_type": "code",
   "execution_count": 2,
   "metadata": {},
   "outputs": [],
   "source": [
    "# Read in Madison Project Database legend, so that we know which variables to use\n",
    "df_legend = pd.read_excel('https://www.rug.nl/ggdc/historicaldevelopment/maddison/data/mpd2020.xlsx'\n",
    "                          ,sheet_name='Notes',skiprows=14)\n",
    "# Rename columns\n",
    "df_legend.rename(columns={'Unnamed: 0':'Variable name','Unnamed: 1':'Definition'},\n",
    "                 inplace=True)\n",
    "df_legend.dropna(inplace=True)\n",
    "# Create a dictionary of var names and definitions\n",
    "df_legend = dict(zip(df_legend['Variable name'],df_legend['Definition']))"
   ]
  },
  {
   "cell_type": "code",
   "execution_count": 3,
   "metadata": {},
   "outputs": [
    {
     "data": {
      "text/plain": [
       "{'Sources': 'Sources for GDP pc and population data',\n",
       " 'Full data': 'Data in a single table',\n",
       " 'GDP pc': 'Real GDP per capita in 2011$',\n",
       " 'Population': 'Population, mid-year (thousands)',\n",
       " 'Regional data': 'Regional GDP per capita and population estimates'}"
      ]
     },
     "execution_count": 3,
     "metadata": {},
     "output_type": "execute_result"
    }
   ],
   "source": [
    "# Here is my dictionary\n",
    "df_legend"
   ]
  },
  {
   "cell_type": "code",
   "execution_count": 4,
   "metadata": {},
   "outputs": [
    {
     "data": {
      "text/plain": [
       "'Real GDP per capita in 2011$'"
      ]
     },
     "execution_count": 4,
     "metadata": {},
     "output_type": "execute_result"
    }
   ],
   "source": [
    "# The variable we will use\n",
    "df_legend['GDP pc']"
   ]
  },
  {
   "cell_type": "code",
   "execution_count": 5,
   "metadata": {
    "scrolled": true
   },
   "outputs": [],
   "source": [
    "# Read in the data\n",
    "df = pd.read_excel('https://www.rug.nl/ggdc/historicaldevelopment/maddison/data/mpd2020.xlsx',\n",
    "                   sheet_name='Full data')"
   ]
  },
  {
   "cell_type": "code",
   "execution_count": 6,
   "metadata": {},
   "outputs": [
    {
     "data": {
      "text/html": [
       "<div>\n",
       "<style scoped>\n",
       "    .dataframe tbody tr th:only-of-type {\n",
       "        vertical-align: middle;\n",
       "    }\n",
       "\n",
       "    .dataframe tbody tr th {\n",
       "        vertical-align: top;\n",
       "    }\n",
       "\n",
       "    .dataframe thead th {\n",
       "        text-align: right;\n",
       "    }\n",
       "</style>\n",
       "<table border=\"1\" class=\"dataframe\">\n",
       "  <thead>\n",
       "    <tr style=\"text-align: right;\">\n",
       "      <th></th>\n",
       "      <th>countrycode</th>\n",
       "      <th>country</th>\n",
       "      <th>year</th>\n",
       "      <th>gdppc</th>\n",
       "      <th>pop</th>\n",
       "    </tr>\n",
       "  </thead>\n",
       "  <tbody>\n",
       "    <tr>\n",
       "      <th>0</th>\n",
       "      <td>AFG</td>\n",
       "      <td>Afghanistan</td>\n",
       "      <td>1820</td>\n",
       "      <td>NaN</td>\n",
       "      <td>3280.0</td>\n",
       "    </tr>\n",
       "    <tr>\n",
       "      <th>1</th>\n",
       "      <td>AFG</td>\n",
       "      <td>Afghanistan</td>\n",
       "      <td>1870</td>\n",
       "      <td>NaN</td>\n",
       "      <td>4207.0</td>\n",
       "    </tr>\n",
       "    <tr>\n",
       "      <th>2</th>\n",
       "      <td>AFG</td>\n",
       "      <td>Afghanistan</td>\n",
       "      <td>1913</td>\n",
       "      <td>NaN</td>\n",
       "      <td>5730.0</td>\n",
       "    </tr>\n",
       "    <tr>\n",
       "      <th>3</th>\n",
       "      <td>AFG</td>\n",
       "      <td>Afghanistan</td>\n",
       "      <td>1950</td>\n",
       "      <td>1156.0</td>\n",
       "      <td>8150.0</td>\n",
       "    </tr>\n",
       "    <tr>\n",
       "      <th>4</th>\n",
       "      <td>AFG</td>\n",
       "      <td>Afghanistan</td>\n",
       "      <td>1951</td>\n",
       "      <td>1170.0</td>\n",
       "      <td>8284.0</td>\n",
       "    </tr>\n",
       "  </tbody>\n",
       "</table>\n",
       "</div>"
      ],
      "text/plain": [
       "  countrycode      country  year   gdppc     pop\n",
       "0         AFG  Afghanistan  1820     NaN  3280.0\n",
       "1         AFG  Afghanistan  1870     NaN  4207.0\n",
       "2         AFG  Afghanistan  1913     NaN  5730.0\n",
       "3         AFG  Afghanistan  1950  1156.0  8150.0\n",
       "4         AFG  Afghanistan  1951  1170.0  8284.0"
      ]
     },
     "execution_count": 6,
     "metadata": {},
     "output_type": "execute_result"
    }
   ],
   "source": [
    "# First 5 rows of our data looks like this\n",
    "df.head()"
   ]
  },
  {
   "cell_type": "code",
   "execution_count": 7,
   "metadata": {},
   "outputs": [],
   "source": [
    "# List of countries we are asked about\n",
    "country_list = ['GBR','USA','DEU','FRA','CHN','IND']\n",
    "# Select these countreis\n",
    "df2 = df[df.countrycode.isin(country_list)].copy()"
   ]
  },
  {
   "cell_type": "code",
   "execution_count": 8,
   "metadata": {},
   "outputs": [],
   "source": [
    "# Sort of countrycode and year\n",
    "df2.sort_values(['countrycode','year'],inplace=True)"
   ]
  },
  {
   "cell_type": "code",
   "execution_count": 9,
   "metadata": {},
   "outputs": [],
   "source": [
    "# We are asked to calcualte average growth rate from 2000 to 2018\n",
    "years = [2000,2018]\n",
    "year_diff = years[1]-years[0] # time difference between the two years"
   ]
  },
  {
   "cell_type": "markdown",
   "metadata": {},
   "source": [
    "There are many ways to calculate average annual growth rate. One method is as follows. Let $y_{i,t}$ be the GDP per capita of country $i$ at year $t$, and $y_{i,t+n}$ and be the GDP per capita of country $i$ in year $t+n$. Then the average annual growth rate of country $i$ from year $t$ to $t+n$, $g_{y}$, is equal to\n",
    "$$ g_{y} = \\left( \\frac{y_{i,t+n}}{y_{i,t}}  \\right)^{1/n} -1 .$$  "
   ]
  },
  {
   "cell_type": "code",
   "execution_count": 10,
   "metadata": {},
   "outputs": [],
   "source": [
    "# Here we calculate the avarage growth rates of countries from 2000 to 2018 \n",
    "# using the above formula. \n",
    "growth_rates = (df2[df2.year.isin(years)].groupby(['countrycode','country']).apply(lambda x:\n",
    "                100*((x.iloc[1]['gdppc']/x.iloc[0]['gdppc'])**(1/year_diff)-1)).reset_index().\n",
    "                rename(columns={0:'Avg. Growth (2000-2018)'}))"
   ]
  },
  {
   "cell_type": "markdown",
   "metadata": {},
   "source": [
    "Rule of 72: If a county grows at a rate g, it takes $72/g\\cdot100$ years to double its income per capita."
   ]
  },
  {
   "cell_type": "code",
   "execution_count": 11,
   "metadata": {},
   "outputs": [],
   "source": [
    "# Apply the rule of 72\n",
    "growth_rates['Years to double'] = 72/growth_rates['Avg. Growth (2000-2018)']"
   ]
  },
  {
   "cell_type": "code",
   "execution_count": 12,
   "metadata": {},
   "outputs": [
    {
     "data": {
      "text/html": [
       "<div>\n",
       "<style scoped>\n",
       "    .dataframe tbody tr th:only-of-type {\n",
       "        vertical-align: middle;\n",
       "    }\n",
       "\n",
       "    .dataframe tbody tr th {\n",
       "        vertical-align: top;\n",
       "    }\n",
       "\n",
       "    .dataframe thead th {\n",
       "        text-align: right;\n",
       "    }\n",
       "</style>\n",
       "<table border=\"1\" class=\"dataframe\">\n",
       "  <thead>\n",
       "    <tr style=\"text-align: right;\">\n",
       "      <th></th>\n",
       "      <th>countrycode</th>\n",
       "      <th>country</th>\n",
       "      <th>Avg. Growth (2000-2018)</th>\n",
       "      <th>Years to double</th>\n",
       "    </tr>\n",
       "  </thead>\n",
       "  <tbody>\n",
       "    <tr>\n",
       "      <th>0</th>\n",
       "      <td>CHN</td>\n",
       "      <td>China</td>\n",
       "      <td>5.82</td>\n",
       "      <td>12.0</td>\n",
       "    </tr>\n",
       "    <tr>\n",
       "      <th>1</th>\n",
       "      <td>DEU</td>\n",
       "      <td>Germany</td>\n",
       "      <td>1.82</td>\n",
       "      <td>40.0</td>\n",
       "    </tr>\n",
       "    <tr>\n",
       "      <th>2</th>\n",
       "      <td>FRA</td>\n",
       "      <td>France</td>\n",
       "      <td>0.79</td>\n",
       "      <td>91.0</td>\n",
       "    </tr>\n",
       "    <tr>\n",
       "      <th>3</th>\n",
       "      <td>GBR</td>\n",
       "      <td>United Kingdom</td>\n",
       "      <td>0.98</td>\n",
       "      <td>74.0</td>\n",
       "    </tr>\n",
       "    <tr>\n",
       "      <th>4</th>\n",
       "      <td>IND</td>\n",
       "      <td>India</td>\n",
       "      <td>5.16</td>\n",
       "      <td>14.0</td>\n",
       "    </tr>\n",
       "    <tr>\n",
       "      <th>5</th>\n",
       "      <td>USA</td>\n",
       "      <td>United States</td>\n",
       "      <td>1.05</td>\n",
       "      <td>69.0</td>\n",
       "    </tr>\n",
       "  </tbody>\n",
       "</table>\n",
       "</div>"
      ],
      "text/plain": [
       "  countrycode         country  Avg. Growth (2000-2018)  Years to double\n",
       "0         CHN           China                     5.82             12.0\n",
       "1         DEU         Germany                     1.82             40.0\n",
       "2         FRA          France                     0.79             91.0\n",
       "3         GBR  United Kingdom                     0.98             74.0\n",
       "4         IND           India                     5.16             14.0\n",
       "5         USA   United States                     1.05             69.0"
      ]
     },
     "execution_count": 12,
     "metadata": {},
     "output_type": "execute_result"
    }
   ],
   "source": [
    "# Here is the results\n",
    "growth_rates.round(decimals={'Avg. Growth (2000-2018)':2,'Years to double':0})"
   ]
  },
  {
   "cell_type": "markdown",
   "metadata": {},
   "source": [
    "Suppose evolution of variable $x$ over time is defined with the following formula:\n",
    "\n",
    "$$\n",
    "x(t+1) = mx(t)^{\\alpha}+ nx(t),\n",
    "$$\n",
    "\n",
    "\n",
    "where $m=0.2$, $\\alpha=0.5$, and $n=0.9$, meaning the value of $x$ at time $t+1$ is equal to 0.2 times the value of $x$ at time $t$ to the power 0.5 plus 0.9 times the value of $x$ at time $t$. Suppose $x(0)=1$, the value of $x$ at time $t=0$ is equal to 1. \n",
    "\n",
    "Simulate $x$ for 100 periods starting from time $t=0$. \n",
    "\n",
    "**Hint**: You know $x(0)$. Using the above formula and the value of $x(0)$, you can find $x(1)$. Then using the above formula and the value of $x(1)$, you can calculate $x(2)$. You can repeat this exercise until you reach $x(100)$.\n",
    "\n",
    "_Again, I don't want you to write the same formula 100 times. It will take so much time, which is not my goal. If you are using excel, write the formula once in such a way that you can drag the cell down and simulate $x$ for as many periods as you wish._"
   ]
  },
  {
   "cell_type": "code",
   "execution_count": 13,
   "metadata": {},
   "outputs": [],
   "source": [
    "m, alpha, n = 0.2, 0.5,0.9 # define parameter values\n",
    "T = 100 # define time period\n",
    "x = np.zeros(T+1) # empty list to filled\n",
    "x[0] = 1 # x(0) = 1\n",
    "f = lambda x: m*x**alpha + n*x # the function in the question\n",
    "# simulate 100 periods\n",
    "for t in range(T):\n",
    "    # we call the function f and append to the list\n",
    "    x[t+1]=f(x[t])"
   ]
  },
  {
   "cell_type": "code",
   "execution_count": 14,
   "metadata": {},
   "outputs": [
    {
     "data": {
      "image/png": "[encoded data removed]",
      "text/plain": [
       "<Figure size 432x288 with 1 Axes>"
      ]
     },
     "metadata": {},
     "output_type": "display_data"
    }
   ],
   "source": [
    "# Plot the results\n",
    "plt.plot(x)\n",
    "plt.xlabel('Time');\n",
    "plt.title(r'$x$');"
   ]
  },
  {
   "cell_type": "code",
   "execution_count": null,
   "metadata": {},
   "outputs": [],
   "source": []
  }
 ],
 "metadata": {
  "kernelspec": {
   "display_name": "Python 3 (ipykernel)",
   "language": "python",
   "name": "python3"
  },
  "language_info": {
   "codemirror_mode": {
    "name": "ipython",
    "version": 3
   },
   "file_extension": ".py",
   "mimetype": "text/x-python",
   "name": "python",
   "nbconvert_exporter": "python",
   "pygments_lexer": "ipython3",
   "version": "3.9.7"
  }
 },
 "nbformat": 4,
 "nbformat_minor": 2
}
