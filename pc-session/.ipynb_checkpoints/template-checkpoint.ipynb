{
 "cells": [
  {
   "cell_type": "markdown",
   "metadata": {},
   "source": [
    "### Template for PC Session\n",
    "\n",
    "If you don't have Python installed on your computer, you can use this template to write and run your code by clicking on: [![Open In Colab](https://colab.research.google.com/assets/colab-badge.svg)](https://colab.research.google.com/github/gunerilhan/economicgrowth/blob/master/pc-session/template.ipynb)"
   ]
  },
  {
   "cell_type": "markdown",
   "metadata": {},
   "source": [
    "Let's solve question number 2 in Problem Set 0\n",
    "\n",
    "**2. A simulation exercise:**\n",
    "\n",
    "Suppose evolution of variable $x$ over time is defined with the following formula:\n",
    "\n",
    "$$\n",
    "x(t+1) = mx(t)^{\\alpha}+ nx(t),\n",
    "$$\n",
    "\n",
    "where $m=0.2$, $\\alpha=0.5$, and $n=0.9$, meaning the value of $x$ at time $t+1$ is equal to 0.2 times the value of $x$ at time $t$ to the power 0.5 plus 0.9 times the value of $x$ at time $t$. Suppose $x(0)=1$, the value of $x$ at time $t=0$ is equal to 1. \n",
    "\n",
    "Simulate $x$ for 100 periods starting from time $t=0$. \n",
    "\n",
    "**Hint**: You know $x(0)$. Using the above formula and the value of $x(0)$, you can find $x(1)$. Then using the above formula and the value of $x(1)$, you can calculate $x(2)$. You can repeat this exercise until you reach $x(100)$.\n",
    "\n",
    "_Again, I don't want you to write the same formula 100 times. It will take so much time, which is not my goal. If you are using excel, write the formula once in such a way that you can drag the cell down and simulate $x$ for as many periods as you wish._"
   ]
  },
  {
   "cell_type": "markdown",
   "metadata": {},
   "source": [
    "Let's solve the question step by step"
   ]
  },
  {
   "cell_type": "code",
   "execution_count": 1,
   "metadata": {},
   "outputs": [],
   "source": [
    "# Define variables m, alpha, and n in this cell"
   ]
  },
  {
   "cell_type": "code",
   "execution_count": null,
   "metadata": {},
   "outputs": [],
   "source": []
  },
  {
   "cell_type": "code",
   "execution_count": 2,
   "metadata": {},
   "outputs": [],
   "source": [
    "# Now, we will write a for loop. \n",
    "# Before writing the loop required in the question, let's begin with an easier for loop.\n",
    "# Write for loop that prints x^2 for each value of x between 0 and 100."
   ]
  },
  {
   "cell_type": "code",
   "execution_count": null,
   "metadata": {},
   "outputs": [],
   "source": []
  },
  {
   "cell_type": "code",
   "execution_count": 3,
   "metadata": {},
   "outputs": [],
   "source": [
    "## Let's write the loop required by the question"
   ]
  },
  {
   "cell_type": "code",
   "execution_count": null,
   "metadata": {},
   "outputs": [],
   "source": []
  },
  {
   "cell_type": "code",
   "execution_count": 4,
   "metadata": {},
   "outputs": [],
   "source": [
    "# Now, we will re-do the question with a function\n",
    "# Write a python function of m times (x(t) to the power alpha) + n times x(t)"
   ]
  },
  {
   "cell_type": "code",
   "execution_count": null,
   "metadata": {},
   "outputs": [],
   "source": []
  },
  {
   "cell_type": "code",
   "execution_count": 5,
   "metadata": {},
   "outputs": [],
   "source": [
    "# Re-write the for loop with the function you defined above"
   ]
  },
  {
   "cell_type": "code",
   "execution_count": null,
   "metadata": {},
   "outputs": [],
   "source": []
  },
  {
   "cell_type": "code",
   "execution_count": 6,
   "metadata": {},
   "outputs": [],
   "source": [
    "# Plot x(t) series"
   ]
  },
  {
   "cell_type": "code",
   "execution_count": null,
   "metadata": {},
   "outputs": [],
   "source": []
  },
  {
   "cell_type": "code",
   "execution_count": 7,
   "metadata": {},
   "outputs": [],
   "source": [
    "# Let's do the exercise from Quant Econ"
   ]
  },
  {
   "cell_type": "code",
   "execution_count": null,
   "metadata": {},
   "outputs": [],
   "source": []
  },
  {
   "cell_type": "markdown",
   "metadata": {},
   "source": [
    "These exercises are taken from \n",
    "\n",
    "<a id='python-by-example'></a>\n",
    "<div id=\"qe-notebook-header\" align=\"right\" style=\"text-align:left;\">\n",
    "        <a href=\"https://quantecon.org/\" title=\"quantecon.org\">\n",
    "                <img style=\"width:250px;display:inline;\" width=\"250px\" src=\"https://assets.quantecon.org/img/qe-menubar-logo.svg\" alt=\"QuantEcon\">\n",
    "        </a>\n",
    "</div>\n",
    "\n",
    "### Exercise 1\n",
    "\n",
    "Your first task is to simulate and plot the correlated time series\n",
    "\n",
    "$$\n",
    "x_{t+1} = \\alpha \\, x_t + \\epsilon_{t+1}\n",
    "\\quad \\text{where} \\quad\n",
    "x_0 = 0\n",
    "\\quad \\text{and} \\quad t = 0,\\ldots,T\n",
    "$$\n",
    "\n",
    "The sequence of shocks $ \\{\\epsilon_t\\} $ is assumed to be IID and standard normal.\n",
    "\n",
    "In your solution, restrict your import statements to"
   ]
  },
  {
   "cell_type": "code",
   "execution_count": 8,
   "metadata": {},
   "outputs": [],
   "source": [
    "import numpy as np\n",
    "import matplotlib.pyplot as plt"
   ]
  },
  {
   "cell_type": "markdown",
   "metadata": {},
   "source": [
    "Set $ T=200 $ and $ \\alpha = 0.9 $."
   ]
  },
  {
   "cell_type": "code",
   "execution_count": null,
   "metadata": {},
   "outputs": [],
   "source": []
  },
  {
   "cell_type": "code",
   "execution_count": null,
   "metadata": {},
   "outputs": [],
   "source": []
  },
  {
   "cell_type": "markdown",
   "metadata": {},
   "source": [
    "### Exercise 2\n",
    "\n",
    "Starting with your solution to exercise 1, plot three simulated time series,\n",
    "one for each of the cases $ \\alpha=0 $, $ \\alpha=0.8 $ and $ \\alpha=0.98 $.\n",
    "\n",
    "Use a `for` loop to step through the $ \\alpha $ values.\n",
    "\n",
    "If you can, add a legend, to help distinguish between the three time series.\n",
    "\n",
    "Hints:\n",
    "\n",
    "- If you call the `plot()` function multiple times before calling `show()`, all of the lines you produce will end up on the same figure.  \n",
    "- For the legend, noted that the expression `'foo' + str(42)` evaluates to `'foo42'`.  "
   ]
  },
  {
   "cell_type": "code",
   "execution_count": null,
   "metadata": {},
   "outputs": [],
   "source": []
  },
  {
   "cell_type": "code",
   "execution_count": null,
   "metadata": {},
   "outputs": [],
   "source": []
  }
 ],
 "metadata": {
  "kernelspec": {
   "display_name": "Python 3",
   "language": "python",
   "name": "python3"
  },
  "language_info": {
   "codemirror_mode": {
    "name": "ipython",
    "version": 3
   },
   "file_extension": ".py",
   "mimetype": "text/x-python",
   "name": "python",
   "nbconvert_exporter": "python",
   "pygments_lexer": "ipython3",
   "version": "3.7.7"
  }
 },
 "nbformat": 4,
 "nbformat_minor": 4
}
