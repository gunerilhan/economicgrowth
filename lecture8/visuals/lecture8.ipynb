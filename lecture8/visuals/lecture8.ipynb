{
 "cells": [
  {
   "cell_type": "code",
   "execution_count": 1,
   "metadata": {},
   "outputs": [],
   "source": [
    "import numpy as np\n",
    "import pandas as pd\n",
    "import matplotlib.pyplot as plt\n",
    "%matplotlib inline\n",
    "import seaborn as sns"
   ]
  },
  {
   "cell_type": "code",
   "execution_count": 2,
   "metadata": {},
   "outputs": [],
   "source": [
    "import qeds\n",
    "qeds.themes.mpl_style();\n",
    "colors=plt.rcParams[\"axes.prop_cycle\"].by_key()[\"color\"]\n",
    "colors.remove('#fec630')\n",
    "sns.set_style('whitegrid')"
   ]
  },
  {
   "cell_type": "code",
   "execution_count": 3,
   "metadata": {},
   "outputs": [],
   "source": [
    "df = pd.read_csv('./MSTI.csv')"
   ]
  },
  {
   "cell_type": "code",
   "execution_count": 12,
   "metadata": {
    "scrolled": true
   },
   "outputs": [],
   "source": [
    "df2 = df[(df.Country=='OECD - Total')&(df['MSTI Variables']=='Total researchers (FTE)')]"
   ]
  },
  {
   "cell_type": "code",
   "execution_count": 13,
   "metadata": {},
   "outputs": [
    {
     "data": {
      "text/html": [
       "<div>\n",
       "<style scoped>\n",
       "    .dataframe tbody tr th:only-of-type {\n",
       "        vertical-align: middle;\n",
       "    }\n",
       "\n",
       "    .dataframe tbody tr th {\n",
       "        vertical-align: top;\n",
       "    }\n",
       "\n",
       "    .dataframe thead th {\n",
       "        text-align: right;\n",
       "    }\n",
       "</style>\n",
       "<table border=\"1\" class=\"dataframe\">\n",
       "  <thead>\n",
       "    <tr style=\"text-align: right;\">\n",
       "      <th></th>\n",
       "      <th>MSTI_VAR</th>\n",
       "      <th>MSTI Variables</th>\n",
       "      <th>COU</th>\n",
       "      <th>Country</th>\n",
       "      <th>YEAR</th>\n",
       "      <th>Year</th>\n",
       "      <th>Unit Code</th>\n",
       "      <th>Unit</th>\n",
       "      <th>PowerCode Code</th>\n",
       "      <th>PowerCode</th>\n",
       "      <th>Reference Period Code</th>\n",
       "      <th>Reference Period</th>\n",
       "      <th>Value</th>\n",
       "      <th>Flag Codes</th>\n",
       "      <th>Flags</th>\n",
       "    </tr>\n",
       "  </thead>\n",
       "  <tbody>\n",
       "    <tr>\n",
       "      <th>10143</th>\n",
       "      <td>TP_RS</td>\n",
       "      <td>Total researchers (FTE)</td>\n",
       "      <td>OECD</td>\n",
       "      <td>OECD - Total</td>\n",
       "      <td>1981</td>\n",
       "      <td>1981</td>\n",
       "      <td>FTE</td>\n",
       "      <td>Full time equivalent</td>\n",
       "      <td>0</td>\n",
       "      <td>Units</td>\n",
       "      <td>NaN</td>\n",
       "      <td>NaN</td>\n",
       "      <td>1.430292e+06</td>\n",
       "      <td>e</td>\n",
       "      <td>Estimated value</td>\n",
       "    </tr>\n",
       "    <tr>\n",
       "      <th>10144</th>\n",
       "      <td>TP_RS</td>\n",
       "      <td>Total researchers (FTE)</td>\n",
       "      <td>OECD</td>\n",
       "      <td>OECD - Total</td>\n",
       "      <td>1982</td>\n",
       "      <td>1982</td>\n",
       "      <td>FTE</td>\n",
       "      <td>Full time equivalent</td>\n",
       "      <td>0</td>\n",
       "      <td>Units</td>\n",
       "      <td>NaN</td>\n",
       "      <td>NaN</td>\n",
       "      <td>1.483685e+06</td>\n",
       "      <td>e</td>\n",
       "      <td>Estimated value</td>\n",
       "    </tr>\n",
       "    <tr>\n",
       "      <th>10145</th>\n",
       "      <td>TP_RS</td>\n",
       "      <td>Total researchers (FTE)</td>\n",
       "      <td>OECD</td>\n",
       "      <td>OECD - Total</td>\n",
       "      <td>1983</td>\n",
       "      <td>1983</td>\n",
       "      <td>FTE</td>\n",
       "      <td>Full time equivalent</td>\n",
       "      <td>0</td>\n",
       "      <td>Units</td>\n",
       "      <td>NaN</td>\n",
       "      <td>NaN</td>\n",
       "      <td>1.559570e+06</td>\n",
       "      <td>e</td>\n",
       "      <td>Estimated value</td>\n",
       "    </tr>\n",
       "    <tr>\n",
       "      <th>10146</th>\n",
       "      <td>TP_RS</td>\n",
       "      <td>Total researchers (FTE)</td>\n",
       "      <td>OECD</td>\n",
       "      <td>OECD - Total</td>\n",
       "      <td>1984</td>\n",
       "      <td>1984</td>\n",
       "      <td>FTE</td>\n",
       "      <td>Full time equivalent</td>\n",
       "      <td>0</td>\n",
       "      <td>Units</td>\n",
       "      <td>NaN</td>\n",
       "      <td>NaN</td>\n",
       "      <td>1.628731e+06</td>\n",
       "      <td>e</td>\n",
       "      <td>Estimated value</td>\n",
       "    </tr>\n",
       "    <tr>\n",
       "      <th>10147</th>\n",
       "      <td>TP_RS</td>\n",
       "      <td>Total researchers (FTE)</td>\n",
       "      <td>OECD</td>\n",
       "      <td>OECD - Total</td>\n",
       "      <td>1985</td>\n",
       "      <td>1985</td>\n",
       "      <td>FTE</td>\n",
       "      <td>Full time equivalent</td>\n",
       "      <td>0</td>\n",
       "      <td>Units</td>\n",
       "      <td>NaN</td>\n",
       "      <td>NaN</td>\n",
       "      <td>1.670607e+06</td>\n",
       "      <td>e</td>\n",
       "      <td>Estimated value</td>\n",
       "    </tr>\n",
       "  </tbody>\n",
       "</table>\n",
       "</div>"
      ],
      "text/plain": [
       "      MSTI_VAR           MSTI Variables   COU       Country  YEAR  Year  \\\n",
       "10143    TP_RS  Total researchers (FTE)  OECD  OECD - Total  1981  1981   \n",
       "10144    TP_RS  Total researchers (FTE)  OECD  OECD - Total  1982  1982   \n",
       "10145    TP_RS  Total researchers (FTE)  OECD  OECD - Total  1983  1983   \n",
       "10146    TP_RS  Total researchers (FTE)  OECD  OECD - Total  1984  1984   \n",
       "10147    TP_RS  Total researchers (FTE)  OECD  OECD - Total  1985  1985   \n",
       "\n",
       "      Unit Code                  Unit  PowerCode Code PowerCode  \\\n",
       "10143       FTE  Full time equivalent               0     Units   \n",
       "10144       FTE  Full time equivalent               0     Units   \n",
       "10145       FTE  Full time equivalent               0     Units   \n",
       "10146       FTE  Full time equivalent               0     Units   \n",
       "10147       FTE  Full time equivalent               0     Units   \n",
       "\n",
       "       Reference Period Code  Reference Period         Value Flag Codes  \\\n",
       "10143                    NaN               NaN  1.430292e+06          e   \n",
       "10144                    NaN               NaN  1.483685e+06          e   \n",
       "10145                    NaN               NaN  1.559570e+06          e   \n",
       "10146                    NaN               NaN  1.628731e+06          e   \n",
       "10147                    NaN               NaN  1.670607e+06          e   \n",
       "\n",
       "                 Flags  \n",
       "10143  Estimated value  \n",
       "10144  Estimated value  \n",
       "10145  Estimated value  \n",
       "10146  Estimated value  \n",
       "10147  Estimated value  "
      ]
     },
     "execution_count": 13,
     "metadata": {},
     "output_type": "execute_result"
    }
   ],
   "source": [
    "df2.head()"
   ]
  },
  {
   "cell_type": "code",
   "execution_count": 19,
   "metadata": {},
   "outputs": [
    {
     "data": {
      "image/png": "[encoded data removed]",
      "text/plain": [
       "<Figure size 576x432 with 1 Axes>"
      ]
     },
     "metadata": {},
     "output_type": "display_data"
    }
   ],
   "source": [
    "fig,ax = plt.subplots(figsize=(8,6))\n",
    "ax.plot(df2.Year,df2.Value/1000000,color='k',linewidth=2)\n",
    "ax.set_xlabel('Year')\n",
    "ax.set_ylabel('Number of researchers, millions')\n",
    "ax.spines['left'].set_visible(False)\n",
    "ax.spines['right'].set_visible(False)\n",
    "ax.spines['top'].set_visible(False)\n",
    "ax.spines['bottom'].set_visible(False)\n",
    "ax.set_title('Full time equivalent number of researchers in OECD countries')\n",
    "plt.savefig('./oecd_fte_researchers.svg',bbox_inches='tight')"
   ]
  }
 ],
 "metadata": {
  "kernelspec": {
   "display_name": "Python 3",
   "language": "python",
   "name": "python3"
  },
  "language_info": {
   "codemirror_mode": {
    "name": "ipython",
    "version": 3
   },
   "file_extension": ".py",
   "mimetype": "text/x-python",
   "name": "python",
   "nbconvert_exporter": "python",
   "pygments_lexer": "ipython3",
   "version": "3.6.10"
  }
 },
 "nbformat": 4,
 "nbformat_minor": 2
}
