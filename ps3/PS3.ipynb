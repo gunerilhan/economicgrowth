{
 "cells": [
  {
   "cell_type": "markdown",
   "metadata": {},
   "source": [
    "### Solutions to EC569 Economic Growth - Problem Set 3\n",
    "\n",
    "This notebook is in html. To be able to run it, please click: [![Open In Colab](https://colab.research.google.com/assets/colab-badge.svg)](https://colab.research.google.com/github/gunerilhan/economicgrowth/blob/master/ps3/PS3.ipynb)"
   ]
  },
  {
   "cell_type": "code",
   "execution_count": 1,
   "metadata": {},
   "outputs": [],
   "source": [
    "# First import the packages we'll need\n",
    "# Numpy is for numerical analysis\n",
    "import numpy as np\n",
    "# Pandas is for data storage and manipulation\n",
    "import pandas as pd\n",
    "# Matplotlib and seaborn are for plotting\n",
    "import matplotlib.pyplot as plt\n",
    "%matplotlib inline\n",
    "import seaborn as sns\n",
    "from matplotlib import style\n",
    "style.use('https://gunerilhan.github.io/img/fivethirtyeight-modified.mplstyle')"
   ]
  },
  {
   "cell_type": "markdown",
   "metadata": {},
   "source": [
    "**1** Wakanda and Zakanda are two neighboring countries. Wakanda has a highly advanced technology, whereas, Zakanda has a lower level of technology and lower income per capita. In the usual setting, we would expect Zakanda to learn about Wakanda's technology but Wakanda has been successfully hiding its technology from the rest of the world for centuries. At time $t=0$, Wakanda has a productivity of 10, $A_w = 10$, and 20% of its labor force engage in R\\&D, $\\gamma_{A,W} = 0.2$.  Zakanda, on the other hand, has a productivity level of 6, $A_Z=6$, and 10\\% of its population engages in R\\&D, $\\gamma_{A,Z}=0.1$. Each country has a labor force equal to 1, $L=1$. Price of invention in each country is equal to 10, $\\mu = 10$. Along the line, the following events take place:\n",
    "\n",
    "- After long soul searching, at time $t=10$, King T'Challa of Wakanda decides to open up Wakanda's technology to Zakanda.\n",
    "\n",
    "- King T'Chala observes Zakanda's development for 10 periods. But, he is surprised that Zakanda did not imitate Wakanda's technology and it grows at its former pace, as before time $t=10$. He appoints his sister and Chief Scientist of Wakanda, Shuri, as his technology ambassador to Zakanda at time $t=20$.\n",
    "\n",
    "- With the help of Shuri, Zakanda is able to imitate Wakanda's technology with a cost of copying equal to $\\mu_{c} = \\mu_i \\left(\\frac{A_L}{A_F} \\right)^{-1/2},$ where $A_L$ is the productivity of technology leader and $A_F$ is the productivity of technology follower. Shuri convinces Zakanda to increase the fraction of workers engaged in R\\&D to 15\\%, $\\gamma_{A,Z}=0.15$\n",
    "\n",
    "- After observing the progress made since $t=20$, Zakandans increase the fraction of labor force engaging in R\\&D to 22\\%, $\\gamma_{A,Z}=0.22 $ at time $t=50.$\n",
    "\n",
    "a. Using the appropriate models we covered in Lecture 7 (You need to employ one-country model of technology creation and growth and two-country model of technology creation and growth\n",
    "in answering this question.), simulate and plot Wakanda and Zakanda productivities and income per worker levels from $t=0$ to $t=250$ considering the events took place. Briefly comment on your graphs. In your graphs, make sure to highlight each event.\n",
    "\n",
    "b. What might have prevented Zakanda from imitating Wakanda's technology from time $t=10$ to time $t=20$? Briefly explain. (In this question, I expect you to read section 8.4 (Barrier to international technology transfer) of Weil (2013).)\n",
    "\n",
    "<br>\n",
    "\n",
    "<center>\n",
    "<img src=\"https://media.giphy.com/media/l378hTnSHp8EI0la0/giphy.gif\" width=\"60%\"/>\n",
    "</center>\n",
    "\n",
    "\n"
   ]
  },
  {
   "cell_type": "markdown",
   "metadata": {},
   "source": [
    "#### Solution #####\n",
    "\n",
    "Notice that until $t=20$, Wakanda's technology is hidden from Zakanda. Hence, we need to consider technological progress in each of the countries separately as our one country model. Therefore, to calculate Wakanda's productivity and income over time, first we calculate productivity growth rate:\n",
    "\n",
    "$$ \\widehat{A}_w(t) = \\frac{\\gamma_{A,w} L }{\\mu}$$\n",
    "\n",
    "Then, we calculate output: \n",
    "\n",
    "$$ y_{w}(t) = A_w(t)(1-\\gamma_{A,w}) $$\n",
    "\n",
    "Then, using the growth rate we calculated and current productivity level, we can calculate next period's productivity:\n",
    "\n",
    "$$ A_w(t+1) = A_w(t)(1+\\widehat{A}_w(t))$$\n",
    "\n",
    "Starting from $t=0$, we repeat these calculations 20 times to get productivity and income of Wakanda for $t=0,...,20$\n",
    "\n",
    "We calculate Zakanda's productivity and income until t=19 as we did for Wakanda:\n",
    "\n",
    "$$ \\widehat{A}_z(t) = \\frac{\\gamma_{A,z} L }{\\mu}$$\n",
    "\n",
    "$$ y_{z}(t) = A_z(t)(1-\\gamma_{A,z}) $$\n",
    "\n",
    "$$ A_z(t+1) = A_z(t)(1+\\widehat{A}_z(t))$$\n",
    "\n",
    "Repeat the above calculations 19 times.\n",
    "\n",
    "Now, at time $t=20$, we observe 2 important developments. First, Zakanda begins imitating Wakanda's technology, and second, Zakanda increases share of labor force engaged in R&D to 0.15, notated as $\\gamma_{A,z}^n$, where $n$ represents 'new'. However, as Wakanda is the technology leader, nothing changes for Wakanda, and we can keep calculating Wakanda's income and output as we did before until $t=50$. Now, Zakanda's productivity growth can be calculated as follows:\n",
    "\n",
    "First, calculate the cost of imitation at time $t$,\n",
    "$$\\mu_{c}(t) = \\mu \\left(\\frac{A_w(t)}{A_z(t)} \\right)^{-1/2}$$\n",
    "\n",
    "Notice that cost of imitation depends on the ratio of productivities in these countries. Hence, we need to calcualte a new cost of imitation at each time $t$. Then we can calculate productivity growth rate in Zakanda,\n",
    "\n",
    "$$ \\widehat{A}_z(t) = \\frac{\\gamma_{A,z}^n L }{\\mu_c(t)}$$\n",
    "\n",
    "Lastly, we can can calculate output in Zakanda,\n",
    "\n",
    "$$ y_{z}(t) = A_z(t)(1-\\gamma_{A,z}^n) $$\n",
    "\n",
    "Lastly we need to repeat this from $t=20$ to $t=50$. At time $t=50$, Zakanda increases the faraction of labor force engaged in R&D to .22. Now, we repeat the above process with the most recent $\\gamma_{A,z}$. This will go on for a while, until the point Zakanda's productivity surpases Wakanda's productivity. Then, Zakanda will become the technology leader. Therefore, after that time, cost of innovation in Zakanda will be equal to cost of invention, and cost of innovation in Wakanda will be equal to cost of copying. \n",
    "\n",
    "$$\\mu_{c}(t) = \\mu \\left(\\frac{A_z(t)}{A_w(t)} \\right)^{-1/2}$$\n",
    "\n",
    "$$ \\widehat{A}_z(t) = \\frac{\\gamma_{A,z}^n L }{\\mu}$$\n",
    "\n",
    "$$ \\widehat{A}_w(t) = \\frac{\\gamma_{A,w}^n L }{\\mu_c(t)}$$\n",
    "\n",
    "We will iterate this process until $t=250.$\n",
    "\n",
    "\n",
    "\n",
    "\n"
   ]
  },
  {
   "cell_type": "code",
   "execution_count": 2,
   "metadata": {},
   "outputs": [],
   "source": [
    "# First I define the parameter values in Python #\n",
    "T  = 300 # number of time periods (you are supposed to simulate 250 periods, but it's fine if you simulate more)\n",
    "mu = 10 # cost of invention \n",
    "L = 1 # labor force\n",
    "gamma_w = .2*np.ones(T) # fraction of workers engaged in R&D in Wakanda, this is list of values equal to 0.2\n",
    "# fraction of workers engaged in R&D in Zakanda\n",
    "gamma_z = np.zeros(T) # create a list of zeros, and then change the values according to the info from the q.\n",
    "for t in range(T):\n",
    "    if t<20:\n",
    "        gamma_z[t] = .1\n",
    "    elif 20<=t<50:\n",
    "        gamma_z[t] = .15\n",
    "    else:\n",
    "        gamma_z[t] = .22\n",
    "A_w = np.zeros(T) # productivity in Wakanda, it will be replaced by actual values\n",
    "A_w[0] = 10 # initial productivity\n",
    "A_z = np.zeros(T) # productivity in Zakanda, it will be replaced by actual values\n",
    "A_z[0] = 6 # inital productivity\n",
    "A_z_hat=np.zeros(T-1)  # productivity growth in Zakanda, it will be replaced by actual values\n",
    "A_w_hat=np.zeros(T-1)   # productivity growth in Wakanda, it will be replaced by actual values\n",
    "mu_c_seq = np.zeros(T) # sequence of cost of copying. It will be replaced by actual values"
   ]
  },
  {
   "cell_type": "code",
   "execution_count": 3,
   "metadata": {},
   "outputs": [],
   "source": [
    "# this is the algorithm I described above\n",
    "for t in range(T-1):\n",
    "    # when t<10, each country is independent\n",
    "    if t<20:\n",
    "        A_w_hat[t] = gamma_w[t]*L/mu # find the growth rate\n",
    "        A_w[t+1] = A_w[t]*(1+A_w_hat[t]) # calculate next period's productivity\n",
    "        mu_c = mu\n",
    "        A_z_hat[t] = gamma_z[t]*L/mu_c\n",
    "        A_z[t+1] = A_z[t]*(1+A_z_hat[t])\n",
    "    # after t > 20, if the productivity of Wakanda is greater than Zakanda's, \n",
    "    # Wakanda is the technology leader, and Zakanda enjoys copying\n",
    "    elif (A_w[t]>A_z[t]):\n",
    "        A_w_hat[t] = gamma_w[t]*L/mu\n",
    "        A_w[t+1] = A_w[t]*(1+A_w_hat[t])\n",
    "        mu_c = mu*(A_w[t]/A_z[t])**(-1/2) # # cost of copying \n",
    "        A_z_hat[t] = gamma_z[t]*L/mu_c\n",
    "        A_z[t+1] = A_z[t]*(1+A_z_hat[t]) \n",
    "    # after t > 20, if the productivity of Zakanda is greater than Wakanda's, \n",
    "    # Zakanda is the technology leader, and Wakanda enjoys copying\n",
    "    else:\n",
    "        A_z_hat[t] = gamma_z[t]*L/mu\n",
    "        A_z[t+1] = A_z[t]*(1+A_z_hat[t])\n",
    "        mu_c = mu*(A_z[t]/A_w[t])**(-1/2) # cost of copying but Zakanda as the tech. leader\n",
    "        A_w_hat[t] = gamma_w[t]*L/mu_c\n",
    "        A_w[t+1] = A_w[t]*(1+A_w_hat[t]) \n",
    "    # assign mu_c to mu_s_seq\n",
    "    mu_c_seq[t] = mu_c\n",
    "y_w = (1-gamma_w)*A_w # output per worker in Wakanda\n",
    "y_z = (1-gamma_z)*A_z # output per worker in Zakanda"
   ]
  },
  {
   "cell_type": "code",
   "execution_count": 4,
   "metadata": {},
   "outputs": [
    {
     "data": {
      "image/png": "[encoded data removed]",
      "text/plain": [
       "<Figure size 432x288 with 1 Axes>"
      ]
     },
     "metadata": {},
     "output_type": "display_data"
    }
   ],
   "source": [
    "fig,ax = plt.subplots()\n",
    "ax.plot(y_w,'r',linewidth=2,label=\"Wakanda\")\n",
    "ax.plot(y_z,'k',linewidth=2,label='Zakanda')\n",
    "ax.set_yscale('log')\n",
    "ax.spines['left'].set_visible(False)\n",
    "ax.spines['right'].set_visible(False)\n",
    "ax.spines['top'].set_visible(False)\n",
    "ax.spines['bottom'].set_visible(False)\n",
    "ax.set_yticks([10,100,1000])\n",
    "ax.set_yticklabels([10,100,1000]);\n",
    "ax.legend(loc='best',frameon=False)\n",
    "ax.set_xlabel('Time')\n",
    "ax.set_ylabel('Output per worker, log scale');"
   ]
  },
  {
   "cell_type": "markdown",
   "metadata": {},
   "source": [
    "Note that Zakanda's output jumps down twice as a result of higher fraction of labor force engaged in R&D. However, after the jumps, Zakanda grows at a higher rate than before. Eventually, Zakanda catches Wakanda."
   ]
  },
  {
   "cell_type": "code",
   "execution_count": 5,
   "metadata": {},
   "outputs": [
    {
     "data": {
      "image/png": "[encoded data removed]",
      "text/plain": [
       "<Figure size 864x360 with 2 Axes>"
      ]
     },
     "metadata": {},
     "output_type": "display_data"
    }
   ],
   "source": [
    "# let's plot each country separately\n",
    "num_rows, num_cols = 1 ,2 \n",
    "fig, axes = plt.subplots(num_rows, num_cols, figsize=(12, 5))\n",
    "axes[0].plot(range(T),A_w,'r.',linewidth=.1,label='Productivity')\n",
    "axes[0].plot(range(T),y_w,'k.',linewidth=.1,label='Output')  \n",
    "axes[0].set_title('Wakanda')\n",
    "axes[1].plot(range(T),A_z,'r.',linewidth=.1,label='Productivity')\n",
    "axes[1].plot(range(T),y_z,'k.',linewidth=.1,label='Output')  \n",
    "axes[1].set_title('Zakanda')\n",
    "for i in range(num_cols):\n",
    "    axes[i].set_yscale('log')\n",
    "    axes[i].legend(loc='best',frameon=False)\n",
    "    axes[i].set_xlabel('time')\n",
    "    axes[i].spines['left'].set_visible(False)\n",
    "    axes[i].spines['right'].set_visible(False)\n",
    "    axes[i].spines['top'].set_visible(False)\n",
    "    axes[i].spines['bottom'].set_visible(False)\n",
    "plt.savefig('graphs1.pdf')"
   ]
  },
  {
   "cell_type": "markdown",
   "metadata": {},
   "source": [
    "The graph on the left is for Wakanda, and the graph on the right is for Zakanda. As you see, productivity and ouput in Wakanda increase substantially over 300 periods. Levels of productivity and output in Wakanda are much higher than those of Wakanda.\n",
    "\n",
    "Zakanda's productivity and income increases until t=20. As Zakanda begins imitating Wakanda's technology, it is able to increase its productiviity at higher rates. We also observe jump downs in Zakanda's output at $t=20$ and at $t=50$ as Zakanda increases fraction of labor force engaged in R&D. This leads to a temporary reduction in output, but higher productivity achieved in the subsequent periods compensantes for the reduced production workers and Zakanda enjoys higher output levels."
   ]
  },
  {
   "cell_type": "code",
   "execution_count": 6,
   "metadata": {},
   "outputs": [
    {
     "data": {
      "image/png": "[encoded data removed]",
      "text/plain": [
       "<Figure size 432x288 with 1 Axes>"
      ]
     },
     "metadata": {},
     "output_type": "display_data"
    }
   ],
   "source": [
    "# now let's look at the productivity growth rates\n",
    "fig,ax = plt.subplots()\n",
    "ax.plot(A_z_hat[:250],'r.',linewidth=2,label=r'$\\hat{A}_z$')\n",
    "ax.plot(A_w_hat[:250],'k.',linewidth=2,label=r'$\\hat{A}_w$')\n",
    "ax.legend(loc='best',frameon=False)\n",
    "ax.set_xlabel('Time')\n",
    "ax.set_ylim(ymin=0.008)\n",
    "ax.set_title('Productivity Growth');\n",
    "ax.spines['left'].set_visible(False)\n",
    "ax.spines['right'].set_visible(False)\n",
    "ax.spines['top'].set_visible(False)\n",
    "ax.spines['bottom'].set_visible(False)"
   ]
  },
  {
   "cell_type": "markdown",
   "metadata": {},
   "source": [
    "Wakanda's productivity growth rate is constant and equal to .2 until period 188 as it is the technology leader and there is no change in the fraction of labor force engaged in R&D. However, at period 188, Zakanda catches up Wakanda's technology level and becomes the technology leader. After this period, Wakanda observes a higher productivity growth, as the cost of innovation goes down for Wakanda. Zakanda's productivity growth rate, on the other hand, is equal to 0.01 until $t=20$ as it alocates substantially lower fraction of labor force to R&D than Wakanda. However, at $t=20$, because of imitation and increase in R&D labor, Zakanda's productivity growth rate jumps to .021, which is higher than Wakanda's productivity growth rate. Because of this, Zakanda's productivity converges to Wakanda's, and cost of imitation increaes. Remember, cost of imitation is inversely related to productivity differences in the two countries. As cost imitation increases, Zakanda's productivity growth rate decreases and converges to Wakanda's. After the peprid $t=50$, Zakanda increases R&D labor further, which leads to higher productivity growth rate, .31 at period $t=50$. As Zakanda's productivity converges to the Wakanda, productivity growth rate of Zakanda goes down. At period $t=188$, Zakanda catches Wakanda, becomes the technology leader, and enjoys a constant growth rate of .022. "
   ]
  },
  {
   "cell_type": "code",
   "execution_count": 7,
   "metadata": {},
   "outputs": [],
   "source": [
    "productivity = pd.DataFrame({'Productivity (Wakanda)':A_w[:250],\n",
    "                            'Productivity (Zakanda)':A_z[:250],\n",
    "                           'Output per worker (Wakanda)':y_w[:250],\n",
    "                            'Output per worker (Zakanda)':y_z[:250],\n",
    "                            'Productivity Growth (Wakanda)':A_w_hat[:250],\n",
    "                            'Productivity Growth (Zakanda)':A_z_hat[:250],\n",
    "                             'Cost of copying':mu_c_seq[:250]})"
   ]
  },
  {
   "cell_type": "code",
   "execution_count": 8,
   "metadata": {},
   "outputs": [],
   "source": [
    "productivity.to_csv('ps3-q1.csv')"
   ]
  },
  {
   "cell_type": "code",
   "execution_count": 9,
   "metadata": {},
   "outputs": [
    {
     "data": {
      "text/html": [
       "<div>\n",
       "<style scoped>\n",
       "    .dataframe tbody tr th:only-of-type {\n",
       "        vertical-align: middle;\n",
       "    }\n",
       "\n",
       "    .dataframe tbody tr th {\n",
       "        vertical-align: top;\n",
       "    }\n",
       "\n",
       "    .dataframe thead th {\n",
       "        text-align: right;\n",
       "    }\n",
       "</style>\n",
       "<table border=\"1\" class=\"dataframe\">\n",
       "  <thead>\n",
       "    <tr style=\"text-align: right;\">\n",
       "      <th></th>\n",
       "      <th>Productivity (Wakanda)</th>\n",
       "      <th>Productivity (Zakanda)</th>\n",
       "      <th>Output per worker (Wakanda)</th>\n",
       "      <th>Output per worker (Zakanda)</th>\n",
       "      <th>Productivity Growth (Wakanda)</th>\n",
       "      <th>Productivity Growth (Zakanda)</th>\n",
       "      <th>Cost of copying</th>\n",
       "    </tr>\n",
       "  </thead>\n",
       "  <tbody>\n",
       "    <tr>\n",
       "      <th>29</th>\n",
       "      <td>17.758447</td>\n",
       "      <td>8.851412</td>\n",
       "      <td>14.206758</td>\n",
       "      <td>7.523700</td>\n",
       "      <td>0.02</td>\n",
       "      <td>0.021247</td>\n",
       "      <td>7.059985</td>\n",
       "    </tr>\n",
       "    <tr>\n",
       "      <th>30</th>\n",
       "      <td>18.113616</td>\n",
       "      <td>9.039474</td>\n",
       "      <td>14.490893</td>\n",
       "      <td>7.683553</td>\n",
       "      <td>0.02</td>\n",
       "      <td>0.021234</td>\n",
       "      <td>7.064298</td>\n",
       "    </tr>\n",
       "    <tr>\n",
       "      <th>31</th>\n",
       "      <td>18.475888</td>\n",
       "      <td>9.231414</td>\n",
       "      <td>14.780711</td>\n",
       "      <td>7.846702</td>\n",
       "      <td>0.02</td>\n",
       "      <td>0.021221</td>\n",
       "      <td>7.068568</td>\n",
       "    </tr>\n",
       "  </tbody>\n",
       "</table>\n",
       "</div>"
      ],
      "text/plain": [
       "    Productivity (Wakanda)  Productivity (Zakanda)  \\\n",
       "29               17.758447                8.851412   \n",
       "30               18.113616                9.039474   \n",
       "31               18.475888                9.231414   \n",
       "\n",
       "    Output per worker (Wakanda)  Output per worker (Zakanda)  \\\n",
       "29                    14.206758                     7.523700   \n",
       "30                    14.490893                     7.683553   \n",
       "31                    14.780711                     7.846702   \n",
       "\n",
       "    Productivity Growth (Wakanda)  Productivity Growth (Zakanda)  \\\n",
       "29                           0.02                       0.021247   \n",
       "30                           0.02                       0.021234   \n",
       "31                           0.02                       0.021221   \n",
       "\n",
       "    Cost of copying  \n",
       "29         7.059985  \n",
       "30         7.064298  \n",
       "31         7.068568  "
      ]
     },
     "execution_count": 9,
     "metadata": {},
     "output_type": "execute_result"
    }
   ],
   "source": [
    "productivity.loc[29:31]"
   ]
  },
  {
   "cell_type": "markdown",
   "metadata": {},
   "source": [
    " In questions 2 and 3, using  [Penn World Table](https://www.rug.nl/ggdc/productivity/pwt/), you will do development accounting and growth accounting. In these questions, use 'rgdpo' (Output-side real GDP at chained PPPs (in mil. 2017USD)) as a measure of real GDP, use 'cn' (Capital stock at current PPPs (in mil. 2017USD)) as a measure of real capital stock, use 'emp' (Number of persons engaged (in millions)) as a measure of employment, and use 'hc' (Human capital index, based on years of schooling and returns to education) as a measure of human capital. You don't need to divide 'hc' with employment numbers as 'hc' is already a measure of average human capital in a society. Assume $\\alpha=1/3$ for questions 2 and 3."
   ]
  },
  {
   "cell_type": "code",
   "execution_count": 10,
   "metadata": {},
   "outputs": [],
   "source": [
    "# Here, I download the Penn World Tables legend\n",
    "df_legend = pd.read_excel('https://www.rug.nl/ggdc/docs/pwt100.xlsx',sheet_name='Legend')\n",
    "df_legend.dropna(inplace=True,subset=['Variable name','Variable definition'])\n",
    "# I create a dictionary of variables names and definitions\n",
    "df_legend = dict(zip(df_legend['Variable name'],df_legend['Variable definition']))"
   ]
  },
  {
   "cell_type": "code",
   "execution_count": 11,
   "metadata": {
    "scrolled": true
   },
   "outputs": [
    {
     "name": "stdout",
     "output_type": "stream",
     "text": [
      "rgdpo =  Output-side real GDP at chained PPPs (in mil. 2017US$)\n",
      "cn =  Capital stock at current PPPs (in mil. 2017US$)\n",
      "emp =  Number of persons engaged (in millions)\n",
      "hc = Human capital index, based on years of schooling and returns to education; see Human capital in PWT9.\n"
     ]
    }
   ],
   "source": [
    "# Here are the variables, we will need in this analysis\n",
    "print('rgdpo = ', df_legend['rgdpo'])\n",
    "print('cn = ', df_legend['cn'])\n",
    "print('emp = ', df_legend['emp'])\n",
    "print('hc =', df_legend['hc'])"
   ]
  },
  {
   "cell_type": "code",
   "execution_count": null,
   "metadata": {},
   "outputs": [],
   "source": [
    "# now download the data\n",
    "df = pd.read_excel('https://www.rug.nl/ggdc/docs/pwt100.xlsx',sheet_name='Data')"
   ]
  },
  {
   "cell_type": "code",
   "execution_count": null,
   "metadata": {},
   "outputs": [],
   "source": [
    "# create GDP per worker and physical capital per worker\n",
    "df['gdpPerworker'] = df['rgdpo']/df.emp\n",
    "df['capPerworker'] = df['cn']/df.emp"
   ]
  },
  {
   "cell_type": "markdown",
   "metadata": {},
   "source": [
    "**2.** Using 2019 values in Penn World Table, conduct development accounting of Argentina,\n",
    "Germany, Bulgaria and Japan relative to the United Kingdom. Create a table summarizing\n",
    "your results. Briefly comment on the table."
   ]
  },
  {
   "cell_type": "code",
   "execution_count": null,
   "metadata": {},
   "outputs": [],
   "source": [
    "# These are the list of countries we will analyze\n",
    "country_list_2  = ['ARG','DEU','BGR','JPN','GBR']"
   ]
  },
  {
   "cell_type": "markdown",
   "metadata": {},
   "source": [
    "**Solution:** Divide GDP per worker, capital per worker, human capital per worker by the Great Britain values. \n",
    "\n",
    "Lastly, calculate productivity differences as follows:\n",
    "$$\\frac{A_i}{A_{GBR}}=\\frac{\\frac{y_i}{y_{GBR}}}{\\frac{k_i^\\alpha h_i^{1-\\alpha}}{k_{GBR}^\\alpha h_{GBR}^{1-\\alpha}}}$$\n"
   ]
  },
  {
   "cell_type": "code",
   "execution_count": null,
   "metadata": {},
   "outputs": [],
   "source": [
    "# select 2019 values\n",
    "df_2019 = df[df.year==2019].copy()\n",
    "# I drop observations with missing values on 'gdpPerworker','capPerworker','hc' columns\n",
    "df_2019 = df_2019.dropna(subset=('gdpPerworker','capPerworker','hc'))\n",
    "# create new dataframe for UK values, as these will be used many times\n",
    "GBR = df_2019[df_2019.countrycode=='GBR']\n",
    "\n",
    "# I add extra columns to our df_2019 data\n",
    "df_2019['gdpPerworker, GBR'] = GBR['gdpPerworker'].values[0] # gdp per worker of the UK\n",
    "df_2019['capPerworker, GBR'] = GBR['capPerworker'].values[0] # capital per worker of the UK\n",
    "df_2019['hc, GBR'] = GBR['hc'].values[0] # human capital per worker of the UK\n",
    "# relative to the uk\n",
    "df_2019['Rel. output per worker, y'] = df_2019['gdpPerworker']/df_2019['gdpPerworker, GBR']\n",
    "df_2019['Rel. physical capital per worker, k'] = df_2019['capPerworker']/df_2019['capPerworker, GBR']\n",
    "df_2019['Rel. human capital per worker, h'] = df_2019['hc']/df_2019['hc, GBR']\n",
    "\n",
    "# factors of production relative to the UK\n",
    "df_2019['Rel. factors of production'] = (df_2019['Rel. physical capital per worker, k']**(1/3)*\n",
    "                                      df_2019['Rel. human capital per worker, h']**(2/3))\n",
    "\n",
    "# productivity relative to the UK\n",
    "df_2019['Rel. productivity, A'] = df_2019['Rel. output per worker, y']/df_2019['Rel. factors of production']\n",
    "\n",
    "\n",
    "df_2019[df_2019.countrycode.isin(country_list_2)][['country','Rel. output per worker, y',\n",
    "                                                   'Rel. physical capital per worker, k',\n",
    "                                                   'Rel. human capital per worker, h',\n",
    "                                                   'Rel. factors of production',\n",
    "                                                   'Rel. productivity, A']].round(decimals=2).set_index('country')"
   ]
  },
  {
   "cell_type": "code",
   "execution_count": null,
   "metadata": {},
   "outputs": [],
   "source": [
    "# Next, I'll plot bar graphs depicting the factors of production relative to the UK\n",
    "# I'll rename columns\n",
    "\n",
    "# These are the columns to be renamed\n",
    "cols = ['Rel. output per worker, y',\n",
    "       'Rel. physical capital per worker, k',\n",
    "       'Rel. human capital per worker, h',\n",
    "        'Rel. factors of production',\n",
    "        'Rel. productivity, A']\n",
    "# these are the new names of the columns\n",
    "cols2 = ['Output per worker',\n",
    "       'Physical capital per worker',\n",
    "       'Human capital per worker',\n",
    "        'Factors of production',\n",
    "        'Productivity']\n",
    "# I'll need this dictionary\n",
    "cols_rename = dict(zip(cols,cols2))\n",
    "# As all the data will be relative to the UK, I don't need to plot UK (all of them will be equal to 1)\n",
    "country_list_2.remove('GBR')\n",
    "\n",
    "# this procedure, does the following steps\n",
    "# 1) selects only the countries that we are interested in\n",
    "# 2) selects only the variables we are interested in\n",
    "# 3) renames columns\n",
    "# 4) converts columns into rows\n",
    "# 5) sorts data by country\n",
    "df_bar = df_2019[df_2019.countrycode.isin(country_list_2)][['country',*cols]].rename(columns=cols_rename).melt(\n",
    "    id_vars='country',value_vars=cols2,var_name='Factor',value_name='Relative to UK').sort_values('country')"
   ]
  },
  {
   "cell_type": "code",
   "execution_count": null,
   "metadata": {},
   "outputs": [],
   "source": [
    "# let's plot our results\n",
    "g = sns.catplot(x='country', y=\"Relative to UK\", hue=\"Factor\", \n",
    "                data=df_bar[df_bar.Factor.isin(['Output per worker',\n",
    "                                            'Factors of production',\n",
    "                                            'Productivity'])],\n",
    "                                        height=6, kind=\"bar\")\n",
    "g.despine(left=True)\n",
    "g.set_ylabels(\"Fraction of UK\")\n",
    "g.set_xlabels('Country')"
   ]
  },
  {
   "cell_type": "markdown",
   "metadata": {},
   "source": [
    "High income countries like Japan and Germany have high factors of production and high productivity. Middle income countries like Argentina and Bulgaria have lower factors of production and productivity than the UK. However, Argentina and Bulgaria's productivities relative to the UK are greater than their factors of production relative to the UK. "
   ]
  },
  {
   "cell_type": "markdown",
   "metadata": {},
   "source": [
    "**3.** Conduct growth accounting of Italy, Greece, Spain, South Korea and the United Kingdom.\n",
    "Examine data from 1970 to 2019. Create a table summarizing your results. Briefly comment\n",
    "on the table."
   ]
  },
  {
   "cell_type": "code",
   "execution_count": null,
   "metadata": {},
   "outputs": [],
   "source": [
    "# These are the list of countries we will analyze\n",
    "country_list_3  = ['ITA','GRC','ESP','KOR','GBR']"
   ]
  },
  {
   "cell_type": "code",
   "execution_count": null,
   "metadata": {},
   "outputs": [],
   "source": [
    "# here I select the countries we are interested in and also years we are interested in\n",
    "df3 = df[(df.countrycode.isin(country_list_3))&(df.year.isin([1970,2019]))][\n",
    "    ['country','year','gdpPerworker','capPerworker','hc']].copy()\n",
    "# sort values\n",
    "df3.sort_values(['country','year'],inplace=True)\n",
    "df3.set_index(['country','year'],inplace=True)"
   ]
  },
  {
   "cell_type": "code",
   "execution_count": null,
   "metadata": {},
   "outputs": [],
   "source": [
    "# here is the data to work on\n",
    "df3"
   ]
  },
  {
   "cell_type": "code",
   "execution_count": null,
   "metadata": {},
   "outputs": [],
   "source": [
    "# now calucalate the factor growth rates and productivity growth rates using formulas described in the question\n",
    "# growth rate of x from t to t+n = (log(x_{t+n})-log(x_t))/n\n",
    "def growth_rates(group):\n",
    "    return (group.iloc[1].apply(np.log)-group.iloc[0].apply(np.log))/49\n",
    "\n",
    "df3_growth=df3.groupby('country',axis=0).apply(growth_rates)\n",
    "\n",
    "# productivity growth rate = growth rate of gdp per worker - alpha*growth rate of physical capital per worker \n",
    "#                                                        - (1-alpha)* growth rate og human capital per worker\n",
    "alpha=1/3\n",
    "df3_growth['productivity'] = (df3_growth['gdpPerworker'] - alpha*df3_growth['capPerworker']\n",
    "                               - (1-alpha)*df3_growth['hc'])"
   ]
  },
  {
   "cell_type": "code",
   "execution_count": null,
   "metadata": {},
   "outputs": [],
   "source": [
    "# here is our results\n",
    "df3_growth.round(decimals=3)"
   ]
  },
  {
   "cell_type": "code",
   "execution_count": null,
   "metadata": {},
   "outputs": [],
   "source": [
    "# now calculate the shares of contribution of economic growth\n",
    "# contribution of hc = (1-alpha)*growth rate of human capital / (growth rate of gdp per worker)\n",
    "# contribution of k = (alpha)*growth rate of physical capital / (growth rate of gdp per worker)\n",
    "# contribution of A = growth rate of productivity / (growth rate of gdp per worker)\n",
    "\n",
    "weight = np.array([((1-alpha),alpha,1)])\n",
    "weight.shape = (1,3)\n",
    "income = df3_growth['gdpPerworker'].values\n",
    "income.shape = (5,1)\n",
    "## I multiply growth rate of hc with (1-alpha),\n",
    "#              growth rate of k with alpha\n",
    "#             growth rate of A with 1\n",
    "# I divide each of the above by growth rate of gdp per worker\n",
    "df3_growth_cont = df3_growth[['hc','capPerworker','productivity']].multiply(weight)/income\n",
    "# rename columns\n",
    "df3_growth_cont.columns=['Human Capital','Physical Capital','Productivity']\n",
    "# Here is our results, contributions to economic growth\n",
    "(df3_growth_cont).round(2)"
   ]
  },
  {
   "cell_type": "code",
   "execution_count": null,
   "metadata": {},
   "outputs": [],
   "source": [
    "# convert columns into rows\n",
    "df3_growth_cont.reset_index().melt(id_vars='country',var_name='Factor')"
   ]
  },
  {
   "cell_type": "code",
   "execution_count": null,
   "metadata": {},
   "outputs": [],
   "source": [
    "# plot the data\n",
    "g = sns.catplot(x='country', y=\"value\", hue=\"Factor\", data=df3_growth_cont.reset_index()\n",
    "                .melt(id_vars='country',var_name='Factor'),\n",
    "                height=6, aspect=2,kind=\"bar\")\n",
    "g.despine(left=True,bottom=True)\n",
    "g.set_ylabels(\"Contribution to growth\")\n",
    "g.set_xlabels(\"\")"
   ]
  },
  {
   "cell_type": "code",
   "execution_count": null,
   "metadata": {},
   "outputs": [],
   "source": []
  },
  {
   "cell_type": "code",
   "execution_count": null,
   "metadata": {},
   "outputs": [],
   "source": []
  }
 ],
 "metadata": {
  "kernelspec": {
   "display_name": "Python 3",
   "language": "python",
   "name": "python3"
  },
  "language_info": {
   "codemirror_mode": {
    "name": "ipython",
    "version": 3
   },
   "file_extension": ".py",
   "mimetype": "text/x-python",
   "name": "python",
   "nbconvert_exporter": "python",
   "pygments_lexer": "ipython3",
   "version": "3.7.7"
  }
 },
 "nbformat": 4,
 "nbformat_minor": 2
}
