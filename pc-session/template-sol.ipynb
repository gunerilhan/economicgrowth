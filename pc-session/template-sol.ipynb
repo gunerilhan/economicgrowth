{
 "cells": [
  {
   "cell_type": "markdown",
   "metadata": {},
   "source": [
    "### Template for PC Session\n",
    "\n",
    "If you don't have Python installed on your computer, you can use this template to write and run your code by clicking on: [![Open In Colab](https://colab.research.google.com/assets/colab-badge.svg)](https://colab.research.google.com/github/gunerilhan/economicgrowth/blob/master/pc-session/template-sol.ipynb)"
   ]
  },
  {
   "cell_type": "markdown",
   "metadata": {},
   "source": [
    "Let's solve question number 2 in Problem Set 0\n",
    "\n",
    "**2. A simulation exercise:**\n",
    "\n",
    "Suppose evolution of variable $x$ over time is defined with the following formula:\n",
    "\n",
    "$$\n",
    "x(t+1) = mx(t)^{\\alpha}+ nx(t),\n",
    "$$\n",
    "\n",
    "where $m=0.2$, $\\alpha=0.5$, and $n=0.9$, meaning the value of $x$ at time $t+1$ is equal to 0.2 times the value of $x$ at time $t$ to the power 0.5 plus 0.9 times the value of $x$ at time $t$. Suppose $x(0)=1$, the value of $x$ at time $t=0$ is equal to 1. \n",
    "\n",
    "Simulate $x$ for 100 periods starting from time $t=0$. \n",
    "\n",
    "**Hint**: You know $x(0)$. Using the above formula and the value of $x(0)$, you can find $x(1)$. Then using the above formula and the value of $x(1)$, you can calculate $x(2)$. You can repeat this exercise until you reach $x(100)$.\n",
    "\n",
    "_Again, I don't want you to write the same formula 100 times. It will take so much time, which is not my goal. If you are using excel, write the formula once in such a way that you can drag the cell down and simulate $x$ for as many periods as you wish._"
   ]
  },
  {
   "cell_type": "markdown",
   "metadata": {},
   "source": [
    "Let's solve the question step by step"
   ]
  },
  {
   "cell_type": "code",
   "execution_count": 1,
   "metadata": {},
   "outputs": [],
   "source": [
    "# Define variables m, alpha, and n in this cell"
   ]
  },
  {
   "cell_type": "code",
   "execution_count": 2,
   "metadata": {},
   "outputs": [],
   "source": [
    "# Two options:\n",
    "\n",
    "# 1st one\n",
    "m = 0.2\n",
    "alpha = 0.5\n",
    "n = 0.9\n",
    "\n",
    "# second one\n",
    "m, alpha, n = 0.2,0.5,0.9\n"
   ]
  },
  {
   "cell_type": "code",
   "execution_count": 3,
   "metadata": {},
   "outputs": [],
   "source": [
    "# Now, we will write a for loop. \n",
    "# Before writing the loop required in the question, let's begin with an easier for loop.\n",
    "# Write for loop that prints x^2 for each value of x between 0 and 100."
   ]
  },
  {
   "cell_type": "code",
   "execution_count": 4,
   "metadata": {
    "scrolled": true
   },
   "outputs": [
    {
     "name": "stdout",
     "output_type": "stream",
     "text": [
      "0\n",
      "1\n",
      "4\n",
      "9\n",
      "16\n",
      "25\n",
      "36\n",
      "49\n",
      "64\n",
      "81\n",
      "100\n",
      "121\n",
      "144\n",
      "169\n",
      "196\n",
      "225\n",
      "256\n",
      "289\n",
      "324\n",
      "361\n",
      "400\n",
      "441\n",
      "484\n",
      "529\n",
      "576\n",
      "625\n",
      "676\n",
      "729\n",
      "784\n",
      "841\n",
      "900\n",
      "961\n",
      "1024\n",
      "1089\n",
      "1156\n",
      "1225\n",
      "1296\n",
      "1369\n",
      "1444\n",
      "1521\n",
      "1600\n",
      "1681\n",
      "1764\n",
      "1849\n",
      "1936\n",
      "2025\n",
      "2116\n",
      "2209\n",
      "2304\n",
      "2401\n",
      "2500\n",
      "2601\n",
      "2704\n",
      "2809\n",
      "2916\n",
      "3025\n",
      "3136\n",
      "3249\n",
      "3364\n",
      "3481\n",
      "3600\n",
      "3721\n",
      "3844\n",
      "3969\n",
      "4096\n",
      "4225\n",
      "4356\n",
      "4489\n",
      "4624\n",
      "4761\n",
      "4900\n",
      "5041\n",
      "5184\n",
      "5329\n",
      "5476\n",
      "5625\n",
      "5776\n",
      "5929\n",
      "6084\n",
      "6241\n",
      "6400\n",
      "6561\n",
      "6724\n",
      "6889\n",
      "7056\n",
      "7225\n",
      "7396\n",
      "7569\n",
      "7744\n",
      "7921\n",
      "8100\n",
      "8281\n",
      "8464\n",
      "8649\n",
      "8836\n",
      "9025\n",
      "9216\n",
      "9409\n",
      "9604\n",
      "9801\n"
     ]
    }
   ],
   "source": [
    "T = 100\n",
    "for x in range(T):\n",
    "    print(x**2)"
   ]
  },
  {
   "cell_type": "code",
   "execution_count": 5,
   "metadata": {},
   "outputs": [],
   "source": [
    "## Let's write the loop required by the question"
   ]
  },
  {
   "cell_type": "code",
   "execution_count": 6,
   "metadata": {},
   "outputs": [],
   "source": [
    "x = []\n",
    "x.append(1)\n",
    "for t in range(T):\n",
    "    x.append(m*x[t]**alpha+n*x[t])"
   ]
  },
  {
   "cell_type": "code",
   "execution_count": 7,
   "metadata": {},
   "outputs": [],
   "source": [
    "# Now, we will re-do the question with a function\n",
    "# Write a python function of m times (x(t) to the power alpha) + n times x(t)"
   ]
  },
  {
   "cell_type": "code",
   "execution_count": 8,
   "metadata": {},
   "outputs": [],
   "source": [
    "def f(x):\n",
    "    y = m*x**alpha+n*x\n",
    "    return y"
   ]
  },
  {
   "cell_type": "code",
   "execution_count": 9,
   "metadata": {},
   "outputs": [
    {
     "data": {
      "text/plain": [
       "(2.082842712474619, 4.0, 5.889897948556636)"
      ]
     },
     "execution_count": 9,
     "metadata": {},
     "output_type": "execute_result"
    }
   ],
   "source": [
    "f(2),f(4),f(6)"
   ]
  },
  {
   "cell_type": "code",
   "execution_count": 10,
   "metadata": {},
   "outputs": [],
   "source": [
    "# Re-write the for loop with the function you defined above"
   ]
  },
  {
   "cell_type": "code",
   "execution_count": 11,
   "metadata": {},
   "outputs": [],
   "source": [
    "x = []\n",
    "x.append(1)\n",
    "for t in range(T):\n",
    "    x.append(f(x[t]))"
   ]
  },
  {
   "cell_type": "code",
   "execution_count": 12,
   "metadata": {},
   "outputs": [],
   "source": [
    "# Plot x(t) series"
   ]
  },
  {
   "cell_type": "code",
   "execution_count": 13,
   "metadata": {},
   "outputs": [],
   "source": [
    "import matplotlib.pyplot as plt"
   ]
  },
  {
   "cell_type": "code",
   "execution_count": 14,
   "metadata": {},
   "outputs": [
    {
     "data": {
      "text/plain": [
       "[<matplotlib.lines.Line2D at 0x7fe5eb612310>]"
      ]
     },
     "execution_count": 14,
     "metadata": {},
     "output_type": "execute_result"
    },
    {
     "data": {
      "image/png": "[encoded data removed]",
      "text/plain": [
       "<Figure size 432x288 with 1 Axes>"
      ]
     },
     "metadata": {
      "needs_background": "light"
     },
     "output_type": "display_data"
    }
   ],
   "source": [
    "plt.plot(x)"
   ]
  },
  {
   "cell_type": "code",
   "execution_count": 15,
   "metadata": {},
   "outputs": [],
   "source": [
    "# Let's do the exercise from Quant Econ"
   ]
  },
  {
   "cell_type": "code",
   "execution_count": null,
   "metadata": {},
   "outputs": [],
   "source": []
  },
  {
   "cell_type": "markdown",
   "metadata": {},
   "source": [
    "These exercises are taken from \n",
    "\n",
    "<a id='python-by-example'></a>\n",
    "<div id=\"qe-notebook-header\" align=\"right\" style=\"text-align:left;\">\n",
    "        <a href=\"https://quantecon.org/\" title=\"quantecon.org\">\n",
    "                <img style=\"width:250px;display:inline;\" width=\"250px\" src=\"https://assets.quantecon.org/img/qe-menubar-logo.svg\" alt=\"QuantEcon\">\n",
    "        </a>\n",
    "</div>\n",
    "\n",
    "### Exercise 1\n",
    "\n",
    "Your first task is to simulate and plot the correlated time series\n",
    "\n",
    "$$\n",
    "x_{t+1} = \\alpha \\, x_t + \\epsilon_{t+1}\n",
    "\\quad \\text{where} \\quad\n",
    "x_0 = 0\n",
    "\\quad \\text{and} \\quad t = 0,\\ldots,T\n",
    "$$\n",
    "\n",
    "The sequence of shocks $ \\{\\epsilon_t\\} $ is assumed to be IID and standard normal.\n",
    "\n",
    "In your solution, restrict your import statements to"
   ]
  },
  {
   "cell_type": "code",
   "execution_count": 16,
   "metadata": {},
   "outputs": [],
   "source": [
    "import numpy as np\n",
    "import matplotlib.pyplot as plt"
   ]
  },
  {
   "cell_type": "markdown",
   "metadata": {},
   "source": [
    "Set $ T=200 $ and $ \\alpha = 0.9 $."
   ]
  },
  {
   "cell_type": "code",
   "execution_count": 17,
   "metadata": {},
   "outputs": [],
   "source": [
    "T,alpha = 200,0.9"
   ]
  },
  {
   "cell_type": "code",
   "execution_count": 18,
   "metadata": {},
   "outputs": [],
   "source": [
    "epsilon = np.random.rand(T)"
   ]
  },
  {
   "cell_type": "code",
   "execution_count": 19,
   "metadata": {},
   "outputs": [],
   "source": [
    "def simul(alpha):\n",
    "    x = [0]\n",
    "    for t in range(T):\n",
    "        x.append(alpha*x[t]+epsilon[t])\n",
    "    return x"
   ]
  },
  {
   "cell_type": "code",
   "execution_count": 20,
   "metadata": {},
   "outputs": [
    {
     "data": {
      "text/plain": [
       "[0,\n",
       " 0.6101535757889703,\n",
       " 1.1943824191356875,\n",
       " 1.8109902309105659,\n",
       " 2.053133099875235,\n",
       " 2.421786404610579,\n",
       " 2.443572329785316,\n",
       " 2.5652503690229533,\n",
       " 3.0503892182535313,\n",
       " 3.052099525231196,\n",
       " 3.1770576473067385,\n",
       " 2.863637514563094,\n",
       " 2.7334029125393684,\n",
       " 3.419218371901583,\n",
       " 3.7562622454518,\n",
       " 3.437830297109816,\n",
       " 3.381074210158649,\n",
       " 3.9362463242651606,\n",
       " 4.481535687915654,\n",
       " 4.431737154687093,\n",
       " 4.264305410001347,\n",
       " 4.4495315043718175,\n",
       " 4.7309797794550175,\n",
       " 4.816529594039484,\n",
       " 4.662306703200432,\n",
       " 4.619608339688949,\n",
       " 4.652117250170954,\n",
       " 4.850317735670684,\n",
       " 4.871685636187506,\n",
       " 4.907530682552828,\n",
       " 4.426821288382714,\n",
       " 4.035734727735369,\n",
       " 4.2276778505073,\n",
       " 4.501285472878714,\n",
       " 4.702640971111381,\n",
       " 4.803034461611934,\n",
       " 4.327391098570201,\n",
       " 4.086676464093538,\n",
       " 3.7652132760869215,\n",
       " 4.11754056071787,\n",
       " 4.311155507968727,\n",
       " 4.8039780341960725,\n",
       " 4.326890308676209,\n",
       " 4.548608082169796,\n",
       " 4.809921097759741,\n",
       " 4.38240840069589,\n",
       " 4.323071975723756,\n",
       " 4.0595690671471925,\n",
       " 4.04312390914279,\n",
       " 4.111153846618943,\n",
       " 4.026837997428075,\n",
       " 4.2903443628786375,\n",
       " 4.138945808501251,\n",
       " 4.1701014147250115,\n",
       " 4.571222775177697,\n",
       " 4.713204104660503,\n",
       " 4.848445311078706,\n",
       " 5.021441829720167,\n",
       " 4.5199410222856375,\n",
       " 4.239992252669861,\n",
       " 3.9938598529203624,\n",
       " 3.7776001749683896,\n",
       " 3.9649864557132037,\n",
       " 4.404197343648867,\n",
       " 4.236019465084105,\n",
       " 4.14400903169764,\n",
       " 3.850720425227374,\n",
       " 3.758332272860889,\n",
       " 4.24020430870682,\n",
       " 4.601870930166237,\n",
       " 4.703924051789016,\n",
       " 4.342743500506906,\n",
       " 4.602086911358686,\n",
       " 4.648553662478109,\n",
       " 5.120512620013394,\n",
       " 4.707067788407844,\n",
       " 4.401948744956373,\n",
       " 4.301487016006385,\n",
       " 4.0936854254894754,\n",
       " 4.13432515574151,\n",
       " 3.8794628687267596,\n",
       " 4.197474468217173,\n",
       " 4.0776813793041855,\n",
       " 4.330224624497919,\n",
       " 4.617058956057828,\n",
       " 4.230156814546443,\n",
       " 3.8106242835719315,\n",
       " 4.359213859049387,\n",
       " 3.98476485866463,\n",
       " 4.127706687511888,\n",
       " 4.3556397505951265,\n",
       " 4.478517473509195,\n",
       " 4.204166912720786,\n",
       " 4.402222376452953,\n",
       " 4.7745832024095005,\n",
       " 4.7355866957459885,\n",
       " 5.169004404505504,\n",
       " 4.999692192996968,\n",
       " 4.7103708033543,\n",
       " 5.131556903806893,\n",
       " 5.457382349589414,\n",
       " 5.252366740758075,\n",
       " 5.06477371740914,\n",
       " 5.295601799696598,\n",
       " 5.113135464356665,\n",
       " 5.42415379587775,\n",
       " 5.823527310221975,\n",
       " 5.616207792819274,\n",
       " 5.610190278993081,\n",
       " 5.403999629469388,\n",
       " 5.855613699384349,\n",
       " 6.109416143122365,\n",
       " 6.276137234869975,\n",
       " 6.481135599514828,\n",
       " 6.242571750545262,\n",
       " 6.205269048640708,\n",
       " 6.404015171115755,\n",
       " 6.6085690367291425,\n",
       " 5.981529481323249,\n",
       " 5.767073211518195,\n",
       " 5.239560013945003,\n",
       " 5.420608873209551,\n",
       " 5.417764849818613,\n",
       " 5.120696231375886,\n",
       " 5.035880581489714,\n",
       " 4.574208806464347,\n",
       " 5.0143983156719125,\n",
       " 5.216821006683509,\n",
       " 5.445155323754614,\n",
       " 5.8763697403551935,\n",
       " 5.870474165875613,\n",
       " 5.747454056937566,\n",
       " 5.275738247147252,\n",
       " 5.123717968515542,\n",
       " 4.650293361826111,\n",
       " 5.001271715965485,\n",
       " 4.578433284986315,\n",
       " 4.175809080616955,\n",
       " 4.68591066769844,\n",
       " 5.132383450455346,\n",
       " 4.799539835849151,\n",
       " 4.835201088287169,\n",
       " 5.341763274469679,\n",
       " 5.716971157011888,\n",
       " 5.532905375484726,\n",
       " 5.642988234309041,\n",
       " 5.274383975418168,\n",
       " 5.5598035251016835,\n",
       " 5.184988816303985,\n",
       " 5.470439374842755,\n",
       " 5.644239320749395,\n",
       " 5.182062485921374,\n",
       " 5.455818439325264,\n",
       " 5.428718090208566,\n",
       " 5.282011946721282,\n",
       " 5.406319291947386,\n",
       " 5.088971912204201,\n",
       " 4.871862943000343,\n",
       " 4.7219071420258025,\n",
       " 4.390824779724395,\n",
       " 4.910264224829991,\n",
       " 4.776873702898694,\n",
       " 4.780713298114897,\n",
       " 4.681456595065879,\n",
       " 4.401127964998133,\n",
       " 4.56663619025605,\n",
       " 5.100818183270464,\n",
       " 5.003769572943177,\n",
       " 5.134154512619208,\n",
       " 5.239766383829914,\n",
       " 4.76939647132972,\n",
       " 4.712959955716043,\n",
       " 4.759209406138102,\n",
       " 4.328838512169747,\n",
       " 4.740803699030028,\n",
       " 4.594284807125765,\n",
       " 5.107819479944844,\n",
       " 5.227806271539551,\n",
       " 4.776740886267781,\n",
       " 4.5953500002277945,\n",
       " 4.250208551412418,\n",
       " 3.913069820880992,\n",
       " 4.447082898764598,\n",
       " 4.59811375381824,\n",
       " 4.700636291133054,\n",
       " 5.024512738337276,\n",
       " 5.307102537317123,\n",
       " 4.956018668448228,\n",
       " 5.306269669738175,\n",
       " 4.924899561716384,\n",
       " 4.491891093023892,\n",
       " 4.520877278494905,\n",
       " 4.4392902877772595,\n",
       " 4.166351779619007,\n",
       " 3.934330210337427,\n",
       " 3.969540636638472,\n",
       " 3.9097865645439605,\n",
       " 4.143762320784968,\n",
       " 4.410017599585076,\n",
       " 4.623295781440478,\n",
       " 4.99258659595731]"
      ]
     },
     "execution_count": 20,
     "metadata": {},
     "output_type": "execute_result"
    }
   ],
   "source": [
    "simul(alpha)"
   ]
  },
  {
   "cell_type": "markdown",
   "metadata": {},
   "source": [
    "### Exercise 2\n",
    "\n",
    "Starting with your solution to exercise 1, plot three simulated time series,\n",
    "one for each of the cases $ \\alpha=0 $, $ \\alpha=0.8 $ and $ \\alpha=0.98 $.\n",
    "\n",
    "Use a `for` loop to step through the $ \\alpha $ values.\n",
    "\n",
    "If you can, add a legend, to help distinguish between the three time series.\n",
    "\n",
    "Hints:\n",
    "\n",
    "- If you call the `plot()` function multiple times before calling `show()`, all of the lines you produce will end up on the same figure.  \n",
    "- For the legend, noted that the expression `'foo' + str(42)` evaluates to `'foo42'`.  "
   ]
  },
  {
   "cell_type": "code",
   "execution_count": 21,
   "metadata": {},
   "outputs": [
    {
     "data": {
      "text/plain": [
       "<matplotlib.legend.Legend at 0x7fe5eb6d5590>"
      ]
     },
     "execution_count": 21,
     "metadata": {},
     "output_type": "execute_result"
    },
    {
     "data": {
      "image/png": "[encoded data removed]",
      "text/plain": [
       "<Figure size 432x288 with 1 Axes>"
      ]
     },
     "metadata": {
      "needs_background": "light"
     },
     "output_type": "display_data"
    }
   ],
   "source": [
    "for alpha in [0,0.8,0.98]:\n",
    "    plt.plot(simul(alpha),label=r'$\\alpha$'+f'={alpha}')\n",
    "plt.legend(loc='best',frameon=False)"
   ]
  },
  {
   "cell_type": "code",
   "execution_count": null,
   "metadata": {},
   "outputs": [],
   "source": []
  }
 ],
 "metadata": {
  "kernelspec": {
   "display_name": "Python 3",
   "language": "python",
   "name": "python3"
  },
  "language_info": {
   "codemirror_mode": {
    "name": "ipython",
    "version": 3
   },
   "file_extension": ".py",
   "mimetype": "text/x-python",
   "name": "python",
   "nbconvert_exporter": "python",
   "pygments_lexer": "ipython3",
   "version": "3.7.7"
  }
 },
 "nbformat": 4,
 "nbformat_minor": 4
}
