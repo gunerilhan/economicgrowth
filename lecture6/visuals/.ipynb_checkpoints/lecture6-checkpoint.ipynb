{
 "cells": [
  {
   "cell_type": "code",
   "execution_count": 3,
   "metadata": {},
   "outputs": [],
   "source": [
    "import numpy as np\n",
    "import pandas as pd\n",
    "import matplotlib.pyplot as plt\n",
    "%matplotlib inline\n",
    "import seaborn as sns"
   ]
  },
  {
   "cell_type": "code",
   "execution_count": 4,
   "metadata": {},
   "outputs": [],
   "source": [
    "import qeds\n",
    "qeds.themes.mpl_style();\n",
    "colors=plt.rcParams[\"axes.prop_cycle\"].by_key()[\"color\"]\n",
    "colors.remove('#fec630')\n",
    "sns.set_style('whitegrid')"
   ]
  },
  {
   "cell_type": "code",
   "execution_count": 3,
   "metadata": {},
   "outputs": [],
   "source": [
    "df_legend = pd.read_excel('./mpd2018.xlsx',sheet_name='Legend')\n",
    "df_legend.rename(columns={'Maddison Project Database (MPD) 2018':'Variable name','Unnamed: 1':'Definition'},\n",
    "                 inplace=True)\n",
    "df_legend.dropna(inplace=True)\n",
    "df_legend = dict(zip(df_legend['Variable name'],df_legend['Definition']))\n",
    "df = pd.read_excel('./mpd2018.xlsx',sheet_name='Full data')"
   ]
  },
  {
   "cell_type": "code",
   "execution_count": 10,
   "metadata": {},
   "outputs": [],
   "source": [
    "pwt_legend = pd.read_excel('https://www.rug.nl/ggdc/docs/pwt91.xlsx',sheet_name='Legend')\n",
    "pwt_legend.dropna(inplace=True)\n",
    "pwt_legend = dict(zip(pwt_legend['Variable name'],pwt_legend['Variable definition']))\n",
    "pwt = pd.read_excel('https://www.rug.nl/ggdc/docs/pwt91.xlsx',sheet_name='Data')"
   ]
  },
  {
   "cell_type": "code",
   "execution_count": 5,
   "metadata": {},
   "outputs": [],
   "source": [
    "prod = pd.read_csv('gdp_per_hour_OECD.csv')"
   ]
  },
  {
   "cell_type": "code",
   "execution_count": 11,
   "metadata": {
    "scrolled": true
   },
   "outputs": [
    {
     "data": {
      "text/html": [
       "<div>\n",
       "<style scoped>\n",
       "    .dataframe tbody tr th:only-of-type {\n",
       "        vertical-align: middle;\n",
       "    }\n",
       "\n",
       "    .dataframe tbody tr th {\n",
       "        vertical-align: top;\n",
       "    }\n",
       "\n",
       "    .dataframe thead th {\n",
       "        text-align: right;\n",
       "    }\n",
       "</style>\n",
       "<table border=\"1\" class=\"dataframe\">\n",
       "  <thead>\n",
       "    <tr style=\"text-align: right;\">\n",
       "      <th></th>\n",
       "      <th>LOCATION</th>\n",
       "      <th>INDICATOR</th>\n",
       "      <th>SUBJECT</th>\n",
       "      <th>MEASURE</th>\n",
       "      <th>FREQUENCY</th>\n",
       "      <th>TIME</th>\n",
       "      <th>Value</th>\n",
       "      <th>Flag Codes</th>\n",
       "    </tr>\n",
       "  </thead>\n",
       "  <tbody>\n",
       "    <tr>\n",
       "      <th>40</th>\n",
       "      <td>AUS</td>\n",
       "      <td>GDPHRWKD</td>\n",
       "      <td>TOT</td>\n",
       "      <td>IDX2010</td>\n",
       "      <td>A</td>\n",
       "      <td>2010</td>\n",
       "      <td>100.0</td>\n",
       "      <td>NaN</td>\n",
       "    </tr>\n",
       "    <tr>\n",
       "      <th>64</th>\n",
       "      <td>AUT</td>\n",
       "      <td>GDPHRWKD</td>\n",
       "      <td>TOT</td>\n",
       "      <td>IDX2010</td>\n",
       "      <td>A</td>\n",
       "      <td>2010</td>\n",
       "      <td>100.0</td>\n",
       "      <td>NaN</td>\n",
       "    </tr>\n",
       "    <tr>\n",
       "      <th>113</th>\n",
       "      <td>BEL</td>\n",
       "      <td>GDPHRWKD</td>\n",
       "      <td>TOT</td>\n",
       "      <td>IDX2010</td>\n",
       "      <td>A</td>\n",
       "      <td>2010</td>\n",
       "      <td>100.0</td>\n",
       "      <td>NaN</td>\n",
       "    </tr>\n",
       "    <tr>\n",
       "      <th>162</th>\n",
       "      <td>CAN</td>\n",
       "      <td>GDPHRWKD</td>\n",
       "      <td>TOT</td>\n",
       "      <td>IDX2010</td>\n",
       "      <td>A</td>\n",
       "      <td>2010</td>\n",
       "      <td>100.0</td>\n",
       "      <td>NaN</td>\n",
       "    </tr>\n",
       "    <tr>\n",
       "      <th>188</th>\n",
       "      <td>CZE</td>\n",
       "      <td>GDPHRWKD</td>\n",
       "      <td>TOT</td>\n",
       "      <td>IDX2010</td>\n",
       "      <td>A</td>\n",
       "      <td>2010</td>\n",
       "      <td>100.0</td>\n",
       "      <td>NaN</td>\n",
       "    </tr>\n",
       "    <tr>\n",
       "      <th>237</th>\n",
       "      <td>DNK</td>\n",
       "      <td>GDPHRWKD</td>\n",
       "      <td>TOT</td>\n",
       "      <td>IDX2010</td>\n",
       "      <td>A</td>\n",
       "      <td>2010</td>\n",
       "      <td>100.0</td>\n",
       "      <td>NaN</td>\n",
       "    </tr>\n",
       "    <tr>\n",
       "      <th>286</th>\n",
       "      <td>FIN</td>\n",
       "      <td>GDPHRWKD</td>\n",
       "      <td>TOT</td>\n",
       "      <td>IDX2010</td>\n",
       "      <td>A</td>\n",
       "      <td>2010</td>\n",
       "      <td>100.0</td>\n",
       "      <td>NaN</td>\n",
       "    </tr>\n",
       "    <tr>\n",
       "      <th>335</th>\n",
       "      <td>FRA</td>\n",
       "      <td>GDPHRWKD</td>\n",
       "      <td>TOT</td>\n",
       "      <td>IDX2010</td>\n",
       "      <td>A</td>\n",
       "      <td>2010</td>\n",
       "      <td>100.0</td>\n",
       "      <td>NaN</td>\n",
       "    </tr>\n",
       "    <tr>\n",
       "      <th>384</th>\n",
       "      <td>DEU</td>\n",
       "      <td>GDPHRWKD</td>\n",
       "      <td>TOT</td>\n",
       "      <td>IDX2010</td>\n",
       "      <td>A</td>\n",
       "      <td>2010</td>\n",
       "      <td>100.0</td>\n",
       "      <td>NaN</td>\n",
       "    </tr>\n",
       "    <tr>\n",
       "      <th>420</th>\n",
       "      <td>GRC</td>\n",
       "      <td>GDPHRWKD</td>\n",
       "      <td>TOT</td>\n",
       "      <td>IDX2010</td>\n",
       "      <td>A</td>\n",
       "      <td>2010</td>\n",
       "      <td>100.0</td>\n",
       "      <td>NaN</td>\n",
       "    </tr>\n",
       "    <tr>\n",
       "      <th>448</th>\n",
       "      <td>HUN</td>\n",
       "      <td>GDPHRWKD</td>\n",
       "      <td>TOT</td>\n",
       "      <td>IDX2010</td>\n",
       "      <td>A</td>\n",
       "      <td>2010</td>\n",
       "      <td>100.0</td>\n",
       "      <td>B</td>\n",
       "    </tr>\n",
       "    <tr>\n",
       "      <th>497</th>\n",
       "      <td>ISL</td>\n",
       "      <td>GDPHRWKD</td>\n",
       "      <td>TOT</td>\n",
       "      <td>IDX2010</td>\n",
       "      <td>A</td>\n",
       "      <td>2010</td>\n",
       "      <td>100.0</td>\n",
       "      <td>NaN</td>\n",
       "    </tr>\n",
       "    <tr>\n",
       "      <th>546</th>\n",
       "      <td>IRL</td>\n",
       "      <td>GDPHRWKD</td>\n",
       "      <td>TOT</td>\n",
       "      <td>IDX2010</td>\n",
       "      <td>A</td>\n",
       "      <td>2010</td>\n",
       "      <td>100.0</td>\n",
       "      <td>B</td>\n",
       "    </tr>\n",
       "    <tr>\n",
       "      <th>595</th>\n",
       "      <td>ITA</td>\n",
       "      <td>GDPHRWKD</td>\n",
       "      <td>TOT</td>\n",
       "      <td>IDX2010</td>\n",
       "      <td>A</td>\n",
       "      <td>2010</td>\n",
       "      <td>100.0</td>\n",
       "      <td>NaN</td>\n",
       "    </tr>\n",
       "    <tr>\n",
       "      <th>644</th>\n",
       "      <td>JPN</td>\n",
       "      <td>GDPHRWKD</td>\n",
       "      <td>TOT</td>\n",
       "      <td>IDX2010</td>\n",
       "      <td>A</td>\n",
       "      <td>2010</td>\n",
       "      <td>100.0</td>\n",
       "      <td>NaN</td>\n",
       "    </tr>\n",
       "    <tr>\n",
       "      <th>693</th>\n",
       "      <td>KOR</td>\n",
       "      <td>GDPHRWKD</td>\n",
       "      <td>TOT</td>\n",
       "      <td>IDX2010</td>\n",
       "      <td>A</td>\n",
       "      <td>2010</td>\n",
       "      <td>100.0</td>\n",
       "      <td>NaN</td>\n",
       "    </tr>\n",
       "    <tr>\n",
       "      <th>741</th>\n",
       "      <td>LUX</td>\n",
       "      <td>GDPHRWKD</td>\n",
       "      <td>TOT</td>\n",
       "      <td>IDX2010</td>\n",
       "      <td>A</td>\n",
       "      <td>2010</td>\n",
       "      <td>100.0</td>\n",
       "      <td>NaN</td>\n",
       "    </tr>\n",
       "    <tr>\n",
       "      <th>769</th>\n",
       "      <td>MEX</td>\n",
       "      <td>GDPHRWKD</td>\n",
       "      <td>TOT</td>\n",
       "      <td>IDX2010</td>\n",
       "      <td>A</td>\n",
       "      <td>2010</td>\n",
       "      <td>100.0</td>\n",
       "      <td>B</td>\n",
       "    </tr>\n",
       "    <tr>\n",
       "      <th>817</th>\n",
       "      <td>NLD</td>\n",
       "      <td>GDPHRWKD</td>\n",
       "      <td>TOT</td>\n",
       "      <td>IDX2010</td>\n",
       "      <td>A</td>\n",
       "      <td>2010</td>\n",
       "      <td>100.0</td>\n",
       "      <td>NaN</td>\n",
       "    </tr>\n",
       "    <tr>\n",
       "      <th>866</th>\n",
       "      <td>NZL</td>\n",
       "      <td>GDPHRWKD</td>\n",
       "      <td>TOT</td>\n",
       "      <td>IDX2010</td>\n",
       "      <td>A</td>\n",
       "      <td>2010</td>\n",
       "      <td>100.0</td>\n",
       "      <td>NaN</td>\n",
       "    </tr>\n",
       "    <tr>\n",
       "      <th>915</th>\n",
       "      <td>NOR</td>\n",
       "      <td>GDPHRWKD</td>\n",
       "      <td>TOT</td>\n",
       "      <td>IDX2010</td>\n",
       "      <td>A</td>\n",
       "      <td>2010</td>\n",
       "      <td>100.0</td>\n",
       "      <td>NaN</td>\n",
       "    </tr>\n",
       "    <tr>\n",
       "      <th>941</th>\n",
       "      <td>POL</td>\n",
       "      <td>GDPHRWKD</td>\n",
       "      <td>TOT</td>\n",
       "      <td>IDX2010</td>\n",
       "      <td>A</td>\n",
       "      <td>2010</td>\n",
       "      <td>100.0</td>\n",
       "      <td>B</td>\n",
       "    </tr>\n",
       "    <tr>\n",
       "      <th>990</th>\n",
       "      <td>PRT</td>\n",
       "      <td>GDPHRWKD</td>\n",
       "      <td>TOT</td>\n",
       "      <td>IDX2010</td>\n",
       "      <td>A</td>\n",
       "      <td>2010</td>\n",
       "      <td>100.0</td>\n",
       "      <td>NaN</td>\n",
       "    </tr>\n",
       "    <tr>\n",
       "      <th>1014</th>\n",
       "      <td>SVK</td>\n",
       "      <td>GDPHRWKD</td>\n",
       "      <td>TOT</td>\n",
       "      <td>IDX2010</td>\n",
       "      <td>A</td>\n",
       "      <td>2010</td>\n",
       "      <td>100.0</td>\n",
       "      <td>NaN</td>\n",
       "    </tr>\n",
       "    <tr>\n",
       "      <th>1063</th>\n",
       "      <td>ESP</td>\n",
       "      <td>GDPHRWKD</td>\n",
       "      <td>TOT</td>\n",
       "      <td>IDX2010</td>\n",
       "      <td>A</td>\n",
       "      <td>2010</td>\n",
       "      <td>100.0</td>\n",
       "      <td>NaN</td>\n",
       "    </tr>\n",
       "    <tr>\n",
       "      <th>1112</th>\n",
       "      <td>SWE</td>\n",
       "      <td>GDPHRWKD</td>\n",
       "      <td>TOT</td>\n",
       "      <td>IDX2010</td>\n",
       "      <td>A</td>\n",
       "      <td>2010</td>\n",
       "      <td>100.0</td>\n",
       "      <td>NaN</td>\n",
       "    </tr>\n",
       "    <tr>\n",
       "      <th>1161</th>\n",
       "      <td>CHE</td>\n",
       "      <td>GDPHRWKD</td>\n",
       "      <td>TOT</td>\n",
       "      <td>IDX2010</td>\n",
       "      <td>A</td>\n",
       "      <td>2010</td>\n",
       "      <td>100.0</td>\n",
       "      <td>NaN</td>\n",
       "    </tr>\n",
       "    <tr>\n",
       "      <th>1210</th>\n",
       "      <td>TUR</td>\n",
       "      <td>GDPHRWKD</td>\n",
       "      <td>TOT</td>\n",
       "      <td>IDX2010</td>\n",
       "      <td>A</td>\n",
       "      <td>2010</td>\n",
       "      <td>100.0</td>\n",
       "      <td>NaN</td>\n",
       "    </tr>\n",
       "    <tr>\n",
       "      <th>1258</th>\n",
       "      <td>GBR</td>\n",
       "      <td>GDPHRWKD</td>\n",
       "      <td>TOT</td>\n",
       "      <td>IDX2010</td>\n",
       "      <td>A</td>\n",
       "      <td>2010</td>\n",
       "      <td>100.0</td>\n",
       "      <td>NaN</td>\n",
       "    </tr>\n",
       "    <tr>\n",
       "      <th>1307</th>\n",
       "      <td>USA</td>\n",
       "      <td>GDPHRWKD</td>\n",
       "      <td>TOT</td>\n",
       "      <td>IDX2010</td>\n",
       "      <td>A</td>\n",
       "      <td>2010</td>\n",
       "      <td>100.0</td>\n",
       "      <td>NaN</td>\n",
       "    </tr>\n",
       "    <tr>\n",
       "      <th>1340</th>\n",
       "      <td>CHL</td>\n",
       "      <td>GDPHRWKD</td>\n",
       "      <td>TOT</td>\n",
       "      <td>IDX2010</td>\n",
       "      <td>A</td>\n",
       "      <td>2010</td>\n",
       "      <td>100.0</td>\n",
       "      <td>NaN</td>\n",
       "    </tr>\n",
       "    <tr>\n",
       "      <th>1359</th>\n",
       "      <td>EST</td>\n",
       "      <td>GDPHRWKD</td>\n",
       "      <td>TOT</td>\n",
       "      <td>IDX2010</td>\n",
       "      <td>A</td>\n",
       "      <td>2010</td>\n",
       "      <td>100.0</td>\n",
       "      <td>NaN</td>\n",
       "    </tr>\n",
       "    <tr>\n",
       "      <th>1397</th>\n",
       "      <td>ISR</td>\n",
       "      <td>GDPHRWKD</td>\n",
       "      <td>TOT</td>\n",
       "      <td>IDX2010</td>\n",
       "      <td>A</td>\n",
       "      <td>2010</td>\n",
       "      <td>100.0</td>\n",
       "      <td>NaN</td>\n",
       "    </tr>\n",
       "    <tr>\n",
       "      <th>1415</th>\n",
       "      <td>LVA</td>\n",
       "      <td>GDPHRWKD</td>\n",
       "      <td>TOT</td>\n",
       "      <td>IDX2010</td>\n",
       "      <td>A</td>\n",
       "      <td>2010</td>\n",
       "      <td>100.0</td>\n",
       "      <td>NaN</td>\n",
       "    </tr>\n",
       "    <tr>\n",
       "      <th>1439</th>\n",
       "      <td>LTU</td>\n",
       "      <td>GDPHRWKD</td>\n",
       "      <td>TOT</td>\n",
       "      <td>IDX2010</td>\n",
       "      <td>A</td>\n",
       "      <td>2010</td>\n",
       "      <td>100.0</td>\n",
       "      <td>NaN</td>\n",
       "    </tr>\n",
       "    <tr>\n",
       "      <th>1463</th>\n",
       "      <td>RUS</td>\n",
       "      <td>GDPHRWKD</td>\n",
       "      <td>TOT</td>\n",
       "      <td>IDX2010</td>\n",
       "      <td>A</td>\n",
       "      <td>2010</td>\n",
       "      <td>100.0</td>\n",
       "      <td>NaN</td>\n",
       "    </tr>\n",
       "    <tr>\n",
       "      <th>1487</th>\n",
       "      <td>SVN</td>\n",
       "      <td>GDPHRWKD</td>\n",
       "      <td>TOT</td>\n",
       "      <td>IDX2010</td>\n",
       "      <td>A</td>\n",
       "      <td>2010</td>\n",
       "      <td>100.0</td>\n",
       "      <td>NaN</td>\n",
       "    </tr>\n",
       "    <tr>\n",
       "      <th>1511</th>\n",
       "      <td>EU28</td>\n",
       "      <td>GDPHRWKD</td>\n",
       "      <td>TOT</td>\n",
       "      <td>IDX2010</td>\n",
       "      <td>A</td>\n",
       "      <td>2010</td>\n",
       "      <td>100.0</td>\n",
       "      <td>NaN</td>\n",
       "    </tr>\n",
       "    <tr>\n",
       "      <th>1530</th>\n",
       "      <td>OECD</td>\n",
       "      <td>GDPHRWKD</td>\n",
       "      <td>TOT</td>\n",
       "      <td>IDX2010</td>\n",
       "      <td>A</td>\n",
       "      <td>2010</td>\n",
       "      <td>100.0</td>\n",
       "      <td>NaN</td>\n",
       "    </tr>\n",
       "    <tr>\n",
       "      <th>1578</th>\n",
       "      <td>G-7</td>\n",
       "      <td>GDPHRWKD</td>\n",
       "      <td>TOT</td>\n",
       "      <td>IDX2010</td>\n",
       "      <td>A</td>\n",
       "      <td>2010</td>\n",
       "      <td>100.0</td>\n",
       "      <td>NaN</td>\n",
       "    </tr>\n",
       "    <tr>\n",
       "      <th>1602</th>\n",
       "      <td>EA19</td>\n",
       "      <td>GDPHRWKD</td>\n",
       "      <td>TOT</td>\n",
       "      <td>IDX2010</td>\n",
       "      <td>A</td>\n",
       "      <td>2010</td>\n",
       "      <td>100.0</td>\n",
       "      <td>NaN</td>\n",
       "    </tr>\n",
       "    <tr>\n",
       "      <th>1620</th>\n",
       "      <td>ZAF</td>\n",
       "      <td>GDPHRWKD</td>\n",
       "      <td>TOT</td>\n",
       "      <td>IDX2010</td>\n",
       "      <td>A</td>\n",
       "      <td>2010</td>\n",
       "      <td>100.0</td>\n",
       "      <td>NaN</td>\n",
       "    </tr>\n",
       "    <tr>\n",
       "      <th>1648</th>\n",
       "      <td>CRI</td>\n",
       "      <td>GDPHRWKD</td>\n",
       "      <td>TOT</td>\n",
       "      <td>IDX2010</td>\n",
       "      <td>A</td>\n",
       "      <td>2010</td>\n",
       "      <td>100.0</td>\n",
       "      <td>NaN</td>\n",
       "    </tr>\n",
       "    <tr>\n",
       "      <th>1672</th>\n",
       "      <td>BGR</td>\n",
       "      <td>GDPHRWKD</td>\n",
       "      <td>TOT</td>\n",
       "      <td>IDX2010</td>\n",
       "      <td>A</td>\n",
       "      <td>2010</td>\n",
       "      <td>100.0</td>\n",
       "      <td>NaN</td>\n",
       "    </tr>\n",
       "    <tr>\n",
       "      <th>1696</th>\n",
       "      <td>HRV</td>\n",
       "      <td>GDPHRWKD</td>\n",
       "      <td>TOT</td>\n",
       "      <td>IDX2010</td>\n",
       "      <td>A</td>\n",
       "      <td>2010</td>\n",
       "      <td>100.0</td>\n",
       "      <td>NaN</td>\n",
       "    </tr>\n",
       "    <tr>\n",
       "      <th>1707</th>\n",
       "      <td>PER</td>\n",
       "      <td>GDPHRWKD</td>\n",
       "      <td>TOT</td>\n",
       "      <td>IDX2010</td>\n",
       "      <td>A</td>\n",
       "      <td>2010</td>\n",
       "      <td>100.0</td>\n",
       "      <td>NaN</td>\n",
       "    </tr>\n",
       "    <tr>\n",
       "      <th>1727</th>\n",
       "      <td>ROU</td>\n",
       "      <td>GDPHRWKD</td>\n",
       "      <td>TOT</td>\n",
       "      <td>IDX2010</td>\n",
       "      <td>A</td>\n",
       "      <td>2010</td>\n",
       "      <td>100.0</td>\n",
       "      <td>NaN</td>\n",
       "    </tr>\n",
       "  </tbody>\n",
       "</table>\n",
       "</div>"
      ],
      "text/plain": [
       "     LOCATION INDICATOR SUBJECT  MEASURE FREQUENCY  TIME  Value Flag Codes\n",
       "40        AUS  GDPHRWKD     TOT  IDX2010         A  2010  100.0        NaN\n",
       "64        AUT  GDPHRWKD     TOT  IDX2010         A  2010  100.0        NaN\n",
       "113       BEL  GDPHRWKD     TOT  IDX2010         A  2010  100.0        NaN\n",
       "162       CAN  GDPHRWKD     TOT  IDX2010         A  2010  100.0        NaN\n",
       "188       CZE  GDPHRWKD     TOT  IDX2010         A  2010  100.0        NaN\n",
       "237       DNK  GDPHRWKD     TOT  IDX2010         A  2010  100.0        NaN\n",
       "286       FIN  GDPHRWKD     TOT  IDX2010         A  2010  100.0        NaN\n",
       "335       FRA  GDPHRWKD     TOT  IDX2010         A  2010  100.0        NaN\n",
       "384       DEU  GDPHRWKD     TOT  IDX2010         A  2010  100.0        NaN\n",
       "420       GRC  GDPHRWKD     TOT  IDX2010         A  2010  100.0        NaN\n",
       "448       HUN  GDPHRWKD     TOT  IDX2010         A  2010  100.0          B\n",
       "497       ISL  GDPHRWKD     TOT  IDX2010         A  2010  100.0        NaN\n",
       "546       IRL  GDPHRWKD     TOT  IDX2010         A  2010  100.0          B\n",
       "595       ITA  GDPHRWKD     TOT  IDX2010         A  2010  100.0        NaN\n",
       "644       JPN  GDPHRWKD     TOT  IDX2010         A  2010  100.0        NaN\n",
       "693       KOR  GDPHRWKD     TOT  IDX2010         A  2010  100.0        NaN\n",
       "741       LUX  GDPHRWKD     TOT  IDX2010         A  2010  100.0        NaN\n",
       "769       MEX  GDPHRWKD     TOT  IDX2010         A  2010  100.0          B\n",
       "817       NLD  GDPHRWKD     TOT  IDX2010         A  2010  100.0        NaN\n",
       "866       NZL  GDPHRWKD     TOT  IDX2010         A  2010  100.0        NaN\n",
       "915       NOR  GDPHRWKD     TOT  IDX2010         A  2010  100.0        NaN\n",
       "941       POL  GDPHRWKD     TOT  IDX2010         A  2010  100.0          B\n",
       "990       PRT  GDPHRWKD     TOT  IDX2010         A  2010  100.0        NaN\n",
       "1014      SVK  GDPHRWKD     TOT  IDX2010         A  2010  100.0        NaN\n",
       "1063      ESP  GDPHRWKD     TOT  IDX2010         A  2010  100.0        NaN\n",
       "1112      SWE  GDPHRWKD     TOT  IDX2010         A  2010  100.0        NaN\n",
       "1161      CHE  GDPHRWKD     TOT  IDX2010         A  2010  100.0        NaN\n",
       "1210      TUR  GDPHRWKD     TOT  IDX2010         A  2010  100.0        NaN\n",
       "1258      GBR  GDPHRWKD     TOT  IDX2010         A  2010  100.0        NaN\n",
       "1307      USA  GDPHRWKD     TOT  IDX2010         A  2010  100.0        NaN\n",
       "1340      CHL  GDPHRWKD     TOT  IDX2010         A  2010  100.0        NaN\n",
       "1359      EST  GDPHRWKD     TOT  IDX2010         A  2010  100.0        NaN\n",
       "1397      ISR  GDPHRWKD     TOT  IDX2010         A  2010  100.0        NaN\n",
       "1415      LVA  GDPHRWKD     TOT  IDX2010         A  2010  100.0        NaN\n",
       "1439      LTU  GDPHRWKD     TOT  IDX2010         A  2010  100.0        NaN\n",
       "1463      RUS  GDPHRWKD     TOT  IDX2010         A  2010  100.0        NaN\n",
       "1487      SVN  GDPHRWKD     TOT  IDX2010         A  2010  100.0        NaN\n",
       "1511     EU28  GDPHRWKD     TOT  IDX2010         A  2010  100.0        NaN\n",
       "1530     OECD  GDPHRWKD     TOT  IDX2010         A  2010  100.0        NaN\n",
       "1578      G-7  GDPHRWKD     TOT  IDX2010         A  2010  100.0        NaN\n",
       "1602     EA19  GDPHRWKD     TOT  IDX2010         A  2010  100.0        NaN\n",
       "1620      ZAF  GDPHRWKD     TOT  IDX2010         A  2010  100.0        NaN\n",
       "1648      CRI  GDPHRWKD     TOT  IDX2010         A  2010  100.0        NaN\n",
       "1672      BGR  GDPHRWKD     TOT  IDX2010         A  2010  100.0        NaN\n",
       "1696      HRV  GDPHRWKD     TOT  IDX2010         A  2010  100.0        NaN\n",
       "1707      PER  GDPHRWKD     TOT  IDX2010         A  2010  100.0        NaN\n",
       "1727      ROU  GDPHRWKD     TOT  IDX2010         A  2010  100.0        NaN"
      ]
     },
     "execution_count": 11,
     "metadata": {},
     "output_type": "execute_result"
    }
   ],
   "source": [
    "prod[prod.TIME==2010]"
   ]
  },
  {
   "cell_type": "code",
   "execution_count": 6,
   "metadata": {},
   "outputs": [],
   "source": [
    "prod_UK = prod[prod.LOCATION == 'GBR']"
   ]
  },
  {
   "cell_type": "code",
   "execution_count": 7,
   "metadata": {},
   "outputs": [],
   "source": [
    "p = np.poly1d(np.polyfit(prod_UK.loc[:1257].TIME,prod_UK.loc[:1257].Value,1))"
   ]
  },
  {
   "cell_type": "code",
   "execution_count": 14,
   "metadata": {},
   "outputs": [
    {
     "data": {
      "image/png": "[encoded data removed]",
      "text/plain": [
       "<Figure size 576x432 with 1 Axes>"
      ]
     },
     "metadata": {},
     "output_type": "display_data"
    }
   ],
   "source": [
    "fig,ax = plt.subplots(figsize=(8,6))\n",
    "ax.plot(prod_UK.TIME,prod_UK.Value,color='r',linewidth=2)\n",
    "ax.plot(prod_UK.TIME,p(prod_UK.TIME),color='k',linewidth=2)\n",
    "ax.annotate('Labor productivity',(2019,102),color='r',fontsize=14)\n",
    "ax.annotate('Trend',(2019,114),color='k',fontsize=14)\n",
    "ax.set_xlabel('Year')\n",
    "ax.set_ylabel('GDP per labor hours, 2010=100')\n",
    "ax.spines['left'].set_visible(False)\n",
    "ax.spines['right'].set_visible(False)\n",
    "ax.spines['top'].set_visible(False)\n",
    "ax.spines['bottom'].set_visible(False)\n",
    "ax.set_xlim(xmax=2023)\n",
    "ax.set_ylim(ymax=123,ymin=35)\n",
    "ax.text(1962,20,'Source: OECD',fontsize=16);\n",
    "plt.savefig('./uk_productivity-trend.svg',bbox_inches='tight')"
   ]
  },
  {
   "cell_type": "code",
   "execution_count": 15,
   "metadata": {},
   "outputs": [
    {
     "data": {
      "text/plain": [
       "0.11759584755213925"
      ]
     },
     "execution_count": 15,
     "metadata": {},
     "output_type": "execute_result"
    }
   ],
   "source": [
    "p(2018)/prod_UK.loc[1266].Value-1"
   ]
  },
  {
   "cell_type": "code",
   "execution_count": 24,
   "metadata": {},
   "outputs": [
    {
     "data": {
      "text/plain": [
       "0.02403958955600416"
      ]
     },
     "execution_count": 24,
     "metadata": {},
     "output_type": "execute_result"
    }
   ],
   "source": [
    "(prod_UK[prod_UK.TIME==2008].Value.values[0]/prod_UK[prod_UK.TIME==1970].Value.values[0])**(1/38)-1"
   ]
  },
  {
   "cell_type": "code",
   "execution_count": 25,
   "metadata": {},
   "outputs": [
    {
     "data": {
      "text/plain": [
       "0.0024595489326022513"
      ]
     },
     "execution_count": 25,
     "metadata": {},
     "output_type": "execute_result"
    }
   ],
   "source": [
    "(prod_UK[prod_UK.TIME==2018].Value.values[0]/prod_UK[prod_UK.TIME==2008].Value.values[0])**(1/10)-1"
   ]
  },
  {
   "cell_type": "code",
   "execution_count": 60,
   "metadata": {},
   "outputs": [],
   "source": [
    "countries_pick = ['USA','GBR','DEU','FRA','JPN','NZL']\n",
    "colors_ = dict(zip(countries_pick,colors))"
   ]
  },
  {
   "cell_type": "code",
   "execution_count": 61,
   "metadata": {},
   "outputs": [],
   "source": [
    "df2 = prod[prod.LOCATION.isin(countries_pick)& (prod.TIME>=1980)]"
   ]
  },
  {
   "cell_type": "code",
   "execution_count": 62,
   "metadata": {},
   "outputs": [
    {
     "data": {
      "text/plain": [
       "<matplotlib.legend.Legend at 0x1e9483900b8>"
      ]
     },
     "execution_count": 62,
     "metadata": {},
     "output_type": "execute_result"
    },
    {
     "data": {
      "image/png": "[encoded data removed]",
      "text/plain": [
       "<Figure size 432x288 with 1 Axes>"
      ]
     },
     "metadata": {},
     "output_type": "display_data"
    }
   ],
   "source": [
    "fig,ax=plt.subplots()\n",
    "for country in countries_pick:\n",
    "    data = df2[df2.LOCATION==country]\n",
    "    ax.plot(data.TIME,data.Value,color=colors_[country],linewidth=2,label=country)\n",
    "ax.spines['left'].set_visible(False)\n",
    "ax.spines['right'].set_visible(False)\n",
    "ax.spines['top'].set_visible(False)\n",
    "ax.spines['bottom'].set_visible(False)\n",
    "ax.legend(loc='best',frameon=False)"
   ]
  },
  {
   "cell_type": "code",
   "execution_count": 63,
   "metadata": {},
   "outputs": [],
   "source": [
    "df2 = df2.merge(df2[df2.TIME==2008][['LOCATION','Value']].rename(columns={'Value':'Value, 2008'}),\n",
    "          on='LOCATION',how='left')"
   ]
  },
  {
   "cell_type": "code",
   "execution_count": 64,
   "metadata": {},
   "outputs": [],
   "source": [
    "df3 = df2[df2.TIME==2018].copy()"
   ]
  },
  {
   "cell_type": "code",
   "execution_count": 65,
   "metadata": {},
   "outputs": [],
   "source": [
    "df3['Growth rate'] = ((df3['Value']/df3['Value, 2008'])**(1/10)-1)*100"
   ]
  },
  {
   "cell_type": "code",
   "execution_count": 66,
   "metadata": {
    "scrolled": true
   },
   "outputs": [
    {
     "data": {
      "text/html": [
       "<div>\n",
       "<style scoped>\n",
       "    .dataframe tbody tr th:only-of-type {\n",
       "        vertical-align: middle;\n",
       "    }\n",
       "\n",
       "    .dataframe tbody tr th {\n",
       "        vertical-align: top;\n",
       "    }\n",
       "\n",
       "    .dataframe thead th {\n",
       "        text-align: right;\n",
       "    }\n",
       "</style>\n",
       "<table border=\"1\" class=\"dataframe\">\n",
       "  <thead>\n",
       "    <tr style=\"text-align: right;\">\n",
       "      <th></th>\n",
       "      <th>LOCATION</th>\n",
       "      <th>INDICATOR</th>\n",
       "      <th>SUBJECT</th>\n",
       "      <th>MEASURE</th>\n",
       "      <th>FREQUENCY</th>\n",
       "      <th>TIME</th>\n",
       "      <th>Value</th>\n",
       "      <th>Flag Codes</th>\n",
       "      <th>Value, 2008</th>\n",
       "      <th>Growth rate</th>\n",
       "    </tr>\n",
       "  </thead>\n",
       "  <tbody>\n",
       "    <tr>\n",
       "      <th>38</th>\n",
       "      <td>FRA</td>\n",
       "      <td>GDPHRWKD</td>\n",
       "      <td>TOT</td>\n",
       "      <td>IDX2010</td>\n",
       "      <td>A</td>\n",
       "      <td>2018</td>\n",
       "      <td>108.824436</td>\n",
       "      <td>NaN</td>\n",
       "      <td>99.742223</td>\n",
       "      <td>0.875277</td>\n",
       "    </tr>\n",
       "    <tr>\n",
       "      <th>77</th>\n",
       "      <td>DEU</td>\n",
       "      <td>GDPHRWKD</td>\n",
       "      <td>TOT</td>\n",
       "      <td>IDX2010</td>\n",
       "      <td>A</td>\n",
       "      <td>2018</td>\n",
       "      <td>107.593534</td>\n",
       "      <td>NaN</td>\n",
       "      <td>100.153984</td>\n",
       "      <td>0.719090</td>\n",
       "    </tr>\n",
       "    <tr>\n",
       "      <th>116</th>\n",
       "      <td>JPN</td>\n",
       "      <td>GDPHRWKD</td>\n",
       "      <td>TOT</td>\n",
       "      <td>IDX2010</td>\n",
       "      <td>A</td>\n",
       "      <td>2018</td>\n",
       "      <td>106.516112</td>\n",
       "      <td>NaN</td>\n",
       "      <td>97.924740</td>\n",
       "      <td>0.844516</td>\n",
       "    </tr>\n",
       "    <tr>\n",
       "      <th>155</th>\n",
       "      <td>NZL</td>\n",
       "      <td>GDPHRWKD</td>\n",
       "      <td>TOT</td>\n",
       "      <td>IDX2010</td>\n",
       "      <td>A</td>\n",
       "      <td>2018</td>\n",
       "      <td>103.830079</td>\n",
       "      <td>E</td>\n",
       "      <td>95.975893</td>\n",
       "      <td>0.789688</td>\n",
       "    </tr>\n",
       "    <tr>\n",
       "      <th>194</th>\n",
       "      <td>GBR</td>\n",
       "      <td>GDPHRWKD</td>\n",
       "      <td>TOT</td>\n",
       "      <td>IDX2010</td>\n",
       "      <td>A</td>\n",
       "      <td>2018</td>\n",
       "      <td>102.784508</td>\n",
       "      <td>NaN</td>\n",
       "      <td>100.290337</td>\n",
       "      <td>0.245955</td>\n",
       "    </tr>\n",
       "    <tr>\n",
       "      <th>233</th>\n",
       "      <td>USA</td>\n",
       "      <td>GDPHRWKD</td>\n",
       "      <td>TOT</td>\n",
       "      <td>IDX2010</td>\n",
       "      <td>A</td>\n",
       "      <td>2018</td>\n",
       "      <td>104.311626</td>\n",
       "      <td>E</td>\n",
       "      <td>94.480177</td>\n",
       "      <td>0.994844</td>\n",
       "    </tr>\n",
       "  </tbody>\n",
       "</table>\n",
       "</div>"
      ],
      "text/plain": [
       "    LOCATION INDICATOR SUBJECT  MEASURE FREQUENCY  TIME       Value  \\\n",
       "38       FRA  GDPHRWKD     TOT  IDX2010         A  2018  108.824436   \n",
       "77       DEU  GDPHRWKD     TOT  IDX2010         A  2018  107.593534   \n",
       "116      JPN  GDPHRWKD     TOT  IDX2010         A  2018  106.516112   \n",
       "155      NZL  GDPHRWKD     TOT  IDX2010         A  2018  103.830079   \n",
       "194      GBR  GDPHRWKD     TOT  IDX2010         A  2018  102.784508   \n",
       "233      USA  GDPHRWKD     TOT  IDX2010         A  2018  104.311626   \n",
       "\n",
       "    Flag Codes  Value, 2008  Growth rate  \n",
       "38         NaN    99.742223     0.875277  \n",
       "77         NaN   100.153984     0.719090  \n",
       "116        NaN    97.924740     0.844516  \n",
       "155          E    95.975893     0.789688  \n",
       "194        NaN   100.290337     0.245955  \n",
       "233          E    94.480177     0.994844  "
      ]
     },
     "execution_count": 66,
     "metadata": {},
     "output_type": "execute_result"
    }
   ],
   "source": [
    "df3"
   ]
  },
  {
   "cell_type": "code",
   "execution_count": 67,
   "metadata": {},
   "outputs": [],
   "source": [
    "from tabulate import tabulate"
   ]
  },
  {
   "cell_type": "code",
   "execution_count": 68,
   "metadata": {},
   "outputs": [],
   "source": [
    "df3.set_index('LOCATION',inplace=True)"
   ]
  },
  {
   "cell_type": "code",
   "execution_count": 69,
   "metadata": {},
   "outputs": [
    {
     "name": "stdout",
     "output_type": "stream",
     "text": [
      "| LOCATION   |   Growth rate |\n",
      "|:-----------|--------------:|\n",
      "| FRA        |          0.88 |\n",
      "| DEU        |          0.72 |\n",
      "| JPN        |          0.84 |\n",
      "| NZL        |          0.79 |\n",
      "| GBR        |          0.25 |\n",
      "| USA        |          0.99 |\n"
     ]
    }
   ],
   "source": [
    "print(tabulate(df3['Growth rate'].round(decimals=2).reset_index(), tablefmt=\"pipe\", \n",
    "               showindex=False,headers=\"keys\"))"
   ]
  },
  {
   "cell_type": "code",
   "execution_count": 92,
   "metadata": {},
   "outputs": [],
   "source": [
    "year_ = 1956\n",
    "pwt = pwt.merge(pwt[pwt.year==year_][['countrycode','rtfpna']].rename(columns={'rtfpna':f'rtfpna, {year_}'})\n",
    "          ,on='countrycode',how='left')"
   ]
  },
  {
   "cell_type": "code",
   "execution_count": 93,
   "metadata": {},
   "outputs": [],
   "source": [
    "pwt[f'rtfpna, {year_}=1'] = pwt.rtfpna/pwt[f'rtfpna, {year_}']"
   ]
  },
  {
   "cell_type": "code",
   "execution_count": 94,
   "metadata": {},
   "outputs": [],
   "source": [
    "#country_list = ['USA','GBR']\n",
    "pwt2 = pwt[pwt.countrycode.isin(country_list)]"
   ]
  },
  {
   "cell_type": "code",
   "execution_count": 101,
   "metadata": {},
   "outputs": [
    {
     "data": {
      "image/png": "[encoded data removed]",
      "text/plain": [
       "<Figure size 432x288 with 1 Axes>"
      ]
     },
     "metadata": {},
     "output_type": "display_data"
    }
   ],
   "source": [
    "color_list = dict(zip(country_list,colors[:len(country_list)]))\n",
    "fig,ax = plt.subplots()\n",
    "sns.lineplot(x='year',y=f'rtfpna, {year_}=1',hue='countrycode',linewidth=2,\n",
    "             palette=color_list,legend=False,data=pwt2)\n",
    "for i,country in enumerate(country_list):\n",
    "    pwt3 = pwt2[pwt2.countrycode==country]\n",
    "    label = pwt3.country.unique()[0]\n",
    "    if label == 'United Kingdom':\n",
    "        loc_ = (2018,pwt3[pwt3.year==2016][f'rtfpna, {year_}=1']-.05)\n",
    "    else:\n",
    "        loc_ = (2018,pwt3[pwt3.year==2016][f'rtfpna, {year_}=1'])\n",
    "    ax.annotate(label,loc_,color=colors[i],fontsize=16)\n",
    "ax.set_xlabel('Year')\n",
    "ax.set_ylabel(f'TFP ({year_}=1)');\n",
    "ax.set_xlim(xmax=2022,xmin=1948)\n",
    "#ax.legend(loc='upper left',frameon=False)\n",
    "ax.spines[\"left\"].set_visible(False)\n",
    "ax.spines[\"bottom\"].set_visible(False)\n",
    "ax.spines[\"right\"].set_visible(False)\n",
    "ax.spines[\"top\"].set_visible(False)\n",
    "#plt.text(loc_all[0],loc_all[1],source)\n",
    "plt.savefig('./tfp-over-time.svg',bbox_inches='tight')"
   ]
  },
  {
   "cell_type": "code",
   "execution_count": 105,
   "metadata": {},
   "outputs": [
    {
     "data": {
      "image/png": "[encoded data removed]",
      "text/plain": [
       "<Figure size 432x288 with 1 Axes>"
      ]
     },
     "metadata": {},
     "output_type": "display_data"
    }
   ],
   "source": [
    "color_list = dict(zip(country_list,colors[:len(country_list)]))\n",
    "fig,ax = plt.subplots()\n",
    "sns.lineplot(x='year',y='ctfp',hue='countrycode',linewidth=2,\n",
    "             palette=color_list,legend=False,data=pwt2)\n",
    "for i,country in enumerate(country_list):\n",
    "    pwt3 = pwt2[pwt2.countrycode==country]\n",
    "    label = pwt3.country.unique()[0]\n",
    "    if label == 'Japan':\n",
    "        loc_ = (2018,pwt3[pwt3.year==2016]['ctfp']-.03)    \n",
    "    else:\n",
    "        loc_ = (2018,pwt3[pwt3.year==2016]['ctfp'])\n",
    "    ax.annotate(label,loc_,color=colors[i],fontsize=16)\n",
    "ax.set_xlabel('Year')\n",
    "ax.set_ylabel('TFP (USA=1)');\n",
    "ax.set_xlim(xmax=2022,xmin=1948)\n",
    "#ax.legend(loc='upper left',frameon=False)\n",
    "ax.spines[\"left\"].set_visible(False)\n",
    "ax.spines[\"bottom\"].set_visible(False)\n",
    "ax.spines[\"right\"].set_visible(False)\n",
    "ax.spines[\"top\"].set_visible(False)\n",
    "#plt.text(loc_all[0],loc_all[1],source)\n",
    "plt.savefig('./tfp-over-time-rel-usa.svg',bbox_inches='tight')"
   ]
  },
  {
   "cell_type": "code",
   "execution_count": 11,
   "metadata": {
    "scrolled": true
   },
   "outputs": [],
   "source": [
    "df=df.merge(pwt[['countrycode','year','emp']],on=['countrycode','year'],how='left')"
   ]
  },
  {
   "cell_type": "code",
   "execution_count": 12,
   "metadata": {},
   "outputs": [],
   "source": [
    "df.sort_values(['countrycode','year'],inplace=True)"
   ]
  },
  {
   "cell_type": "code",
   "execution_count": 13,
   "metadata": {},
   "outputs": [
    {
     "data": {
      "text/plain": [
       "'Real GDP per capita in 2011US$, 2011 benchmark (suitable for cross-country growth comparisons)'"
      ]
     },
     "execution_count": 13,
     "metadata": {},
     "output_type": "execute_result"
    }
   ],
   "source": [
    "df_legend['rgdpnapc']"
   ]
  },
  {
   "cell_type": "code",
   "execution_count": 14,
   "metadata": {},
   "outputs": [],
   "source": [
    "growth_rates = (df[df.year.isin([1960,2016])].groupby(['countrycode','country']).apply(lambda x:\n",
    "                100*(np.log(x.iloc[1]['rgdpnapc'])-np.log(x.iloc[0]['rgdpnapc']))/56).reset_index().\n",
    "                rename(columns={0:'Avg. Growth (1960-2016)'}))"
   ]
  },
  {
   "cell_type": "code",
   "execution_count": 15,
   "metadata": {},
   "outputs": [],
   "source": [
    "growth_rates['Years to double'] = 72/growth_rates['Avg. Growth (1960-2016)']"
   ]
  },
  {
   "cell_type": "code",
   "execution_count": 16,
   "metadata": {},
   "outputs": [
    {
     "data": {
      "text/html": [
       "<div>\n",
       "<style scoped>\n",
       "    .dataframe tbody tr th:only-of-type {\n",
       "        vertical-align: middle;\n",
       "    }\n",
       "\n",
       "    .dataframe tbody tr th {\n",
       "        vertical-align: top;\n",
       "    }\n",
       "\n",
       "    .dataframe thead th {\n",
       "        text-align: right;\n",
       "    }\n",
       "</style>\n",
       "<table border=\"1\" class=\"dataframe\">\n",
       "  <thead>\n",
       "    <tr style=\"text-align: right;\">\n",
       "      <th></th>\n",
       "      <th>countrycode</th>\n",
       "      <th>country</th>\n",
       "      <th>Avg. Growth (1960-2016)</th>\n",
       "      <th>Years to double</th>\n",
       "    </tr>\n",
       "  </thead>\n",
       "  <tbody>\n",
       "    <tr>\n",
       "      <td>47</td>\n",
       "      <td>ESP</td>\n",
       "      <td>Spain</td>\n",
       "      <td>2.892477</td>\n",
       "      <td>24.892164</td>\n",
       "    </tr>\n",
       "  </tbody>\n",
       "</table>\n",
       "</div>"
      ],
      "text/plain": [
       "   countrycode country  Avg. Growth (1960-2016)  Years to double\n",
       "47         ESP   Spain                 2.892477        24.892164"
      ]
     },
     "execution_count": 16,
     "metadata": {},
     "output_type": "execute_result"
    }
   ],
   "source": [
    "growth_rates[growth_rates.countrycode=='ESP']"
   ]
  },
  {
   "cell_type": "code",
   "execution_count": 17,
   "metadata": {},
   "outputs": [
    {
     "data": {
      "text/plain": [
       "'Population, mid-year (thousands)'"
      ]
     },
     "execution_count": 17,
     "metadata": {},
     "output_type": "execute_result"
    }
   ],
   "source": [
    "df_legend['pop']"
   ]
  },
  {
   "cell_type": "code",
   "execution_count": 18,
   "metadata": {},
   "outputs": [
    {
     "data": {
      "text/plain": [
       "'Number of persons engaged (in millions)'"
      ]
     },
     "execution_count": 18,
     "metadata": {},
     "output_type": "execute_result"
    }
   ],
   "source": [
    "pwt_legend['emp']"
   ]
  },
  {
   "cell_type": "code",
   "execution_count": 19,
   "metadata": {},
   "outputs": [],
   "source": [
    "df['pop'] = df['pop']/1000"
   ]
  },
  {
   "cell_type": "code",
   "execution_count": 20,
   "metadata": {},
   "outputs": [],
   "source": [
    "df['E/pop'] = df['emp']/df['pop']*100"
   ]
  },
  {
   "cell_type": "code",
   "execution_count": 21,
   "metadata": {},
   "outputs": [
    {
     "data": {
      "text/plain": [
       "'Real GDP per capita in 2011US$, multiple benchmarks (suitable for cross-country income comparisons)'"
      ]
     },
     "execution_count": 21,
     "metadata": {},
     "output_type": "execute_result"
    }
   ],
   "source": [
    "df_legend['cgdppc']"
   ]
  },
  {
   "cell_type": "code",
   "execution_count": 22,
   "metadata": {},
   "outputs": [],
   "source": [
    "df['GDP per worker'] = df['cgdppc']*df['pop']/df['emp']"
   ]
  },
  {
   "cell_type": "code",
   "execution_count": 23,
   "metadata": {},
   "outputs": [],
   "source": [
    "df=df.merge(growth_rates,on=['countrycode','country'])"
   ]
  },
  {
   "cell_type": "code",
   "execution_count": null,
   "metadata": {},
   "outputs": [],
   "source": []
  },
  {
   "cell_type": "code",
   "execution_count": 24,
   "metadata": {},
   "outputs": [],
   "source": [
    "rich_countries = ['USA','JPN','FRA','GBR','ESP']"
   ]
  },
  {
   "cell_type": "code",
   "execution_count": 25,
   "metadata": {},
   "outputs": [],
   "source": [
    "rich_table = df[(df.countrycode.isin(rich_countries))&(df.year==2016)]"
   ]
  },
  {
   "cell_type": "code",
   "execution_count": 26,
   "metadata": {
    "scrolled": true
   },
   "outputs": [
    {
     "data": {
      "text/html": [
       "<div>\n",
       "<style scoped>\n",
       "    .dataframe tbody tr th:only-of-type {\n",
       "        vertical-align: middle;\n",
       "    }\n",
       "\n",
       "    .dataframe tbody tr th {\n",
       "        vertical-align: top;\n",
       "    }\n",
       "\n",
       "    .dataframe thead th {\n",
       "        text-align: right;\n",
       "    }\n",
       "</style>\n",
       "<table border=\"1\" class=\"dataframe\">\n",
       "  <thead>\n",
       "    <tr style=\"text-align: right;\">\n",
       "      <th></th>\n",
       "      <th>countrycode</th>\n",
       "      <th>country</th>\n",
       "      <th>year</th>\n",
       "      <th>cgdppc</th>\n",
       "      <th>rgdpnapc</th>\n",
       "      <th>pop</th>\n",
       "      <th>i_cig</th>\n",
       "      <th>i_bm</th>\n",
       "      <th>emp</th>\n",
       "      <th>E/pop</th>\n",
       "      <th>GDP per worker</th>\n",
       "      <th>Avg. Growth (1960-2016)</th>\n",
       "      <th>Years to double</th>\n",
       "    </tr>\n",
       "  </thead>\n",
       "  <tbody>\n",
       "    <tr>\n",
       "      <td>5258</td>\n",
       "      <td>ESP</td>\n",
       "      <td>Spain</td>\n",
       "      <td>2016</td>\n",
       "      <td>31556.0</td>\n",
       "      <td>30110.0</td>\n",
       "      <td>47.024</td>\n",
       "      <td>Extrapolated</td>\n",
       "      <td>NaN</td>\n",
       "      <td>18.699034</td>\n",
       "      <td>39.764873</td>\n",
       "      <td>79356.471829</td>\n",
       "      <td>2.892477</td>\n",
       "      <td>24.892164</td>\n",
       "    </tr>\n",
       "    <tr>\n",
       "      <td>6312</td>\n",
       "      <td>FRA</td>\n",
       "      <td>France</td>\n",
       "      <td>2016</td>\n",
       "      <td>38758.0</td>\n",
       "      <td>37124.0</td>\n",
       "      <td>66.957</td>\n",
       "      <td>Extrapolated</td>\n",
       "      <td>NaN</td>\n",
       "      <td>27.622475</td>\n",
       "      <td>41.254051</td>\n",
       "      <td>93949.562339</td>\n",
       "      <td>1.991589</td>\n",
       "      <td>36.152040</td>\n",
       "    </tr>\n",
       "    <tr>\n",
       "      <td>6708</td>\n",
       "      <td>GBR</td>\n",
       "      <td>United Kingdom</td>\n",
       "      <td>2016</td>\n",
       "      <td>39162.0</td>\n",
       "      <td>37334.0</td>\n",
       "      <td>65.888</td>\n",
       "      <td>Extrapolated</td>\n",
       "      <td>NaN</td>\n",
       "      <td>31.683855</td>\n",
       "      <td>48.087444</td>\n",
       "      <td>81439.138368</td>\n",
       "      <td>1.814868</td>\n",
       "      <td>39.672300</td>\n",
       "    </tr>\n",
       "    <tr>\n",
       "      <td>9486</td>\n",
       "      <td>JPN</td>\n",
       "      <td>Japan</td>\n",
       "      <td>2016</td>\n",
       "      <td>36452.0</td>\n",
       "      <td>37465.0</td>\n",
       "      <td>126.310</td>\n",
       "      <td>Extrapolated</td>\n",
       "      <td>NaN</td>\n",
       "      <td>67.613182</td>\n",
       "      <td>53.529556</td>\n",
       "      <td>68096.959486</td>\n",
       "      <td>3.191344</td>\n",
       "      <td>22.561030</td>\n",
       "    </tr>\n",
       "    <tr>\n",
       "      <td>18959</td>\n",
       "      <td>USA</td>\n",
       "      <td>United States</td>\n",
       "      <td>2016</td>\n",
       "      <td>53015.0</td>\n",
       "      <td>53015.0</td>\n",
       "      <td>324.656</td>\n",
       "      <td>Extrapolated</td>\n",
       "      <td>NaN</td>\n",
       "      <td>152.632553</td>\n",
       "      <td>47.013625</td>\n",
       "      <td>112765.183379</td>\n",
       "      <td>1.923189</td>\n",
       "      <td>37.437809</td>\n",
       "    </tr>\n",
       "  </tbody>\n",
       "</table>\n",
       "</div>"
      ],
      "text/plain": [
       "      countrycode         country  year   cgdppc  rgdpnapc      pop  \\\n",
       "5258          ESP           Spain  2016  31556.0   30110.0   47.024   \n",
       "6312          FRA          France  2016  38758.0   37124.0   66.957   \n",
       "6708          GBR  United Kingdom  2016  39162.0   37334.0   65.888   \n",
       "9486          JPN           Japan  2016  36452.0   37465.0  126.310   \n",
       "18959         USA   United States  2016  53015.0   53015.0  324.656   \n",
       "\n",
       "              i_cig i_bm         emp      E/pop  GDP per worker  \\\n",
       "5258   Extrapolated  NaN   18.699034  39.764873    79356.471829   \n",
       "6312   Extrapolated  NaN   27.622475  41.254051    93949.562339   \n",
       "6708   Extrapolated  NaN   31.683855  48.087444    81439.138368   \n",
       "9486   Extrapolated  NaN   67.613182  53.529556    68096.959486   \n",
       "18959  Extrapolated  NaN  152.632553  47.013625   112765.183379   \n",
       "\n",
       "       Avg. Growth (1960-2016)  Years to double  \n",
       "5258                  2.892477        24.892164  \n",
       "6312                  1.991589        36.152040  \n",
       "6708                  1.814868        39.672300  \n",
       "9486                  3.191344        22.561030  \n",
       "18959                 1.923189        37.437809  "
      ]
     },
     "execution_count": 26,
     "metadata": {},
     "output_type": "execute_result"
    }
   ],
   "source": [
    "rich_table"
   ]
  },
  {
   "cell_type": "code",
   "execution_count": 27,
   "metadata": {},
   "outputs": [],
   "source": [
    "rich_table = (rich_table[['country','year','cgdppc','GDP per worker','E/pop','Avg. Growth (1960-2016)','Years to double']]\n",
    "             .rename(columns={'cgdppc':'GDP per capita',\n",
    "                             'country':'Country',\n",
    "                             'year':'Year'}).set_index(['Country','Year']))"
   ]
  },
  {
   "cell_type": "code",
   "execution_count": 28,
   "metadata": {},
   "outputs": [
    {
     "data": {
      "text/html": [
       "<div>\n",
       "<style scoped>\n",
       "    .dataframe tbody tr th:only-of-type {\n",
       "        vertical-align: middle;\n",
       "    }\n",
       "\n",
       "    .dataframe tbody tr th {\n",
       "        vertical-align: top;\n",
       "    }\n",
       "\n",
       "    .dataframe thead th {\n",
       "        text-align: right;\n",
       "    }\n",
       "</style>\n",
       "<table border=\"1\" class=\"dataframe\">\n",
       "  <thead>\n",
       "    <tr style=\"text-align: right;\">\n",
       "      <th></th>\n",
       "      <th></th>\n",
       "      <th>GDP per capita</th>\n",
       "      <th>GDP per worker</th>\n",
       "      <th>E/pop</th>\n",
       "      <th>Avg. Growth (1960-2016)</th>\n",
       "      <th>Years to double</th>\n",
       "    </tr>\n",
       "    <tr>\n",
       "      <th>Country</th>\n",
       "      <th>Year</th>\n",
       "      <th></th>\n",
       "      <th></th>\n",
       "      <th></th>\n",
       "      <th></th>\n",
       "      <th></th>\n",
       "    </tr>\n",
       "  </thead>\n",
       "  <tbody>\n",
       "    <tr>\n",
       "      <td>Spain</td>\n",
       "      <td>2016</td>\n",
       "      <td>31556.0</td>\n",
       "      <td>79356.5</td>\n",
       "      <td>39.8</td>\n",
       "      <td>2.9</td>\n",
       "      <td>24.9</td>\n",
       "    </tr>\n",
       "    <tr>\n",
       "      <td>France</td>\n",
       "      <td>2016</td>\n",
       "      <td>38758.0</td>\n",
       "      <td>93949.6</td>\n",
       "      <td>41.3</td>\n",
       "      <td>2.0</td>\n",
       "      <td>36.2</td>\n",
       "    </tr>\n",
       "    <tr>\n",
       "      <td>United Kingdom</td>\n",
       "      <td>2016</td>\n",
       "      <td>39162.0</td>\n",
       "      <td>81439.1</td>\n",
       "      <td>48.1</td>\n",
       "      <td>1.8</td>\n",
       "      <td>39.7</td>\n",
       "    </tr>\n",
       "    <tr>\n",
       "      <td>Japan</td>\n",
       "      <td>2016</td>\n",
       "      <td>36452.0</td>\n",
       "      <td>68097.0</td>\n",
       "      <td>53.5</td>\n",
       "      <td>3.2</td>\n",
       "      <td>22.6</td>\n",
       "    </tr>\n",
       "    <tr>\n",
       "      <td>United States</td>\n",
       "      <td>2016</td>\n",
       "      <td>53015.0</td>\n",
       "      <td>112765.2</td>\n",
       "      <td>47.0</td>\n",
       "      <td>1.9</td>\n",
       "      <td>37.4</td>\n",
       "    </tr>\n",
       "  </tbody>\n",
       "</table>\n",
       "</div>"
      ],
      "text/plain": [
       "                     GDP per capita  GDP per worker  E/pop  \\\n",
       "Country        Year                                          \n",
       "Spain          2016         31556.0         79356.5   39.8   \n",
       "France         2016         38758.0         93949.6   41.3   \n",
       "United Kingdom 2016         39162.0         81439.1   48.1   \n",
       "Japan          2016         36452.0         68097.0   53.5   \n",
       "United States  2016         53015.0        112765.2   47.0   \n",
       "\n",
       "                     Avg. Growth (1960-2016)  Years to double  \n",
       "Country        Year                                            \n",
       "Spain          2016                      2.9             24.9  \n",
       "France         2016                      2.0             36.2  \n",
       "United Kingdom 2016                      1.8             39.7  \n",
       "Japan          2016                      3.2             22.6  \n",
       "United States  2016                      1.9             37.4  "
      ]
     },
     "execution_count": 28,
     "metadata": {},
     "output_type": "execute_result"
    }
   ],
   "source": [
    "rich_table.round(decimals=1)"
   ]
  },
  {
   "cell_type": "code",
   "execution_count": 29,
   "metadata": {},
   "outputs": [],
   "source": [
    "poor_countries = ['CHN','IND','NGA','UGA']"
   ]
  },
  {
   "cell_type": "code",
   "execution_count": 30,
   "metadata": {},
   "outputs": [],
   "source": [
    "poor_table = df[(df.countrycode.isin(poor_countries))&(df.year==2016)]"
   ]
  },
  {
   "cell_type": "code",
   "execution_count": 31,
   "metadata": {},
   "outputs": [],
   "source": [
    "poor_table = (poor_table[['country','year','cgdppc','GDP per worker','E/pop','Avg. Growth (1960-2016)','Years to double']]\n",
    "             .rename(columns={'cgdppc':'GDP per capita',\n",
    "                             'country':'Country',\n",
    "                             'year':'Year'}).set_index(['Country','Year']))"
   ]
  },
  {
   "cell_type": "code",
   "execution_count": 32,
   "metadata": {},
   "outputs": [
    {
     "data": {
      "text/html": [
       "<div>\n",
       "<style scoped>\n",
       "    .dataframe tbody tr th:only-of-type {\n",
       "        vertical-align: middle;\n",
       "    }\n",
       "\n",
       "    .dataframe tbody tr th {\n",
       "        vertical-align: top;\n",
       "    }\n",
       "\n",
       "    .dataframe thead th {\n",
       "        text-align: right;\n",
       "    }\n",
       "</style>\n",
       "<table border=\"1\" class=\"dataframe\">\n",
       "  <thead>\n",
       "    <tr style=\"text-align: right;\">\n",
       "      <th></th>\n",
       "      <th></th>\n",
       "      <th>GDP per capita</th>\n",
       "      <th>GDP per worker</th>\n",
       "      <th>E/pop</th>\n",
       "      <th>Avg. Growth (1960-2016)</th>\n",
       "      <th>Years to double</th>\n",
       "    </tr>\n",
       "    <tr>\n",
       "      <th>Country</th>\n",
       "      <th>Year</th>\n",
       "      <th></th>\n",
       "      <th></th>\n",
       "      <th></th>\n",
       "      <th></th>\n",
       "      <th></th>\n",
       "    </tr>\n",
       "  </thead>\n",
       "  <tbody>\n",
       "    <tr>\n",
       "      <td>China</td>\n",
       "      <td>2016</td>\n",
       "      <td>12320.0</td>\n",
       "      <td>21340.1</td>\n",
       "      <td>57.7</td>\n",
       "      <td>4.8</td>\n",
       "      <td>14.9</td>\n",
       "    </tr>\n",
       "    <tr>\n",
       "      <td>India</td>\n",
       "      <td>2016</td>\n",
       "      <td>5961.0</td>\n",
       "      <td>14248.7</td>\n",
       "      <td>41.8</td>\n",
       "      <td>3.2</td>\n",
       "      <td>22.3</td>\n",
       "    </tr>\n",
       "    <tr>\n",
       "      <td>Nigeria</td>\n",
       "      <td>2016</td>\n",
       "      <td>5323.0</td>\n",
       "      <td>15641.8</td>\n",
       "      <td>34.0</td>\n",
       "      <td>1.6</td>\n",
       "      <td>43.8</td>\n",
       "    </tr>\n",
       "    <tr>\n",
       "      <td>Uganda</td>\n",
       "      <td>2016</td>\n",
       "      <td>1909.0</td>\n",
       "      <td>5036.0</td>\n",
       "      <td>37.9</td>\n",
       "      <td>1.0</td>\n",
       "      <td>69.3</td>\n",
       "    </tr>\n",
       "  </tbody>\n",
       "</table>\n",
       "</div>"
      ],
      "text/plain": [
       "              GDP per capita  GDP per worker  E/pop  Avg. Growth (1960-2016)  \\\n",
       "Country Year                                                                   \n",
       "China   2016         12320.0         21340.1   57.7                      4.8   \n",
       "India   2016          5961.0         14248.7   41.8                      3.2   \n",
       "Nigeria 2016          5323.0         15641.8   34.0                      1.6   \n",
       "Uganda  2016          1909.0          5036.0   37.9                      1.0   \n",
       "\n",
       "              Years to double  \n",
       "Country Year                   \n",
       "China   2016             14.9  \n",
       "India   2016             22.3  \n",
       "Nigeria 2016             43.8  \n",
       "Uganda  2016             69.3  "
      ]
     },
     "execution_count": 32,
     "metadata": {},
     "output_type": "execute_result"
    }
   ],
   "source": [
    "poor_table.round(decimals=1)"
   ]
  },
  {
   "cell_type": "code",
   "execution_count": 33,
   "metadata": {},
   "outputs": [],
   "source": [
    "miracles = ['HKG','SGP','TWN','KOR']"
   ]
  },
  {
   "cell_type": "code",
   "execution_count": 34,
   "metadata": {},
   "outputs": [],
   "source": [
    "miracles_table = df[(df.countrycode.isin(miracles))&(df.year==2016)]"
   ]
  },
  {
   "cell_type": "code",
   "execution_count": 35,
   "metadata": {},
   "outputs": [],
   "source": [
    "miracles_table = (miracles_table[['country','year','cgdppc','GDP per worker','E/pop','Avg. Growth (1960-2016)','Years to double']]\n",
    "             .rename(columns={'cgdppc':'GDP per capita',\n",
    "                             'country':'Country',\n",
    "                             'year':'Year'}).set_index(['Country','Year']))"
   ]
  },
  {
   "cell_type": "code",
   "execution_count": 36,
   "metadata": {},
   "outputs": [
    {
     "data": {
      "text/html": [
       "<div>\n",
       "<style scoped>\n",
       "    .dataframe tbody tr th:only-of-type {\n",
       "        vertical-align: middle;\n",
       "    }\n",
       "\n",
       "    .dataframe tbody tr th {\n",
       "        vertical-align: top;\n",
       "    }\n",
       "\n",
       "    .dataframe thead th {\n",
       "        text-align: right;\n",
       "    }\n",
       "</style>\n",
       "<table border=\"1\" class=\"dataframe\">\n",
       "  <thead>\n",
       "    <tr style=\"text-align: right;\">\n",
       "      <th></th>\n",
       "      <th></th>\n",
       "      <th>GDP per capita</th>\n",
       "      <th>GDP per worker</th>\n",
       "      <th>E/pop</th>\n",
       "      <th>Avg. Growth (1960-2016)</th>\n",
       "      <th>Years to double</th>\n",
       "    </tr>\n",
       "    <tr>\n",
       "      <th>Country</th>\n",
       "      <th>Year</th>\n",
       "      <th></th>\n",
       "      <th></th>\n",
       "      <th></th>\n",
       "      <th></th>\n",
       "      <th></th>\n",
       "    </tr>\n",
       "  </thead>\n",
       "  <tbody>\n",
       "    <tr>\n",
       "      <td>China, Hong Kong SAR</td>\n",
       "      <td>2016</td>\n",
       "      <td>47043.0</td>\n",
       "      <td>89121.0</td>\n",
       "      <td>52.8</td>\n",
       "      <td>4.3</td>\n",
       "      <td>16.7</td>\n",
       "    </tr>\n",
       "    <tr>\n",
       "      <td>Republic of Korea</td>\n",
       "      <td>2016</td>\n",
       "      <td>36151.0</td>\n",
       "      <td>71246.1</td>\n",
       "      <td>50.7</td>\n",
       "      <td>5.5</td>\n",
       "      <td>13.2</td>\n",
       "    </tr>\n",
       "    <tr>\n",
       "      <td>Singapore</td>\n",
       "      <td>2016</td>\n",
       "      <td>67180.0</td>\n",
       "      <td>108866.5</td>\n",
       "      <td>61.7</td>\n",
       "      <td>4.8</td>\n",
       "      <td>14.9</td>\n",
       "    </tr>\n",
       "    <tr>\n",
       "      <td>Taiwan, Province of China</td>\n",
       "      <td>2016</td>\n",
       "      <td>42304.0</td>\n",
       "      <td>84298.5</td>\n",
       "      <td>50.2</td>\n",
       "      <td>5.4</td>\n",
       "      <td>13.2</td>\n",
       "    </tr>\n",
       "  </tbody>\n",
       "</table>\n",
       "</div>"
      ],
      "text/plain": [
       "                                GDP per capita  GDP per worker  E/pop  \\\n",
       "Country                   Year                                          \n",
       "China, Hong Kong SAR      2016         47043.0         89121.0   52.8   \n",
       "Republic of Korea         2016         36151.0         71246.1   50.7   \n",
       "Singapore                 2016         67180.0        108866.5   61.7   \n",
       "Taiwan, Province of China 2016         42304.0         84298.5   50.2   \n",
       "\n",
       "                                Avg. Growth (1960-2016)  Years to double  \n",
       "Country                   Year                                            \n",
       "China, Hong Kong SAR      2016                      4.3             16.7  \n",
       "Republic of Korea         2016                      5.5             13.2  \n",
       "Singapore                 2016                      4.8             14.9  \n",
       "Taiwan, Province of China 2016                      5.4             13.2  "
      ]
     },
     "execution_count": 36,
     "metadata": {},
     "output_type": "execute_result"
    }
   ],
   "source": [
    "miracles_table.round(decimals=1)"
   ]
  },
  {
   "cell_type": "code",
   "execution_count": 37,
   "metadata": {},
   "outputs": [],
   "source": [
    "disasters = ['VEN','HTI','MDG','ZWE']"
   ]
  },
  {
   "cell_type": "code",
   "execution_count": 38,
   "metadata": {},
   "outputs": [],
   "source": [
    "disasters_table = df[(df.countrycode.isin(disasters))&(df.year==2016)]"
   ]
  },
  {
   "cell_type": "code",
   "execution_count": 39,
   "metadata": {},
   "outputs": [],
   "source": [
    "disasters_table = (disasters_table[['country','year','cgdppc','GDP per worker','E/pop','Avg. Growth (1960-2016)','Years to double']]\n",
    "             .rename(columns={'cgdppc':'GDP per capita',\n",
    "                             'country':'Country',\n",
    "                             'year':'Year'}).set_index(['Country','Year']))"
   ]
  },
  {
   "cell_type": "code",
   "execution_count": 40,
   "metadata": {},
   "outputs": [
    {
     "data": {
      "text/html": [
       "<div>\n",
       "<style scoped>\n",
       "    .dataframe tbody tr th:only-of-type {\n",
       "        vertical-align: middle;\n",
       "    }\n",
       "\n",
       "    .dataframe tbody tr th {\n",
       "        vertical-align: top;\n",
       "    }\n",
       "\n",
       "    .dataframe thead th {\n",
       "        text-align: right;\n",
       "    }\n",
       "</style>\n",
       "<table border=\"1\" class=\"dataframe\">\n",
       "  <thead>\n",
       "    <tr style=\"text-align: right;\">\n",
       "      <th></th>\n",
       "      <th></th>\n",
       "      <th>GDP per capita</th>\n",
       "      <th>GDP per worker</th>\n",
       "      <th>E/pop</th>\n",
       "      <th>Avg. Growth (1960-2016)</th>\n",
       "      <th>Years to double</th>\n",
       "    </tr>\n",
       "    <tr>\n",
       "      <th>Country</th>\n",
       "      <th>Year</th>\n",
       "      <th></th>\n",
       "      <th></th>\n",
       "      <th></th>\n",
       "      <th></th>\n",
       "      <th></th>\n",
       "    </tr>\n",
       "  </thead>\n",
       "  <tbody>\n",
       "    <tr>\n",
       "      <td>Haiti</td>\n",
       "      <td>2016</td>\n",
       "      <td>1636.0</td>\n",
       "      <td>4066.2</td>\n",
       "      <td>40.2</td>\n",
       "      <td>-0.7</td>\n",
       "      <td>-107.8</td>\n",
       "    </tr>\n",
       "    <tr>\n",
       "      <td>Madagascar</td>\n",
       "      <td>2016</td>\n",
       "      <td>1307.0</td>\n",
       "      <td>2528.6</td>\n",
       "      <td>51.7</td>\n",
       "      <td>-0.9</td>\n",
       "      <td>-80.8</td>\n",
       "    </tr>\n",
       "    <tr>\n",
       "      <td>Venezuela (Bolivarian Republic of)</td>\n",
       "      <td>2016</td>\n",
       "      <td>13159.0</td>\n",
       "      <td>28878.4</td>\n",
       "      <td>45.6</td>\n",
       "      <td>0.2</td>\n",
       "      <td>375.1</td>\n",
       "    </tr>\n",
       "    <tr>\n",
       "      <td>Zimbabwe</td>\n",
       "      <td>2016</td>\n",
       "      <td>1729.0</td>\n",
       "      <td>2845.4</td>\n",
       "      <td>60.8</td>\n",
       "      <td>-0.0</td>\n",
       "      <td>-6205.2</td>\n",
       "    </tr>\n",
       "  </tbody>\n",
       "</table>\n",
       "</div>"
      ],
      "text/plain": [
       "                                         GDP per capita  GDP per worker  \\\n",
       "Country                            Year                                   \n",
       "Haiti                              2016          1636.0          4066.2   \n",
       "Madagascar                         2016          1307.0          2528.6   \n",
       "Venezuela (Bolivarian Republic of) 2016         13159.0         28878.4   \n",
       "Zimbabwe                           2016          1729.0          2845.4   \n",
       "\n",
       "                                         E/pop  Avg. Growth (1960-2016)  \\\n",
       "Country                            Year                                   \n",
       "Haiti                              2016   40.2                     -0.7   \n",
       "Madagascar                         2016   51.7                     -0.9   \n",
       "Venezuela (Bolivarian Republic of) 2016   45.6                      0.2   \n",
       "Zimbabwe                           2016   60.8                     -0.0   \n",
       "\n",
       "                                         Years to double  \n",
       "Country                            Year                   \n",
       "Haiti                              2016           -107.8  \n",
       "Madagascar                         2016            -80.8  \n",
       "Venezuela (Bolivarian Republic of) 2016            375.1  \n",
       "Zimbabwe                           2016          -6205.2  "
      ]
     },
     "execution_count": 40,
     "metadata": {},
     "output_type": "execute_result"
    }
   ],
   "source": [
    "disasters_table.round(decimals=1)"
   ]
  },
  {
   "cell_type": "code",
   "execution_count": 44,
   "metadata": {},
   "outputs": [],
   "source": [
    "from tabulate import tabulate"
   ]
  },
  {
   "cell_type": "code",
   "execution_count": 45,
   "metadata": {},
   "outputs": [
    {
     "name": "stdout",
     "output_type": "stream",
     "text": [
      "| Country                            |   Year |   GDP per capita |   GDP per worker |   E/pop |   Avg. Growth (1960-2016) |   Years to double |\n",
      "|:-----------------------------------|-------:|-----------------:|-----------------:|--------:|--------------------------:|------------------:|\n",
      "| Haiti                              |   2016 |             1636 |           4066.2 |    40.2 |                      -0.7 |            -107.8 |\n",
      "| Madagascar                         |   2016 |             1307 |           2528.6 |    51.7 |                      -0.9 |             -80.8 |\n",
      "| Venezuela (Bolivarian Republic of) |   2016 |            13159 |          28878.4 |    45.6 |                       0.2 |             375.1 |\n",
      "| Zimbabwe                           |   2016 |             1729 |           2845.4 |    60.8 |                      -0   |           -6205.2 |\n"
     ]
    }
   ],
   "source": [
    "print(tabulate(disasters_table.round(decimals=1).reset_index(), tablefmt=\"pipe\", \n",
    "               showindex=False,headers=\"keys\"))"
   ]
  },
  {
   "cell_type": "code",
   "execution_count": 47,
   "metadata": {},
   "outputs": [
    {
     "data": {
      "text/html": [
       "<div>\n",
       "<style scoped>\n",
       "    .dataframe tbody tr th:only-of-type {\n",
       "        vertical-align: middle;\n",
       "    }\n",
       "\n",
       "    .dataframe tbody tr th {\n",
       "        vertical-align: top;\n",
       "    }\n",
       "\n",
       "    .dataframe thead th {\n",
       "        text-align: right;\n",
       "    }\n",
       "</style>\n",
       "<table border=\"1\" class=\"dataframe\">\n",
       "  <thead>\n",
       "    <tr style=\"text-align: right;\">\n",
       "      <th></th>\n",
       "      <th>countrycode</th>\n",
       "      <th>country</th>\n",
       "      <th>year</th>\n",
       "      <th>cgdppc</th>\n",
       "      <th>rgdpnapc</th>\n",
       "      <th>pop</th>\n",
       "      <th>i_cig</th>\n",
       "      <th>i_bm</th>\n",
       "      <th>emp</th>\n",
       "      <th>E/pop</th>\n",
       "      <th>GDP per worker</th>\n",
       "      <th>Avg. Growth (1960-2016)</th>\n",
       "      <th>Years to double</th>\n",
       "    </tr>\n",
       "  </thead>\n",
       "  <tbody>\n",
       "    <tr>\n",
       "      <td>69</td>\n",
       "      <td>AFG</td>\n",
       "      <td>Afghanistan</td>\n",
       "      <td>2016</td>\n",
       "      <td>1929.0</td>\n",
       "      <td>1929.0</td>\n",
       "      <td>33.332</td>\n",
       "      <td>Extrapolated</td>\n",
       "      <td>NaN</td>\n",
       "      <td>NaN</td>\n",
       "      <td>NaN</td>\n",
       "      <td>NaN</td>\n",
       "      <td>-0.629312</td>\n",
       "      <td>-114.410575</td>\n",
       "    </tr>\n",
       "    <tr>\n",
       "      <td>136</td>\n",
       "      <td>AGO</td>\n",
       "      <td>Angola</td>\n",
       "      <td>2016</td>\n",
       "      <td>8397.0</td>\n",
       "      <td>8453.0</td>\n",
       "      <td>17.644</td>\n",
       "      <td>Extrapolated</td>\n",
       "      <td>NaN</td>\n",
       "      <td>14.960469</td>\n",
       "      <td>84.790689</td>\n",
       "      <td>9903.209957</td>\n",
       "      <td>NaN</td>\n",
       "      <td>NaN</td>\n",
       "    </tr>\n",
       "    <tr>\n",
       "      <td>245</td>\n",
       "      <td>ALB</td>\n",
       "      <td>Albania</td>\n",
       "      <td>2016</td>\n",
       "      <td>11285.0</td>\n",
       "      <td>10342.0</td>\n",
       "      <td>3.044</td>\n",
       "      <td>Extrapolated</td>\n",
       "      <td>NaN</td>\n",
       "      <td>1.002480</td>\n",
       "      <td>32.932992</td>\n",
       "      <td>34266.549757</td>\n",
       "      <td>2.475871</td>\n",
       "      <td>29.080675</td>\n",
       "    </tr>\n",
       "    <tr>\n",
       "      <td>312</td>\n",
       "      <td>ARE</td>\n",
       "      <td>United Arab Emirates</td>\n",
       "      <td>2016</td>\n",
       "      <td>70284.0</td>\n",
       "      <td>75876.0</td>\n",
       "      <td>9.343</td>\n",
       "      <td>Extrapolated</td>\n",
       "      <td>NaN</td>\n",
       "      <td>3.876493</td>\n",
       "      <td>41.490886</td>\n",
       "      <td>169396.239100</td>\n",
       "      <td>NaN</td>\n",
       "      <td>NaN</td>\n",
       "    </tr>\n",
       "    <tr>\n",
       "      <td>459</td>\n",
       "      <td>ARG</td>\n",
       "      <td>Argentina</td>\n",
       "      <td>2016</td>\n",
       "      <td>18695.0</td>\n",
       "      <td>18875.0</td>\n",
       "      <td>43.887</td>\n",
       "      <td>Extrapolated</td>\n",
       "      <td>NaN</td>\n",
       "      <td>19.683954</td>\n",
       "      <td>44.851446</td>\n",
       "      <td>41682.044931</td>\n",
       "      <td>1.176846</td>\n",
       "      <td>61.180480</td>\n",
       "    </tr>\n",
       "  </tbody>\n",
       "</table>\n",
       "</div>"
      ],
      "text/plain": [
       "    countrycode               country  year   cgdppc  rgdpnapc     pop  \\\n",
       "69          AFG           Afghanistan  2016   1929.0    1929.0  33.332   \n",
       "136         AGO                Angola  2016   8397.0    8453.0  17.644   \n",
       "245         ALB               Albania  2016  11285.0   10342.0   3.044   \n",
       "312         ARE  United Arab Emirates  2016  70284.0   75876.0   9.343   \n",
       "459         ARG             Argentina  2016  18695.0   18875.0  43.887   \n",
       "\n",
       "            i_cig i_bm        emp      E/pop  GDP per worker  \\\n",
       "69   Extrapolated  NaN        NaN        NaN             NaN   \n",
       "136  Extrapolated  NaN  14.960469  84.790689     9903.209957   \n",
       "245  Extrapolated  NaN   1.002480  32.932992    34266.549757   \n",
       "312  Extrapolated  NaN   3.876493  41.490886   169396.239100   \n",
       "459  Extrapolated  NaN  19.683954  44.851446    41682.044931   \n",
       "\n",
       "     Avg. Growth (1960-2016)  Years to double  \n",
       "69                 -0.629312      -114.410575  \n",
       "136                      NaN              NaN  \n",
       "245                 2.475871        29.080675  \n",
       "312                      NaN              NaN  \n",
       "459                 1.176846        61.180480  "
      ]
     },
     "execution_count": 47,
     "metadata": {},
     "output_type": "execute_result"
    }
   ],
   "source": [
    "df[df.year==2016].head()"
   ]
  },
  {
   "cell_type": "code",
   "execution_count": 53,
   "metadata": {},
   "outputs": [
    {
     "data": {
      "text/plain": [
       "'Real GDP per capita in 2011US$, multiple benchmarks (suitable for cross-country income comparisons)'"
      ]
     },
     "execution_count": 53,
     "metadata": {},
     "output_type": "execute_result"
    }
   ],
   "source": [
    "df_legend['cgdppc']"
   ]
  },
  {
   "cell_type": "code",
   "execution_count": 54,
   "metadata": {},
   "outputs": [],
   "source": [
    "desc_ = df[df.year==2016].cgdppc.describe().reset_index()"
   ]
  },
  {
   "cell_type": "code",
   "execution_count": 64,
   "metadata": {},
   "outputs": [
    {
     "data": {
      "text/html": [
       "<div>\n",
       "<style scoped>\n",
       "    .dataframe tbody tr th:only-of-type {\n",
       "        vertical-align: middle;\n",
       "    }\n",
       "\n",
       "    .dataframe tbody tr th {\n",
       "        vertical-align: top;\n",
       "    }\n",
       "\n",
       "    .dataframe thead th {\n",
       "        text-align: right;\n",
       "    }\n",
       "</style>\n",
       "<table border=\"1\" class=\"dataframe\">\n",
       "  <thead>\n",
       "    <tr style=\"text-align: right;\">\n",
       "      <th></th>\n",
       "      <th>Statistic</th>\n",
       "      <th>GDP per capita</th>\n",
       "    </tr>\n",
       "  </thead>\n",
       "  <tbody>\n",
       "    <tr>\n",
       "      <td>0</td>\n",
       "      <td>count</td>\n",
       "      <td>166.000000</td>\n",
       "    </tr>\n",
       "    <tr>\n",
       "      <td>1</td>\n",
       "      <td>mean</td>\n",
       "      <td>18591.698795</td>\n",
       "    </tr>\n",
       "    <tr>\n",
       "      <td>2</td>\n",
       "      <td>std</td>\n",
       "      <td>19393.210172</td>\n",
       "    </tr>\n",
       "    <tr>\n",
       "      <td>3</td>\n",
       "      <td>min</td>\n",
       "      <td>619.000000</td>\n",
       "    </tr>\n",
       "    <tr>\n",
       "      <td>4</td>\n",
       "      <td>25%</td>\n",
       "      <td>3892.250000</td>\n",
       "    </tr>\n",
       "    <tr>\n",
       "      <td>5</td>\n",
       "      <td>50%</td>\n",
       "      <td>12134.500000</td>\n",
       "    </tr>\n",
       "    <tr>\n",
       "      <td>6</td>\n",
       "      <td>75%</td>\n",
       "      <td>26450.500000</td>\n",
       "    </tr>\n",
       "    <tr>\n",
       "      <td>7</td>\n",
       "      <td>max</td>\n",
       "      <td>139783.000000</td>\n",
       "    </tr>\n",
       "  </tbody>\n",
       "</table>\n",
       "</div>"
      ],
      "text/plain": [
       "  Statistic  GDP per capita\n",
       "0     count      166.000000\n",
       "1      mean    18591.698795\n",
       "2       std    19393.210172\n",
       "3       min      619.000000\n",
       "4       25%     3892.250000\n",
       "5       50%    12134.500000\n",
       "6       75%    26450.500000\n",
       "7       max   139783.000000"
      ]
     },
     "execution_count": 64,
     "metadata": {},
     "output_type": "execute_result"
    }
   ],
   "source": [
    "desc_ "
   ]
  },
  {
   "cell_type": "code",
   "execution_count": 58,
   "metadata": {},
   "outputs": [],
   "source": [
    "desc_.rename(columns={'index':'Statistic','cgdppc':'GDP per capita'},inplace=True)"
   ]
  },
  {
   "cell_type": "code",
   "execution_count": 60,
   "metadata": {
    "scrolled": true
   },
   "outputs": [
    {
     "name": "stdout",
     "output_type": "stream",
     "text": [
      "| Statistic   |   GDP per capita |\n",
      "|:------------|-----------------:|\n",
      "| count       |           166    |\n",
      "| mean        |         18591.7  |\n",
      "| std         |         19393.2  |\n",
      "| min         |           619    |\n",
      "| 25%         |          3892.25 |\n",
      "| 50%         |         12134.5  |\n",
      "| 75%         |         26450.5  |\n",
      "| max         |        139783    |\n"
     ]
    }
   ],
   "source": [
    "print(tabulate(desc_, tablefmt=\"pipe\", \n",
    "               showindex=False,headers=\"keys\"))\n"
   ]
  },
  {
   "cell_type": "code",
   "execution_count": 76,
   "metadata": {},
   "outputs": [
    {
     "data": {
      "text/plain": [
       "0.004428292424686836"
      ]
     },
     "execution_count": 76,
     "metadata": {},
     "output_type": "execute_result"
    }
   ],
   "source": [
    "619/139783"
   ]
  },
  {
   "cell_type": "code",
   "execution_count": 48,
   "metadata": {},
   "outputs": [
    {
     "data": {
      "image/png": "[encoded data removed]",
      "text/plain": [
       "<Figure size 576x432 with 1 Axes>"
      ]
     },
     "metadata": {},
     "output_type": "display_data"
    }
   ],
   "source": [
    "fig,ax=plt.subplots(figsize=(8,6))\n",
    "sns.distplot(df[df.year==2016]['cgdppc'].dropna(),\n",
    "             ax=ax,color=colors[2],kde=False)\n",
    "ax.spines['left'].set_visible(False)\n",
    "ax.spines['right'].set_visible(False)\n",
    "ax.spines['top'].set_visible(False)\n",
    "ax.spines['bottom'].set_visible(False)\n",
    "ax.set_xlabel('GDP per capita')\n",
    "ax.set_ylabel('Count')\n",
    "ax.set_xlim(xmin=-5000)\n",
    "ax.set_ylim(ymin=-3)\n",
    "ax.text(-2,-18,'Source: Maddison Project Database (MPD) 2018')\n",
    "plt.savefig('./income-histogram.svg',bbox_inches='tight')"
   ]
  },
  {
   "cell_type": "code",
   "execution_count": 77,
   "metadata": {},
   "outputs": [],
   "source": [
    "desc_2 = df[df.year==2016]['Avg. Growth (1960-2016)'].describe().reset_index()"
   ]
  },
  {
   "cell_type": "code",
   "execution_count": 79,
   "metadata": {},
   "outputs": [],
   "source": [
    "desc_2.rename(columns={'index':'Statistic','cgdppc':'GDP per capita'},inplace=True)"
   ]
  },
  {
   "cell_type": "code",
   "execution_count": 80,
   "metadata": {},
   "outputs": [
    {
     "data": {
      "text/html": [
       "<div>\n",
       "<style scoped>\n",
       "    .dataframe tbody tr th:only-of-type {\n",
       "        vertical-align: middle;\n",
       "    }\n",
       "\n",
       "    .dataframe tbody tr th {\n",
       "        vertical-align: top;\n",
       "    }\n",
       "\n",
       "    .dataframe thead th {\n",
       "        text-align: right;\n",
       "    }\n",
       "</style>\n",
       "<table border=\"1\" class=\"dataframe\">\n",
       "  <thead>\n",
       "    <tr style=\"text-align: right;\">\n",
       "      <th></th>\n",
       "      <th>Statistic</th>\n",
       "      <th>Avg. Growth (1960-2016)</th>\n",
       "    </tr>\n",
       "  </thead>\n",
       "  <tbody>\n",
       "    <tr>\n",
       "      <td>0</td>\n",
       "      <td>count</td>\n",
       "      <td>144.000000</td>\n",
       "    </tr>\n",
       "    <tr>\n",
       "      <td>1</td>\n",
       "      <td>mean</td>\n",
       "      <td>1.902013</td>\n",
       "    </tr>\n",
       "    <tr>\n",
       "      <td>2</td>\n",
       "      <td>std</td>\n",
       "      <td>1.341066</td>\n",
       "    </tr>\n",
       "    <tr>\n",
       "      <td>3</td>\n",
       "      <td>min</td>\n",
       "      <td>-1.733580</td>\n",
       "    </tr>\n",
       "    <tr>\n",
       "      <td>4</td>\n",
       "      <td>25%</td>\n",
       "      <td>1.118516</td>\n",
       "    </tr>\n",
       "    <tr>\n",
       "      <td>5</td>\n",
       "      <td>50%</td>\n",
       "      <td>1.894071</td>\n",
       "    </tr>\n",
       "    <tr>\n",
       "      <td>6</td>\n",
       "      <td>75%</td>\n",
       "      <td>2.656533</td>\n",
       "    </tr>\n",
       "    <tr>\n",
       "      <td>7</td>\n",
       "      <td>max</td>\n",
       "      <td>5.885369</td>\n",
       "    </tr>\n",
       "  </tbody>\n",
       "</table>\n",
       "</div>"
      ],
      "text/plain": [
       "  Statistic  Avg. Growth (1960-2016)\n",
       "0     count               144.000000\n",
       "1      mean                 1.902013\n",
       "2       std                 1.341066\n",
       "3       min                -1.733580\n",
       "4       25%                 1.118516\n",
       "5       50%                 1.894071\n",
       "6       75%                 2.656533\n",
       "7       max                 5.885369"
      ]
     },
     "execution_count": 80,
     "metadata": {},
     "output_type": "execute_result"
    }
   ],
   "source": [
    "desc_2[]"
   ]
  },
  {
   "cell_type": "code",
   "execution_count": 82,
   "metadata": {},
   "outputs": [
    {
     "name": "stdout",
     "output_type": "stream",
     "text": [
      "| Statistic   |   Avg. Growth (1960-2016) |\n",
      "|:------------|--------------------------:|\n",
      "| count       |                 144       |\n",
      "| mean        |                   1.90201 |\n",
      "| std         |                   1.34107 |\n",
      "| min         |                  -1.73358 |\n",
      "| 25%         |                   1.11852 |\n",
      "| 50%         |                   1.89407 |\n",
      "| 75%         |                   2.65653 |\n",
      "| max         |                   5.88537 |\n"
     ]
    }
   ],
   "source": [
    "print(tabulate(desc_2, tablefmt=\"pipe\", \n",
    "               showindex=False,headers=\"keys\"))\n",
    "\n"
   ]
  },
  {
   "cell_type": "code",
   "execution_count": null,
   "metadata": {},
   "outputs": [],
   "source": []
  },
  {
   "cell_type": "code",
   "execution_count": 47,
   "metadata": {
    "scrolled": false
   },
   "outputs": [
    {
     "data": {
      "image/png": "[encoded data removed]",
      "text/plain": [
       "<Figure size 576x432 with 1 Axes>"
      ]
     },
     "metadata": {},
     "output_type": "display_data"
    }
   ],
   "source": [
    "fig,ax=plt.subplots(figsize=(8,6))\n",
    "sns.distplot(df[df.year==2016]['Avg. Growth (1960-2016)'].dropna(),\n",
    "             ax=ax,color=colors[2],kde=False)\n",
    "ax.spines['left'].set_visible(False)\n",
    "ax.spines['right'].set_visible(False)\n",
    "ax.spines['top'].set_visible(False)\n",
    "ax.spines['bottom'].set_visible(False)\n",
    "ax.set_xlabel('Growth Rate, %')\n",
    "ax.set_ylabel('Count')\n",
    "ax.set_ylim(ymin=-1,ymax=37)\n",
    "ax.text(-2,-9,'Source: Maddison Project Database (MPD) 2018')\n",
    "plt.savefig('./growth-histogram.svg',bbox_inches='tight')"
   ]
  },
  {
   "cell_type": "code",
   "execution_count": 49,
   "metadata": {},
   "outputs": [],
   "source": [
    "country_list = ['USA','IRN','MDA','ETH']"
   ]
  },
  {
   "cell_type": "code",
   "execution_count": 50,
   "metadata": {},
   "outputs": [
    {
     "data": {
      "text/html": [
       "<div>\n",
       "<style scoped>\n",
       "    .dataframe tbody tr th:only-of-type {\n",
       "        vertical-align: middle;\n",
       "    }\n",
       "\n",
       "    .dataframe tbody tr th {\n",
       "        vertical-align: top;\n",
       "    }\n",
       "\n",
       "    .dataframe thead th {\n",
       "        text-align: right;\n",
       "    }\n",
       "</style>\n",
       "<table border=\"1\" class=\"dataframe\">\n",
       "  <thead>\n",
       "    <tr style=\"text-align: right;\">\n",
       "      <th></th>\n",
       "      <th>countrycode</th>\n",
       "      <th>country</th>\n",
       "      <th>year</th>\n",
       "      <th>cgdppc</th>\n",
       "      <th>rgdpnapc</th>\n",
       "      <th>pop</th>\n",
       "      <th>i_cig</th>\n",
       "      <th>i_bm</th>\n",
       "      <th>emp</th>\n",
       "      <th>E/pop</th>\n",
       "      <th>GDP per worker</th>\n",
       "      <th>Avg. Growth (1960-2016)</th>\n",
       "      <th>Years to double</th>\n",
       "    </tr>\n",
       "  </thead>\n",
       "  <tbody>\n",
       "    <tr>\n",
       "      <th>6562</th>\n",
       "      <td>GBR</td>\n",
       "      <td>United Kingdom</td>\n",
       "      <td>1870</td>\n",
       "      <td>3846.0</td>\n",
       "      <td>5716.0</td>\n",
       "      <td>31.400</td>\n",
       "      <td>Extrapolated</td>\n",
       "      <td>NaN</td>\n",
       "      <td>NaN</td>\n",
       "      <td>NaN</td>\n",
       "      <td>NaN</td>\n",
       "      <td>1.814868</td>\n",
       "      <td>39.672300</td>\n",
       "    </tr>\n",
       "    <tr>\n",
       "      <th>6708</th>\n",
       "      <td>GBR</td>\n",
       "      <td>United Kingdom</td>\n",
       "      <td>2016</td>\n",
       "      <td>39162.0</td>\n",
       "      <td>37334.0</td>\n",
       "      <td>65.888</td>\n",
       "      <td>Extrapolated</td>\n",
       "      <td>NaN</td>\n",
       "      <td>31.683855</td>\n",
       "      <td>48.087444</td>\n",
       "      <td>81439.138368</td>\n",
       "      <td>1.814868</td>\n",
       "      <td>39.672300</td>\n",
       "    </tr>\n",
       "    <tr>\n",
       "      <th>18813</th>\n",
       "      <td>USA</td>\n",
       "      <td>United States</td>\n",
       "      <td>1870</td>\n",
       "      <td>3736.0</td>\n",
       "      <td>3736.0</td>\n",
       "      <td>40.241</td>\n",
       "      <td>Extrapolated</td>\n",
       "      <td>NaN</td>\n",
       "      <td>NaN</td>\n",
       "      <td>NaN</td>\n",
       "      <td>NaN</td>\n",
       "      <td>1.923189</td>\n",
       "      <td>37.437809</td>\n",
       "    </tr>\n",
       "    <tr>\n",
       "      <th>18959</th>\n",
       "      <td>USA</td>\n",
       "      <td>United States</td>\n",
       "      <td>2016</td>\n",
       "      <td>53015.0</td>\n",
       "      <td>53015.0</td>\n",
       "      <td>324.656</td>\n",
       "      <td>Extrapolated</td>\n",
       "      <td>NaN</td>\n",
       "      <td>152.632553</td>\n",
       "      <td>47.013625</td>\n",
       "      <td>112765.183379</td>\n",
       "      <td>1.923189</td>\n",
       "      <td>37.437809</td>\n",
       "    </tr>\n",
       "  </tbody>\n",
       "</table>\n",
       "</div>"
      ],
      "text/plain": [
       "      countrycode         country  year   cgdppc  rgdpnapc      pop  \\\n",
       "6562          GBR  United Kingdom  1870   3846.0    5716.0   31.400   \n",
       "6708          GBR  United Kingdom  2016  39162.0   37334.0   65.888   \n",
       "18813         USA   United States  1870   3736.0    3736.0   40.241   \n",
       "18959         USA   United States  2016  53015.0   53015.0  324.656   \n",
       "\n",
       "              i_cig i_bm         emp      E/pop  GDP per worker  \\\n",
       "6562   Extrapolated  NaN         NaN        NaN             NaN   \n",
       "6708   Extrapolated  NaN   31.683855  48.087444    81439.138368   \n",
       "18813  Extrapolated  NaN         NaN        NaN             NaN   \n",
       "18959  Extrapolated  NaN  152.632553  47.013625   112765.183379   \n",
       "\n",
       "       Avg. Growth (1960-2016)  Years to double  \n",
       "6562                  1.814868        39.672300  \n",
       "6708                  1.814868        39.672300  \n",
       "18813                 1.923189        37.437809  \n",
       "18959                 1.923189        37.437809  "
      ]
     },
     "execution_count": 50,
     "metadata": {},
     "output_type": "execute_result"
    }
   ],
   "source": [
    "df[df.countrycode.isin(['USA','GBR']) & (df.year.isin([1870,2016]))]"
   ]
  },
  {
   "cell_type": "code",
   "execution_count": 51,
   "metadata": {},
   "outputs": [
    {
     "data": {
      "text/plain": [
       "0.018168214876788803"
      ]
     },
     "execution_count": 51,
     "metadata": {},
     "output_type": "execute_result"
    }
   ],
   "source": [
    "(np.log(53015.0)-np.log(3736.0))/(2016-1870)"
   ]
  },
  {
   "cell_type": "code",
   "execution_count": 52,
   "metadata": {},
   "outputs": [
    {
     "data": {
      "text/plain": [
       "0.012853665613306742"
      ]
     },
     "execution_count": 52,
     "metadata": {},
     "output_type": "execute_result"
    }
   ],
   "source": [
    "(np.log(37334.0)-np.log(5716.0))/(2016-1870)"
   ]
  },
  {
   "cell_type": "code",
   "execution_count": 53,
   "metadata": {},
   "outputs": [
    {
     "data": {
      "text/plain": [
       "0.029018126799991606"
      ]
     },
     "execution_count": 53,
     "metadata": {},
     "output_type": "execute_result"
    }
   ],
   "source": [
    "np.log(3846.0)-np.log(3736.0)"
   ]
  },
  {
   "cell_type": "code",
   "execution_count": 54,
   "metadata": {},
   "outputs": [
    {
     "data": {
      "text/plain": [
       "-0.3028680034966271"
      ]
     },
     "execution_count": 54,
     "metadata": {},
     "output_type": "execute_result"
    }
   ],
   "source": [
    "np.log(39162.0)-np.log(53015.0)"
   ]
  },
  {
   "cell_type": "code",
   "execution_count": 55,
   "metadata": {},
   "outputs": [
    {
     "data": {
      "text/html": [
       "<div>\n",
       "<style scoped>\n",
       "    .dataframe tbody tr th:only-of-type {\n",
       "        vertical-align: middle;\n",
       "    }\n",
       "\n",
       "    .dataframe tbody tr th {\n",
       "        vertical-align: top;\n",
       "    }\n",
       "\n",
       "    .dataframe thead th {\n",
       "        text-align: right;\n",
       "    }\n",
       "</style>\n",
       "<table border=\"1\" class=\"dataframe\">\n",
       "  <thead>\n",
       "    <tr style=\"text-align: right;\">\n",
       "      <th></th>\n",
       "      <th>countrycode</th>\n",
       "      <th>country</th>\n",
       "      <th>year</th>\n",
       "      <th>cgdppc</th>\n",
       "      <th>rgdpnapc</th>\n",
       "      <th>pop</th>\n",
       "      <th>i_cig</th>\n",
       "      <th>i_bm</th>\n",
       "      <th>emp</th>\n",
       "      <th>E/pop</th>\n",
       "      <th>GDP per worker</th>\n",
       "      <th>Avg. Growth (1960-2016)</th>\n",
       "      <th>Years to double</th>\n",
       "    </tr>\n",
       "  </thead>\n",
       "  <tbody>\n",
       "    <tr>\n",
       "      <th>5398</th>\n",
       "      <td>ETH</td>\n",
       "      <td>Ethiopia</td>\n",
       "      <td>2016</td>\n",
       "      <td>1659.0</td>\n",
       "      <td>1635.0</td>\n",
       "      <td>110.945</td>\n",
       "      <td>Extrapolated</td>\n",
       "      <td>NaN</td>\n",
       "      <td>46.504700</td>\n",
       "      <td>41.916895</td>\n",
       "      <td>3957.831276</td>\n",
       "      <td>1.829238</td>\n",
       "      <td>39.360652</td>\n",
       "    </tr>\n",
       "    <tr>\n",
       "      <th>8643</th>\n",
       "      <td>IRN</td>\n",
       "      <td>Iran (Islamic Republic of)</td>\n",
       "      <td>2016</td>\n",
       "      <td>15529.0</td>\n",
       "      <td>16783.0</td>\n",
       "      <td>80.755</td>\n",
       "      <td>Extrapolated</td>\n",
       "      <td>NaN</td>\n",
       "      <td>22.591078</td>\n",
       "      <td>27.974835</td>\n",
       "      <td>55510.604932</td>\n",
       "      <td>1.835906</td>\n",
       "      <td>39.217703</td>\n",
       "    </tr>\n",
       "    <tr>\n",
       "      <th>10842</th>\n",
       "      <td>MDA</td>\n",
       "      <td>Republic of Moldova</td>\n",
       "      <td>2016</td>\n",
       "      <td>5851.0</td>\n",
       "      <td>6068.0</td>\n",
       "      <td>3.527</td>\n",
       "      <td>Extrapolated</td>\n",
       "      <td>NaN</td>\n",
       "      <td>1.403688</td>\n",
       "      <td>39.798347</td>\n",
       "      <td>14701.615446</td>\n",
       "      <td>NaN</td>\n",
       "      <td>NaN</td>\n",
       "    </tr>\n",
       "    <tr>\n",
       "      <th>18959</th>\n",
       "      <td>USA</td>\n",
       "      <td>United States</td>\n",
       "      <td>2016</td>\n",
       "      <td>53015.0</td>\n",
       "      <td>53015.0</td>\n",
       "      <td>324.656</td>\n",
       "      <td>Extrapolated</td>\n",
       "      <td>NaN</td>\n",
       "      <td>152.632553</td>\n",
       "      <td>47.013625</td>\n",
       "      <td>112765.183379</td>\n",
       "      <td>1.923189</td>\n",
       "      <td>37.437809</td>\n",
       "    </tr>\n",
       "  </tbody>\n",
       "</table>\n",
       "</div>"
      ],
      "text/plain": [
       "      countrycode                     country  year   cgdppc  rgdpnapc  \\\n",
       "5398          ETH                    Ethiopia  2016   1659.0    1635.0   \n",
       "8643          IRN  Iran (Islamic Republic of)  2016  15529.0   16783.0   \n",
       "10842         MDA         Republic of Moldova  2016   5851.0    6068.0   \n",
       "18959         USA               United States  2016  53015.0   53015.0   \n",
       "\n",
       "           pop         i_cig i_bm         emp      E/pop  GDP per worker  \\\n",
       "5398   110.945  Extrapolated  NaN   46.504700  41.916895     3957.831276   \n",
       "8643    80.755  Extrapolated  NaN   22.591078  27.974835    55510.604932   \n",
       "10842    3.527  Extrapolated  NaN    1.403688  39.798347    14701.615446   \n",
       "18959  324.656  Extrapolated  NaN  152.632553  47.013625   112765.183379   \n",
       "\n",
       "       Avg. Growth (1960-2016)  Years to double  \n",
       "5398                  1.829238        39.360652  \n",
       "8643                  1.835906        39.217703  \n",
       "10842                      NaN              NaN  \n",
       "18959                 1.923189        37.437809  "
      ]
     },
     "execution_count": 55,
     "metadata": {},
     "output_type": "execute_result"
    }
   ],
   "source": [
    "df[df.countrycode.isin(country_list) & (df.year == 2016)]"
   ]
  },
  {
   "cell_type": "code",
   "execution_count": 56,
   "metadata": {},
   "outputs": [
    {
     "data": {
      "text/plain": [
       "3.526823387582881"
      ]
     },
     "execution_count": 56,
     "metadata": {},
     "output_type": "execute_result"
    }
   ],
   "source": [
    "5851.0/1659.0"
   ]
  },
  {
   "cell_type": "code",
   "execution_count": 57,
   "metadata": {},
   "outputs": [],
   "source": [
    "country_list = ['USA','GBR','JPN','KOR','ARG','HTI']"
   ]
  },
  {
   "cell_type": "code",
   "execution_count": 58,
   "metadata": {},
   "outputs": [],
   "source": [
    "groups = [0,2,4,5,6]"
   ]
  },
  {
   "cell_type": "code",
   "execution_count": 59,
   "metadata": {},
   "outputs": [],
   "source": [
    "color_codes = dict(zip(country_list,colors))"
   ]
  },
  {
   "cell_type": "code",
   "execution_count": 60,
   "metadata": {},
   "outputs": [
    {
     "data": {
      "text/html": [
       "<div>\n",
       "<style scoped>\n",
       "    .dataframe tbody tr th:only-of-type {\n",
       "        vertical-align: middle;\n",
       "    }\n",
       "\n",
       "    .dataframe tbody tr th {\n",
       "        vertical-align: top;\n",
       "    }\n",
       "\n",
       "    .dataframe thead th {\n",
       "        text-align: right;\n",
       "    }\n",
       "</style>\n",
       "<table border=\"1\" class=\"dataframe\">\n",
       "  <thead>\n",
       "    <tr style=\"text-align: right;\">\n",
       "      <th></th>\n",
       "      <th>countrycode</th>\n",
       "      <th>country</th>\n",
       "      <th>year</th>\n",
       "      <th>cgdppc</th>\n",
       "      <th>rgdpnapc</th>\n",
       "      <th>pop</th>\n",
       "      <th>i_cig</th>\n",
       "      <th>i_bm</th>\n",
       "      <th>emp</th>\n",
       "      <th>E/pop</th>\n",
       "      <th>GDP per worker</th>\n",
       "      <th>Avg. Growth (1960-2016)</th>\n",
       "      <th>Years to double</th>\n",
       "    </tr>\n",
       "  </thead>\n",
       "  <tbody>\n",
       "    <tr>\n",
       "      <th>0</th>\n",
       "      <td>AFG</td>\n",
       "      <td>Afghanistan</td>\n",
       "      <td>1820</td>\n",
       "      <td>NaN</td>\n",
       "      <td>NaN</td>\n",
       "      <td>3.280</td>\n",
       "      <td>NaN</td>\n",
       "      <td>NaN</td>\n",
       "      <td>NaN</td>\n",
       "      <td>NaN</td>\n",
       "      <td>NaN</td>\n",
       "      <td>-0.629312</td>\n",
       "      <td>-114.410575</td>\n",
       "    </tr>\n",
       "    <tr>\n",
       "      <th>1</th>\n",
       "      <td>AFG</td>\n",
       "      <td>Afghanistan</td>\n",
       "      <td>1870</td>\n",
       "      <td>NaN</td>\n",
       "      <td>NaN</td>\n",
       "      <td>4.207</td>\n",
       "      <td>NaN</td>\n",
       "      <td>NaN</td>\n",
       "      <td>NaN</td>\n",
       "      <td>NaN</td>\n",
       "      <td>NaN</td>\n",
       "      <td>-0.629312</td>\n",
       "      <td>-114.410575</td>\n",
       "    </tr>\n",
       "    <tr>\n",
       "      <th>2</th>\n",
       "      <td>AFG</td>\n",
       "      <td>Afghanistan</td>\n",
       "      <td>1913</td>\n",
       "      <td>NaN</td>\n",
       "      <td>NaN</td>\n",
       "      <td>5.730</td>\n",
       "      <td>NaN</td>\n",
       "      <td>NaN</td>\n",
       "      <td>NaN</td>\n",
       "      <td>NaN</td>\n",
       "      <td>NaN</td>\n",
       "      <td>-0.629312</td>\n",
       "      <td>-114.410575</td>\n",
       "    </tr>\n",
       "    <tr>\n",
       "      <th>3</th>\n",
       "      <td>AFG</td>\n",
       "      <td>Afghanistan</td>\n",
       "      <td>1950</td>\n",
       "      <td>2392.0</td>\n",
       "      <td>2392.0</td>\n",
       "      <td>8.150</td>\n",
       "      <td>Extrapolated</td>\n",
       "      <td>NaN</td>\n",
       "      <td>NaN</td>\n",
       "      <td>NaN</td>\n",
       "      <td>NaN</td>\n",
       "      <td>-0.629312</td>\n",
       "      <td>-114.410575</td>\n",
       "    </tr>\n",
       "    <tr>\n",
       "      <th>4</th>\n",
       "      <td>AFG</td>\n",
       "      <td>Afghanistan</td>\n",
       "      <td>1951</td>\n",
       "      <td>2422.0</td>\n",
       "      <td>2422.0</td>\n",
       "      <td>8.284</td>\n",
       "      <td>Extrapolated</td>\n",
       "      <td>NaN</td>\n",
       "      <td>NaN</td>\n",
       "      <td>NaN</td>\n",
       "      <td>NaN</td>\n",
       "      <td>-0.629312</td>\n",
       "      <td>-114.410575</td>\n",
       "    </tr>\n",
       "  </tbody>\n",
       "</table>\n",
       "</div>"
      ],
      "text/plain": [
       "  countrycode      country  year  cgdppc  rgdpnapc    pop         i_cig i_bm  \\\n",
       "0         AFG  Afghanistan  1820     NaN       NaN  3.280           NaN  NaN   \n",
       "1         AFG  Afghanistan  1870     NaN       NaN  4.207           NaN  NaN   \n",
       "2         AFG  Afghanistan  1913     NaN       NaN  5.730           NaN  NaN   \n",
       "3         AFG  Afghanistan  1950  2392.0    2392.0  8.150  Extrapolated  NaN   \n",
       "4         AFG  Afghanistan  1951  2422.0    2422.0  8.284  Extrapolated  NaN   \n",
       "\n",
       "   emp  E/pop  GDP per worker  Avg. Growth (1960-2016)  Years to double  \n",
       "0  NaN    NaN             NaN                -0.629312      -114.410575  \n",
       "1  NaN    NaN             NaN                -0.629312      -114.410575  \n",
       "2  NaN    NaN             NaN                -0.629312      -114.410575  \n",
       "3  NaN    NaN             NaN                -0.629312      -114.410575  \n",
       "4  NaN    NaN             NaN                -0.629312      -114.410575  "
      ]
     },
     "execution_count": 60,
     "metadata": {},
     "output_type": "execute_result"
    }
   ],
   "source": [
    "df.head()"
   ]
  },
  {
   "cell_type": "code",
   "execution_count": 61,
   "metadata": {},
   "outputs": [
    {
     "data": {
      "text/plain": [
       "'Real GDP per capita in 2011US$, multiple benchmarks (suitable for cross-country income comparisons)'"
      ]
     },
     "execution_count": 61,
     "metadata": {},
     "output_type": "execute_result"
    }
   ],
   "source": [
    "df_legend['cgdppc']"
   ]
  },
  {
   "cell_type": "code",
   "execution_count": 62,
   "metadata": {},
   "outputs": [],
   "source": [
    "alphas = dict(zip(country_list,np.ones(len(country_list))))"
   ]
  },
  {
   "cell_type": "code",
   "execution_count": 63,
   "metadata": {},
   "outputs": [
    {
     "data": {
      "image/png": "[encoded data removed]",
      "text/plain": [
       "<Figure size 576x432 with 1 Axes>"
      ]
     },
     "metadata": {},
     "output_type": "display_data"
    },
    {
     "data": {
      "image/png": "[encoded data removed]",
      "text/plain": [
       "<Figure size 576x432 with 1 Axes>"
      ]
     },
     "metadata": {},
     "output_type": "display_data"
    },
    {
     "data": {
      "image/png": "[encoded data removed]",
      "text/plain": [
       "<Figure size 576x432 with 1 Axes>"
      ]
     },
     "metadata": {},
     "output_type": "display_data"
    },
    {
     "data": {
      "image/png": "[encoded data removed]",
      "text/plain": [
       "<Figure size 576x432 with 1 Axes>"
      ]
     },
     "metadata": {},
     "output_type": "display_data"
    }
   ],
   "source": [
    "annotate={'USA':(1935,25000),\n",
    "         'GBR':(1910,4500),\n",
    "         'JPN':(1900,2200),\n",
    "         'KOR':(1982,5000),\n",
    "         'ARG':(2010,15000),\n",
    "         'HTI':(2010,1800)}\n",
    "ticks = np.array([.5,1,5,30,60],dtype=int)\n",
    "for group in groups[1:]:\n",
    "    fig,ax = plt.subplots(figsize=(8,6))\n",
    "    file_name = './gdp-per-capita'\n",
    "    for country in country_list[:group]:\n",
    "        data = df[(df.countrycode==country) & (df.year>=1880)]\n",
    "        country_name = data.country.unique()[0]\n",
    "        ax.plot(data.year,data.cgdppc,color_codes[country],linewidth=2,alpha=alphas[country])\n",
    "        ax.set_yscale('log')\n",
    "        ax.set_yticks(ticks*1000)\n",
    "        ax.set_ylim(ymin=500,ymax=65000)\n",
    "        ax.set_xlim(xmax=2039)\n",
    "        ax.set_yticklabels((ticks))\n",
    "        ax.annotate(country_name,annotate[country],color=color_codes[country],alpha=alphas[country])\n",
    "        ax.spines['left'].set_visible(False)\n",
    "        ax.spines['right'].set_visible(False)\n",
    "        ax.spines['top'].set_visible(False)\n",
    "        ax.spines['bottom'].set_visible(False)\n",
    "        ax.set_xlabel('Year')\n",
    "        ax.set_ylabel('GDP per capita in thousand 2011US$')\n",
    "        file_name += f'_{country}'\n",
    "        alphas[country]=.3\n",
    "    plt.savefig(file_name+'.svg',bbox_inches='tight')"
   ]
  },
  {
   "cell_type": "code",
   "execution_count": 64,
   "metadata": {},
   "outputs": [],
   "source": [
    "df_income = df[df.year.isin([1960,2016])][['country','countrycode','year','cgdppc']]"
   ]
  },
  {
   "cell_type": "code",
   "execution_count": 65,
   "metadata": {},
   "outputs": [],
   "source": [
    "df_income=df_income.pivot_table(index=['country','countrycode'],values='cgdppc',columns=['year'])"
   ]
  },
  {
   "cell_type": "code",
   "execution_count": 66,
   "metadata": {},
   "outputs": [],
   "source": [
    "df_income.dropna(inplace=True)"
   ]
  },
  {
   "cell_type": "code",
   "execution_count": 67,
   "metadata": {},
   "outputs": [],
   "source": [
    "USA_income = df_income.xs('USA',level=1)"
   ]
  },
  {
   "cell_type": "code",
   "execution_count": 68,
   "metadata": {},
   "outputs": [],
   "source": [
    "df_income[1960]=df_income[1960]/USA_income[1960].values[0]\n",
    "df_income[2016]=df_income[2016]/USA_income[2016].values[0]"
   ]
  },
  {
   "cell_type": "code",
   "execution_count": 69,
   "metadata": {},
   "outputs": [],
   "source": [
    "df_income.reset_index(inplace=True)"
   ]
  },
  {
   "cell_type": "code",
   "execution_count": 70,
   "metadata": {
    "scrolled": true
   },
   "outputs": [],
   "source": [
    "df_income=df_income.merge(df[df.year==2016][['countrycode','country','pop']],on=['countrycode','country'],how='left')"
   ]
  },
  {
   "cell_type": "code",
   "execution_count": 71,
   "metadata": {},
   "outputs": [],
   "source": [
    "df_income.dropna(inplace=True)"
   ]
  },
  {
   "cell_type": "code",
   "execution_count": 72,
   "metadata": {
    "scrolled": false
   },
   "outputs": [
    {
     "data": {
      "image/png": "[encoded data removed]",
      "text/plain": [
       "<Figure size 576x576 with 1 Axes>"
      ]
     },
     "metadata": {},
     "output_type": "display_data"
    }
   ],
   "source": [
    "fig,ax = plt.subplots(figsize=(8,8))\n",
    "ax.scatter(df_income[1960],df_income[2016],color='k',sizes=df_income['pop'],alpha=.7)\n",
    "ax.plot(np.linspace(0,1.2),np.linspace(0,1.2),color='r',linewidth=2)\n",
    "ax.set_xlim(xmin=-0.1,xmax=1.31)\n",
    "ax.set_ylim(ymin=-0.1,ymax=1.31)\n",
    "ax.set_xlabel('GDP per capita relative to the US in 1960')\n",
    "ax.set_ylabel('GDP per capita relative to the US in 2016')\n",
    "ax.annotate('$45^\\circ$',(1.2,1.2),color='r')\n",
    "ax.spines['left'].set_visible(False)\n",
    "ax.spines['right'].set_visible(False)\n",
    "ax.spines['top'].set_visible(False)\n",
    "ax.spines['bottom'].set_visible(False)\n",
    "usa_ = df_income[df_income.countrycode=='USA'][[1960,2016]].values[0]\n",
    "gbr_ = df_income[df_income.countrycode=='GBR'][[1960,2016]].values[0]\n",
    "chn_ = df_income[df_income.countrycode=='CHN'][[1960,2016]].values[0]\n",
    "ind_ = df_income[df_income.countrycode=='IND'][[1960,2016]].values[0]\n",
    "deu_ = df_income[df_income.countrycode=='DEU'][[1960,2016]].values[0]\n",
    "\n",
    "ax.annotate(\n",
    "    \"USA\", xy=(usa_[0],usa_[1]), xycoords=\"data\",\n",
    "    xytext=(25, -25), textcoords=\"offset points\",\n",
    "    arrowprops=dict(arrowstyle=\"->\", color='k',connectionstyle=\"arc3,rad=0.6\"))\n",
    "ax.annotate(\n",
    "    \"GBR\", xy=(gbr_[0],gbr_[1]), xycoords=\"data\",\n",
    "    xytext=(25, -25), textcoords=\"offset points\",\n",
    "    arrowprops=dict(arrowstyle=\"->\", color='k',connectionstyle=\"arc3,rad=0.6\"))\n",
    "ax.annotate(\n",
    "    \"DEU\", xy=(deu_[0],deu_[1]), xycoords=\"data\",\n",
    "    xytext=(-35, 35), textcoords=\"offset points\",\n",
    "    arrowprops=dict(arrowstyle=\"->\", color='k',connectionstyle=\"arc3,rad=0.6\"))\n",
    "ax.annotate(\n",
    "    \"CHN\", xy=(chn_[0],chn_[1]), xycoords=\"data\",\n",
    "    xytext=(-35, 35), textcoords=\"offset points\",\n",
    "    arrowprops=dict(arrowstyle=\"->\", color='k',connectionstyle=\"arc3,rad=0.6\"))\n",
    "ax.annotate(\n",
    "    \"IND\", xy=(ind_[0],ind_[1]), xycoords=\"data\",\n",
    "    xytext=(35, -35), textcoords=\"offset points\",\n",
    "    arrowprops=dict(arrowstyle=\"->\", color='k',connectionstyle=\"arc3,rad=0.6\"))\n",
    "plt.savefig('./scatter-gdp-size.svg',bbox_inches='tight')"
   ]
  },
  {
   "cell_type": "code",
   "execution_count": 73,
   "metadata": {},
   "outputs": [],
   "source": [
    "import plotly_express as px"
   ]
  },
  {
   "cell_type": "code",
   "execution_count": 74,
   "metadata": {},
   "outputs": [
    {
     "data": {
      "text/html": [
       "<script type=\"text/javascript\">window.PlotlyConfig = {MathJaxConfig: 'local'};</script><script type=\"text/javascript\">if (window.MathJax) {MathJax.Hub.Config({SVG: {font: \"STIX-Web\"}});}</script><script>requirejs.config({paths: { 'plotly': ['https://cdn.plot.ly/plotly-latest.min']},});if(!window._Plotly) {require(['plotly'],function(plotly) {window._Plotly=plotly;});}</script>"
      ],
      "text/vnd.plotly.v1+html": [
       "<script type=\"text/javascript\">window.PlotlyConfig = {MathJaxConfig: 'local'};</script><script type=\"text/javascript\">if (window.MathJax) {MathJax.Hub.Config({SVG: {font: \"STIX-Web\"}});}</script><script>requirejs.config({paths: { 'plotly': ['https://cdn.plot.ly/plotly-latest.min']},});if(!window._Plotly) {require(['plotly'],function(plotly) {window._Plotly=plotly;});}</script>"
      ]
     },
     "metadata": {},
     "output_type": "display_data"
    }
   ],
   "source": [
    "import plotly as py\n",
    "py.offline.init_notebook_mode(connected=True)"
   ]
  },
  {
   "cell_type": "code",
   "execution_count": 94,
   "metadata": {},
   "outputs": [
    {
     "data": {
      "text/plain": [
       "'file://C:\\\\Users\\\\ig212\\\\Dropbox\\\\Kent-Teaching\\\\EconomicGrowth\\\\economicgrowth\\\\lecture1\\\\visuals\\\\myplot.html'"
      ]
     },
     "execution_count": 94,
     "metadata": {},
     "output_type": "execute_result"
    }
   ],
   "source": [
    "data = px.scatter(df_income, x=1960, y=2016,size='pop',\n",
    "           labels={1960:'GDP per capita relative to the US, 1960',\n",
    "                  2016:'GDP per capita relative to the US, 2016',\n",
    "                  'pop':'Population'},hover_name='country',\n",
    "          width=500,height=500,range_x=(0,1.3),range_y=(0,1.3),\n",
    "          template='plotly_white')\n",
    "py.offline.plot(data, filename='myplot.html')"
   ]
  },
  {
   "cell_type": "code",
   "execution_count": 77,
   "metadata": {},
   "outputs": [
    {
     "data": {
      "text/html": [
       "<div>\n",
       "<style scoped>\n",
       "    .dataframe tbody tr th:only-of-type {\n",
       "        vertical-align: middle;\n",
       "    }\n",
       "\n",
       "    .dataframe tbody tr th {\n",
       "        vertical-align: top;\n",
       "    }\n",
       "\n",
       "    .dataframe thead th {\n",
       "        text-align: right;\n",
       "    }\n",
       "</style>\n",
       "<table border=\"1\" class=\"dataframe\">\n",
       "  <thead>\n",
       "    <tr style=\"text-align: right;\">\n",
       "      <th></th>\n",
       "      <th>country</th>\n",
       "      <th>countrycode</th>\n",
       "      <th>1960</th>\n",
       "      <th>2016</th>\n",
       "      <th>pop</th>\n",
       "    </tr>\n",
       "  </thead>\n",
       "  <tbody>\n",
       "    <tr>\n",
       "      <th>0</th>\n",
       "      <td>Afghanistan</td>\n",
       "      <td>AFG</td>\n",
       "      <td>0.151955</td>\n",
       "      <td>0.036386</td>\n",
       "      <td>33.332</td>\n",
       "    </tr>\n",
       "    <tr>\n",
       "      <th>1</th>\n",
       "      <td>Albania</td>\n",
       "      <td>ALB</td>\n",
       "      <td>0.118618</td>\n",
       "      <td>0.212864</td>\n",
       "      <td>3.044</td>\n",
       "    </tr>\n",
       "    <tr>\n",
       "      <th>2</th>\n",
       "      <td>Argentina</td>\n",
       "      <td>ARG</td>\n",
       "      <td>0.494407</td>\n",
       "      <td>0.352636</td>\n",
       "      <td>43.887</td>\n",
       "    </tr>\n",
       "    <tr>\n",
       "      <th>3</th>\n",
       "      <td>Australia</td>\n",
       "      <td>AUS</td>\n",
       "      <td>0.841511</td>\n",
       "      <td>0.844723</td>\n",
       "      <td>23.978</td>\n",
       "    </tr>\n",
       "    <tr>\n",
       "      <th>4</th>\n",
       "      <td>Austria</td>\n",
       "      <td>AUT</td>\n",
       "      <td>0.471149</td>\n",
       "      <td>0.849005</td>\n",
       "      <td>8.780</td>\n",
       "    </tr>\n",
       "  </tbody>\n",
       "</table>\n",
       "</div>"
      ],
      "text/plain": [
       "       country countrycode      1960      2016     pop\n",
       "0  Afghanistan         AFG  0.151955  0.036386  33.332\n",
       "1      Albania         ALB  0.118618  0.212864   3.044\n",
       "2    Argentina         ARG  0.494407  0.352636  43.887\n",
       "3    Australia         AUS  0.841511  0.844723  23.978\n",
       "4      Austria         AUT  0.471149  0.849005   8.780"
      ]
     },
     "execution_count": 77,
     "metadata": {},
     "output_type": "execute_result"
    }
   ],
   "source": [
    "df_income.head()"
   ]
  },
  {
   "cell_type": "code",
   "execution_count": 92,
   "metadata": {},
   "outputs": [
    {
     "data": {
      "application/vnd.plotly.v1+json": {
       "config": {
        "linkText": "Export to plot.ly",
        "plotlyServerURL": "https://plot.ly",
        "showLink": false
       },
       "data": [
        {
         "hovertemplate": "<b>%{hovertext}</b><br><br>GDP per capita relative to the US, 1960=%{x}<br>GDP per capita relative to the US, 2016=%{y}<br>Population=%{marker.size}<extra></extra>",
         "hovertext": [
          "Afghanistan",
          "Albania",
          "Argentina",
          "Australia",
          "Austria",
          "Bangladesh",
          "Barbados",
          "Belgium",
          "Benin",
          "Bolivia (Plurinational State of)",
          "Bosnia and Herzegovina",
          "Botswana",
          "Brazil",
          "Bulgaria",
          "Burkina Faso",
          "Burundi",
          "Cabo Verde",
          "Cambodia",
          "Cameroon",
          "Canada",
          "Central African Republic",
          "Chad",
          "Chile",
          "China",
          "China, Hong Kong SAR",
          "Colombia",
          "Comoros",
          "Congo",
          "Costa Rica",
          "Croatia",
          "Cyprus",
          "Czechoslovakia",
          "Côte d'Ivoire",
          "D.R. of the Congo",
          "Denmark",
          "Djibouti",
          "Dominica",
          "Dominican Republic",
          "Ecuador",
          "Egypt",
          "El Salvador",
          "Equatorial Guinea",
          "Ethiopia",
          "Finland",
          "Former USSR",
          "Former Yugoslavia",
          "France",
          "Gabon",
          "Gambia",
          "Germany",
          "Ghana",
          "Greece",
          "Guatemala",
          "Guinea",
          "Guinea-Bissau",
          "Haiti",
          "Honduras",
          "Hungary",
          "Iceland",
          "India",
          "Indonesia",
          "Iran (Islamic Republic of)",
          "Iraq",
          "Ireland",
          "Israel",
          "Italy",
          "Jamaica",
          "Japan",
          "Jordan",
          "Kenya",
          "Lao People's DR",
          "Lebanon",
          "Lesotho",
          "Liberia",
          "Libya",
          "Luxembourg",
          "Madagascar",
          "Malawi",
          "Malaysia",
          "Mali",
          "Malta",
          "Mauritania",
          "Mauritius",
          "Mexico",
          "Mongolia",
          "Montenegro",
          "Morocco",
          "Mozambique",
          "Myanmar",
          "Namibia",
          "Nepal",
          "Netherlands",
          "New Zealand",
          "Nicaragua",
          "Niger",
          "Nigeria",
          "Norway",
          "Oman",
          "Pakistan",
          "Panama",
          "Paraguay",
          "Peru",
          "Philippines",
          "Poland",
          "Portugal",
          "Puerto Rico",
          "Republic of Korea",
          "Romania",
          "Russian Federation",
          "Rwanda",
          "Saint Lucia",
          "Sao Tome and Principe",
          "Saudi Arabia",
          "Senegal",
          "Serbia",
          "Seychelles",
          "Sierra Leone",
          "Singapore",
          "Slovenia",
          "South Africa",
          "Spain",
          "Sri Lanka",
          "Sudan (Former)",
          "Swaziland",
          "Sweden",
          "Switzerland",
          "Syrian Arab Republic",
          "TFYR of Macedonia",
          "Taiwan, Province of China",
          "Thailand",
          "Togo",
          "Trinidad and Tobago",
          "Tunisia",
          "Turkey",
          "U.R. of Tanzania: Mainland",
          "Uganda",
          "United Kingdom",
          "United States",
          "Uruguay",
          "Venezuela (Bolivarian Republic of)",
          "Viet Nam",
          "Yemen",
          "Zambia",
          "Zimbabwe"
         ],
         "legendgroup": "",
         "marker": {
          "color": "#636efa",
          "size": [
           33.332,
           3.044,
           43.887,
           23.978,
           8.78,
           164.044,
           0.291,
           11.285,
           10.741,
           10.97,
           3.959,
           2.181,
           208.249,
           7.145,
           19.513,
           11.099,
           0.553,
           15.918,
           24.16,
           36.437,
           5.507,
           11.852,
           18.212,
           1372.86,
           7.233,
           47.079,
           0.795,
           4.852,
           4.879,
           4.314,
           1,
           15.935,
           23.74,
           81.116,
           5.731,
           0.847,
           0.074,
           10.606,
           16.081,
           97.305,
           6.157,
           0.759,
           110.945,
           5.495,
           291.22,
           21.817,
           66.957,
           1.739,
           2.01,
           83.707,
           26.675,
           10.688,
           15.191,
           12.093,
           1.759,
           10.486,
           8.893,
           9.822,
           0.335,
           1268.155,
           255.079,
           80.755,
           38.957,
           4.711,
           8.209,
           60.738,
           2.971,
           126.31,
           7.525,
           46.778,
           7.019,
           6.238,
           1.953,
           4.576,
           6.542,
           0.584,
           24.43,
           18.92,
           30.301,
           15.98,
           0.439,
           3.677,
           1.348,
           119.252,
           3.031,
           0.645,
           34.686,
           25.286,
           55.174,
           2.436,
           29.034,
           17.035,
           4.659,
           5.967,
           18.677,
           185.899,
           5.236,
           4.554,
           194.839,
           3.705,
           6.863,
           30.791,
           108.645,
           38.505,
           10.263,
           3.411,
           51.246,
           21.6,
           143.833,
           11.605,
           0.164,
           0.198,
           31.567,
           15.593,
           8.742,
           0.093,
           6.019,
           5.782,
           2.057,
           54.263,
           47.024,
           22.687,
           45.282,
           1.451,
           9.917,
           8.491,
           18.54,
           2.1,
           23.276,
           67.107,
           7.757,
           1.22,
           11.14,
           83.463,
           53.349,
           40.419,
           65.888,
           324.656,
           3.378,
           30.111,
           95.296,
           28.523,
           16.274,
           14.547
          ],
          "sizemode": "area",
          "sizeref": 3.4321499999999996,
          "symbol": "circle"
         },
         "mode": "markers",
         "name": "",
         "showlegend": false,
         "type": "scatter",
         "uid": "6cb4d55f-9a04-4a86-a252-967d8a13fe64",
         "x": [
          0.1519548122715694,
          0.11861778713035774,
          0.4944069110643482,
          0.8415106877838078,
          0.4711485214309447,
          0.06373906301916048,
          0.3973308229039761,
          0.5046516779266806,
          0.0709380883818806,
          0.06850149518219072,
          0.053272787684128915,
          0.06645254180972422,
          0.12625982943847602,
          0.2853582899545908,
          0.08622217299811717,
          0.05388193598405139,
          0.07110421973640492,
          0.04258500387639827,
          0.05908738509247979,
          0.7545686122494185,
          0.0772510798538044,
          0.08206888913500941,
          0.2746705061468601,
          0.05111308007531288,
          0.2769963451102005,
          0.18700852807619892,
          0.06108096134677152,
          0.07730645697197917,
          0.21170672278214642,
          0.32185181083176434,
          0.25058145974083507,
          0.5289068556872301,
          0.11463063462177428,
          0.11734411341233802,
          0.667460405360505,
          0.2783807730645697,
          0.1688448333148743,
          0.11269243548565733,
          0.16203344777937756,
          0.09187063905194373,
          0.0845054823346993,
          0.0636836859009857,
          0.04153283863107764,
          0.4667183519769631,
          0.4643925130136228,
          0.11728873629416325,
          0.5694982833093366,
          0.2958245652896223,
          0.11042197364049175,
          0.6416546682910621,
          0.1524532063351423,
          0.24864326060471814,
          0.11889467272123158,
          0.07858013068999889,
          0.046572156384981724,
          0.1489644478901318,
          0.1092036770406468,
          0.24958467161368922,
          0.6265367150293498,
          0.07769409679920257,
          0.08168124930778602,
          0.17709602392291504,
          0.33519769631188395,
          0.32168567947724,
          0.3670949163805516,
          0.3913500941411009,
          0.23136559973418983,
          0.2871303577361834,
          0.1452541809724222,
          0.07730645697197917,
          0.038099457304241885,
          0.5100232583896334,
          0.028463838741831875,
          0.049119503821021156,
          0.351810831764315,
          0.8793886366153505,
          0.06207774947391738,
          0.060471813046849045,
          0.13733525307343006,
          0.0644589655554325,
          0.1318529183741278,
          0.05742607154723668,
          0.1918817144755787,
          0.18717465943072323,
          0.04983940635729316,
          0.24028131576032782,
          0.13711374460073097,
          0.030235906523424522,
          0.043747923358068444,
          0.21851810831764315,
          0.038154834422416656,
          0.5964115627422749,
          0.7020157271015617,
          0.11728873629416325,
          0.07536825783586222,
          0.12066674050282424,
          0.5676154612913944,
          0.10831764314985048,
          0.06069332151954812,
          0.13179754125595303,
          0.06595414774615128,
          0.13766751578247868,
          0.09851589323291617,
          0.2284859895891018,
          0.21597076088160372,
          0.4189832761103112,
          0.08234577472588327,
          0.10261379997784915,
          0.45475689445121276,
          0.04031454203123269,
          0.14990585889910288,
          0.06689555875512239,
          0.4158821574925241,
          0.12941632517443794,
          0.16413777827001882,
          0.33796655222062244,
          0.10864990585889911,
          0.1309668844833315,
          0.3657104884261823,
          0.32129803965001663,
          0.30302359065234247,
          0.08350869420755344,
          0.116624210876066,
          0.0529405249750803,
          0.6308007531288071,
          0.8100011075423635,
          0.15339461734411342,
          0.1718351976963119,
          0.11712260493963894,
          0.07575589766308562,
          0.061025584228596746,
          0.4304463395724886,
          0.10798538044080186,
          0.169398604496622,
          0.07531288071768745,
          0.06700631299147192,
          0.6645254180972422,
          1,
          0.3802746705061469,
          0.31603721342341345,
          0.0598072876287518,
          0.061800863883043525,
          0.09447336360615793,
          0.1500719902536272
         ],
         "xaxis": "x",
         "y": [
          0.03638592851079883,
          0.21286428369329435,
          0.3526360464019617,
          0.8447231915495614,
          0.8490049985853061,
          0.06130340469678393,
          0.19164387437517683,
          0.7494671319437894,
          0.04085636140714892,
          0.11540130151843818,
          0.1994907101763652,
          0.2832217296991418,
          0.2542487975101386,
          0.3386400075450344,
          0.029444496840516834,
          0.013052909553899839,
          0.12283316042629444,
          0.062378572102235214,
          0.05287182872771857,
          0.8105064604357257,
          0.01167594077147977,
          0.041346788644723194,
          0.4045270206545317,
          0.23238706026596245,
          0.8873526360464019,
          0.24451570310289542,
          0.03231160992172027,
          0.08129774592096577,
          0.26381212864283693,
          0.40790342355937,
          0.5006130340469679,
          0.5681033669716118,
          0.06911251532585118,
          0.01576912194661888,
          0.851475997359238,
          0.06401961708950298,
          0.1843440535697444,
          0.2657361124210129,
          0.1987362067339432,
          0.21559935867207394,
          0.1572196548146751,
          0.5939073847024428,
          0.03129303027445063,
          0.7230972366311421,
          0.34150712062623784,
          0.3086107705366406,
          0.7310761105347543,
          0.270376308591908,
          0.036782042818070355,
          0.8835423936621711,
          0.07079128548524002,
          0.46569838724889184,
          0.1346222767141375,
          0.03146279354899557,
          0.025539941525983212,
          0.030859190795058004,
          0.08365556917853438,
          0.45358860699801945,
          0.8107139488823918,
          0.112439875506932,
          0.1982646420824295,
          0.2929170989342639,
          0.26362350278223146,
          1.049759502027728,
          0.612920871451476,
          0.6599830236725455,
          0.13533905498443838,
          0.6875789870791286,
          0.2215976610393285,
          0.060624351598604166,
          0.11928699424691125,
          0.2392341790059417,
          0.05687069697255494,
          0.01441101575025936,
          0.1527114967462039,
          1.3025936055833254,
          0.024653399981137414,
          0.017919456757521456,
          0.42793548995567293,
          0.030255588041120437,
          0.5208337263038763,
          0.062378572102235214,
          0.3555974724134679,
          0.2980854475148543,
          0.20946901820239555,
          0.34412902008865415,
          0.1436008676789588,
          0.024295010845986984,
          0.11579741582570971,
          0.22146562293690464,
          0.048778647552579456,
          0.9290578138262756,
          0.6420824295010846,
          0.09189851928699425,
          0.017089502970857304,
          0.10040554560030181,
          1.4410449872677544,
          0.6957087616712251,
          0.09902857681788173,
          0.40626237857210223,
          0.1623125530510233,
          0.21767424313873432,
          0.13624445911534472,
          0.4904649627463925,
          0.5229840611147788,
          0.6617372441761765,
          0.6819013486749034,
          0.3567480901631614,
          0.43504668490049986,
          0.03283976233141564,
          0.20252758653211356,
          0.068659813260398,
          0.8954824106384985,
          0.0479864189380364,
          0.26409506743374517,
          0.4688484391210035,
          0.020182967084787326,
          1.2671885315476752,
          0.5425068376874469,
          0.22538904083749883,
          0.5952277657266811,
          0.20971423182118268,
          0.07073469772705838,
          0.14412902008865416,
          0.8369518060926153,
          1.1665377723285864,
          0.06709421861737244,
          0.26194473262284257,
          0.7979628407054608,
          0.27050834669433177,
          0.028576817881731584,
          0.5537678015655947,
          0.20033952654908987,
          0.35431481656135055,
          0.047495991700462134,
          0.03600867678958785,
          0.7386965953032161,
          1,
          0.3752900122606809,
          0.248212769970763,
          0.11376025653117042,
          0.041478826747147035,
          0.06673582948222201,
          0.03261341129868905
         ],
         "yaxis": "y"
        }
       ],
       "layout": {
        "grid": {
         "xaxes": [
          "x"
         ],
         "xgap": 0.1,
         "xside": "bottom",
         "yaxes": [
          "y"
         ],
         "ygap": 0.1,
         "yside": "left"
        },
        "height": 600,
        "legend": {
         "tracegroupgap": 0
        },
        "margin": {
         "t": 60
        },
        "template": {
         "data": {
          "bar": [
           {
            "marker": {
             "line": {
              "color": "white",
              "width": 0.5
             }
            },
            "type": "bar"
           }
          ],
          "barpolar": [
           {
            "marker": {
             "line": {
              "color": "white",
              "width": 0.5
             }
            },
            "type": "barpolar"
           }
          ],
          "carpet": [
           {
            "aaxis": {
             "endlinecolor": "#2a3f5f",
             "gridcolor": "#C8D4E3",
             "linecolor": "#C8D4E3",
             "minorgridcolor": "#C8D4E3",
             "startlinecolor": "#2a3f5f"
            },
            "baxis": {
             "endlinecolor": "#2a3f5f",
             "gridcolor": "#C8D4E3",
             "linecolor": "#C8D4E3",
             "minorgridcolor": "#C8D4E3",
             "startlinecolor": "#2a3f5f"
            },
            "type": "carpet"
           }
          ],
          "choropleth": [
           {
            "colorbar": {
             "outlinewidth": 0,
             "ticks": ""
            },
            "type": "choropleth"
           }
          ],
          "contour": [
           {
            "autocolorscale": true,
            "colorbar": {
             "outlinewidth": 0,
             "ticks": ""
            },
            "type": "contour"
           }
          ],
          "contourcarpet": [
           {
            "colorbar": {
             "outlinewidth": 0,
             "ticks": ""
            },
            "type": "contourcarpet"
           }
          ],
          "heatmap": [
           {
            "autocolorscale": true,
            "colorbar": {
             "outlinewidth": 0,
             "ticks": ""
            },
            "type": "heatmap"
           }
          ],
          "heatmapgl": [
           {
            "colorbar": {
             "outlinewidth": 0,
             "ticks": ""
            },
            "type": "heatmapgl"
           }
          ],
          "histogram": [
           {
            "marker": {
             "colorbar": {
              "outlinewidth": 0,
              "ticks": ""
             }
            },
            "type": "histogram"
           }
          ],
          "histogram2d": [
           {
            "autocolorscale": true,
            "colorbar": {
             "outlinewidth": 0,
             "ticks": ""
            },
            "type": "histogram2d"
           }
          ],
          "histogram2dcontour": [
           {
            "autocolorscale": true,
            "colorbar": {
             "outlinewidth": 0,
             "ticks": ""
            },
            "type": "histogram2dcontour"
           }
          ],
          "mesh3d": [
           {
            "colorbar": {
             "outlinewidth": 0,
             "ticks": ""
            },
            "type": "mesh3d"
           }
          ],
          "parcoords": [
           {
            "line": {
             "colorbar": {
              "outlinewidth": 0,
              "ticks": ""
             }
            },
            "type": "parcoords"
           }
          ],
          "scatter": [
           {
            "marker": {
             "colorbar": {
              "outlinewidth": 0,
              "ticks": ""
             }
            },
            "type": "scatter"
           }
          ],
          "scatter3d": [
           {
            "marker": {
             "colorbar": {
              "outlinewidth": 0,
              "ticks": ""
             }
            },
            "type": "scatter3d"
           }
          ],
          "scattercarpet": [
           {
            "marker": {
             "colorbar": {
              "outlinewidth": 0,
              "ticks": ""
             }
            },
            "type": "scattercarpet"
           }
          ],
          "scattergeo": [
           {
            "marker": {
             "colorbar": {
              "outlinewidth": 0,
              "ticks": ""
             }
            },
            "type": "scattergeo"
           }
          ],
          "scattergl": [
           {
            "marker": {
             "colorbar": {
              "outlinewidth": 0,
              "ticks": ""
             }
            },
            "type": "scattergl"
           }
          ],
          "scattermapbox": [
           {
            "marker": {
             "colorbar": {
              "outlinewidth": 0,
              "ticks": ""
             }
            },
            "type": "scattermapbox"
           }
          ],
          "scatterpolar": [
           {
            "marker": {
             "colorbar": {
              "outlinewidth": 0,
              "ticks": ""
             }
            },
            "type": "scatterpolar"
           }
          ],
          "scatterpolargl": [
           {
            "marker": {
             "colorbar": {
              "outlinewidth": 0,
              "ticks": ""
             }
            },
            "type": "scatterpolargl"
           }
          ],
          "scatterternary": [
           {
            "marker": {
             "colorbar": {
              "outlinewidth": 0,
              "ticks": ""
             }
            },
            "type": "scatterternary"
           }
          ],
          "surface": [
           {
            "colorbar": {
             "outlinewidth": 0,
             "ticks": ""
            },
            "type": "surface"
           }
          ],
          "table": [
           {
            "cells": {
             "fill": {
              "color": "#EBF0F8"
             },
             "line": {
              "color": "white"
             }
            },
            "header": {
             "fill": {
              "color": "#C8D4E3"
             },
             "line": {
              "color": "white"
             }
            },
            "type": "table"
           }
          ]
         },
         "layout": {
          "annotationdefaults": {
           "arrowcolor": "#506784",
           "arrowhead": 0,
           "arrowwidth": 1
          },
          "colorscale": {
           "diverging": [
            [
             0,
             "#8e0152"
            ],
            [
             0.1,
             "#c51b7d"
            ],
            [
             0.2,
             "#de77ae"
            ],
            [
             0.3,
             "#f1b6da"
            ],
            [
             0.4,
             "#fde0ef"
            ],
            [
             0.5,
             "#f7f7f7"
            ],
            [
             0.6,
             "#e6f5d0"
            ],
            [
             0.7,
             "#b8e186"
            ],
            [
             0.8,
             "#7fbc41"
            ],
            [
             0.9,
             "#4d9221"
            ],
            [
             1,
             "#276419"
            ]
           ],
           "sequential": [
            [
             0,
             "#0508b8"
            ],
            [
             0.0893854748603352,
             "#1910d8"
            ],
            [
             0.1787709497206704,
             "#3c19f0"
            ],
            [
             0.2681564245810056,
             "#6b1cfb"
            ],
            [
             0.3575418994413408,
             "#981cfd"
            ],
            [
             0.44692737430167595,
             "#bf1cfd"
            ],
            [
             0.5363128491620112,
             "#dd2bfd"
            ],
            [
             0.6256983240223464,
             "#f246fe"
            ],
            [
             0.7150837988826816,
             "#fc67fd"
            ],
            [
             0.8044692737430168,
             "#fe88fc"
            ],
            [
             0.8938547486033519,
             "#fea5fd"
            ],
            [
             0.9832402234636871,
             "#febefe"
            ],
            [
             1,
             "#fec3fe"
            ]
           ],
           "sequentialminus": [
            [
             0,
             "#0508b8"
            ],
            [
             0.0893854748603352,
             "#1910d8"
            ],
            [
             0.1787709497206704,
             "#3c19f0"
            ],
            [
             0.2681564245810056,
             "#6b1cfb"
            ],
            [
             0.3575418994413408,
             "#981cfd"
            ],
            [
             0.44692737430167595,
             "#bf1cfd"
            ],
            [
             0.5363128491620112,
             "#dd2bfd"
            ],
            [
             0.6256983240223464,
             "#f246fe"
            ],
            [
             0.7150837988826816,
             "#fc67fd"
            ],
            [
             0.8044692737430168,
             "#fe88fc"
            ],
            [
             0.8938547486033519,
             "#fea5fd"
            ],
            [
             0.9832402234636871,
             "#febefe"
            ],
            [
             1,
             "#fec3fe"
            ]
           ]
          },
          "colorway": [
           "#636efa",
           "#EF553B",
           "#00cc96",
           "#ab63fa",
           "#19d3f3",
           "#e763fa",
           "#FECB52",
           "#FFA15A",
           "#FF6692",
           "#B6E880"
          ],
          "font": {
           "color": "#2a3f5f"
          },
          "geo": {
           "bgcolor": "white",
           "lakecolor": "white",
           "landcolor": "white",
           "showlakes": true,
           "showland": true,
           "subunitcolor": "#C8D4E3"
          },
          "hovermode": "closest",
          "mapbox": {
           "style": "light"
          },
          "paper_bgcolor": "white",
          "plot_bgcolor": "white",
          "polar": {
           "angularaxis": {
            "gridcolor": "#EBF0F8",
            "linecolor": "#EBF0F8",
            "ticks": ""
           },
           "bgcolor": "white",
           "radialaxis": {
            "gridcolor": "#EBF0F8",
            "linecolor": "#EBF0F8",
            "ticks": ""
           }
          },
          "scene": {
           "xaxis": {
            "backgroundcolor": "white",
            "gridcolor": "#DFE8F3",
            "gridwidth": 2,
            "linecolor": "#EBF0F8",
            "showbackground": true,
            "ticks": "",
            "zerolinecolor": "#EBF0F8"
           },
           "yaxis": {
            "backgroundcolor": "white",
            "gridcolor": "#DFE8F3",
            "gridwidth": 2,
            "linecolor": "#EBF0F8",
            "showbackground": true,
            "ticks": "",
            "zerolinecolor": "#EBF0F8"
           },
           "zaxis": {
            "backgroundcolor": "white",
            "gridcolor": "#DFE8F3",
            "gridwidth": 2,
            "linecolor": "#EBF0F8",
            "showbackground": true,
            "ticks": "",
            "zerolinecolor": "#EBF0F8"
           }
          },
          "shapedefaults": {
           "fillcolor": "#506784",
           "line": {
            "width": 0
           },
           "opacity": 0.4
          },
          "ternary": {
           "aaxis": {
            "gridcolor": "#DFE8F3",
            "linecolor": "#A2B1C6",
            "ticks": ""
           },
           "baxis": {
            "gridcolor": "#DFE8F3",
            "linecolor": "#A2B1C6",
            "ticks": ""
           },
           "bgcolor": "white",
           "caxis": {
            "gridcolor": "#DFE8F3",
            "linecolor": "#A2B1C6",
            "ticks": ""
           }
          },
          "title": {
           "x": 0.05
          },
          "xaxis": {
           "automargin": true,
           "gridcolor": "#EBF0F8",
           "linecolor": "#EBF0F8",
           "ticks": "",
           "zerolinecolor": "#EBF0F8",
           "zerolinewidth": 2
          },
          "yaxis": {
           "automargin": true,
           "gridcolor": "#EBF0F8",
           "linecolor": "#EBF0F8",
           "ticks": "",
           "zerolinecolor": "#EBF0F8",
           "zerolinewidth": 2
          }
         }
        },
        "width": 600,
        "xaxis": {
         "range": [
          0,
          1.3
         ],
         "title": {
          "text": "GDP per capita relative to the US, 1960"
         }
        },
        "yaxis": {
         "range": [
          0,
          1.3
         ],
         "title": {
          "text": "GDP per capita relative to the US, 2016"
         }
        }
       }
      },
      "text/html": [
       "<div id=\"9869a529-1eb4-41cc-8c44-f231e0c9fc5d\" style=\"height: 600px; width: 600px;\" class=\"plotly-graph-div\"></div><script type=\"text/javascript\">require([\"plotly\"], function(Plotly) { window.PLOTLYENV=window.PLOTLYENV || {};window.PLOTLYENV.BASE_URL=\"https://plot.ly\";\n",
       "if (document.getElementById(\"9869a529-1eb4-41cc-8c44-f231e0c9fc5d\")) {\n",
       "    Plotly.newPlot(\"9869a529-1eb4-41cc-8c44-f231e0c9fc5d\", [{\"hovertemplate\": \"<b>%{hovertext}</b><br><br>GDP per capita relative to the US, 1960=%{x}<br>GDP per capita relative to the US, 2016=%{y}<br>Population=%{marker.size}<extra></extra>\", \"hovertext\": [\"Afghanistan\", \"Albania\", \"Argentina\", \"Australia\", \"Austria\", \"Bangladesh\", \"Barbados\", \"Belgium\", \"Benin\", \"Bolivia (Plurinational State of)\", \"Bosnia and Herzegovina\", \"Botswana\", \"Brazil\", \"Bulgaria\", \"Burkina Faso\", \"Burundi\", \"Cabo Verde\", \"Cambodia\", \"Cameroon\", \"Canada\", \"Central African Republic\", \"Chad\", \"Chile\", \"China\", \"China, Hong Kong SAR\", \"Colombia\", \"Comoros\", \"Congo\", \"Costa Rica\", \"Croatia\", \"Cyprus\", \"Czechoslovakia\", \"C\\u00f4te d'Ivoire\", \"D.R. of the Congo\", \"Denmark\", \"Djibouti\", \"Dominica\", \"Dominican Republic\", \"Ecuador\", \"Egypt\", \"El Salvador\", \"Equatorial Guinea\", \"Ethiopia\", \"Finland\", \"Former USSR\", \"Former Yugoslavia\", \"France\", \"Gabon\", \"Gambia\", \"Germany\", \"Ghana\", \"Greece\", \"Guatemala\", \"Guinea\", \"Guinea-Bissau\", \"Haiti\", \"Honduras\", \"Hungary\", \"Iceland\", \"India\", \"Indonesia\", \"Iran (Islamic Republic of)\", \"Iraq\", \"Ireland\", \"Israel\", \"Italy\", \"Jamaica\", \"Japan\", \"Jordan\", \"Kenya\", \"Lao People's DR\", \"Lebanon\", \"Lesotho\", \"Liberia\", \"Libya\", \"Luxembourg\", \"Madagascar\", \"Malawi\", \"Malaysia\", \"Mali\", \"Malta\", \"Mauritania\", \"Mauritius\", \"Mexico\", \"Mongolia\", \"Montenegro\", \"Morocco\", \"Mozambique\", \"Myanmar\", \"Namibia\", \"Nepal\", \"Netherlands\", \"New Zealand\", \"Nicaragua\", \"Niger\", \"Nigeria\", \"Norway\", \"Oman\", \"Pakistan\", \"Panama\", \"Paraguay\", \"Peru\", \"Philippines\", \"Poland\", \"Portugal\", \"Puerto Rico\", \"Republic of Korea\", \"Romania\", \"Russian Federation\", \"Rwanda\", \"Saint Lucia\", \"Sao Tome and Principe\", \"Saudi Arabia\", \"Senegal\", \"Serbia\", \"Seychelles\", \"Sierra Leone\", \"Singapore\", \"Slovenia\", \"South Africa\", \"Spain\", \"Sri Lanka\", \"Sudan (Former)\", \"Swaziland\", \"Sweden\", \"Switzerland\", \"Syrian Arab Republic\", \"TFYR of Macedonia\", \"Taiwan, Province of China\", \"Thailand\", \"Togo\", \"Trinidad and Tobago\", \"Tunisia\", \"Turkey\", \"U.R. of Tanzania: Mainland\", \"Uganda\", \"United Kingdom\", \"United States\", \"Uruguay\", \"Venezuela (Bolivarian Republic of)\", \"Viet Nam\", \"Yemen\", \"Zambia\", \"Zimbabwe\"], \"legendgroup\": \"\", \"marker\": {\"color\": \"#636efa\", \"size\": [33.332, 3.044, 43.887, 23.978, 8.78, 164.044, 0.291, 11.285, 10.741, 10.97, 3.959, 2.181, 208.249, 7.145, 19.513, 11.099, 0.553, 15.918, 24.16, 36.437, 5.507, 11.852, 18.212, 1372.86, 7.233, 47.079, 0.795, 4.852, 4.879, 4.314, 1.0, 15.935, 23.74, 81.116, 5.731, 0.847, 0.074, 10.606, 16.081, 97.305, 6.157, 0.759, 110.945, 5.495, 291.22, 21.817, 66.957, 1.739, 2.01, 83.707, 26.675, 10.688, 15.191, 12.093, 1.759, 10.486, 8.893, 9.822, 0.335, 1268.155, 255.079, 80.755, 38.957, 4.711, 8.209, 60.738, 2.971, 126.31, 7.525, 46.778, 7.019, 6.238, 1.953, 4.576, 6.542, 0.584, 24.43, 18.92, 30.301, 15.98, 0.439, 3.677, 1.348, 119.252, 3.031, 0.645, 34.686, 25.286, 55.174, 2.436, 29.034, 17.035, 4.659, 5.967, 18.677, 185.899, 5.236, 4.554, 194.839, 3.705, 6.863, 30.791, 108.645, 38.505, 10.263, 3.411, 51.246, 21.6, 143.833, 11.605, 0.164, 0.198, 31.567, 15.593, 8.742, 0.093, 6.019, 5.782, 2.057, 54.263, 47.024, 22.687, 45.282, 1.451, 9.917, 8.491, 18.54, 2.1, 23.276, 67.107, 7.757, 1.22, 11.14, 83.463, 53.349, 40.419, 65.888, 324.656, 3.378, 30.111, 95.296, 28.523, 16.274, 14.547], \"sizemode\": \"area\", \"sizeref\": 3.4321499999999996, \"symbol\": \"circle\"}, \"mode\": \"markers\", \"name\": \"\", \"showlegend\": false, \"x\": [0.1519548122715694, 0.11861778713035774, 0.4944069110643482, 0.8415106877838078, 0.4711485214309447, 0.06373906301916048, 0.3973308229039761, 0.5046516779266806, 0.0709380883818806, 0.06850149518219072, 0.053272787684128915, 0.06645254180972422, 0.12625982943847602, 0.2853582899545908, 0.08622217299811717, 0.05388193598405139, 0.07110421973640492, 0.04258500387639827, 0.05908738509247979, 0.7545686122494185, 0.0772510798538044, 0.08206888913500941, 0.2746705061468601, 0.05111308007531288, 0.2769963451102005, 0.18700852807619892, 0.06108096134677152, 0.07730645697197917, 0.21170672278214642, 0.32185181083176434, 0.25058145974083507, 0.5289068556872301, 0.11463063462177428, 0.11734411341233802, 0.667460405360505, 0.2783807730645697, 0.1688448333148743, 0.11269243548565733, 0.16203344777937756, 0.09187063905194373, 0.0845054823346993, 0.0636836859009857, 0.04153283863107764, 0.4667183519769631, 0.4643925130136228, 0.11728873629416325, 0.5694982833093366, 0.2958245652896223, 0.11042197364049175, 0.6416546682910621, 0.1524532063351423, 0.24864326060471814, 0.11889467272123158, 0.07858013068999889, 0.046572156384981724, 0.1489644478901318, 0.1092036770406468, 0.24958467161368922, 0.6265367150293498, 0.07769409679920257, 0.08168124930778602, 0.17709602392291504, 0.33519769631188395, 0.32168567947724, 0.3670949163805516, 0.3913500941411009, 0.23136559973418983, 0.2871303577361834, 0.1452541809724222, 0.07730645697197917, 0.038099457304241885, 0.5100232583896334, 0.028463838741831875, 0.049119503821021156, 0.351810831764315, 0.8793886366153505, 0.06207774947391738, 0.060471813046849045, 0.13733525307343006, 0.0644589655554325, 0.1318529183741278, 0.05742607154723668, 0.1918817144755787, 0.18717465943072323, 0.04983940635729316, 0.24028131576032782, 0.13711374460073097, 0.030235906523424522, 0.043747923358068444, 0.21851810831764315, 0.038154834422416656, 0.5964115627422749, 0.7020157271015617, 0.11728873629416325, 0.07536825783586222, 0.12066674050282424, 0.5676154612913944, 0.10831764314985048, 0.06069332151954812, 0.13179754125595303, 0.06595414774615128, 0.13766751578247868, 0.09851589323291617, 0.2284859895891018, 0.21597076088160372, 0.4189832761103112, 0.08234577472588327, 0.10261379997784915, 0.45475689445121276, 0.04031454203123269, 0.14990585889910288, 0.06689555875512239, 0.4158821574925241, 0.12941632517443794, 0.16413777827001882, 0.33796655222062244, 0.10864990585889911, 0.1309668844833315, 0.3657104884261823, 0.32129803965001663, 0.30302359065234247, 0.08350869420755344, 0.116624210876066, 0.0529405249750803, 0.6308007531288071, 0.8100011075423635, 0.15339461734411342, 0.1718351976963119, 0.11712260493963894, 0.07575589766308562, 0.061025584228596746, 0.4304463395724886, 0.10798538044080186, 0.169398604496622, 0.07531288071768745, 0.06700631299147192, 0.6645254180972422, 1.0, 0.3802746705061469, 0.31603721342341345, 0.0598072876287518, 0.061800863883043525, 0.09447336360615793, 0.1500719902536272], \"xaxis\": \"x\", \"y\": [0.03638592851079883, 0.21286428369329435, 0.3526360464019617, 0.8447231915495614, 0.8490049985853061, 0.06130340469678393, 0.19164387437517683, 0.7494671319437894, 0.04085636140714892, 0.11540130151843818, 0.1994907101763652, 0.2832217296991418, 0.2542487975101386, 0.3386400075450344, 0.029444496840516834, 0.013052909553899839, 0.12283316042629444, 0.062378572102235214, 0.05287182872771857, 0.8105064604357257, 0.01167594077147977, 0.041346788644723194, 0.4045270206545317, 0.23238706026596245, 0.8873526360464019, 0.24451570310289542, 0.03231160992172027, 0.08129774592096577, 0.26381212864283693, 0.40790342355937, 0.5006130340469679, 0.5681033669716118, 0.06911251532585118, 0.01576912194661888, 0.851475997359238, 0.06401961708950298, 0.1843440535697444, 0.2657361124210129, 0.1987362067339432, 0.21559935867207394, 0.1572196548146751, 0.5939073847024428, 0.03129303027445063, 0.7230972366311421, 0.34150712062623784, 0.3086107705366406, 0.7310761105347543, 0.270376308591908, 0.036782042818070355, 0.8835423936621711, 0.07079128548524002, 0.46569838724889184, 0.1346222767141375, 0.03146279354899557, 0.025539941525983212, 0.030859190795058004, 0.08365556917853438, 0.45358860699801945, 0.8107139488823918, 0.112439875506932, 0.1982646420824295, 0.2929170989342639, 0.26362350278223146, 1.049759502027728, 0.612920871451476, 0.6599830236725455, 0.13533905498443838, 0.6875789870791286, 0.2215976610393285, 0.060624351598604166, 0.11928699424691125, 0.2392341790059417, 0.05687069697255494, 0.01441101575025936, 0.1527114967462039, 1.3025936055833254, 0.024653399981137414, 0.017919456757521456, 0.42793548995567293, 0.030255588041120437, 0.5208337263038763, 0.062378572102235214, 0.3555974724134679, 0.2980854475148543, 0.20946901820239555, 0.34412902008865415, 0.1436008676789588, 0.024295010845986984, 0.11579741582570971, 0.22146562293690464, 0.048778647552579456, 0.9290578138262756, 0.6420824295010846, 0.09189851928699425, 0.017089502970857304, 0.10040554560030181, 1.4410449872677544, 0.6957087616712251, 0.09902857681788173, 0.40626237857210223, 0.1623125530510233, 0.21767424313873432, 0.13624445911534472, 0.4904649627463925, 0.5229840611147788, 0.6617372441761765, 0.6819013486749034, 0.3567480901631614, 0.43504668490049986, 0.03283976233141564, 0.20252758653211356, 0.068659813260398, 0.8954824106384985, 0.0479864189380364, 0.26409506743374517, 0.4688484391210035, 0.020182967084787326, 1.2671885315476752, 0.5425068376874469, 0.22538904083749883, 0.5952277657266811, 0.20971423182118268, 0.07073469772705838, 0.14412902008865416, 0.8369518060926153, 1.1665377723285864, 0.06709421861737244, 0.26194473262284257, 0.7979628407054608, 0.27050834669433177, 0.028576817881731584, 0.5537678015655947, 0.20033952654908987, 0.35431481656135055, 0.047495991700462134, 0.03600867678958785, 0.7386965953032161, 1.0, 0.3752900122606809, 0.248212769970763, 0.11376025653117042, 0.041478826747147035, 0.06673582948222201, 0.03261341129868905], \"yaxis\": \"y\", \"type\": \"scatter\", \"uid\": \"6cb4d55f-9a04-4a86-a252-967d8a13fe64\"}], {\"height\": 600, \"legend\": {\"tracegroupgap\": 0}, \"margin\": {\"t\": 60}, \"template\": {\"data\": {\"barpolar\": [{\"marker\": {\"line\": {\"color\": \"white\", \"width\": 0.5}}, \"type\": \"barpolar\"}], \"bar\": [{\"marker\": {\"line\": {\"color\": \"white\", \"width\": 0.5}}, \"type\": \"bar\"}], \"carpet\": [{\"aaxis\": {\"endlinecolor\": \"#2a3f5f\", \"gridcolor\": \"#C8D4E3\", \"linecolor\": \"#C8D4E3\", \"minorgridcolor\": \"#C8D4E3\", \"startlinecolor\": \"#2a3f5f\"}, \"baxis\": {\"endlinecolor\": \"#2a3f5f\", \"gridcolor\": \"#C8D4E3\", \"linecolor\": \"#C8D4E3\", \"minorgridcolor\": \"#C8D4E3\", \"startlinecolor\": \"#2a3f5f\"}, \"type\": \"carpet\"}], \"choropleth\": [{\"colorbar\": {\"outlinewidth\": 0, \"ticks\": \"\"}, \"type\": \"choropleth\"}], \"contourcarpet\": [{\"colorbar\": {\"outlinewidth\": 0, \"ticks\": \"\"}, \"type\": \"contourcarpet\"}], \"contour\": [{\"autocolorscale\": true, \"colorbar\": {\"outlinewidth\": 0, \"ticks\": \"\"}, \"type\": \"contour\"}], \"heatmapgl\": [{\"colorbar\": {\"outlinewidth\": 0, \"ticks\": \"\"}, \"type\": \"heatmapgl\"}], \"heatmap\": [{\"autocolorscale\": true, \"colorbar\": {\"outlinewidth\": 0, \"ticks\": \"\"}, \"type\": \"heatmap\"}], \"histogram2dcontour\": [{\"autocolorscale\": true, \"colorbar\": {\"outlinewidth\": 0, \"ticks\": \"\"}, \"type\": \"histogram2dcontour\"}], \"histogram2d\": [{\"autocolorscale\": true, \"colorbar\": {\"outlinewidth\": 0, \"ticks\": \"\"}, \"type\": \"histogram2d\"}], \"histogram\": [{\"marker\": {\"colorbar\": {\"outlinewidth\": 0, \"ticks\": \"\"}}, \"type\": \"histogram\"}], \"mesh3d\": [{\"colorbar\": {\"outlinewidth\": 0, \"ticks\": \"\"}, \"type\": \"mesh3d\"}], \"parcoords\": [{\"line\": {\"colorbar\": {\"outlinewidth\": 0, \"ticks\": \"\"}}, \"type\": \"parcoords\"}], \"scatter3d\": [{\"marker\": {\"colorbar\": {\"outlinewidth\": 0, \"ticks\": \"\"}}, \"type\": \"scatter3d\"}], \"scattercarpet\": [{\"marker\": {\"colorbar\": {\"outlinewidth\": 0, \"ticks\": \"\"}}, \"type\": \"scattercarpet\"}], \"scattergeo\": [{\"marker\": {\"colorbar\": {\"outlinewidth\": 0, \"ticks\": \"\"}}, \"type\": \"scattergeo\"}], \"scattergl\": [{\"marker\": {\"colorbar\": {\"outlinewidth\": 0, \"ticks\": \"\"}}, \"type\": \"scattergl\"}], \"scattermapbox\": [{\"marker\": {\"colorbar\": {\"outlinewidth\": 0, \"ticks\": \"\"}}, \"type\": \"scattermapbox\"}], \"scatterpolargl\": [{\"marker\": {\"colorbar\": {\"outlinewidth\": 0, \"ticks\": \"\"}}, \"type\": \"scatterpolargl\"}], \"scatterpolar\": [{\"marker\": {\"colorbar\": {\"outlinewidth\": 0, \"ticks\": \"\"}}, \"type\": \"scatterpolar\"}], \"scatter\": [{\"marker\": {\"colorbar\": {\"outlinewidth\": 0, \"ticks\": \"\"}}, \"type\": \"scatter\"}], \"scatterternary\": [{\"marker\": {\"colorbar\": {\"outlinewidth\": 0, \"ticks\": \"\"}}, \"type\": \"scatterternary\"}], \"surface\": [{\"colorbar\": {\"outlinewidth\": 0, \"ticks\": \"\"}, \"type\": \"surface\"}], \"table\": [{\"cells\": {\"fill\": {\"color\": \"#EBF0F8\"}, \"line\": {\"color\": \"white\"}}, \"header\": {\"fill\": {\"color\": \"#C8D4E3\"}, \"line\": {\"color\": \"white\"}}, \"type\": \"table\"}]}, \"layout\": {\"annotationdefaults\": {\"arrowcolor\": \"#506784\", \"arrowhead\": 0, \"arrowwidth\": 1}, \"colorscale\": {\"diverging\": [[0, \"#8e0152\"], [0.1, \"#c51b7d\"], [0.2, \"#de77ae\"], [0.3, \"#f1b6da\"], [0.4, \"#fde0ef\"], [0.5, \"#f7f7f7\"], [0.6, \"#e6f5d0\"], [0.7, \"#b8e186\"], [0.8, \"#7fbc41\"], [0.9, \"#4d9221\"], [1, \"#276419\"]], \"sequential\": [[0.0, \"#0508b8\"], [0.0893854748603352, \"#1910d8\"], [0.1787709497206704, \"#3c19f0\"], [0.2681564245810056, \"#6b1cfb\"], [0.3575418994413408, \"#981cfd\"], [0.44692737430167595, \"#bf1cfd\"], [0.5363128491620112, \"#dd2bfd\"], [0.6256983240223464, \"#f246fe\"], [0.7150837988826816, \"#fc67fd\"], [0.8044692737430168, \"#fe88fc\"], [0.8938547486033519, \"#fea5fd\"], [0.9832402234636871, \"#febefe\"], [1.0, \"#fec3fe\"]], \"sequentialminus\": [[0.0, \"#0508b8\"], [0.0893854748603352, \"#1910d8\"], [0.1787709497206704, \"#3c19f0\"], [0.2681564245810056, \"#6b1cfb\"], [0.3575418994413408, \"#981cfd\"], [0.44692737430167595, \"#bf1cfd\"], [0.5363128491620112, \"#dd2bfd\"], [0.6256983240223464, \"#f246fe\"], [0.7150837988826816, \"#fc67fd\"], [0.8044692737430168, \"#fe88fc\"], [0.8938547486033519, \"#fea5fd\"], [0.9832402234636871, \"#febefe\"], [1.0, \"#fec3fe\"]]}, \"colorway\": [\"#636efa\", \"#EF553B\", \"#00cc96\", \"#ab63fa\", \"#19d3f3\", \"#e763fa\", \"#FECB52\", \"#FFA15A\", \"#FF6692\", \"#B6E880\"], \"font\": {\"color\": \"#2a3f5f\"}, \"geo\": {\"bgcolor\": \"white\", \"lakecolor\": \"white\", \"landcolor\": \"white\", \"showlakes\": true, \"showland\": true, \"subunitcolor\": \"#C8D4E3\"}, \"hovermode\": \"closest\", \"mapbox\": {\"style\": \"light\"}, \"paper_bgcolor\": \"white\", \"plot_bgcolor\": \"white\", \"polar\": {\"angularaxis\": {\"gridcolor\": \"#EBF0F8\", \"linecolor\": \"#EBF0F8\", \"ticks\": \"\"}, \"bgcolor\": \"white\", \"radialaxis\": {\"gridcolor\": \"#EBF0F8\", \"linecolor\": \"#EBF0F8\", \"ticks\": \"\"}}, \"scene\": {\"xaxis\": {\"backgroundcolor\": \"white\", \"gridcolor\": \"#DFE8F3\", \"gridwidth\": 2, \"linecolor\": \"#EBF0F8\", \"showbackground\": true, \"ticks\": \"\", \"zerolinecolor\": \"#EBF0F8\"}, \"yaxis\": {\"backgroundcolor\": \"white\", \"gridcolor\": \"#DFE8F3\", \"gridwidth\": 2, \"linecolor\": \"#EBF0F8\", \"showbackground\": true, \"ticks\": \"\", \"zerolinecolor\": \"#EBF0F8\"}, \"zaxis\": {\"backgroundcolor\": \"white\", \"gridcolor\": \"#DFE8F3\", \"gridwidth\": 2, \"linecolor\": \"#EBF0F8\", \"showbackground\": true, \"ticks\": \"\", \"zerolinecolor\": \"#EBF0F8\"}}, \"shapedefaults\": {\"fillcolor\": \"#506784\", \"line\": {\"width\": 0}, \"opacity\": 0.4}, \"ternary\": {\"aaxis\": {\"gridcolor\": \"#DFE8F3\", \"linecolor\": \"#A2B1C6\", \"ticks\": \"\"}, \"baxis\": {\"gridcolor\": \"#DFE8F3\", \"linecolor\": \"#A2B1C6\", \"ticks\": \"\"}, \"bgcolor\": \"white\", \"caxis\": {\"gridcolor\": \"#DFE8F3\", \"linecolor\": \"#A2B1C6\", \"ticks\": \"\"}}, \"title\": {\"x\": 0.05}, \"xaxis\": {\"automargin\": true, \"gridcolor\": \"#EBF0F8\", \"linecolor\": \"#EBF0F8\", \"ticks\": \"\", \"zerolinecolor\": \"#EBF0F8\", \"zerolinewidth\": 2}, \"yaxis\": {\"automargin\": true, \"gridcolor\": \"#EBF0F8\", \"linecolor\": \"#EBF0F8\", \"ticks\": \"\", \"zerolinecolor\": \"#EBF0F8\", \"zerolinewidth\": 2}}}, \"width\": 600, \"grid\": {\"xaxes\": [\"x\"], \"yaxes\": [\"y\"], \"xgap\": 0.1, \"ygap\": 0.1, \"xside\": \"bottom\", \"yside\": \"left\"}, \"xaxis\": {\"title\": {\"text\": \"GDP per capita relative to the US, 1960\"}, \"range\": [0, 1.3]}, \"yaxis\": {\"title\": {\"text\": \"GDP per capita relative to the US, 2016\"}, \"range\": [0, 1.3]}}, {\"showLink\": false, \"linkText\": \"Export to plot.ly\", \"plotlyServerURL\": \"https://plot.ly\"}); \n",
       "}\n",
       "});</script>"
      ],
      "text/vnd.plotly.v1+html": [
       "<div id=\"9869a529-1eb4-41cc-8c44-f231e0c9fc5d\" style=\"height: 600px; width: 600px;\" class=\"plotly-graph-div\"></div><script type=\"text/javascript\">require([\"plotly\"], function(Plotly) { window.PLOTLYENV=window.PLOTLYENV || {};window.PLOTLYENV.BASE_URL=\"https://plot.ly\";\n",
       "if (document.getElementById(\"9869a529-1eb4-41cc-8c44-f231e0c9fc5d\")) {\n",
       "    Plotly.newPlot(\"9869a529-1eb4-41cc-8c44-f231e0c9fc5d\", [{\"hovertemplate\": \"<b>%{hovertext}</b><br><br>GDP per capita relative to the US, 1960=%{x}<br>GDP per capita relative to the US, 2016=%{y}<br>Population=%{marker.size}<extra></extra>\", \"hovertext\": [\"Afghanistan\", \"Albania\", \"Argentina\", \"Australia\", \"Austria\", \"Bangladesh\", \"Barbados\", \"Belgium\", \"Benin\", \"Bolivia (Plurinational State of)\", \"Bosnia and Herzegovina\", \"Botswana\", \"Brazil\", \"Bulgaria\", \"Burkina Faso\", \"Burundi\", \"Cabo Verde\", \"Cambodia\", \"Cameroon\", \"Canada\", \"Central African Republic\", \"Chad\", \"Chile\", \"China\", \"China, Hong Kong SAR\", \"Colombia\", \"Comoros\", \"Congo\", \"Costa Rica\", \"Croatia\", \"Cyprus\", \"Czechoslovakia\", \"C\\u00f4te d'Ivoire\", \"D.R. of the Congo\", \"Denmark\", \"Djibouti\", \"Dominica\", \"Dominican Republic\", \"Ecuador\", \"Egypt\", \"El Salvador\", \"Equatorial Guinea\", \"Ethiopia\", \"Finland\", \"Former USSR\", \"Former Yugoslavia\", \"France\", \"Gabon\", \"Gambia\", \"Germany\", \"Ghana\", \"Greece\", \"Guatemala\", \"Guinea\", \"Guinea-Bissau\", \"Haiti\", \"Honduras\", \"Hungary\", \"Iceland\", \"India\", \"Indonesia\", \"Iran (Islamic Republic of)\", \"Iraq\", \"Ireland\", \"Israel\", \"Italy\", \"Jamaica\", \"Japan\", \"Jordan\", \"Kenya\", \"Lao People's DR\", \"Lebanon\", \"Lesotho\", \"Liberia\", \"Libya\", \"Luxembourg\", \"Madagascar\", \"Malawi\", \"Malaysia\", \"Mali\", \"Malta\", \"Mauritania\", \"Mauritius\", \"Mexico\", \"Mongolia\", \"Montenegro\", \"Morocco\", \"Mozambique\", \"Myanmar\", \"Namibia\", \"Nepal\", \"Netherlands\", \"New Zealand\", \"Nicaragua\", \"Niger\", \"Nigeria\", \"Norway\", \"Oman\", \"Pakistan\", \"Panama\", \"Paraguay\", \"Peru\", \"Philippines\", \"Poland\", \"Portugal\", \"Puerto Rico\", \"Republic of Korea\", \"Romania\", \"Russian Federation\", \"Rwanda\", \"Saint Lucia\", \"Sao Tome and Principe\", \"Saudi Arabia\", \"Senegal\", \"Serbia\", \"Seychelles\", \"Sierra Leone\", \"Singapore\", \"Slovenia\", \"South Africa\", \"Spain\", \"Sri Lanka\", \"Sudan (Former)\", \"Swaziland\", \"Sweden\", \"Switzerland\", \"Syrian Arab Republic\", \"TFYR of Macedonia\", \"Taiwan, Province of China\", \"Thailand\", \"Togo\", \"Trinidad and Tobago\", \"Tunisia\", \"Turkey\", \"U.R. of Tanzania: Mainland\", \"Uganda\", \"United Kingdom\", \"United States\", \"Uruguay\", \"Venezuela (Bolivarian Republic of)\", \"Viet Nam\", \"Yemen\", \"Zambia\", \"Zimbabwe\"], \"legendgroup\": \"\", \"marker\": {\"color\": \"#636efa\", \"size\": [33.332, 3.044, 43.887, 23.978, 8.78, 164.044, 0.291, 11.285, 10.741, 10.97, 3.959, 2.181, 208.249, 7.145, 19.513, 11.099, 0.553, 15.918, 24.16, 36.437, 5.507, 11.852, 18.212, 1372.86, 7.233, 47.079, 0.795, 4.852, 4.879, 4.314, 1.0, 15.935, 23.74, 81.116, 5.731, 0.847, 0.074, 10.606, 16.081, 97.305, 6.157, 0.759, 110.945, 5.495, 291.22, 21.817, 66.957, 1.739, 2.01, 83.707, 26.675, 10.688, 15.191, 12.093, 1.759, 10.486, 8.893, 9.822, 0.335, 1268.155, 255.079, 80.755, 38.957, 4.711, 8.209, 60.738, 2.971, 126.31, 7.525, 46.778, 7.019, 6.238, 1.953, 4.576, 6.542, 0.584, 24.43, 18.92, 30.301, 15.98, 0.439, 3.677, 1.348, 119.252, 3.031, 0.645, 34.686, 25.286, 55.174, 2.436, 29.034, 17.035, 4.659, 5.967, 18.677, 185.899, 5.236, 4.554, 194.839, 3.705, 6.863, 30.791, 108.645, 38.505, 10.263, 3.411, 51.246, 21.6, 143.833, 11.605, 0.164, 0.198, 31.567, 15.593, 8.742, 0.093, 6.019, 5.782, 2.057, 54.263, 47.024, 22.687, 45.282, 1.451, 9.917, 8.491, 18.54, 2.1, 23.276, 67.107, 7.757, 1.22, 11.14, 83.463, 53.349, 40.419, 65.888, 324.656, 3.378, 30.111, 95.296, 28.523, 16.274, 14.547], \"sizemode\": \"area\", \"sizeref\": 3.4321499999999996, \"symbol\": \"circle\"}, \"mode\": \"markers\", \"name\": \"\", \"showlegend\": false, \"x\": [0.1519548122715694, 0.11861778713035774, 0.4944069110643482, 0.8415106877838078, 0.4711485214309447, 0.06373906301916048, 0.3973308229039761, 0.5046516779266806, 0.0709380883818806, 0.06850149518219072, 0.053272787684128915, 0.06645254180972422, 0.12625982943847602, 0.2853582899545908, 0.08622217299811717, 0.05388193598405139, 0.07110421973640492, 0.04258500387639827, 0.05908738509247979, 0.7545686122494185, 0.0772510798538044, 0.08206888913500941, 0.2746705061468601, 0.05111308007531288, 0.2769963451102005, 0.18700852807619892, 0.06108096134677152, 0.07730645697197917, 0.21170672278214642, 0.32185181083176434, 0.25058145974083507, 0.5289068556872301, 0.11463063462177428, 0.11734411341233802, 0.667460405360505, 0.2783807730645697, 0.1688448333148743, 0.11269243548565733, 0.16203344777937756, 0.09187063905194373, 0.0845054823346993, 0.0636836859009857, 0.04153283863107764, 0.4667183519769631, 0.4643925130136228, 0.11728873629416325, 0.5694982833093366, 0.2958245652896223, 0.11042197364049175, 0.6416546682910621, 0.1524532063351423, 0.24864326060471814, 0.11889467272123158, 0.07858013068999889, 0.046572156384981724, 0.1489644478901318, 0.1092036770406468, 0.24958467161368922, 0.6265367150293498, 0.07769409679920257, 0.08168124930778602, 0.17709602392291504, 0.33519769631188395, 0.32168567947724, 0.3670949163805516, 0.3913500941411009, 0.23136559973418983, 0.2871303577361834, 0.1452541809724222, 0.07730645697197917, 0.038099457304241885, 0.5100232583896334, 0.028463838741831875, 0.049119503821021156, 0.351810831764315, 0.8793886366153505, 0.06207774947391738, 0.060471813046849045, 0.13733525307343006, 0.0644589655554325, 0.1318529183741278, 0.05742607154723668, 0.1918817144755787, 0.18717465943072323, 0.04983940635729316, 0.24028131576032782, 0.13711374460073097, 0.030235906523424522, 0.043747923358068444, 0.21851810831764315, 0.038154834422416656, 0.5964115627422749, 0.7020157271015617, 0.11728873629416325, 0.07536825783586222, 0.12066674050282424, 0.5676154612913944, 0.10831764314985048, 0.06069332151954812, 0.13179754125595303, 0.06595414774615128, 0.13766751578247868, 0.09851589323291617, 0.2284859895891018, 0.21597076088160372, 0.4189832761103112, 0.08234577472588327, 0.10261379997784915, 0.45475689445121276, 0.04031454203123269, 0.14990585889910288, 0.06689555875512239, 0.4158821574925241, 0.12941632517443794, 0.16413777827001882, 0.33796655222062244, 0.10864990585889911, 0.1309668844833315, 0.3657104884261823, 0.32129803965001663, 0.30302359065234247, 0.08350869420755344, 0.116624210876066, 0.0529405249750803, 0.6308007531288071, 0.8100011075423635, 0.15339461734411342, 0.1718351976963119, 0.11712260493963894, 0.07575589766308562, 0.061025584228596746, 0.4304463395724886, 0.10798538044080186, 0.169398604496622, 0.07531288071768745, 0.06700631299147192, 0.6645254180972422, 1.0, 0.3802746705061469, 0.31603721342341345, 0.0598072876287518, 0.061800863883043525, 0.09447336360615793, 0.1500719902536272], \"xaxis\": \"x\", \"y\": [0.03638592851079883, 0.21286428369329435, 0.3526360464019617, 0.8447231915495614, 0.8490049985853061, 0.06130340469678393, 0.19164387437517683, 0.7494671319437894, 0.04085636140714892, 0.11540130151843818, 0.1994907101763652, 0.2832217296991418, 0.2542487975101386, 0.3386400075450344, 0.029444496840516834, 0.013052909553899839, 0.12283316042629444, 0.062378572102235214, 0.05287182872771857, 0.8105064604357257, 0.01167594077147977, 0.041346788644723194, 0.4045270206545317, 0.23238706026596245, 0.8873526360464019, 0.24451570310289542, 0.03231160992172027, 0.08129774592096577, 0.26381212864283693, 0.40790342355937, 0.5006130340469679, 0.5681033669716118, 0.06911251532585118, 0.01576912194661888, 0.851475997359238, 0.06401961708950298, 0.1843440535697444, 0.2657361124210129, 0.1987362067339432, 0.21559935867207394, 0.1572196548146751, 0.5939073847024428, 0.03129303027445063, 0.7230972366311421, 0.34150712062623784, 0.3086107705366406, 0.7310761105347543, 0.270376308591908, 0.036782042818070355, 0.8835423936621711, 0.07079128548524002, 0.46569838724889184, 0.1346222767141375, 0.03146279354899557, 0.025539941525983212, 0.030859190795058004, 0.08365556917853438, 0.45358860699801945, 0.8107139488823918, 0.112439875506932, 0.1982646420824295, 0.2929170989342639, 0.26362350278223146, 1.049759502027728, 0.612920871451476, 0.6599830236725455, 0.13533905498443838, 0.6875789870791286, 0.2215976610393285, 0.060624351598604166, 0.11928699424691125, 0.2392341790059417, 0.05687069697255494, 0.01441101575025936, 0.1527114967462039, 1.3025936055833254, 0.024653399981137414, 0.017919456757521456, 0.42793548995567293, 0.030255588041120437, 0.5208337263038763, 0.062378572102235214, 0.3555974724134679, 0.2980854475148543, 0.20946901820239555, 0.34412902008865415, 0.1436008676789588, 0.024295010845986984, 0.11579741582570971, 0.22146562293690464, 0.048778647552579456, 0.9290578138262756, 0.6420824295010846, 0.09189851928699425, 0.017089502970857304, 0.10040554560030181, 1.4410449872677544, 0.6957087616712251, 0.09902857681788173, 0.40626237857210223, 0.1623125530510233, 0.21767424313873432, 0.13624445911534472, 0.4904649627463925, 0.5229840611147788, 0.6617372441761765, 0.6819013486749034, 0.3567480901631614, 0.43504668490049986, 0.03283976233141564, 0.20252758653211356, 0.068659813260398, 0.8954824106384985, 0.0479864189380364, 0.26409506743374517, 0.4688484391210035, 0.020182967084787326, 1.2671885315476752, 0.5425068376874469, 0.22538904083749883, 0.5952277657266811, 0.20971423182118268, 0.07073469772705838, 0.14412902008865416, 0.8369518060926153, 1.1665377723285864, 0.06709421861737244, 0.26194473262284257, 0.7979628407054608, 0.27050834669433177, 0.028576817881731584, 0.5537678015655947, 0.20033952654908987, 0.35431481656135055, 0.047495991700462134, 0.03600867678958785, 0.7386965953032161, 1.0, 0.3752900122606809, 0.248212769970763, 0.11376025653117042, 0.041478826747147035, 0.06673582948222201, 0.03261341129868905], \"yaxis\": \"y\", \"type\": \"scatter\", \"uid\": \"6cb4d55f-9a04-4a86-a252-967d8a13fe64\"}], {\"height\": 600, \"legend\": {\"tracegroupgap\": 0}, \"margin\": {\"t\": 60}, \"template\": {\"data\": {\"barpolar\": [{\"marker\": {\"line\": {\"color\": \"white\", \"width\": 0.5}}, \"type\": \"barpolar\"}], \"bar\": [{\"marker\": {\"line\": {\"color\": \"white\", \"width\": 0.5}}, \"type\": \"bar\"}], \"carpet\": [{\"aaxis\": {\"endlinecolor\": \"#2a3f5f\", \"gridcolor\": \"#C8D4E3\", \"linecolor\": \"#C8D4E3\", \"minorgridcolor\": \"#C8D4E3\", \"startlinecolor\": \"#2a3f5f\"}, \"baxis\": {\"endlinecolor\": \"#2a3f5f\", \"gridcolor\": \"#C8D4E3\", \"linecolor\": \"#C8D4E3\", \"minorgridcolor\": \"#C8D4E3\", \"startlinecolor\": \"#2a3f5f\"}, \"type\": \"carpet\"}], \"choropleth\": [{\"colorbar\": {\"outlinewidth\": 0, \"ticks\": \"\"}, \"type\": \"choropleth\"}], \"contourcarpet\": [{\"colorbar\": {\"outlinewidth\": 0, \"ticks\": \"\"}, \"type\": \"contourcarpet\"}], \"contour\": [{\"autocolorscale\": true, \"colorbar\": {\"outlinewidth\": 0, \"ticks\": \"\"}, \"type\": \"contour\"}], \"heatmapgl\": [{\"colorbar\": {\"outlinewidth\": 0, \"ticks\": \"\"}, \"type\": \"heatmapgl\"}], \"heatmap\": [{\"autocolorscale\": true, \"colorbar\": {\"outlinewidth\": 0, \"ticks\": \"\"}, \"type\": \"heatmap\"}], \"histogram2dcontour\": [{\"autocolorscale\": true, \"colorbar\": {\"outlinewidth\": 0, \"ticks\": \"\"}, \"type\": \"histogram2dcontour\"}], \"histogram2d\": [{\"autocolorscale\": true, \"colorbar\": {\"outlinewidth\": 0, \"ticks\": \"\"}, \"type\": \"histogram2d\"}], \"histogram\": [{\"marker\": {\"colorbar\": {\"outlinewidth\": 0, \"ticks\": \"\"}}, \"type\": \"histogram\"}], \"mesh3d\": [{\"colorbar\": {\"outlinewidth\": 0, \"ticks\": \"\"}, \"type\": \"mesh3d\"}], \"parcoords\": [{\"line\": {\"colorbar\": {\"outlinewidth\": 0, \"ticks\": \"\"}}, \"type\": \"parcoords\"}], \"scatter3d\": [{\"marker\": {\"colorbar\": {\"outlinewidth\": 0, \"ticks\": \"\"}}, \"type\": \"scatter3d\"}], \"scattercarpet\": [{\"marker\": {\"colorbar\": {\"outlinewidth\": 0, \"ticks\": \"\"}}, \"type\": \"scattercarpet\"}], \"scattergeo\": [{\"marker\": {\"colorbar\": {\"outlinewidth\": 0, \"ticks\": \"\"}}, \"type\": \"scattergeo\"}], \"scattergl\": [{\"marker\": {\"colorbar\": {\"outlinewidth\": 0, \"ticks\": \"\"}}, \"type\": \"scattergl\"}], \"scattermapbox\": [{\"marker\": {\"colorbar\": {\"outlinewidth\": 0, \"ticks\": \"\"}}, \"type\": \"scattermapbox\"}], \"scatterpolargl\": [{\"marker\": {\"colorbar\": {\"outlinewidth\": 0, \"ticks\": \"\"}}, \"type\": \"scatterpolargl\"}], \"scatterpolar\": [{\"marker\": {\"colorbar\": {\"outlinewidth\": 0, \"ticks\": \"\"}}, \"type\": \"scatterpolar\"}], \"scatter\": [{\"marker\": {\"colorbar\": {\"outlinewidth\": 0, \"ticks\": \"\"}}, \"type\": \"scatter\"}], \"scatterternary\": [{\"marker\": {\"colorbar\": {\"outlinewidth\": 0, \"ticks\": \"\"}}, \"type\": \"scatterternary\"}], \"surface\": [{\"colorbar\": {\"outlinewidth\": 0, \"ticks\": \"\"}, \"type\": \"surface\"}], \"table\": [{\"cells\": {\"fill\": {\"color\": \"#EBF0F8\"}, \"line\": {\"color\": \"white\"}}, \"header\": {\"fill\": {\"color\": \"#C8D4E3\"}, \"line\": {\"color\": \"white\"}}, \"type\": \"table\"}]}, \"layout\": {\"annotationdefaults\": {\"arrowcolor\": \"#506784\", \"arrowhead\": 0, \"arrowwidth\": 1}, \"colorscale\": {\"diverging\": [[0, \"#8e0152\"], [0.1, \"#c51b7d\"], [0.2, \"#de77ae\"], [0.3, \"#f1b6da\"], [0.4, \"#fde0ef\"], [0.5, \"#f7f7f7\"], [0.6, \"#e6f5d0\"], [0.7, \"#b8e186\"], [0.8, \"#7fbc41\"], [0.9, \"#4d9221\"], [1, \"#276419\"]], \"sequential\": [[0.0, \"#0508b8\"], [0.0893854748603352, \"#1910d8\"], [0.1787709497206704, \"#3c19f0\"], [0.2681564245810056, \"#6b1cfb\"], [0.3575418994413408, \"#981cfd\"], [0.44692737430167595, \"#bf1cfd\"], [0.5363128491620112, \"#dd2bfd\"], [0.6256983240223464, \"#f246fe\"], [0.7150837988826816, \"#fc67fd\"], [0.8044692737430168, \"#fe88fc\"], [0.8938547486033519, \"#fea5fd\"], [0.9832402234636871, \"#febefe\"], [1.0, \"#fec3fe\"]], \"sequentialminus\": [[0.0, \"#0508b8\"], [0.0893854748603352, \"#1910d8\"], [0.1787709497206704, \"#3c19f0\"], [0.2681564245810056, \"#6b1cfb\"], [0.3575418994413408, \"#981cfd\"], [0.44692737430167595, \"#bf1cfd\"], [0.5363128491620112, \"#dd2bfd\"], [0.6256983240223464, \"#f246fe\"], [0.7150837988826816, \"#fc67fd\"], [0.8044692737430168, \"#fe88fc\"], [0.8938547486033519, \"#fea5fd\"], [0.9832402234636871, \"#febefe\"], [1.0, \"#fec3fe\"]]}, \"colorway\": [\"#636efa\", \"#EF553B\", \"#00cc96\", \"#ab63fa\", \"#19d3f3\", \"#e763fa\", \"#FECB52\", \"#FFA15A\", \"#FF6692\", \"#B6E880\"], \"font\": {\"color\": \"#2a3f5f\"}, \"geo\": {\"bgcolor\": \"white\", \"lakecolor\": \"white\", \"landcolor\": \"white\", \"showlakes\": true, \"showland\": true, \"subunitcolor\": \"#C8D4E3\"}, \"hovermode\": \"closest\", \"mapbox\": {\"style\": \"light\"}, \"paper_bgcolor\": \"white\", \"plot_bgcolor\": \"white\", \"polar\": {\"angularaxis\": {\"gridcolor\": \"#EBF0F8\", \"linecolor\": \"#EBF0F8\", \"ticks\": \"\"}, \"bgcolor\": \"white\", \"radialaxis\": {\"gridcolor\": \"#EBF0F8\", \"linecolor\": \"#EBF0F8\", \"ticks\": \"\"}}, \"scene\": {\"xaxis\": {\"backgroundcolor\": \"white\", \"gridcolor\": \"#DFE8F3\", \"gridwidth\": 2, \"linecolor\": \"#EBF0F8\", \"showbackground\": true, \"ticks\": \"\", \"zerolinecolor\": \"#EBF0F8\"}, \"yaxis\": {\"backgroundcolor\": \"white\", \"gridcolor\": \"#DFE8F3\", \"gridwidth\": 2, \"linecolor\": \"#EBF0F8\", \"showbackground\": true, \"ticks\": \"\", \"zerolinecolor\": \"#EBF0F8\"}, \"zaxis\": {\"backgroundcolor\": \"white\", \"gridcolor\": \"#DFE8F3\", \"gridwidth\": 2, \"linecolor\": \"#EBF0F8\", \"showbackground\": true, \"ticks\": \"\", \"zerolinecolor\": \"#EBF0F8\"}}, \"shapedefaults\": {\"fillcolor\": \"#506784\", \"line\": {\"width\": 0}, \"opacity\": 0.4}, \"ternary\": {\"aaxis\": {\"gridcolor\": \"#DFE8F3\", \"linecolor\": \"#A2B1C6\", \"ticks\": \"\"}, \"baxis\": {\"gridcolor\": \"#DFE8F3\", \"linecolor\": \"#A2B1C6\", \"ticks\": \"\"}, \"bgcolor\": \"white\", \"caxis\": {\"gridcolor\": \"#DFE8F3\", \"linecolor\": \"#A2B1C6\", \"ticks\": \"\"}}, \"title\": {\"x\": 0.05}, \"xaxis\": {\"automargin\": true, \"gridcolor\": \"#EBF0F8\", \"linecolor\": \"#EBF0F8\", \"ticks\": \"\", \"zerolinecolor\": \"#EBF0F8\", \"zerolinewidth\": 2}, \"yaxis\": {\"automargin\": true, \"gridcolor\": \"#EBF0F8\", \"linecolor\": \"#EBF0F8\", \"ticks\": \"\", \"zerolinecolor\": \"#EBF0F8\", \"zerolinewidth\": 2}}}, \"width\": 600, \"grid\": {\"xaxes\": [\"x\"], \"yaxes\": [\"y\"], \"xgap\": 0.1, \"ygap\": 0.1, \"xside\": \"bottom\", \"yside\": \"left\"}, \"xaxis\": {\"title\": {\"text\": \"GDP per capita relative to the US, 1960\"}, \"range\": [0, 1.3]}, \"yaxis\": {\"title\": {\"text\": \"GDP per capita relative to the US, 2016\"}, \"range\": [0, 1.3]}}, {\"showLink\": false, \"linkText\": \"Export to plot.ly\", \"plotlyServerURL\": \"https://plot.ly\"}); \n",
       "}\n",
       "});</script>"
      ]
     },
     "metadata": {},
     "output_type": "display_data"
    }
   ],
   "source": []
  },
  {
   "cell_type": "code",
   "execution_count": 74,
   "metadata": {},
   "outputs": [
    {
     "data": {
      "text/html": [
       "<div>\n",
       "<style scoped>\n",
       "    .dataframe tbody tr th:only-of-type {\n",
       "        vertical-align: middle;\n",
       "    }\n",
       "\n",
       "    .dataframe tbody tr th {\n",
       "        vertical-align: top;\n",
       "    }\n",
       "\n",
       "    .dataframe thead th {\n",
       "        text-align: right;\n",
       "    }\n",
       "</style>\n",
       "<table border=\"1\" class=\"dataframe\">\n",
       "  <thead>\n",
       "    <tr style=\"text-align: right;\">\n",
       "      <th></th>\n",
       "      <th>country</th>\n",
       "      <th>countrycode</th>\n",
       "      <th>1960</th>\n",
       "      <th>2016</th>\n",
       "      <th>pop</th>\n",
       "    </tr>\n",
       "  </thead>\n",
       "  <tbody>\n",
       "    <tr>\n",
       "      <th>55</th>\n",
       "      <td>Haiti</td>\n",
       "      <td>HTI</td>\n",
       "      <td>0.148964</td>\n",
       "      <td>0.030859</td>\n",
       "      <td>10.486</td>\n",
       "    </tr>\n",
       "  </tbody>\n",
       "</table>\n",
       "</div>"
      ],
      "text/plain": [
       "   country countrycode      1960      2016     pop\n",
       "55   Haiti         HTI  0.148964  0.030859  10.486"
      ]
     },
     "execution_count": 74,
     "metadata": {},
     "output_type": "execute_result"
    }
   ],
   "source": [
    "df_income[df_income.countrycode=='HTI']#[[1960,2016]].values[0]"
   ]
  },
  {
   "cell_type": "code",
   "execution_count": 75,
   "metadata": {},
   "outputs": [
    {
     "data": {
      "text/html": [
       "<div>\n",
       "<style scoped>\n",
       "    .dataframe tbody tr th:only-of-type {\n",
       "        vertical-align: middle;\n",
       "    }\n",
       "\n",
       "    .dataframe tbody tr th {\n",
       "        vertical-align: top;\n",
       "    }\n",
       "\n",
       "    .dataframe thead th {\n",
       "        text-align: right;\n",
       "    }\n",
       "</style>\n",
       "<table border=\"1\" class=\"dataframe\">\n",
       "  <thead>\n",
       "    <tr style=\"text-align: right;\">\n",
       "      <th></th>\n",
       "      <th>country</th>\n",
       "      <th>countrycode</th>\n",
       "      <th>1960</th>\n",
       "      <th>2016</th>\n",
       "      <th>pop</th>\n",
       "    </tr>\n",
       "  </thead>\n",
       "  <tbody>\n",
       "    <tr>\n",
       "      <th>2</th>\n",
       "      <td>Argentina</td>\n",
       "      <td>ARG</td>\n",
       "      <td>0.494407</td>\n",
       "      <td>0.352636</td>\n",
       "      <td>43.887</td>\n",
       "    </tr>\n",
       "  </tbody>\n",
       "</table>\n",
       "</div>"
      ],
      "text/plain": [
       "     country countrycode      1960      2016     pop\n",
       "2  Argentina         ARG  0.494407  0.352636  43.887"
      ]
     },
     "execution_count": 75,
     "metadata": {},
     "output_type": "execute_result"
    }
   ],
   "source": [
    "df_income[df_income.countrycode=='ARG']"
   ]
  },
  {
   "cell_type": "code",
   "execution_count": 76,
   "metadata": {
    "scrolled": true
   },
   "outputs": [],
   "source": [
    "import statsmodels.api as sm"
   ]
  },
  {
   "cell_type": "code",
   "execution_count": 77,
   "metadata": {},
   "outputs": [],
   "source": [
    "GBR = df[df.countrycode=='GBR'].set_index('year').cgdppc.dropna()"
   ]
  },
  {
   "cell_type": "code",
   "execution_count": 78,
   "metadata": {},
   "outputs": [],
   "source": [
    "cycle, trend = sm.tsa.filters.hpfilter(GBR.loc[1900:],1600)"
   ]
  },
  {
   "cell_type": "code",
   "execution_count": 79,
   "metadata": {},
   "outputs": [
    {
     "data": {
      "image/png": "[encoded data removed]",
      "text/plain": [
       "<Figure size 576x432 with 1 Axes>"
      ]
     },
     "metadata": {},
     "output_type": "display_data"
    }
   ],
   "source": [
    "fig,ax = plt.subplots(figsize=(8,6))\n",
    "ax.plot(GBR.loc[1900:],'r',linewidth=2,label='GDP per capita')\n",
    "#ax.plot(trend,'k',linewidth=2, label='Trend')\n",
    "#ax.legend(loc='upper left',frameon=False)\n",
    "ax.annotate('GDP per capita',(2015,GBR.loc[2010]),color='r',fontsize=16)\n",
    "#ax.annotate('Trend',(1970,GBR.loc[1990]),color='k',fontsize=16)\n",
    "ax.set_ylim(ymin = 4000,ymax=42000)\n",
    "ax.set_ylabel('UK real GDP per capita in 2011US$')\n",
    "ax.spines[\"left\"].set_visible(False)\n",
    "ax.spines[\"bottom\"].set_visible(False)\n",
    "ax.spines[\"right\"].set_visible(False)\n",
    "ax.spines[\"top\"].set_visible(False)\n",
    "ax.set_xlabel('Year')\n",
    "plt.text(1875,-8000,'Source: Maddison Project Database (MPD) 2018',fontsize=16)\n",
    "plt.savefig('UK-gdp.svg',bbox_inches='tight')"
   ]
  },
  {
   "cell_type": "code",
   "execution_count": null,
   "metadata": {},
   "outputs": [],
   "source": []
  }
 ],
 "metadata": {
  "kernelspec": {
   "display_name": "Python 3",
   "language": "python",
   "name": "python3"
  },
  "language_info": {
   "codemirror_mode": {
    "name": "ipython",
    "version": 3
   },
   "file_extension": ".py",
   "mimetype": "text/x-python",
   "name": "python",
   "nbconvert_exporter": "python",
   "pygments_lexer": "ipython3",
   "version": "3.6.10"
  }
 },
 "nbformat": 4,
 "nbformat_minor": 2
}
