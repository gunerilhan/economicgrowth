{
 "cells": [
  {
   "cell_type": "markdown",
   "metadata": {},
   "source": [
    "### Solutions to EC569 Economic Growth - Problem Set 3\n",
    "\n",
    "This notebook is in html. To be able to run it, please click: [![Open In Colab](https://colab.research.google.com/assets/colab-badge.svg)](https://colab.research.google.com/github/gunerilhan/economicgrowth/blob/master/ps3/ps3.ipynb)"
   ]
  },
  {
   "cell_type": "code",
   "execution_count": 1,
   "metadata": {},
   "outputs": [],
   "source": [
    "# First import the packages we'll need\n",
    "# Numpy is for numerical analysis\n",
    "import numpy as np\n",
    "# Pandas is for data storage and manipulation\n",
    "import pandas as pd\n",
    "# Matplotlib and seaborn are for plotting\n",
    "import matplotlib.pyplot as plt\n",
    "%matplotlib inline\n",
    "import seaborn as sns"
   ]
  },
  {
   "cell_type": "code",
   "execution_count": 2,
   "metadata": {},
   "outputs": [],
   "source": [
    "# Sets the theme for our plots\n",
    "#!pip install qeds\n",
    "import qeds\n",
    "qeds.themes.mpl_style();\n",
    "colors=plt.rcParams[\"axes.prop_cycle\"].by_key()[\"color\"]\n",
    "colors.remove('#fec630')\n",
    "sns.set_style('whitegrid')"
   ]
  },
  {
   "cell_type": "markdown",
   "metadata": {},
   "source": [
    "**1** Wakanda and Zakanda are two neighboring countries. Wakanda has a highly advanced technology, whereas, Zakanda has a lower level of technology and lower income per capita. In the usual setting, we would expect Zakanda to learn about Wakanda's technology but Wakanda has been successfully hiding its technology from the rest of the world for centuries. At time $t=0$, Wakanda has a productivity of 10, $A_w = 10$, and 20% of its labor force engage in R\\&D, $\\gamma_{A,W} = 0.2$.  Zakanda, on the other hand, has a productivity level of 6, $A_Z=6$, and 10\\% of its population engages in R\\&D, $\\gamma_{A,Z}=0.1$. Each country has a labor force equal to 1, $L=1$. Price of invention in each country is equal to 10, $\\mu = 10$. Along the line, the following events take place:\n",
    "\n",
    "- After long soul searching, at time $t=10$, King T'Challa of Wakanda decides to open up Wakanda's technology to Zakanda.\n",
    "\n",
    "- King T'Chala observes Zakanda's development for 10 periods. But, he is surprised that Zakanda did not imitate Wakanda's technology and it grows at its former pace, as before time $t=10$. He appoints his sister and Chief Scientist of Wakanda, Shuri, as his technology ambassador to Zakanda at time $t=20$.\n",
    "\n",
    "- With the help of Shuri, Zakanda is able to imitate Wakanda's technology with a cost of copying equal to $\\mu_{c} = \\mu_i \\left(\\frac{A_L}{A_F} \\right)^{-1/2},$ where $A_L$ is the productivity of technology leader and $A_F$ is the productivity of technology follower. Shuri convinces Zakanda to increase the fraction of workers engaged in R\\&D to 15\\%, $\\gamma_{A,Z}=0.15$\n",
    "\n",
    "- After observing the progress made since $t=20$, Zakandans increase the fraction of labor force engaging in R\\&D to 22\\%, $\\gamma_{A,Z}=0.22 $ at time $t=50.$\n",
    "\n",
    "a. Using the appropriate models we covered in Lecture 7 (You need to employ one-country model of technology creation and growth and two-country model of technology creation and growth\n",
    "in answering this question.), simulate and plot Wakanda and Zakanda productivities and income per worker levels from $t=0$ to $t=250$ considering the events took place. Briefly comment on your graphs. In your graphs, make sure to highlight each event.\n",
    "\n",
    "b. What might have prevented Zakanda from imitating Wakanda's technology from time $t=10$ to time $t=20$? Briefly explain. (In this question, I expect you to read section 8.4 (Barrier to international technology transfer) of Weil (2013).)\n",
    "\n",
    "<br>\n",
    "\n",
    "<center>\n",
    "<img src=\"https://media.giphy.com/media/l378hTnSHp8EI0la0/giphy.gif\" width=\"60%\"/>\n",
    "</center>\n",
    "\n",
    "\n"
   ]
  },
  {
   "cell_type": "markdown",
   "metadata": {},
   "source": [
    "#### Solution #####\n",
    "\n",
    "Notice that until $t=20$, Wakanda's technology is hidden from Zakanda. Hence, we need to consider technological progress in each of the countries separately as our one country model. Therefore, to calculate Wakanda's productivity and income over time, first we calculate productivity growth rate:\n",
    "\n",
    "$$ \\widehat{A}_w(t) = \\frac{\\gamma_{A,w} L }{\\mu}$$\n",
    "\n",
    "Then, we calculate output: \n",
    "\n",
    "$$ y_{w}(t) = A_w(t)(1-\\gamma_{A,w}) $$\n",
    "\n",
    "Then, using the growth rate we calculated and current productivity level, we can calculate next period's productivity:\n",
    "\n",
    "$$ A_w(t+1) = A_w(t)(1+\\widehat{A}_w(t))$$\n",
    "\n",
    "Starting from $t=0$, we repeat these calculations 20 times to get productivity and income of Wakanda for $t=0,...,20$\n",
    "\n",
    "We calculate Zakanda's productivity and income until t=19 as we did for Wakanda:\n",
    "\n",
    "$$ \\widehat{A}_z(t) = \\frac{\\gamma_{A,z} L }{\\mu}$$\n",
    "\n",
    "$$ y_{z}(t) = A_z(t)(1-\\gamma_{A,z}) $$\n",
    "\n",
    "$$ A_z(t+1) = A_z(t)(1+\\widehat{A}_z(t))$$\n",
    "\n",
    "Repeat the above calculations 19 times.\n",
    "\n",
    "Now, at time $t=20$, we observe 2 important developments. First, Zakanda begins imitating Wakanda's technology, and second, Zakanda increases share of labor force engaged in R&D to 0.15, notated as $\\gamma_{A,z}^n$, where $n$ represents 'new'. However, as Wakanda is the technology leader, nothing changes for Wakanda, and we can keep calculating Wakanda's income and output as we did before until $t=50$. Now, Zakanda's productivity growth can be calculated as follows:\n",
    "\n",
    "First, calculate the cost of imitation at time $t$,\n",
    "$$\\mu_{c}(t) = \\mu \\left(\\frac{A_w(t)}{A_z(t)} \\right)^{-1/2}$$\n",
    "\n",
    "Notice that cost of imitation depends on the ratio of productivities in these countries. Hence, we need to calcualte a new cost of imitation at each time $t$. Then we can calculate productivity growth rate in Zakanda,\n",
    "\n",
    "$$ \\widehat{A}_z(t) = \\frac{\\gamma_{A,z}^n L }{\\mu_c(t)}$$\n",
    "\n",
    "Lastly, we can can calculate output in Zakanda,\n",
    "\n",
    "$$ y_{z}(t) = A_z(t)(1-\\gamma_{A,z}^n) $$\n",
    "\n",
    "Lastly we need to repeat this from $t=20$ to $t=50$. At time $t=50$, Zakanda increases the faraction of labor force engaged in R&D to .22. Now, we repeat the above process with the most recent $\\gamma_{A,z}$. This will go on for a while, until the point Zakanda's productivity surpases Wakanda's productivity. Then, Zakanda will become the technology leader. Therefore, after that time, cost of innovation in Zakanda will be equal to cost of invention, and cost of innovation in Wakanda will be equal to cost of copying. \n",
    "\n",
    "$$\\mu_{c}(t) = \\mu \\left(\\frac{A_z(t)}{A_w(t)} \\right)^{-1/2}$$\n",
    "\n",
    "$$ \\widehat{A}_z(t) = \\frac{\\gamma_{A,z}^n L }{\\mu}$$\n",
    "\n",
    "$$ \\widehat{A}_w(t) = \\frac{\\gamma_{A,w}^n L }{\\mu_c(t)}$$\n",
    "\n",
    "We will iterate this process until $t=250.$\n",
    "\n",
    "\n",
    "\n",
    "\n"
   ]
  },
  {
   "cell_type": "code",
   "execution_count": 3,
   "metadata": {},
   "outputs": [],
   "source": [
    "# First I define the parameter values in Python #\n",
    "T  = 300 # number of time periods (you are supposed to simulate 250 periods, but it's fine if you simulate more)\n",
    "mu = 10 # cost of invention \n",
    "L = 1 # labor force\n",
    "gamma_w = .2*np.ones(T) # fraction of workers engaged in R&D in Wakanda, this is list of values equal to 0.2\n",
    "# fraction of workers engaged in R&D in Zakanda\n",
    "gamma_z = np.zeros(T) # create a list of zeros, and then change the values according to the info from the q.\n",
    "for t in range(T):\n",
    "    if t<20:\n",
    "        gamma_z[t] = .1\n",
    "    elif 20<=t<50:\n",
    "        gamma_z[t] = .15\n",
    "    else:\n",
    "        gamma_z[t] = .22\n",
    "A_w = np.zeros(T) # productivity in Wakanda, it will be replaced by actual values\n",
    "A_w[0] = 10 # initial productivity\n",
    "A_z = np.zeros(T) # productivity in Zakanda, it will be replaced by actual values\n",
    "A_z[0] = 6 # inital productivity\n",
    "A_z_hat=np.zeros(T-1)  # productivity growth in Zakanda, it will be replaced by actual values\n",
    "A_w_hat=np.zeros(T-1)   # productivity growth in Wakanda, it will be replaced by actual values\n",
    "mu_c_seq = np.zeros(T) # sequence of cost of copying. It will be replaced by actual values"
   ]
  },
  {
   "cell_type": "code",
   "execution_count": 4,
   "metadata": {},
   "outputs": [],
   "source": [
    "# this is the algorithm I described above\n",
    "for t in range(T-1):\n",
    "    # when t<10, each country is independent\n",
    "    if t<20:\n",
    "        A_w_hat[t] = gamma_w[t]*L/mu # find the growth rate\n",
    "        A_w[t+1] = A_w[t]*(1+A_w_hat[t]) # calculate next period's productivity\n",
    "        mu_c = mu\n",
    "        A_z_hat[t] = gamma_z[t]*L/mu_c\n",
    "        A_z[t+1] = A_z[t]*(1+A_z_hat[t])\n",
    "    # after t > 20, if the productivity of Wakanda is greater than Zakanda's, \n",
    "    # Wakanda is the technology leader, and Zakanda enjoys copying\n",
    "    elif (A_w[t]>A_z[t]):\n",
    "        A_w_hat[t] = gamma_w[t]*L/mu\n",
    "        A_w[t+1] = A_w[t]*(1+A_w_hat[t])\n",
    "        mu_c = mu*(A_w[t]/A_z[t])**(-1/2) # # cost of copying \n",
    "        A_z_hat[t] = gamma_z[t]*L/mu_c\n",
    "        A_z[t+1] = A_z[t]*(1+A_z_hat[t]) \n",
    "    # after t > 20, if the productivity of Zakanda is greater than Wakanda's, \n",
    "    # Zakanda is the technology leader, and Wakanda enjoys copying\n",
    "    else:\n",
    "        A_z_hat[t] = gamma_z[t]*L/mu\n",
    "        A_z[t+1] = A_z[t]*(1+A_z_hat[t])\n",
    "        mu_c = mu*(A_z[t]/A_w[t])**(-1/2) # cost of copying but Zakanda as the tech. leader\n",
    "        A_w_hat[t] = gamma_w[t]*L/mu_c\n",
    "        A_w[t+1] = A_w[t]*(1+A_w_hat[t]) \n",
    "    # assign mu_c to mu_s_seq\n",
    "    mu_c_seq[t] = mu_c\n",
    "y_w = (1-gamma_w)*A_w # output per worker in Wakanda\n",
    "y_z = (1-gamma_z)*A_z # output per worker in Zakanda"
   ]
  },
  {
   "cell_type": "code",
   "execution_count": 5,
   "metadata": {},
   "outputs": [
    {
     "data": {
      "image/png": "[encoded data removed]",
      "text/plain": [
       "<Figure size 432x288 with 1 Axes>"
      ]
     },
     "metadata": {},
     "output_type": "display_data"
    }
   ],
   "source": [
    "fig,ax = plt.subplots()\n",
    "ax.plot(y_w,'r',linewidth=2,label=\"Wakanda\")\n",
    "ax.plot(y_z,'k',linewidth=2,label='Zakanda')\n",
    "ax.set_yscale('log')\n",
    "ax.spines['left'].set_visible(False)\n",
    "ax.spines['right'].set_visible(False)\n",
    "ax.spines['top'].set_visible(False)\n",
    "ax.spines['bottom'].set_visible(False)\n",
    "ax.set_yticks([10,100,1000])\n",
    "ax.set_yticklabels([10,100,1000]);\n",
    "ax.legend(loc='best',frameon=False)\n",
    "ax.set_xlabel('Time')\n",
    "ax.set_ylabel('Output per worker, log scale');"
   ]
  },
  {
   "cell_type": "markdown",
   "metadata": {},
   "source": [
    "Note that Zakanda's output jumps down twice as a result of higher fraction of labor force engaged in R&D. However, after the jumps, Zakanda grows at a higher rate than before. Eventually, Zakanda catches Wakanda."
   ]
  },
  {
   "cell_type": "code",
   "execution_count": 6,
   "metadata": {},
   "outputs": [
    {
     "data": {
      "image/png": "[encoded data removed]",
      "text/plain": [
       "<Figure size 864x360 with 2 Axes>"
      ]
     },
     "metadata": {},
     "output_type": "display_data"
    }
   ],
   "source": [
    "# let's plot each country separately\n",
    "num_rows, num_cols = 1 ,2 \n",
    "fig, axes = plt.subplots(num_rows, num_cols, figsize=(12, 5))\n",
    "axes[0].plot(range(T),A_w,'r.',linewidth=.1,label='Productivity')\n",
    "axes[0].plot(range(T),y_w,'k.',linewidth=.1,label='Output')  \n",
    "axes[0].set_title('Wakanda')\n",
    "axes[1].plot(range(T),A_z,'r.',linewidth=.1,label='Productivity')\n",
    "axes[1].plot(range(T),y_z,'k.',linewidth=.1,label='Output')  \n",
    "axes[1].set_title('Zakanda')\n",
    "for i in range(num_cols):\n",
    "    axes[i].set_yscale('log')\n",
    "    axes[i].legend(loc='best',frameon=False)\n",
    "    axes[i].set_xlabel('time')\n",
    "    axes[i].spines['left'].set_visible(False)\n",
    "    axes[i].spines['right'].set_visible(False)\n",
    "    axes[i].spines['top'].set_visible(False)\n",
    "    axes[i].spines['bottom'].set_visible(False)\n",
    "plt.savefig('graphs1.pdf')"
   ]
  },
  {
   "cell_type": "markdown",
   "metadata": {},
   "source": [
    "The graph on the left is for Wakanda, and the graph on the right is for Zakanda. As you see, productivity and ouput in Wakanda increase substantially over 300 periods. Levels of productivity and output in Wakanda are much higher than those of Wakanda.\n",
    "\n",
    "Zakanda's productivity and income increases until t=20. As Zakanda begins imitating Wakanda's technology, it is able to increase its productiviity at higher rates. We also observe jump downs in Zakanda's output at $t=20$ and at $t=50$ as Zakanda increases fraction of labor force engaged in R&D. This leads to a temporary reduction in output, but higher productivity achieved in the subsequent periods compensantes for the reduced production workers and Zakanda enjoys higher output levels."
   ]
  },
  {
   "cell_type": "code",
   "execution_count": 7,
   "metadata": {},
   "outputs": [
    {
     "data": {
      "image/png": "[encoded data removed]",
      "text/plain": [
       "<Figure size 432x288 with 1 Axes>"
      ]
     },
     "metadata": {},
     "output_type": "display_data"
    }
   ],
   "source": [
    "# now let's look at the productivity growth rates\n",
    "fig,ax = plt.subplots()\n",
    "ax.plot(A_z_hat[:250],'r.',linewidth=2,label=r'$\\hat{A}_z$')\n",
    "ax.plot(A_w_hat[:250],'k.',linewidth=2,label=r'$\\hat{A}_w$')\n",
    "ax.legend(loc='best',frameon=False)\n",
    "ax.set_xlabel('Time')\n",
    "ax.set_ylim(ymin=0.008)\n",
    "ax.set_title('Productivity Growth');\n",
    "ax.spines['left'].set_visible(False)\n",
    "ax.spines['right'].set_visible(False)\n",
    "ax.spines['top'].set_visible(False)\n",
    "ax.spines['bottom'].set_visible(False)"
   ]
  },
  {
   "cell_type": "markdown",
   "metadata": {},
   "source": [
    "Wakanda's productivity growth rate is constant and equal to .2 until period 188 as it is the technology leader and there is no change in the fraction of labor force engaged in R&D. However, at period 188, Zakanda catches up Wakanda's technology level and becomes the technology leader. After this period, Wakanda observes a higher productivity growth, as the cost of innovation goes down for Wakanda. Zakanda's productivity growth rate, on the other hand, is equal to 0.01 until $t=20$ as it alocates substantially lower fraction of labor force to R&D than Wakanda. However, at $t=20$, because of imitation and increase in R&D labor, Zakanda's productivity growth rate jumps to .021, which is higher than Wakanda's productivity growth rate. Because of this, Zakanda's productivity converges to Wakanda's, and cost of imitation increaes. Remember, cost of imitation is inversely related to productivity differences in the two countries. As cost imitation increases, Zakanda's productivity growth rate decreases and converges to Wakanda's. After the peprid $t=50$, Zakanda increases R&D labor further, which leads to higher productivity growth rate, .31 at period $t=50$. As Zakanda's productivity converges to the Wakanda, productivity growth rate of Zakanda goes down. At period $t=188$, Zakanda catches Wakanda, becomes the technology leader, and enjoys a constant growth rate of .022. "
   ]
  },
  {
   "cell_type": "code",
   "execution_count": 8,
   "metadata": {},
   "outputs": [],
   "source": [
    "productivity = pd.DataFrame({'Productivity (Wakanda)':A_w[:250],\n",
    "                            'Productivity (Zakanda)':A_z[:250],\n",
    "                           'Output per worker (Wakanda)':y_w[:250],\n",
    "                            'Output per worker (Zakanda)':y_z[:250],\n",
    "                            'Productivity Growth (Wakanda)':A_w_hat[:250],\n",
    "                            'Productivity Growth (Zakanda)':A_z_hat[:250],\n",
    "                             'Cost of copying':mu_c_seq[:250]})"
   ]
  },
  {
   "cell_type": "code",
   "execution_count": 9,
   "metadata": {},
   "outputs": [],
   "source": [
    "productivity.to_csv('ps3-q1.csv')"
   ]
  },
  {
   "cell_type": "code",
   "execution_count": 10,
   "metadata": {},
   "outputs": [
    {
     "data": {
      "text/html": [
       "<div>\n",
       "<style scoped>\n",
       "    .dataframe tbody tr th:only-of-type {\n",
       "        vertical-align: middle;\n",
       "    }\n",
       "\n",
       "    .dataframe tbody tr th {\n",
       "        vertical-align: top;\n",
       "    }\n",
       "\n",
       "    .dataframe thead th {\n",
       "        text-align: right;\n",
       "    }\n",
       "</style>\n",
       "<table border=\"1\" class=\"dataframe\">\n",
       "  <thead>\n",
       "    <tr style=\"text-align: right;\">\n",
       "      <th></th>\n",
       "      <th>Productivity (Wakanda)</th>\n",
       "      <th>Productivity (Zakanda)</th>\n",
       "      <th>Output per worker (Wakanda)</th>\n",
       "      <th>Output per worker (Zakanda)</th>\n",
       "      <th>Productivity Growth (Wakanda)</th>\n",
       "      <th>Productivity Growth (Zakanda)</th>\n",
       "      <th>Cost of copying</th>\n",
       "    </tr>\n",
       "  </thead>\n",
       "  <tbody>\n",
       "    <tr>\n",
       "      <td>29</td>\n",
       "      <td>17.758447</td>\n",
       "      <td>8.851412</td>\n",
       "      <td>14.206758</td>\n",
       "      <td>7.523700</td>\n",
       "      <td>0.02</td>\n",
       "      <td>0.021247</td>\n",
       "      <td>7.059985</td>\n",
       "    </tr>\n",
       "    <tr>\n",
       "      <td>30</td>\n",
       "      <td>18.113616</td>\n",
       "      <td>9.039474</td>\n",
       "      <td>14.490893</td>\n",
       "      <td>7.683553</td>\n",
       "      <td>0.02</td>\n",
       "      <td>0.021234</td>\n",
       "      <td>7.064298</td>\n",
       "    </tr>\n",
       "    <tr>\n",
       "      <td>31</td>\n",
       "      <td>18.475888</td>\n",
       "      <td>9.231414</td>\n",
       "      <td>14.780711</td>\n",
       "      <td>7.846702</td>\n",
       "      <td>0.02</td>\n",
       "      <td>0.021221</td>\n",
       "      <td>7.068568</td>\n",
       "    </tr>\n",
       "  </tbody>\n",
       "</table>\n",
       "</div>"
      ],
      "text/plain": [
       "    Productivity (Wakanda)  Productivity (Zakanda)  \\\n",
       "29               17.758447                8.851412   \n",
       "30               18.113616                9.039474   \n",
       "31               18.475888                9.231414   \n",
       "\n",
       "    Output per worker (Wakanda)  Output per worker (Zakanda)  \\\n",
       "29                    14.206758                     7.523700   \n",
       "30                    14.490893                     7.683553   \n",
       "31                    14.780711                     7.846702   \n",
       "\n",
       "    Productivity Growth (Wakanda)  Productivity Growth (Zakanda)  \\\n",
       "29                           0.02                       0.021247   \n",
       "30                           0.02                       0.021234   \n",
       "31                           0.02                       0.021221   \n",
       "\n",
       "    Cost of copying  \n",
       "29         7.059985  \n",
       "30         7.064298  \n",
       "31         7.068568  "
      ]
     },
     "execution_count": 10,
     "metadata": {},
     "output_type": "execute_result"
    }
   ],
   "source": [
    "productivity.loc[29:31]"
   ]
  },
  {
   "cell_type": "markdown",
   "metadata": {},
   "source": [
    " In questions 2 and 3, using  [Penn World Table](https://www.rug.nl/ggdc/productivity/pwt/), you will do development accounting and growth accounting. In these questions, use _rgdpna_ (Real GDP at constant 2011 national prices (in mil. 2011US\\$)) as a measure of real GDP, use _rnna_ (Capital stock at constant 2011 national prices (in mil. 2011US\\$)) as a measure of real capital stock, use _emp_ (Number of persons engaged (in millions)) as a measure of employment, and use _hc_ (Human capital index, based on years of schooling and returns to education) as a measure of human capital. You don't need to divide _hc_ with employment numbers as _hc_ is already a measure of average human capital in a society. Assume $\\alpha=1/3$ for questions 2 and 3."
   ]
  },
  {
   "cell_type": "code",
   "execution_count": 11,
   "metadata": {},
   "outputs": [],
   "source": [
    "# Here, I download the Penn World Tables legend\n",
    "df_legend = pd.read_excel('https://www.rug.nl/ggdc/docs/pwt91.xlsx',sheet_name='Legend')\n",
    "df_legend.dropna(inplace=True)\n",
    "# I create a dictionary of variables names and definitions\n",
    "df_legend = dict(zip(df_legend['Variable name'],df_legend['Variable definition']))"
   ]
  },
  {
   "cell_type": "code",
   "execution_count": 12,
   "metadata": {
    "scrolled": true
   },
   "outputs": [
    {
     "name": "stdout",
     "output_type": "stream",
     "text": [
      "rgdpna =  Real GDP at constant 2011 national prices (in mil. 2011US$)\n",
      "rnna =  Capital stock at constant 2011 national prices (in mil. 2011US$)\n",
      "emp =  Number of persons engaged (in millions)\n",
      "hc = Human capital index, based on years of schooling and returns to education; see Human capital in PWT9.\n"
     ]
    }
   ],
   "source": [
    "# Here are the variables, we will need in this analysis\n",
    "print('rgdpna = ', df_legend['rgdpna'])\n",
    "print('rnna = ', df_legend['rnna'])\n",
    "print('emp = ', df_legend['emp'])\n",
    "print('hc =', df_legend['hc'])"
   ]
  },
  {
   "cell_type": "code",
   "execution_count": 13,
   "metadata": {},
   "outputs": [],
   "source": [
    "# now download the data\n",
    "df = pd.read_excel('https://www.rug.nl/ggdc/docs/pwt91.xlsx',sheet_name='Data')"
   ]
  },
  {
   "cell_type": "code",
   "execution_count": 14,
   "metadata": {},
   "outputs": [],
   "source": [
    "# create GDP per worker and physical capital per worker\n",
    "df['gdpPerworker'] = df['rgdpna']/df.emp\n",
    "df['capPerworker'] = df['rnna']/df.emp"
   ]
  },
  {
   "cell_type": "markdown",
   "metadata": {},
   "source": [
    "**2.** Using 2017 values in Penn World Table, conduct development accounting of Argentina,\n",
    "Germany, Bulgaria and Japan relative to the United Kingdom. Create a table summarizing\n",
    "your results. Briefly comment on the table."
   ]
  },
  {
   "cell_type": "code",
   "execution_count": 15,
   "metadata": {},
   "outputs": [],
   "source": [
    "# These are the list of countries we will analyze\n",
    "country_list_2  = ['ARG','DEU','BGR','JPN','GBR']"
   ]
  },
  {
   "cell_type": "markdown",
   "metadata": {},
   "source": [
    "**Solution:** Divide GDP per worker, capital per worker, human capital per worker by the Great Britain values. \n",
    "\n",
    "Lastly, calculate productivity differences as follows:\n",
    "$$\\frac{A_i}{A_{GBR}}=\\frac{\\frac{y_i}{y_{GBR}}}{\\frac{k_i^\\alpha h_i^{1-\\alpha}}{k_{GBR}^\\alpha h_{GBR}^{1-\\alpha}}}$$\n"
   ]
  },
  {
   "cell_type": "code",
   "execution_count": 41,
   "metadata": {},
   "outputs": [
    {
     "data": {
      "text/html": [
       "<div>\n",
       "<style scoped>\n",
       "    .dataframe tbody tr th:only-of-type {\n",
       "        vertical-align: middle;\n",
       "    }\n",
       "\n",
       "    .dataframe tbody tr th {\n",
       "        vertical-align: top;\n",
       "    }\n",
       "\n",
       "    .dataframe thead th {\n",
       "        text-align: right;\n",
       "    }\n",
       "</style>\n",
       "<table border=\"1\" class=\"dataframe\">\n",
       "  <thead>\n",
       "    <tr style=\"text-align: right;\">\n",
       "      <th></th>\n",
       "      <th>Rel. output per worker, y</th>\n",
       "      <th>Rel. physical capital per worker, k</th>\n",
       "      <th>Rel. human capital per worker, h</th>\n",
       "      <th>Rel. factors of production</th>\n",
       "      <th>Rel. productivity, A</th>\n",
       "    </tr>\n",
       "    <tr>\n",
       "      <th>country</th>\n",
       "      <th></th>\n",
       "      <th></th>\n",
       "      <th></th>\n",
       "      <th></th>\n",
       "      <th></th>\n",
       "    </tr>\n",
       "  </thead>\n",
       "  <tbody>\n",
       "    <tr>\n",
       "      <td>Argentina</td>\n",
       "      <td>0.46</td>\n",
       "      <td>0.33</td>\n",
       "      <td>0.81</td>\n",
       "      <td>0.60</td>\n",
       "      <td>0.78</td>\n",
       "    </tr>\n",
       "    <tr>\n",
       "      <td>Bulgaria</td>\n",
       "      <td>0.47</td>\n",
       "      <td>0.33</td>\n",
       "      <td>0.84</td>\n",
       "      <td>0.61</td>\n",
       "      <td>0.76</td>\n",
       "    </tr>\n",
       "    <tr>\n",
       "      <td>Germany</td>\n",
       "      <td>1.11</td>\n",
       "      <td>1.11</td>\n",
       "      <td>0.98</td>\n",
       "      <td>1.02</td>\n",
       "      <td>1.09</td>\n",
       "    </tr>\n",
       "    <tr>\n",
       "      <td>Japan</td>\n",
       "      <td>0.93</td>\n",
       "      <td>1.02</td>\n",
       "      <td>0.95</td>\n",
       "      <td>0.97</td>\n",
       "      <td>0.96</td>\n",
       "    </tr>\n",
       "  </tbody>\n",
       "</table>\n",
       "</div>"
      ],
      "text/plain": [
       "           Rel. output per worker, y  Rel. physical capital per worker, k  \\\n",
       "country                                                                     \n",
       "Argentina                       0.46                                 0.33   \n",
       "Bulgaria                        0.47                                 0.33   \n",
       "Germany                         1.11                                 1.11   \n",
       "Japan                           0.93                                 1.02   \n",
       "\n",
       "           Rel. human capital per worker, h  Rel. factors of production  \\\n",
       "country                                                                   \n",
       "Argentina                              0.81                        0.60   \n",
       "Bulgaria                               0.84                        0.61   \n",
       "Germany                                0.98                        1.02   \n",
       "Japan                                  0.95                        0.97   \n",
       "\n",
       "           Rel. productivity, A  \n",
       "country                          \n",
       "Argentina                  0.78  \n",
       "Bulgaria                   0.76  \n",
       "Germany                    1.09  \n",
       "Japan                      0.96  "
      ]
     },
     "execution_count": 41,
     "metadata": {},
     "output_type": "execute_result"
    }
   ],
   "source": [
    "# select 2017 values\n",
    "df_2017 = df[df.year==2017].copy()\n",
    "# I drop observations with missing values on 'gdpPerworker','capPerworker','hc' columns\n",
    "df_2017 = df_2017.dropna(subset=('gdpPerworker','capPerworker','hc'))\n",
    "# create new dataframe for UK values, as these will be used many times\n",
    "GBR = df_2017[df_2017.countrycode=='GBR']\n",
    "\n",
    "# I add extra columns to our df_2017 data\n",
    "df_2017['gdpPerworker, GBR'] = GBR['gdpPerworker'].values[0] # gdp per worker of the UK\n",
    "df_2017['capPerworker, GBR'] = GBR['capPerworker'].values[0] # capital per worker of the UK\n",
    "df_2017['hc, GBR'] = GBR['hc'].values[0] # human capital per worker of the UK\n",
    "# relative to the uk\n",
    "df_2017['Rel. output per worker, y'] = df_2017['gdpPerworker']/df_2017['gdpPerworker, GBR']\n",
    "df_2017['Rel. physical capital per worker, k'] = df_2017['capPerworker']/df_2017['capPerworker, GBR']\n",
    "df_2017['Rel. human capital per worker, h'] = df_2017['hc']/df_2017['hc, GBR']\n",
    "\n",
    "# factors of production relative to the UK\n",
    "df_2017['Rel. factors of production'] = (df_2017['Rel. physical capital per worker, k']**(1/3)*\n",
    "                                      df_2017['Rel. human capital per worker, h']**(2/3))\n",
    "\n",
    "# productivity relative to the UK\n",
    "df_2017['Rel. productivity, A'] = df_2017['Rel. output per worker, y']/df_2017['Rel. factors of production']\n",
    "\n",
    "\n",
    "df_2017[df_2017.countrycode.isin(country_list_2)][['country','Rel. output per worker, y',\n",
    "                                                   'Rel. physical capital per worker, k',\n",
    "                                                   'Rel. human capital per worker, h',\n",
    "                                                   'Rel. factors of production',\n",
    "                                                   'Rel. productivity, A']].round(decimals=2).set_index('country')"
   ]
  },
  {
   "cell_type": "code",
   "execution_count": 24,
   "metadata": {},
   "outputs": [],
   "source": [
    "cols = ['Rel. output per worker, y',\n",
    "       'Rel. physical capital per worker, k',\n",
    "       'Rel. human capital per worker, h',\n",
    "        'Rel. factors of production',\n",
    "        'Rel. productivity, A']\n",
    "cols2 = ['Output per worker',\n",
    "       'Physical capital per worker',\n",
    "       'Human capital per worker',\n",
    "        'Factors of production',\n",
    "        'Productivity']\n",
    "\n",
    "cols_rename = dict(zip(cols,cols2))"
   ]
  },
  {
   "cell_type": "code",
   "execution_count": 36,
   "metadata": {},
   "outputs": [],
   "source": [
    "country_list_2.remove('GBR')"
   ]
  },
  {
   "cell_type": "code",
   "execution_count": 37,
   "metadata": {
    "scrolled": true
   },
   "outputs": [],
   "source": [
    "df_bar = df_2017[df_2017.countrycode.isin(country_list_2)][['country',*cols]].rename(columns=cols_rename).melt(\n",
    "    id_vars='country',value_vars=cols2,var_name='Factor',value_name='Relative to UK').sort_values('country')"
   ]
  },
  {
   "cell_type": "code",
   "execution_count": 45,
   "metadata": {},
   "outputs": [
    {
     "data": {
      "text/plain": [
       "<seaborn.axisgrid.FacetGrid at 0x1a1742b990>"
      ]
     },
     "execution_count": 45,
     "metadata": {},
     "output_type": "execute_result"
    },
    {
     "data": {
      "image/png": "[encoded data removed]",
      "text/plain": [
       "<Figure size 613.525x432 with 1 Axes>"
      ]
     },
     "metadata": {},
     "output_type": "display_data"
    }
   ],
   "source": [
    "g = sns.catplot(x='country', y=\"Relative to UK\", hue=\"Factor\", data=df_bar[df_bar.Factor.isin(['Output per worker',\n",
    "                                                                            'Factors of production',\n",
    "                                                                           'Productivity'])],\n",
    "                height=6, kind=\"bar\", palette=\"muted\")\n",
    "g.despine(left=True)\n",
    "g.set_ylabels(\"Fraction of UK\")\n",
    "g.set_xlabels('Country')"
   ]
  },
  {
   "cell_type": "markdown",
   "metadata": {},
   "source": [
    "**3.** Conduct growth accounting of Italy, Greece, Spain, South Korea and the United Kingdom.\n",
    "Examine data from 1970 to 2017. Create a table summarizing your results. Briefly comment\n",
    "on the table."
   ]
  },
  {
   "cell_type": "code",
   "execution_count": 46,
   "metadata": {},
   "outputs": [],
   "source": [
    "# These are the list of countries we will analyze\n",
    "country_list_3  = ['ITA','GRC','ESP','KOR','GBR']"
   ]
  },
  {
   "cell_type": "code",
   "execution_count": 47,
   "metadata": {},
   "outputs": [],
   "source": [
    "# here I select the countries we are interested in and also years we are interested in\n",
    "df3 = df[(df.countrycode.isin(country_list_3))&(df.year.isin([1970,2017]))][\n",
    "    ['country','year','gdpPerworker','capPerworker','hc']].copy()\n",
    "# sort values\n",
    "df3.sort_values(['country','year'],inplace=True)\n",
    "df3.set_index(['country','year'],inplace=True)"
   ]
  },
  {
   "cell_type": "code",
   "execution_count": 48,
   "metadata": {},
   "outputs": [
    {
     "data": {
      "text/html": [
       "<div>\n",
       "<style scoped>\n",
       "    .dataframe tbody tr th:only-of-type {\n",
       "        vertical-align: middle;\n",
       "    }\n",
       "\n",
       "    .dataframe tbody tr th {\n",
       "        vertical-align: top;\n",
       "    }\n",
       "\n",
       "    .dataframe thead th {\n",
       "        text-align: right;\n",
       "    }\n",
       "</style>\n",
       "<table border=\"1\" class=\"dataframe\">\n",
       "  <thead>\n",
       "    <tr style=\"text-align: right;\">\n",
       "      <th></th>\n",
       "      <th></th>\n",
       "      <th>gdpPerworker</th>\n",
       "      <th>capPerworker</th>\n",
       "      <th>hc</th>\n",
       "    </tr>\n",
       "    <tr>\n",
       "      <th>country</th>\n",
       "      <th>year</th>\n",
       "      <th></th>\n",
       "      <th></th>\n",
       "      <th></th>\n",
       "    </tr>\n",
       "  </thead>\n",
       "  <tbody>\n",
       "    <tr>\n",
       "      <td rowspan=\"2\" valign=\"top\">Greece</td>\n",
       "      <td>1970</td>\n",
       "      <td>34610.248136</td>\n",
       "      <td>148334.560528</td>\n",
       "      <td>2.087069</td>\n",
       "    </tr>\n",
       "    <tr>\n",
       "      <td>2017</td>\n",
       "      <td>55829.646579</td>\n",
       "      <td>382622.840315</td>\n",
       "      <td>3.091254</td>\n",
       "    </tr>\n",
       "    <tr>\n",
       "      <td rowspan=\"2\" valign=\"top\">Italy</td>\n",
       "      <td>1970</td>\n",
       "      <td>47555.678294</td>\n",
       "      <td>186342.777192</td>\n",
       "      <td>2.064096</td>\n",
       "    </tr>\n",
       "    <tr>\n",
       "      <td>2017</td>\n",
       "      <td>86162.632945</td>\n",
       "      <td>516071.864910</td>\n",
       "      <td>3.121715</td>\n",
       "    </tr>\n",
       "    <tr>\n",
       "      <td rowspan=\"2\" valign=\"top\">Republic of Korea</td>\n",
       "      <td>1970</td>\n",
       "      <td>8535.940977</td>\n",
       "      <td>21462.653016</td>\n",
       "      <td>1.976648</td>\n",
       "    </tr>\n",
       "    <tr>\n",
       "      <td>2017</td>\n",
       "      <td>71706.781615</td>\n",
       "      <td>286141.049526</td>\n",
       "      <td>3.694501</td>\n",
       "    </tr>\n",
       "    <tr>\n",
       "      <td rowspan=\"2\" valign=\"top\">Spain</td>\n",
       "      <td>1970</td>\n",
       "      <td>35049.540583</td>\n",
       "      <td>125894.146140</td>\n",
       "      <td>2.053665</td>\n",
       "    </tr>\n",
       "    <tr>\n",
       "      <td>2017</td>\n",
       "      <td>81206.381154</td>\n",
       "      <td>471827.581316</td>\n",
       "      <td>2.943884</td>\n",
       "    </tr>\n",
       "    <tr>\n",
       "      <td rowspan=\"2\" valign=\"top\">United Kingdom</td>\n",
       "      <td>1970</td>\n",
       "      <td>35516.268331</td>\n",
       "      <td>159478.825343</td>\n",
       "      <td>2.741508</td>\n",
       "    </tr>\n",
       "    <tr>\n",
       "      <td>2017</td>\n",
       "      <td>78954.386474</td>\n",
       "      <td>326424.227072</td>\n",
       "      <td>3.757822</td>\n",
       "    </tr>\n",
       "  </tbody>\n",
       "</table>\n",
       "</div>"
      ],
      "text/plain": [
       "                        gdpPerworker   capPerworker        hc\n",
       "country           year                                       \n",
       "Greece            1970  34610.248136  148334.560528  2.087069\n",
       "                  2017  55829.646579  382622.840315  3.091254\n",
       "Italy             1970  47555.678294  186342.777192  2.064096\n",
       "                  2017  86162.632945  516071.864910  3.121715\n",
       "Republic of Korea 1970   8535.940977   21462.653016  1.976648\n",
       "                  2017  71706.781615  286141.049526  3.694501\n",
       "Spain             1970  35049.540583  125894.146140  2.053665\n",
       "                  2017  81206.381154  471827.581316  2.943884\n",
       "United Kingdom    1970  35516.268331  159478.825343  2.741508\n",
       "                  2017  78954.386474  326424.227072  3.757822"
      ]
     },
     "execution_count": 48,
     "metadata": {},
     "output_type": "execute_result"
    }
   ],
   "source": [
    "# here is the data to work on\n",
    "df3"
   ]
  },
  {
   "cell_type": "code",
   "execution_count": 49,
   "metadata": {},
   "outputs": [],
   "source": [
    "# now calucalate the factor growth rates and productivity growth rates using formulas described in the question\n",
    "# growth rate of x from t to t+n = (log(x_{t+n})-log(x_t))/n\n",
    "def growth_rates(group):\n",
    "    return (group.iloc[1].apply(np.log)-group.iloc[0].apply(np.log))/47\n",
    "\n",
    "df3_growth=df3.groupby('country',axis=0).apply(growth_rates)\n",
    "\n",
    "# productivity growth rate = growth rate of gdp per worker - alpha*growth rate of physical capital per worker \n",
    "#                                                        - (1-alpha)* growth rate og human capital per worker\n",
    "alpha=1/3\n",
    "df3_growth['productivity'] = (df3_growth['gdpPerworker'] - alpha*df3_growth['capPerworker']\n",
    "                               - (1-alpha)*df3_growth['hc'])"
   ]
  },
  {
   "cell_type": "code",
   "execution_count": 50,
   "metadata": {},
   "outputs": [
    {
     "data": {
      "text/html": [
       "<div>\n",
       "<style scoped>\n",
       "    .dataframe tbody tr th:only-of-type {\n",
       "        vertical-align: middle;\n",
       "    }\n",
       "\n",
       "    .dataframe tbody tr th {\n",
       "        vertical-align: top;\n",
       "    }\n",
       "\n",
       "    .dataframe thead th {\n",
       "        text-align: right;\n",
       "    }\n",
       "</style>\n",
       "<table border=\"1\" class=\"dataframe\">\n",
       "  <thead>\n",
       "    <tr style=\"text-align: right;\">\n",
       "      <th></th>\n",
       "      <th>gdpPerworker</th>\n",
       "      <th>capPerworker</th>\n",
       "      <th>hc</th>\n",
       "      <th>productivity</th>\n",
       "    </tr>\n",
       "    <tr>\n",
       "      <th>country</th>\n",
       "      <th></th>\n",
       "      <th></th>\n",
       "      <th></th>\n",
       "      <th></th>\n",
       "    </tr>\n",
       "  </thead>\n",
       "  <tbody>\n",
       "    <tr>\n",
       "      <td>Greece</td>\n",
       "      <td>0.010</td>\n",
       "      <td>0.020</td>\n",
       "      <td>0.008</td>\n",
       "      <td>-0.002</td>\n",
       "    </tr>\n",
       "    <tr>\n",
       "      <td>Italy</td>\n",
       "      <td>0.013</td>\n",
       "      <td>0.022</td>\n",
       "      <td>0.009</td>\n",
       "      <td>-0.000</td>\n",
       "    </tr>\n",
       "    <tr>\n",
       "      <td>Republic of Korea</td>\n",
       "      <td>0.045</td>\n",
       "      <td>0.055</td>\n",
       "      <td>0.013</td>\n",
       "      <td>0.018</td>\n",
       "    </tr>\n",
       "    <tr>\n",
       "      <td>Spain</td>\n",
       "      <td>0.018</td>\n",
       "      <td>0.028</td>\n",
       "      <td>0.008</td>\n",
       "      <td>0.003</td>\n",
       "    </tr>\n",
       "    <tr>\n",
       "      <td>United Kingdom</td>\n",
       "      <td>0.017</td>\n",
       "      <td>0.015</td>\n",
       "      <td>0.007</td>\n",
       "      <td>0.007</td>\n",
       "    </tr>\n",
       "  </tbody>\n",
       "</table>\n",
       "</div>"
      ],
      "text/plain": [
       "                   gdpPerworker  capPerworker     hc  productivity\n",
       "country                                                           \n",
       "Greece                    0.010         0.020  0.008        -0.002\n",
       "Italy                     0.013         0.022  0.009        -0.000\n",
       "Republic of Korea         0.045         0.055  0.013         0.018\n",
       "Spain                     0.018         0.028  0.008         0.003\n",
       "United Kingdom            0.017         0.015  0.007         0.007"
      ]
     },
     "execution_count": 50,
     "metadata": {},
     "output_type": "execute_result"
    }
   ],
   "source": [
    "# here is our results\n",
    "df3_growth.round(decimals=3)"
   ]
  },
  {
   "cell_type": "code",
   "execution_count": 51,
   "metadata": {},
   "outputs": [
    {
     "data": {
      "text/html": [
       "<div>\n",
       "<style scoped>\n",
       "    .dataframe tbody tr th:only-of-type {\n",
       "        vertical-align: middle;\n",
       "    }\n",
       "\n",
       "    .dataframe tbody tr th {\n",
       "        vertical-align: top;\n",
       "    }\n",
       "\n",
       "    .dataframe thead th {\n",
       "        text-align: right;\n",
       "    }\n",
       "</style>\n",
       "<table border=\"1\" class=\"dataframe\">\n",
       "  <thead>\n",
       "    <tr style=\"text-align: right;\">\n",
       "      <th></th>\n",
       "      <th>hc</th>\n",
       "      <th>capPerworker</th>\n",
       "      <th>productivity</th>\n",
       "    </tr>\n",
       "    <tr>\n",
       "      <th>country</th>\n",
       "      <th></th>\n",
       "      <th></th>\n",
       "      <th></th>\n",
       "    </tr>\n",
       "  </thead>\n",
       "  <tbody>\n",
       "    <tr>\n",
       "      <td>Greece</td>\n",
       "      <td>0.55</td>\n",
       "      <td>0.66</td>\n",
       "      <td>-0.21</td>\n",
       "    </tr>\n",
       "    <tr>\n",
       "      <td>Italy</td>\n",
       "      <td>0.46</td>\n",
       "      <td>0.57</td>\n",
       "      <td>-0.04</td>\n",
       "    </tr>\n",
       "    <tr>\n",
       "      <td>Republic of Korea</td>\n",
       "      <td>0.20</td>\n",
       "      <td>0.41</td>\n",
       "      <td>0.40</td>\n",
       "    </tr>\n",
       "    <tr>\n",
       "      <td>Spain</td>\n",
       "      <td>0.29</td>\n",
       "      <td>0.52</td>\n",
       "      <td>0.19</td>\n",
       "    </tr>\n",
       "    <tr>\n",
       "      <td>United Kingdom</td>\n",
       "      <td>0.26</td>\n",
       "      <td>0.30</td>\n",
       "      <td>0.44</td>\n",
       "    </tr>\n",
       "  </tbody>\n",
       "</table>\n",
       "</div>"
      ],
      "text/plain": [
       "                     hc  capPerworker  productivity\n",
       "country                                            \n",
       "Greece             0.55          0.66         -0.21\n",
       "Italy              0.46          0.57         -0.04\n",
       "Republic of Korea  0.20          0.41          0.40\n",
       "Spain              0.29          0.52          0.19\n",
       "United Kingdom     0.26          0.30          0.44"
      ]
     },
     "execution_count": 51,
     "metadata": {},
     "output_type": "execute_result"
    }
   ],
   "source": [
    "# now calculate the shares of contribution of economic growth\n",
    "# contribution of hc = (1-alpha)*growth rate of human capital / (growth rate of gdp per worker)\n",
    "# contribution of k = (alpha)*growth rate of physical capital / (growth rate of gdp per worker)\n",
    "# contribution of A = growth rate of productivity / (growth rate of gdp per worker)\n",
    "\n",
    "weight = np.array([((1-alpha),alpha,1)])\n",
    "weight.shape = (1,3)\n",
    "income = df3_growth['gdpPerworker'].values\n",
    "income.shape = (5,1)\n",
    "## I multiply growth rate of hc with (1-alpha),\n",
    "#              growth rate of k with alpha\n",
    "#             growth rate of A with 1\n",
    "# I divide each of the above by growth rate of gdp per worker\n",
    "df3_growth_cont = df3_growth[['hc','capPerworker','productivity']].multiply(weight)/income\n",
    "(df3_growth_cont).round(2)"
   ]
  },
  {
   "cell_type": "code",
   "execution_count": 60,
   "metadata": {},
   "outputs": [],
   "source": [
    "df3_growth_cont.columns=['Human Capital','Physical Capital','Productivity']"
   ]
  },
  {
   "cell_type": "code",
   "execution_count": 71,
   "metadata": {},
   "outputs": [
    {
     "data": {
      "text/html": [
       "<div>\n",
       "<style scoped>\n",
       "    .dataframe tbody tr th:only-of-type {\n",
       "        vertical-align: middle;\n",
       "    }\n",
       "\n",
       "    .dataframe tbody tr th {\n",
       "        vertical-align: top;\n",
       "    }\n",
       "\n",
       "    .dataframe thead th {\n",
       "        text-align: right;\n",
       "    }\n",
       "</style>\n",
       "<table border=\"1\" class=\"dataframe\">\n",
       "  <thead>\n",
       "    <tr style=\"text-align: right;\">\n",
       "      <th></th>\n",
       "      <th>country</th>\n",
       "      <th>Factor</th>\n",
       "      <th>value</th>\n",
       "    </tr>\n",
       "  </thead>\n",
       "  <tbody>\n",
       "    <tr>\n",
       "      <td>0</td>\n",
       "      <td>Greece</td>\n",
       "      <td>Human Capital</td>\n",
       "      <td>0.547683</td>\n",
       "    </tr>\n",
       "    <tr>\n",
       "      <td>1</td>\n",
       "      <td>Italy</td>\n",
       "      <td>Human Capital</td>\n",
       "      <td>0.464037</td>\n",
       "    </tr>\n",
       "    <tr>\n",
       "      <td>2</td>\n",
       "      <td>Republic of Korea</td>\n",
       "      <td>Human Capital</td>\n",
       "      <td>0.195913</td>\n",
       "    </tr>\n",
       "    <tr>\n",
       "      <td>3</td>\n",
       "      <td>Spain</td>\n",
       "      <td>Human Capital</td>\n",
       "      <td>0.285718</td>\n",
       "    </tr>\n",
       "    <tr>\n",
       "      <td>4</td>\n",
       "      <td>United Kingdom</td>\n",
       "      <td>Human Capital</td>\n",
       "      <td>0.263145</td>\n",
       "    </tr>\n",
       "    <tr>\n",
       "      <td>5</td>\n",
       "      <td>Greece</td>\n",
       "      <td>Physical Capital</td>\n",
       "      <td>0.660580</td>\n",
       "    </tr>\n",
       "    <tr>\n",
       "      <td>6</td>\n",
       "      <td>Italy</td>\n",
       "      <td>Physical Capital</td>\n",
       "      <td>0.571315</td>\n",
       "    </tr>\n",
       "    <tr>\n",
       "      <td>7</td>\n",
       "      <td>Republic of Korea</td>\n",
       "      <td>Physical Capital</td>\n",
       "      <td>0.405671</td>\n",
       "    </tr>\n",
       "    <tr>\n",
       "      <td>8</td>\n",
       "      <td>Spain</td>\n",
       "      <td>Physical Capital</td>\n",
       "      <td>0.524130</td>\n",
       "    </tr>\n",
       "    <tr>\n",
       "      <td>9</td>\n",
       "      <td>United Kingdom</td>\n",
       "      <td>Physical Capital</td>\n",
       "      <td>0.298871</td>\n",
       "    </tr>\n",
       "    <tr>\n",
       "      <td>10</td>\n",
       "      <td>Greece</td>\n",
       "      <td>Productivity</td>\n",
       "      <td>-0.208263</td>\n",
       "    </tr>\n",
       "    <tr>\n",
       "      <td>11</td>\n",
       "      <td>Italy</td>\n",
       "      <td>Productivity</td>\n",
       "      <td>-0.035352</td>\n",
       "    </tr>\n",
       "    <tr>\n",
       "      <td>12</td>\n",
       "      <td>Republic of Korea</td>\n",
       "      <td>Productivity</td>\n",
       "      <td>0.398416</td>\n",
       "    </tr>\n",
       "    <tr>\n",
       "      <td>13</td>\n",
       "      <td>Spain</td>\n",
       "      <td>Productivity</td>\n",
       "      <td>0.190152</td>\n",
       "    </tr>\n",
       "    <tr>\n",
       "      <td>14</td>\n",
       "      <td>United Kingdom</td>\n",
       "      <td>Productivity</td>\n",
       "      <td>0.437984</td>\n",
       "    </tr>\n",
       "  </tbody>\n",
       "</table>\n",
       "</div>"
      ],
      "text/plain": [
       "              country            Factor     value\n",
       "0              Greece     Human Capital  0.547683\n",
       "1               Italy     Human Capital  0.464037\n",
       "2   Republic of Korea     Human Capital  0.195913\n",
       "3               Spain     Human Capital  0.285718\n",
       "4      United Kingdom     Human Capital  0.263145\n",
       "5              Greece  Physical Capital  0.660580\n",
       "6               Italy  Physical Capital  0.571315\n",
       "7   Republic of Korea  Physical Capital  0.405671\n",
       "8               Spain  Physical Capital  0.524130\n",
       "9      United Kingdom  Physical Capital  0.298871\n",
       "10             Greece      Productivity -0.208263\n",
       "11              Italy      Productivity -0.035352\n",
       "12  Republic of Korea      Productivity  0.398416\n",
       "13              Spain      Productivity  0.190152\n",
       "14     United Kingdom      Productivity  0.437984"
      ]
     },
     "execution_count": 71,
     "metadata": {},
     "output_type": "execute_result"
    }
   ],
   "source": [
    "df3_growth_cont.reset_index().melt(id_vars='country',var_name='Factor')"
   ]
  },
  {
   "cell_type": "code",
   "execution_count": 74,
   "metadata": {},
   "outputs": [
    {
     "data": {
      "text/plain": [
       "<seaborn.axisgrid.FacetGrid at 0x1a19bf6610>"
      ]
     },
     "execution_count": 74,
     "metadata": {},
     "output_type": "execute_result"
    },
    {
     "data": {
      "image/png": "[encoded data removed]",
      "text/plain": [
       "<Figure size 1013.9x432 with 1 Axes>"
      ]
     },
     "metadata": {},
     "output_type": "display_data"
    }
   ],
   "source": [
    "g = sns.catplot(x='country', y=\"value\", hue=\"Factor\", data=df3_growth_cont.reset_index()\n",
    "                .melt(id_vars='country',var_name='Factor'),\n",
    "                height=6, aspect=2,kind=\"bar\", palette=\"muted\")\n",
    "g.despine(left=True,bottom=True)\n",
    "g.set_ylabels(\"Contribution to growth\")\n",
    "g.set_xlabels(\"\")"
   ]
  },
  {
   "cell_type": "code",
   "execution_count": null,
   "metadata": {},
   "outputs": [],
   "source": []
  }
 ],
 "metadata": {
  "kernelspec": {
   "display_name": "Python 3",
   "language": "python",
   "name": "python3"
  },
  "language_info": {
   "codemirror_mode": {
    "name": "ipython",
    "version": 3
   },
   "file_extension": ".py",
   "mimetype": "text/x-python",
   "name": "python",
   "nbconvert_exporter": "python",
   "pygments_lexer": "ipython3",
   "version": "3.7.4"
  }
 },
 "nbformat": 4,
 "nbformat_minor": 2
}
