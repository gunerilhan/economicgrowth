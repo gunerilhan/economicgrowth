{
 "cells": [
  {
   "cell_type": "markdown",
   "metadata": {},
   "source": [
    "### Solutions for Problem Set #0\n",
    "\n",
    "This notebook is in html. To be able to run it, please click: [![Open In Colab](https://colab.research.google.com/assets/colab-badge.svg)](https://colab.research.google.com/github/gunerilhan/economicgrowth/blob/master/ps0/ps0.ipynb)"
   ]
  },
  {
   "cell_type": "markdown",
   "metadata": {},
   "source": [
    "First import some of the package we will use in this exercise"
   ]
  },
  {
   "cell_type": "code",
   "execution_count": 1,
   "metadata": {},
   "outputs": [],
   "source": [
    "import numpy as np\n",
    "import pandas as pd\n",
    "import matplotlib.pyplot as plt\n",
    "from matplotlib import style\n",
    "%matplotlib inline\n",
    "import seaborn as sns\n",
    "style.use('https://gunerilhan.github.io/img/fivethirtyeight-modified.mplstyle')\n",
    "from tabulate import tabulate"
   ]
  },
  {
   "cell_type": "code",
   "execution_count": 2,
   "metadata": {},
   "outputs": [],
   "source": [
    "# First download the data. \n",
    "# I initially download the legend sheet of data so that I know the meaning of variable names\n",
    "df_legend = pd.read_excel('https://www.rug.nl/ggdc/historicaldevelopment/maddison/data/mpd2018.xlsx',sheet_name='Legend')\n",
    "# some columns are poorly named, like 'Unnamed: 1', I give them a proper name, like 'Definition'\n",
    "df_legend.rename(columns={'Maddison Project Database (MPD) 2018':'Variable name','Unnamed: 1':'Definition'},\n",
    "                 inplace=True)\n",
    "# Some rows have missing entries, I drop them\n",
    "df_legend.dropna(inplace=True)\n",
    "# Now I create a dictionary from the dataframe I downloaded\n",
    "df_legend = dict(zip(df_legend['Variable name'],df_legend['Definition']))"
   ]
  },
  {
   "cell_type": "code",
   "execution_count": 3,
   "metadata": {},
   "outputs": [
    {
     "data": {
      "text/plain": [
       "{'Full data': 'Data in  single table',\n",
       " 'countrycode': '3-letter ISO country code',\n",
       " 'country': 'Country name',\n",
       " 'year': 'Year',\n",
       " 'cgdppc': 'Real GDP per capita in 2011US$, multiple benchmarks (suitable for cross-country income comparisons)',\n",
       " 'rgdpnapc': 'Real GDP per capita in 2011US$, 2011 benchmark (suitable for cross-country growth comparisons)',\n",
       " 'pop': 'Population, mid-year (thousands)',\n",
       " 'i_cig': '0/1/2: observation is extrapolated (0), benchmark (1), or interpolated (2)',\n",
       " 'i_bm': 'For benchmark observations: 1: ICP PPP estimates, 2: Historical income benchmarks, 3: Real wages and urbanization, 4: Multiple of subsistence, 5: Braithwaite (1968) PPPs',\n",
       " 'Partial countries': 'Data for selected sub-national units with long time series'}"
      ]
     },
     "execution_count": 3,
     "metadata": {},
     "output_type": "execute_result"
    }
   ],
   "source": [
    "# Here is my dictionary\n",
    "df_legend"
   ]
  },
  {
   "cell_type": "code",
   "execution_count": 4,
   "metadata": {},
   "outputs": [
    {
     "data": {
      "text/plain": [
       "'Real GDP per capita in 2011US$, 2011 benchmark (suitable for cross-country growth comparisons)'"
      ]
     },
     "execution_count": 4,
     "metadata": {},
     "output_type": "execute_result"
    }
   ],
   "source": [
    "# The variable we will use\n",
    "df_legend['rgdpnapc']"
   ]
  },
  {
   "cell_type": "code",
   "execution_count": 5,
   "metadata": {
    "scrolled": true
   },
   "outputs": [],
   "source": [
    "# Now download the actual data\n",
    "df = pd.read_excel('https://www.rug.nl/ggdc/historicaldevelopment/maddison/data/mpd2018.xlsx',sheet_name='Full data')"
   ]
  },
  {
   "cell_type": "code",
   "execution_count": 6,
   "metadata": {},
   "outputs": [
    {
     "data": {
      "text/html": [
       "<div>\n",
       "<style scoped>\n",
       "    .dataframe tbody tr th:only-of-type {\n",
       "        vertical-align: middle;\n",
       "    }\n",
       "\n",
       "    .dataframe tbody tr th {\n",
       "        vertical-align: top;\n",
       "    }\n",
       "\n",
       "    .dataframe thead th {\n",
       "        text-align: right;\n",
       "    }\n",
       "</style>\n",
       "<table border=\"1\" class=\"dataframe\">\n",
       "  <thead>\n",
       "    <tr style=\"text-align: right;\">\n",
       "      <th></th>\n",
       "      <th>countrycode</th>\n",
       "      <th>country</th>\n",
       "      <th>year</th>\n",
       "      <th>cgdppc</th>\n",
       "      <th>rgdpnapc</th>\n",
       "      <th>pop</th>\n",
       "      <th>i_cig</th>\n",
       "      <th>i_bm</th>\n",
       "    </tr>\n",
       "  </thead>\n",
       "  <tbody>\n",
       "    <tr>\n",
       "      <th>0</th>\n",
       "      <td>AFG</td>\n",
       "      <td>Afghanistan</td>\n",
       "      <td>1820</td>\n",
       "      <td>NaN</td>\n",
       "      <td>NaN</td>\n",
       "      <td>3280.0</td>\n",
       "      <td>NaN</td>\n",
       "      <td>NaN</td>\n",
       "    </tr>\n",
       "    <tr>\n",
       "      <th>1</th>\n",
       "      <td>AFG</td>\n",
       "      <td>Afghanistan</td>\n",
       "      <td>1870</td>\n",
       "      <td>NaN</td>\n",
       "      <td>NaN</td>\n",
       "      <td>4207.0</td>\n",
       "      <td>NaN</td>\n",
       "      <td>NaN</td>\n",
       "    </tr>\n",
       "    <tr>\n",
       "      <th>2</th>\n",
       "      <td>AFG</td>\n",
       "      <td>Afghanistan</td>\n",
       "      <td>1913</td>\n",
       "      <td>NaN</td>\n",
       "      <td>NaN</td>\n",
       "      <td>5730.0</td>\n",
       "      <td>NaN</td>\n",
       "      <td>NaN</td>\n",
       "    </tr>\n",
       "    <tr>\n",
       "      <th>3</th>\n",
       "      <td>AFG</td>\n",
       "      <td>Afghanistan</td>\n",
       "      <td>1950</td>\n",
       "      <td>2392.0</td>\n",
       "      <td>2392.0</td>\n",
       "      <td>8150.0</td>\n",
       "      <td>Extrapolated</td>\n",
       "      <td>NaN</td>\n",
       "    </tr>\n",
       "    <tr>\n",
       "      <th>4</th>\n",
       "      <td>AFG</td>\n",
       "      <td>Afghanistan</td>\n",
       "      <td>1951</td>\n",
       "      <td>2422.0</td>\n",
       "      <td>2422.0</td>\n",
       "      <td>8284.0</td>\n",
       "      <td>Extrapolated</td>\n",
       "      <td>NaN</td>\n",
       "    </tr>\n",
       "  </tbody>\n",
       "</table>\n",
       "</div>"
      ],
      "text/plain": [
       "  countrycode      country  year  cgdppc  rgdpnapc     pop         i_cig i_bm\n",
       "0         AFG  Afghanistan  1820     NaN       NaN  3280.0           NaN  NaN\n",
       "1         AFG  Afghanistan  1870     NaN       NaN  4207.0           NaN  NaN\n",
       "2         AFG  Afghanistan  1913     NaN       NaN  5730.0           NaN  NaN\n",
       "3         AFG  Afghanistan  1950  2392.0    2392.0  8150.0  Extrapolated  NaN\n",
       "4         AFG  Afghanistan  1951  2422.0    2422.0  8284.0  Extrapolated  NaN"
      ]
     },
     "execution_count": 6,
     "metadata": {},
     "output_type": "execute_result"
    }
   ],
   "source": [
    "# First 5 rows of our data looks like this\n",
    "df.head()"
   ]
  },
  {
   "cell_type": "code",
   "execution_count": 7,
   "metadata": {},
   "outputs": [],
   "source": [
    "# List of countries we are asked about\n",
    "country_list = ['GBR','USA','DEU','FRA','CHN','IND']\n",
    "# Select these countreis\n",
    "df2 = df[df.countrycode.isin(country_list)].copy()"
   ]
  },
  {
   "cell_type": "code",
   "execution_count": 9,
   "metadata": {},
   "outputs": [],
   "source": [
    "# Sort of countrycode and year\n",
    "df2.sort_values(['countrycode','year'],inplace=True)"
   ]
  },
  {
   "cell_type": "code",
   "execution_count": 11,
   "metadata": {},
   "outputs": [],
   "source": [
    "# We are asked to calcualte average growth rate from 2000 to 2016\n",
    "years = [2000,2016]\n",
    "year_diff = years[1]-years[0] # time difference between the two years"
   ]
  },
  {
   "cell_type": "markdown",
   "metadata": {},
   "source": [
    "There are many ways to calculate average annual growth rate. One method is as follows. Let $y_{i,t}$ be the GDP per capita of country $i$ at year $t$, and $y_{i,t+n}$ and be the GDP per capita of country $i$ in year $t+n$. Then the average annual growth rate of country $i$ from year $t$ to $t+n$, $g_{y}$, is equal to\n",
    "$$ g_{y} = \\left( \\frac{y_{i,t+n}}{y_{i,t}}  \\right)^{1/n} -1 .$$  "
   ]
  },
  {
   "cell_type": "code",
   "execution_count": 12,
   "metadata": {},
   "outputs": [],
   "source": [
    "# Here we calculate the avarage growth rates of countries from 1960 to 2016 \n",
    "# using the above formula. \n",
    "growth_rates = (df2[df2.year.isin(years)].groupby(['countrycode','country']).apply(lambda x:\n",
    "                100*((x.iloc[1]['rgdpnapc']/x.iloc[0]['rgdpnapc'])**(1/year_diff)-1)).reset_index().\n",
    "                rename(columns={0:'Avg. Growth (2000-2016)'}))"
   ]
  },
  {
   "cell_type": "markdown",
   "metadata": {},
   "source": [
    "Rule of 72: If a county grows at a rate g, it takes $72/g\\cdot100$ years to double its income per capita."
   ]
  },
  {
   "cell_type": "code",
   "execution_count": 14,
   "metadata": {},
   "outputs": [],
   "source": [
    "# Apply the rule of 72\n",
    "growth_rates['Years to double'] = 72/growth_rates['Avg. Growth (2000-2016)']"
   ]
  },
  {
   "cell_type": "code",
   "execution_count": 15,
   "metadata": {},
   "outputs": [
    {
     "data": {
      "text/html": [
       "<div>\n",
       "<style scoped>\n",
       "    .dataframe tbody tr th:only-of-type {\n",
       "        vertical-align: middle;\n",
       "    }\n",
       "\n",
       "    .dataframe tbody tr th {\n",
       "        vertical-align: top;\n",
       "    }\n",
       "\n",
       "    .dataframe thead th {\n",
       "        text-align: right;\n",
       "    }\n",
       "</style>\n",
       "<table border=\"1\" class=\"dataframe\">\n",
       "  <thead>\n",
       "    <tr style=\"text-align: right;\">\n",
       "      <th></th>\n",
       "      <th>countrycode</th>\n",
       "      <th>country</th>\n",
       "      <th>Avg. Growth (2000-2016)</th>\n",
       "      <th>Years to double</th>\n",
       "    </tr>\n",
       "  </thead>\n",
       "  <tbody>\n",
       "    <tr>\n",
       "      <th>0</th>\n",
       "      <td>CHN</td>\n",
       "      <td>China</td>\n",
       "      <td>7.09</td>\n",
       "      <td>10.0</td>\n",
       "    </tr>\n",
       "    <tr>\n",
       "      <th>1</th>\n",
       "      <td>DEU</td>\n",
       "      <td>Germany</td>\n",
       "      <td>1.06</td>\n",
       "      <td>68.0</td>\n",
       "    </tr>\n",
       "    <tr>\n",
       "      <th>2</th>\n",
       "      <td>FRA</td>\n",
       "      <td>France</td>\n",
       "      <td>0.56</td>\n",
       "      <td>129.0</td>\n",
       "    </tr>\n",
       "    <tr>\n",
       "      <th>3</th>\n",
       "      <td>GBR</td>\n",
       "      <td>United Kingdom</td>\n",
       "      <td>1.04</td>\n",
       "      <td>69.0</td>\n",
       "    </tr>\n",
       "    <tr>\n",
       "      <th>4</th>\n",
       "      <td>IND</td>\n",
       "      <td>India</td>\n",
       "      <td>5.75</td>\n",
       "      <td>13.0</td>\n",
       "    </tr>\n",
       "    <tr>\n",
       "      <th>5</th>\n",
       "      <td>USA</td>\n",
       "      <td>United States</td>\n",
       "      <td>0.91</td>\n",
       "      <td>79.0</td>\n",
       "    </tr>\n",
       "  </tbody>\n",
       "</table>\n",
       "</div>"
      ],
      "text/plain": [
       "  countrycode         country  Avg. Growth (2000-2016)  Years to double\n",
       "0         CHN           China                     7.09             10.0\n",
       "1         DEU         Germany                     1.06             68.0\n",
       "2         FRA          France                     0.56            129.0\n",
       "3         GBR  United Kingdom                     1.04             69.0\n",
       "4         IND           India                     5.75             13.0\n",
       "5         USA   United States                     0.91             79.0"
      ]
     },
     "execution_count": 15,
     "metadata": {},
     "output_type": "execute_result"
    }
   ],
   "source": [
    "# Here is the results\n",
    "growth_rates.round(decimals={'Avg. Growth (2000-2016)':2,'Years to double':0})"
   ]
  },
  {
   "cell_type": "markdown",
   "metadata": {},
   "source": [
    "Suppose evolution of variable $x$ over time is defined with the following formula:\n",
    "\n",
    "$$\n",
    "x(t+1) = mx(t)^{\\alpha}+ nx(t),\n",
    "$$\n",
    "\n",
    "\n",
    "where $m=0.2$, $\\alpha=0.5$, and $n=0.9$, meaning the value of $x$ at time $t+1$ is equal to 0.2 times the value of $x$ at time $t$ to the power 0.5 plus 0.9 times the value of $x$ at time $t$. Suppose $x(0)=1$, the value of $x$ at time $t=0$ is equal to 1. \n",
    "\n",
    "Simulate $x$ for 100 periods starting from time $t=0$. \n",
    "\n",
    "**Hint**: You know $x(0)$. Using the above formula and the value of $x(0)$, you can find $x(1)$. Then using the above formula and the value of $x(1)$, you can calculate $x(2)$. You can repeat this exercise until you reach $x(100)$.\n",
    "\n",
    "_Again, I don't want you to write the same formula 100 times. It will take so much time, which is not my goal. If you are using excel, write the formula once in such a way that you can drag the cell down and simulate $x$ for as many periods as you wish._"
   ]
  },
  {
   "cell_type": "code",
   "execution_count": 17,
   "metadata": {},
   "outputs": [],
   "source": [
    "m, alpha, n = 0.2, 0.5,0.9 # define parameter values\n",
    "T = 100 # define time period\n",
    "x = [] # empty list to filled\n",
    "x.append(1) # x(0) = 1\n",
    "f = lambda x: .2*x**.5 + .9*x # the function in the question\n",
    "# simulate 100 periods\n",
    "for t in range(T):\n",
    "    # we call the function f and append to the list\n",
    "    x.append(f(x[t]))"
   ]
  },
  {
   "cell_type": "code",
   "execution_count": 19,
   "metadata": {},
   "outputs": [
    {
     "data": {
      "text/plain": [
       "Text(0.5, 1.0, '$x$')"
      ]
     },
     "execution_count": 19,
     "metadata": {},
     "output_type": "execute_result"
    },
    {
     "data": {
      "image/png": "[encoded data removed]",
      "text/plain": [
       "<Figure size 432x288 with 1 Axes>"
      ]
     },
     "metadata": {},
     "output_type": "display_data"
    }
   ],
   "source": [
    "# Plot the results\n",
    "plt.plot(x)\n",
    "plt.xlabel('Time')\n",
    "plt.title(r'$x$')"
   ]
  },
  {
   "cell_type": "code",
   "execution_count": null,
   "metadata": {},
   "outputs": [],
   "source": []
  }
 ],
 "metadata": {
  "kernelspec": {
   "display_name": "Python 3",
   "language": "python",
   "name": "python3"
  },
  "language_info": {
   "codemirror_mode": {
    "name": "ipython",
    "version": 3
   },
   "file_extension": ".py",
   "mimetype": "text/x-python",
   "name": "python",
   "nbconvert_exporter": "python",
   "pygments_lexer": "ipython3",
   "version": "3.8.3"
  }
 },
 "nbformat": 4,
 "nbformat_minor": 2
}
