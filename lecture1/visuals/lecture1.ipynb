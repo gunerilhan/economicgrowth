{
 "cells": [
  {
   "cell_type": "code",
   "execution_count": 1,
   "metadata": {},
   "outputs": [],
   "source": [
    "import numpy as np\n",
    "import pandas as pd\n",
    "import matplotlib.pyplot as plt\n",
    "from matplotlib import style\n",
    "%matplotlib inline\n",
    "import seaborn as sns\n",
    "style.use('https://gunerilhan.github.io/img/fivethirtyeight-modified.mplstyle')\n",
    "from tabulate import tabulate"
   ]
  },
  {
   "cell_type": "code",
   "execution_count": 2,
   "metadata": {},
   "outputs": [],
   "source": [
    "colors = {0:['#264653','#219D8F','#E9C46A','#F4A261','#E76F51'],\n",
    "  1:['#003049','#D62828','#F77F00','#FCBF49','#EAE2B7'],\n",
    "  2:['#F72585','#7209B7','#3A0CA3','#4361EE','#4CC9F0'],\n",
    "  3: ['#165aa7','#cb495c','#bb60d5','#f47915','#06ab54','#002070','#b27d12','#007030']}"
   ]
  },
  {
   "cell_type": "code",
   "execution_count": 3,
   "metadata": {},
   "outputs": [],
   "source": [
    "# Read in Madison Project Database legend, so that we know which variables to use\n",
    "df_legend = pd.read_excel('./mpd2018.xlsx',sheet_name='Legend')\n",
    "# Rename columns\n",
    "df_legend.rename(columns={'Maddison Project Database (MPD) 2018':'Variable name','Unnamed: 1':'Definition'},\n",
    "                 inplace=True)\n",
    "df_legend.dropna(inplace=True)\n",
    "# Create a dictionary of var names and definitions\n",
    "df_legend = dict(zip(df_legend['Variable name'],df_legend['Definition']))"
   ]
  },
  {
   "cell_type": "code",
   "execution_count": 4,
   "metadata": {},
   "outputs": [
    {
     "data": {
      "text/plain": [
       "{'Full data': 'Data in  single table',\n",
       " 'countrycode': '3-letter ISO country code',\n",
       " 'country': 'Country name',\n",
       " 'year': 'Year',\n",
       " 'cgdppc': 'Real GDP per capita in 2011US$, multiple benchmarks (suitable for cross-country income comparisons)',\n",
       " 'rgdpnapc': 'Real GDP per capita in 2011US$, 2011 benchmark (suitable for cross-country growth comparisons)',\n",
       " 'pop': 'Population, mid-year (thousands)',\n",
       " 'i_cig': '0/1/2: observation is extrapolated (0), benchmark (1), or interpolated (2)',\n",
       " 'i_bm': 'For benchmark observations: 1: ICP PPP estimates, 2: Historical income benchmarks, 3: Real wages and urbanization, 4: Multiple of subsistence, 5: Braithwaite (1968) PPPs',\n",
       " 'Partial countries': 'Data for selected sub-national units with long time series'}"
      ]
     },
     "execution_count": 4,
     "metadata": {},
     "output_type": "execute_result"
    }
   ],
   "source": [
    "# here is the legend\n",
    "df_legend"
   ]
  },
  {
   "cell_type": "code",
   "execution_count": 5,
   "metadata": {
    "scrolled": true
   },
   "outputs": [],
   "source": [
    "# Read in the data\n",
    "df = pd.read_excel('./mpd2018.xlsx',sheet_name='Full data')"
   ]
  },
  {
   "cell_type": "code",
   "execution_count": 6,
   "metadata": {},
   "outputs": [
    {
     "data": {
      "text/html": [
       "<div>\n",
       "<style scoped>\n",
       "    .dataframe tbody tr th:only-of-type {\n",
       "        vertical-align: middle;\n",
       "    }\n",
       "\n",
       "    .dataframe tbody tr th {\n",
       "        vertical-align: top;\n",
       "    }\n",
       "\n",
       "    .dataframe thead th {\n",
       "        text-align: right;\n",
       "    }\n",
       "</style>\n",
       "<table border=\"1\" class=\"dataframe\">\n",
       "  <thead>\n",
       "    <tr style=\"text-align: right;\">\n",
       "      <th></th>\n",
       "      <th>countrycode</th>\n",
       "      <th>country</th>\n",
       "      <th>year</th>\n",
       "      <th>cgdppc</th>\n",
       "      <th>rgdpnapc</th>\n",
       "      <th>pop</th>\n",
       "      <th>i_cig</th>\n",
       "      <th>i_bm</th>\n",
       "    </tr>\n",
       "  </thead>\n",
       "  <tbody>\n",
       "    <tr>\n",
       "      <th>0</th>\n",
       "      <td>AFG</td>\n",
       "      <td>Afghanistan</td>\n",
       "      <td>1820</td>\n",
       "      <td>NaN</td>\n",
       "      <td>NaN</td>\n",
       "      <td>3280.0</td>\n",
       "      <td>NaN</td>\n",
       "      <td>NaN</td>\n",
       "    </tr>\n",
       "    <tr>\n",
       "      <th>1</th>\n",
       "      <td>AFG</td>\n",
       "      <td>Afghanistan</td>\n",
       "      <td>1870</td>\n",
       "      <td>NaN</td>\n",
       "      <td>NaN</td>\n",
       "      <td>4207.0</td>\n",
       "      <td>NaN</td>\n",
       "      <td>NaN</td>\n",
       "    </tr>\n",
       "    <tr>\n",
       "      <th>2</th>\n",
       "      <td>AFG</td>\n",
       "      <td>Afghanistan</td>\n",
       "      <td>1913</td>\n",
       "      <td>NaN</td>\n",
       "      <td>NaN</td>\n",
       "      <td>5730.0</td>\n",
       "      <td>NaN</td>\n",
       "      <td>NaN</td>\n",
       "    </tr>\n",
       "    <tr>\n",
       "      <th>3</th>\n",
       "      <td>AFG</td>\n",
       "      <td>Afghanistan</td>\n",
       "      <td>1950</td>\n",
       "      <td>2392.0</td>\n",
       "      <td>2392.0</td>\n",
       "      <td>8150.0</td>\n",
       "      <td>Extrapolated</td>\n",
       "      <td>NaN</td>\n",
       "    </tr>\n",
       "    <tr>\n",
       "      <th>4</th>\n",
       "      <td>AFG</td>\n",
       "      <td>Afghanistan</td>\n",
       "      <td>1951</td>\n",
       "      <td>2422.0</td>\n",
       "      <td>2422.0</td>\n",
       "      <td>8284.0</td>\n",
       "      <td>Extrapolated</td>\n",
       "      <td>NaN</td>\n",
       "    </tr>\n",
       "  </tbody>\n",
       "</table>\n",
       "</div>"
      ],
      "text/plain": [
       "  countrycode      country  year  cgdppc  rgdpnapc     pop         i_cig i_bm\n",
       "0         AFG  Afghanistan  1820     NaN       NaN  3280.0           NaN  NaN\n",
       "1         AFG  Afghanistan  1870     NaN       NaN  4207.0           NaN  NaN\n",
       "2         AFG  Afghanistan  1913     NaN       NaN  5730.0           NaN  NaN\n",
       "3         AFG  Afghanistan  1950  2392.0    2392.0  8150.0  Extrapolated  NaN\n",
       "4         AFG  Afghanistan  1951  2422.0    2422.0  8284.0  Extrapolated  NaN"
      ]
     },
     "execution_count": 6,
     "metadata": {},
     "output_type": "execute_result"
    }
   ],
   "source": [
    "# Here is how the data looks like, first 5 entries\n",
    "df.head()"
   ]
  },
  {
   "cell_type": "code",
   "execution_count": 7,
   "metadata": {},
   "outputs": [],
   "source": [
    "# A function to plot graphs\n",
    "def plot_graphs(df2,country_list,filename,source,loc_all):\n",
    "    color_list = dict(zip(country_list,colors[:len(country_list)]))\n",
    "    fig,ax = plt.subplots()\n",
    "    sns.lineplot(x='year',y='cgdppc',hue='countrycode',linewidth=2,\n",
    "                 palette=color_list,legend=False,data=df2)\n",
    "    for i,country in enumerate(country_list):\n",
    "        df3 = df2[df2.countrycode==country]\n",
    "        label = df3.country.unique()[0]\n",
    "        loc_ = (2020,df3[df3.year==2016].cgdppc) if label != 'Japan' else (2020,df3[df3.year==2016].cgdppc-1000)\n",
    "        ax.annotate(label,loc_,color=color_list[country])\n",
    "    ax.set_xlabel('Year')\n",
    "    ax.set_ylabel('GDP per capita');\n",
    "    ax.spines[\"left\"].set_visible(False)\n",
    "    ax.spines[\"bottom\"].set_visible(False)\n",
    "    ax.spines[\"right\"].set_visible(False)\n",
    "    ax.spines[\"top\"].set_visible(False)\n",
    "    plt.text(loc_all[0],loc_all[1],source)\n",
    "    plt.savefig(filename,bbox_inches='tight')"
   ]
  },
  {
   "cell_type": "code",
   "execution_count": 8,
   "metadata": {},
   "outputs": [],
   "source": [
    "# Penn World Tables, version 9.1\n",
    "# Accessed from https://www.rug.nl/ggdc/productivity/pwt/?lang=en\n",
    "# Read in legend\n",
    "pwt_legend = pd.read_excel('https://www.rug.nl/ggdc/docs/pwt91.xlsx',sheet_name='Legend')\n",
    "# Drop entries with missing data\n",
    "pwt_legend.dropna(inplace=True)\n",
    "# Create a dictionary of variable descriptions\n",
    "pwt_legend = dict(zip(pwt_legend['Variable name'],pwt_legend['Variable definition']))"
   ]
  },
  {
   "cell_type": "code",
   "execution_count": 9,
   "metadata": {
    "scrolled": true
   },
   "outputs": [
    {
     "data": {
      "text/plain": [
       "{'countrycode': '3-letter ISO country code',\n",
       " 'country': 'Country name',\n",
       " 'currency_unit': 'Currency unit',\n",
       " 'year': 'Year',\n",
       " 'rgdpe': 'Expenditure-side real GDP at chained PPPs (in mil. 2011US$)',\n",
       " 'rgdpo': 'Output-side real GDP at chained PPPs (in mil. 2011US$)',\n",
       " 'pop': 'Population (in millions)',\n",
       " 'emp': 'Number of persons engaged (in millions)',\n",
       " 'avh': 'Average annual hours worked by persons engaged',\n",
       " 'hc': 'Human capital index, based on years of schooling and returns to education; see Human capital in PWT9.',\n",
       " 'ccon': 'Real consumption of households and government, at current PPPs (in mil. 2011US$)',\n",
       " 'cda': 'Real domestic absorption, (real consumption plus investment), at current PPPs (in mil. 2011US$)',\n",
       " 'cgdpe': 'Expenditure-side real GDP at current PPPs (in mil. 2011US$)',\n",
       " 'cgdpo': 'Output-side real GDP at current PPPs (in mil. 2011US$)',\n",
       " 'cn': 'Capital stock at current PPPs (in mil. 2011US$)',\n",
       " 'ck': 'Capital services levels at current PPPs (USA=1)',\n",
       " 'ctfp': 'TFP level at current PPPs (USA=1)',\n",
       " 'cwtfp': 'Welfare-relevant TFP levels at current PPPs (USA=1)',\n",
       " 'rgdpna': 'Real GDP at constant 2011 national prices (in mil. 2011US$)',\n",
       " 'rconna': 'Real consumption at constant 2011 national prices (in mil. 2011US$)',\n",
       " 'rdana': 'Real domestic absorption at constant 2011 national prices (in mil. 2011US$)',\n",
       " 'rnna': 'Capital stock at constant 2011 national prices (in mil. 2011US$)',\n",
       " 'rkna': 'Capital services at constant 2011 national prices (2011=1)',\n",
       " 'rtfpna': 'TFP at constant national prices (2011=1)',\n",
       " 'rwtfpna': 'Welfare-relevant TFP at constant national prices (2011=1)',\n",
       " 'labsh': 'Share of labour compensation in GDP at current national prices',\n",
       " 'irr': 'Real internal rate of return',\n",
       " 'delta': 'Average depreciation rate of the capital stock',\n",
       " 'xr': 'Exchange rate, national currency/USD (market+estimated)',\n",
       " 'pl_con': 'Price level of CCON (PPP/XR), price level of USA GDPo in 2011=1',\n",
       " 'pl_da': 'Price level of CDA (PPP/XR), price level of USA GDPo in 2011=1',\n",
       " 'pl_gdpo': 'Price level of CGDPo (PPP/XR),  price level of USA GDPo in 2011=1',\n",
       " 'i_cig': '0/1/2: relative price data for consumption, investment and government is extrapolated (0), benchmark (1) or interpolated (2)',\n",
       " 'i_xm': '0/1/2: relative price data for exports and imports is extrapolated (0), benchmark (1) or interpolated (2)',\n",
       " 'i_xr': '0/1: the exchange rate is market-based (0) or estimated (1)',\n",
       " 'i_outlier': '0/1: the observation on pl_gdpe or pl_gdpo is not an outlier (0) or an outlier (1)',\n",
       " 'i_irr': '0/1/2/3: the observation for irr is not an outlier (0), may be biased due to a low capital share (1), hit the lower bound of 1 percent (2), or is an outlier (3)',\n",
       " 'cor_exp': 'Correlation between expenditure shares of the country and the US (benchmark observations only)',\n",
       " 'statcap': 'Statistical capacity indicator (source: World Bank, developing countries only)',\n",
       " 'csh_c': 'Share of household consumption at current PPPs',\n",
       " 'csh_i': 'Share of gross capital formation at current PPPs',\n",
       " 'csh_g': 'Share of government consumption at current PPPs',\n",
       " 'csh_x': 'Share of merchandise exports at current PPPs',\n",
       " 'csh_m': 'Share of merchandise imports at current PPPs',\n",
       " 'csh_r': 'Share of residual trade and GDP statistical discrepancy at current PPPs',\n",
       " 'pl_c': 'Price level of household consumption,  price level of USA GDPo in 2011=1',\n",
       " 'pl_i': 'Price level of capital formation,  price level of USA GDPo in 2011=1',\n",
       " 'pl_g': 'Price level of government consumption,  price level of USA GDPo in 2011=1',\n",
       " 'pl_x': 'Price level of exports, price level of USA GDPo in 2011=1',\n",
       " 'pl_m': 'Price level of imports, price level of USA GDPo in 2011=1',\n",
       " 'pl_n': 'Price level of the capital stock, price level of USA in 2011=1',\n",
       " 'pl_k': 'Price level of the capital services, price level of USA=1'}"
      ]
     },
     "execution_count": 9,
     "metadata": {},
     "output_type": "execute_result"
    }
   ],
   "source": [
    "# Here is the legend\n",
    "pwt_legend"
   ]
  },
  {
   "cell_type": "code",
   "execution_count": 10,
   "metadata": {},
   "outputs": [],
   "source": [
    "# Read in the data\n",
    "pwt = pd.read_excel('https://www.rug.nl/ggdc/docs/pwt91.xlsx',sheet_name='Data')"
   ]
  },
  {
   "cell_type": "code",
   "execution_count": 11,
   "metadata": {
    "scrolled": true
   },
   "outputs": [
    {
     "data": {
      "text/html": [
       "<div>\n",
       "<style scoped>\n",
       "    .dataframe tbody tr th:only-of-type {\n",
       "        vertical-align: middle;\n",
       "    }\n",
       "\n",
       "    .dataframe tbody tr th {\n",
       "        vertical-align: top;\n",
       "    }\n",
       "\n",
       "    .dataframe thead th {\n",
       "        text-align: right;\n",
       "    }\n",
       "</style>\n",
       "<table border=\"1\" class=\"dataframe\">\n",
       "  <thead>\n",
       "    <tr style=\"text-align: right;\">\n",
       "      <th></th>\n",
       "      <th>countrycode</th>\n",
       "      <th>country</th>\n",
       "      <th>currency_unit</th>\n",
       "      <th>year</th>\n",
       "      <th>rgdpe</th>\n",
       "      <th>rgdpo</th>\n",
       "      <th>pop</th>\n",
       "      <th>emp</th>\n",
       "      <th>avh</th>\n",
       "      <th>hc</th>\n",
       "      <th>...</th>\n",
       "      <th>csh_x</th>\n",
       "      <th>csh_m</th>\n",
       "      <th>csh_r</th>\n",
       "      <th>pl_c</th>\n",
       "      <th>pl_i</th>\n",
       "      <th>pl_g</th>\n",
       "      <th>pl_x</th>\n",
       "      <th>pl_m</th>\n",
       "      <th>pl_n</th>\n",
       "      <th>pl_k</th>\n",
       "    </tr>\n",
       "  </thead>\n",
       "  <tbody>\n",
       "    <tr>\n",
       "      <th>12371</th>\n",
       "      <td>ZWE</td>\n",
       "      <td>Zimbabwe</td>\n",
       "      <td>US Dollar</td>\n",
       "      <td>2013</td>\n",
       "      <td>28086.937500</td>\n",
       "      <td>28329.810547</td>\n",
       "      <td>15.054506</td>\n",
       "      <td>7.914061</td>\n",
       "      <td>NaN</td>\n",
       "      <td>2.504635</td>\n",
       "      <td>...</td>\n",
       "      <td>0.169638</td>\n",
       "      <td>-0.426188</td>\n",
       "      <td>0.090225</td>\n",
       "      <td>0.577488</td>\n",
       "      <td>0.582022</td>\n",
       "      <td>0.448409</td>\n",
       "      <td>0.723247</td>\n",
       "      <td>0.632360</td>\n",
       "      <td>0.383488</td>\n",
       "      <td>0.704313</td>\n",
       "    </tr>\n",
       "    <tr>\n",
       "      <th>12372</th>\n",
       "      <td>ZWE</td>\n",
       "      <td>Zimbabwe</td>\n",
       "      <td>US Dollar</td>\n",
       "      <td>2014</td>\n",
       "      <td>29217.554688</td>\n",
       "      <td>29355.759766</td>\n",
       "      <td>15.411675</td>\n",
       "      <td>8.222112</td>\n",
       "      <td>NaN</td>\n",
       "      <td>2.550258</td>\n",
       "      <td>...</td>\n",
       "      <td>0.141791</td>\n",
       "      <td>-0.340442</td>\n",
       "      <td>0.051500</td>\n",
       "      <td>0.600760</td>\n",
       "      <td>0.557172</td>\n",
       "      <td>0.392895</td>\n",
       "      <td>0.724510</td>\n",
       "      <td>0.628352</td>\n",
       "      <td>0.349735</td>\n",
       "      <td>0.704991</td>\n",
       "    </tr>\n",
       "    <tr>\n",
       "      <th>12373</th>\n",
       "      <td>ZWE</td>\n",
       "      <td>Zimbabwe</td>\n",
       "      <td>US Dollar</td>\n",
       "      <td>2015</td>\n",
       "      <td>30091.923828</td>\n",
       "      <td>29150.750000</td>\n",
       "      <td>15.777451</td>\n",
       "      <td>8.530669</td>\n",
       "      <td>NaN</td>\n",
       "      <td>2.584653</td>\n",
       "      <td>...</td>\n",
       "      <td>0.137558</td>\n",
       "      <td>-0.354298</td>\n",
       "      <td>-0.023353</td>\n",
       "      <td>0.622927</td>\n",
       "      <td>0.580814</td>\n",
       "      <td>0.343926</td>\n",
       "      <td>0.654940</td>\n",
       "      <td>0.564430</td>\n",
       "      <td>0.348472</td>\n",
       "      <td>0.713156</td>\n",
       "    </tr>\n",
       "    <tr>\n",
       "      <th>12374</th>\n",
       "      <td>ZWE</td>\n",
       "      <td>Zimbabwe</td>\n",
       "      <td>US Dollar</td>\n",
       "      <td>2016</td>\n",
       "      <td>30974.292969</td>\n",
       "      <td>29420.449219</td>\n",
       "      <td>16.150362</td>\n",
       "      <td>8.839398</td>\n",
       "      <td>NaN</td>\n",
       "      <td>2.616257</td>\n",
       "      <td>...</td>\n",
       "      <td>0.141248</td>\n",
       "      <td>-0.310446</td>\n",
       "      <td>0.003050</td>\n",
       "      <td>0.640176</td>\n",
       "      <td>0.599462</td>\n",
       "      <td>0.337853</td>\n",
       "      <td>0.657060</td>\n",
       "      <td>0.550084</td>\n",
       "      <td>0.346553</td>\n",
       "      <td>0.718671</td>\n",
       "    </tr>\n",
       "    <tr>\n",
       "      <th>12375</th>\n",
       "      <td>ZWE</td>\n",
       "      <td>Zimbabwe</td>\n",
       "      <td>US Dollar</td>\n",
       "      <td>2017</td>\n",
       "      <td>32693.474609</td>\n",
       "      <td>30940.816406</td>\n",
       "      <td>16.529903</td>\n",
       "      <td>9.181251</td>\n",
       "      <td>NaN</td>\n",
       "      <td>2.648248</td>\n",
       "      <td>...</td>\n",
       "      <td>0.141799</td>\n",
       "      <td>-0.299539</td>\n",
       "      <td>0.019133</td>\n",
       "      <td>0.647136</td>\n",
       "      <td>0.726222</td>\n",
       "      <td>0.340680</td>\n",
       "      <td>0.645338</td>\n",
       "      <td>0.539529</td>\n",
       "      <td>0.412392</td>\n",
       "      <td>0.755215</td>\n",
       "    </tr>\n",
       "  </tbody>\n",
       "</table>\n",
       "<p>5 rows × 52 columns</p>\n",
       "</div>"
      ],
      "text/plain": [
       "      countrycode   country currency_unit  year         rgdpe         rgdpo  \\\n",
       "12371         ZWE  Zimbabwe     US Dollar  2013  28086.937500  28329.810547   \n",
       "12372         ZWE  Zimbabwe     US Dollar  2014  29217.554688  29355.759766   \n",
       "12373         ZWE  Zimbabwe     US Dollar  2015  30091.923828  29150.750000   \n",
       "12374         ZWE  Zimbabwe     US Dollar  2016  30974.292969  29420.449219   \n",
       "12375         ZWE  Zimbabwe     US Dollar  2017  32693.474609  30940.816406   \n",
       "\n",
       "             pop       emp  avh        hc  ...     csh_x     csh_m     csh_r  \\\n",
       "12371  15.054506  7.914061  NaN  2.504635  ...  0.169638 -0.426188  0.090225   \n",
       "12372  15.411675  8.222112  NaN  2.550258  ...  0.141791 -0.340442  0.051500   \n",
       "12373  15.777451  8.530669  NaN  2.584653  ...  0.137558 -0.354298 -0.023353   \n",
       "12374  16.150362  8.839398  NaN  2.616257  ...  0.141248 -0.310446  0.003050   \n",
       "12375  16.529903  9.181251  NaN  2.648248  ...  0.141799 -0.299539  0.019133   \n",
       "\n",
       "           pl_c      pl_i      pl_g      pl_x      pl_m      pl_n      pl_k  \n",
       "12371  0.577488  0.582022  0.448409  0.723247  0.632360  0.383488  0.704313  \n",
       "12372  0.600760  0.557172  0.392895  0.724510  0.628352  0.349735  0.704991  \n",
       "12373  0.622927  0.580814  0.343926  0.654940  0.564430  0.348472  0.713156  \n",
       "12374  0.640176  0.599462  0.337853  0.657060  0.550084  0.346553  0.718671  \n",
       "12375  0.647136  0.726222  0.340680  0.645338  0.539529  0.412392  0.755215  \n",
       "\n",
       "[5 rows x 52 columns]"
      ]
     },
     "execution_count": 11,
     "metadata": {},
     "output_type": "execute_result"
    }
   ],
   "source": [
    "# Here is how pwt data looks like, last 5 entries\n",
    "pwt.tail()"
   ]
  },
  {
   "cell_type": "code",
   "execution_count": 12,
   "metadata": {
    "scrolled": true
   },
   "outputs": [],
   "source": [
    "# Merge madison data with pwt data, keep only 'countrycode','year','emp' from pwt\n",
    "df=df.merge(pwt[['countrycode','year','emp']],on=['countrycode','year'],how='left')"
   ]
  },
  {
   "cell_type": "code",
   "execution_count": 13,
   "metadata": {},
   "outputs": [],
   "source": [
    "# Sort the dataset on 'countrycode','year'\n",
    "df.sort_values(['countrycode','year'],inplace=True)"
   ]
  },
  {
   "cell_type": "code",
   "execution_count": 14,
   "metadata": {},
   "outputs": [
    {
     "data": {
      "text/plain": [
       "('Population, mid-year (thousands)', 'Number of persons engaged (in millions)')"
      ]
     },
     "execution_count": 14,
     "metadata": {},
     "output_type": "execute_result"
    }
   ],
   "source": [
    "# We will calculate GDP per worker values using 'pop' and 'emp'\n",
    "df_legend['pop'],pwt_legend['emp']"
   ]
  },
  {
   "cell_type": "code",
   "execution_count": 15,
   "metadata": {},
   "outputs": [],
   "source": [
    "# Convert population into millions\n",
    "df['pop'] = df['pop']/1000"
   ]
  },
  {
   "cell_type": "code",
   "execution_count": 16,
   "metadata": {},
   "outputs": [],
   "source": [
    "# Calculate employment to population ratio as percentage\n",
    "df['E/pop'] = df['emp']/df['pop']*100"
   ]
  },
  {
   "cell_type": "code",
   "execution_count": 17,
   "metadata": {},
   "outputs": [
    {
     "data": {
      "text/plain": [
       "'Real GDP per capita in 2011US$, 2011 benchmark (suitable for cross-country growth comparisons)'"
      ]
     },
     "execution_count": 17,
     "metadata": {},
     "output_type": "execute_result"
    }
   ],
   "source": [
    "# The variable we will use for calculating growth rates is 'rgdpnapc'\n",
    "df_legend['rgdpnapc']"
   ]
  },
  {
   "cell_type": "markdown",
   "metadata": {},
   "source": [
    "Calculate average growth rate of country from year $t$ to year $t+n$. If a variable, say $X_t$, grows at a continuous rate of $g$, i.e. $\\frac{dX_t/d_t}{X_t}=g$, then $ X_{t+n} = X_t\\exp(g\\cdot n) $. Then, using basic algrebra,\n",
    "$$ g= \\log \\left( \\frac{X_{t+n}}{X_t}\\right) \\frac{1}{n}.$$ \n",
    "\n"
   ]
  },
  {
   "cell_type": "code",
   "execution_count": 18,
   "metadata": {},
   "outputs": [],
   "source": [
    "# Here we calculate the avarage growth rates of countries from 1960 to 2016 \n",
    "# using the above formula. \n",
    "growth_rates = (df[df.year.isin([1960,2016])].groupby(['countrycode','country']).apply(lambda x:\n",
    "                100*(np.log(x.iloc[1]['rgdpnapc'])-np.log(x.iloc[0]['rgdpnapc']))/56).reset_index().\n",
    "                rename(columns={0:'Avg. Growth (1960-2016)'}))"
   ]
  },
  {
   "cell_type": "markdown",
   "metadata": {},
   "source": [
    "Rule of 72: If a county grows at a rate g, it takes $72/g\\cdot100$ years to double its income per capita."
   ]
  },
  {
   "cell_type": "code",
   "execution_count": 19,
   "metadata": {},
   "outputs": [],
   "source": [
    "# Now we calculate the number of years it takes for a country to double its income per capita\n",
    "# using the rule of 72.\n",
    "growth_rates['Years to double'] = 72/growth_rates['Avg. Growth (1960-2016)']"
   ]
  },
  {
   "cell_type": "code",
   "execution_count": 20,
   "metadata": {},
   "outputs": [
    {
     "data": {
      "text/plain": [
       "'Real GDP per capita in 2011US$, multiple benchmarks (suitable for cross-country income comparisons)'"
      ]
     },
     "execution_count": 20,
     "metadata": {},
     "output_type": "execute_result"
    }
   ],
   "source": [
    "# Calculate GDP per worker using cgdppc, pop and emp. Remember the definition of cgdppc\n",
    "df_legend['cgdppc']"
   ]
  },
  {
   "cell_type": "code",
   "execution_count": 21,
   "metadata": {},
   "outputs": [],
   "source": [
    "df['GDP per worker'] = df['cgdppc']*df['pop']/df['emp']"
   ]
  },
  {
   "cell_type": "code",
   "execution_count": 22,
   "metadata": {},
   "outputs": [],
   "source": [
    "# merge growth rates data with df\n",
    "df=df.merge(growth_rates,on=['countrycode','country'])"
   ]
  },
  {
   "cell_type": "code",
   "execution_count": 23,
   "metadata": {},
   "outputs": [
    {
     "data": {
      "text/html": [
       "<div>\n",
       "<style scoped>\n",
       "    .dataframe tbody tr th:only-of-type {\n",
       "        vertical-align: middle;\n",
       "    }\n",
       "\n",
       "    .dataframe tbody tr th {\n",
       "        vertical-align: top;\n",
       "    }\n",
       "\n",
       "    .dataframe thead th {\n",
       "        text-align: right;\n",
       "    }\n",
       "</style>\n",
       "<table border=\"1\" class=\"dataframe\">\n",
       "  <thead>\n",
       "    <tr style=\"text-align: right;\">\n",
       "      <th></th>\n",
       "      <th>countrycode</th>\n",
       "      <th>country</th>\n",
       "      <th>year</th>\n",
       "      <th>cgdppc</th>\n",
       "      <th>rgdpnapc</th>\n",
       "      <th>pop</th>\n",
       "      <th>i_cig</th>\n",
       "      <th>i_bm</th>\n",
       "      <th>emp</th>\n",
       "      <th>E/pop</th>\n",
       "      <th>GDP per worker</th>\n",
       "      <th>Avg. Growth (1960-2016)</th>\n",
       "      <th>Years to double</th>\n",
       "    </tr>\n",
       "  </thead>\n",
       "  <tbody>\n",
       "    <tr>\n",
       "      <th>0</th>\n",
       "      <td>AFG</td>\n",
       "      <td>Afghanistan</td>\n",
       "      <td>1820</td>\n",
       "      <td>NaN</td>\n",
       "      <td>NaN</td>\n",
       "      <td>3.280</td>\n",
       "      <td>NaN</td>\n",
       "      <td>NaN</td>\n",
       "      <td>NaN</td>\n",
       "      <td>NaN</td>\n",
       "      <td>NaN</td>\n",
       "      <td>-0.629312</td>\n",
       "      <td>-114.410575</td>\n",
       "    </tr>\n",
       "    <tr>\n",
       "      <th>1</th>\n",
       "      <td>AFG</td>\n",
       "      <td>Afghanistan</td>\n",
       "      <td>1870</td>\n",
       "      <td>NaN</td>\n",
       "      <td>NaN</td>\n",
       "      <td>4.207</td>\n",
       "      <td>NaN</td>\n",
       "      <td>NaN</td>\n",
       "      <td>NaN</td>\n",
       "      <td>NaN</td>\n",
       "      <td>NaN</td>\n",
       "      <td>-0.629312</td>\n",
       "      <td>-114.410575</td>\n",
       "    </tr>\n",
       "    <tr>\n",
       "      <th>2</th>\n",
       "      <td>AFG</td>\n",
       "      <td>Afghanistan</td>\n",
       "      <td>1913</td>\n",
       "      <td>NaN</td>\n",
       "      <td>NaN</td>\n",
       "      <td>5.730</td>\n",
       "      <td>NaN</td>\n",
       "      <td>NaN</td>\n",
       "      <td>NaN</td>\n",
       "      <td>NaN</td>\n",
       "      <td>NaN</td>\n",
       "      <td>-0.629312</td>\n",
       "      <td>-114.410575</td>\n",
       "    </tr>\n",
       "    <tr>\n",
       "      <th>3</th>\n",
       "      <td>AFG</td>\n",
       "      <td>Afghanistan</td>\n",
       "      <td>1950</td>\n",
       "      <td>2392.0</td>\n",
       "      <td>2392.0</td>\n",
       "      <td>8.150</td>\n",
       "      <td>Extrapolated</td>\n",
       "      <td>NaN</td>\n",
       "      <td>NaN</td>\n",
       "      <td>NaN</td>\n",
       "      <td>NaN</td>\n",
       "      <td>-0.629312</td>\n",
       "      <td>-114.410575</td>\n",
       "    </tr>\n",
       "    <tr>\n",
       "      <th>4</th>\n",
       "      <td>AFG</td>\n",
       "      <td>Afghanistan</td>\n",
       "      <td>1951</td>\n",
       "      <td>2422.0</td>\n",
       "      <td>2422.0</td>\n",
       "      <td>8.284</td>\n",
       "      <td>Extrapolated</td>\n",
       "      <td>NaN</td>\n",
       "      <td>NaN</td>\n",
       "      <td>NaN</td>\n",
       "      <td>NaN</td>\n",
       "      <td>-0.629312</td>\n",
       "      <td>-114.410575</td>\n",
       "    </tr>\n",
       "  </tbody>\n",
       "</table>\n",
       "</div>"
      ],
      "text/plain": [
       "  countrycode      country  year  cgdppc  rgdpnapc    pop         i_cig i_bm  \\\n",
       "0         AFG  Afghanistan  1820     NaN       NaN  3.280           NaN  NaN   \n",
       "1         AFG  Afghanistan  1870     NaN       NaN  4.207           NaN  NaN   \n",
       "2         AFG  Afghanistan  1913     NaN       NaN  5.730           NaN  NaN   \n",
       "3         AFG  Afghanistan  1950  2392.0    2392.0  8.150  Extrapolated  NaN   \n",
       "4         AFG  Afghanistan  1951  2422.0    2422.0  8.284  Extrapolated  NaN   \n",
       "\n",
       "   emp  E/pop  GDP per worker  Avg. Growth (1960-2016)  Years to double  \n",
       "0  NaN    NaN             NaN                -0.629312      -114.410575  \n",
       "1  NaN    NaN             NaN                -0.629312      -114.410575  \n",
       "2  NaN    NaN             NaN                -0.629312      -114.410575  \n",
       "3  NaN    NaN             NaN                -0.629312      -114.410575  \n",
       "4  NaN    NaN             NaN                -0.629312      -114.410575  "
      ]
     },
     "execution_count": 23,
     "metadata": {},
     "output_type": "execute_result"
    }
   ],
   "source": [
    "# How the data loooks like\n",
    "df.head()"
   ]
  },
  {
   "cell_type": "markdown",
   "metadata": {},
   "source": [
    "### Our focus in the long-run trends not on annual fluctuations"
   ]
  },
  {
   "cell_type": "code",
   "execution_count": 24,
   "metadata": {
    "scrolled": true
   },
   "outputs": [],
   "source": [
    "import statsmodels.api as sm"
   ]
  },
  {
   "cell_type": "code",
   "execution_count": 25,
   "metadata": {},
   "outputs": [],
   "source": [
    "# Select United Kingdom\n",
    "GBR = df[df.countrycode=='GBR'].set_index('year').cgdppc.dropna()"
   ]
  },
  {
   "cell_type": "code",
   "execution_count": 26,
   "metadata": {},
   "outputs": [],
   "source": [
    "# Filter our trend from fluctuations\n",
    "cycle, trend = sm.tsa.filters.hpfilter(GBR.loc[1900:],1600)"
   ]
  },
  {
   "cell_type": "code",
   "execution_count": 27,
   "metadata": {},
   "outputs": [
    {
     "data": {
      "image/png": "[encoded data removed]",
      "text/plain": [
       "<Figure size 576x432 with 1 Axes>"
      ]
     },
     "metadata": {},
     "output_type": "display_data"
    }
   ],
   "source": [
    "fig,ax = plt.subplots(figsize=(8,6))\n",
    "ax.plot(GBR.loc[1900:],'r',linewidth=2,label='GDP per capita')\n",
    "ax.plot(trend,'k',linewidth=2, label='Trend')\n",
    "#ax.legend(loc='upper left',frameon=False)\n",
    "ax.annotate('GDP per capita',(2015,GBR.loc[2010]),color='r',fontsize=16)\n",
    "ax.annotate('Trend',(1970,GBR.loc[1990]),color='k',fontsize=16)\n",
    "ax.set_ylim(ymin = 4000,ymax=42000)\n",
    "ax.set_ylabel('UK real GDP per capita in 2011US$')\n",
    "ax.spines[\"left\"].set_visible(False)\n",
    "ax.spines[\"bottom\"].set_visible(False)\n",
    "ax.spines[\"right\"].set_visible(False)\n",
    "ax.spines[\"top\"].set_visible(False)\n",
    "ax.set_xlabel('Year')\n",
    "plt.text(1890,-3000,'Source: Maddison Project Database (MPD) 2018',fontsize=16)\n",
    "plt.savefig('../files/UK-gdp-trend.svg',bbox_inches='tight')"
   ]
  },
  {
   "cell_type": "markdown",
   "metadata": {},
   "source": [
    "### Fact 1: There is a high variation in per capita income across countries."
   ]
  },
  {
   "cell_type": "code",
   "execution_count": 28,
   "metadata": {},
   "outputs": [
    {
     "data": {
      "text/plain": [
       "'Real GDP per capita in 2011US$, multiple benchmarks (suitable for cross-country income comparisons)'"
      ]
     },
     "execution_count": 28,
     "metadata": {},
     "output_type": "execute_result"
    }
   ],
   "source": [
    "# The variable we will use to compare GDP per capitas of countries in 2016 is 'cgdppc'\n",
    "df_legend['cgdppc']"
   ]
  },
  {
   "cell_type": "code",
   "execution_count": 29,
   "metadata": {
    "scrolled": false
   },
   "outputs": [
    {
     "data": {
      "image/png": "[encoded data removed]",
      "text/plain": [
       "<Figure size 576x432 with 1 Axes>"
      ]
     },
     "metadata": {},
     "output_type": "display_data"
    }
   ],
   "source": [
    "fig,ax=plt.subplots(figsize=(8,6))\n",
    "df_ = df[df.year==2016]['cgdppc'].dropna()\n",
    "bins = np.append(np.arange(df_.min(),df_.max(),5000),[df_.max()])\n",
    "sns.distplot(df_,bins=bins,\n",
    "             ax=ax,color='purple',hist_kws={\"rwidth\":0.9,'alpha':0.6},kde=False)\n",
    "ax.set_xlabel('Real GDP per capita in 2011US$')\n",
    "ax.set_ylabel('Count')\n",
    "ax.set_xlim(xmin=-5000)\n",
    "ax.set_ylim(ymin=-3)\n",
    "ax.text(-2,-12,'Source: Maddison Project Database (MPD) 2018',fontsize=14)\n",
    "plt.savefig('../files/income-histogram.svg',bbox_inches='tight')"
   ]
  },
  {
   "cell_type": "code",
   "execution_count": 30,
   "metadata": {},
   "outputs": [],
   "source": [
    "# Now create descriptive stats about the distribution of income in 2016\n",
    "desc_ = df[df.year==2016].cgdppc.describe().reset_index()\n",
    "desc_.columns = ['Statistic','GDP per capita']"
   ]
  },
  {
   "cell_type": "code",
   "execution_count": 31,
   "metadata": {},
   "outputs": [
    {
     "data": {
      "text/html": [
       "<div>\n",
       "<style scoped>\n",
       "    .dataframe tbody tr th:only-of-type {\n",
       "        vertical-align: middle;\n",
       "    }\n",
       "\n",
       "    .dataframe tbody tr th {\n",
       "        vertical-align: top;\n",
       "    }\n",
       "\n",
       "    .dataframe thead th {\n",
       "        text-align: right;\n",
       "    }\n",
       "</style>\n",
       "<table border=\"1\" class=\"dataframe\">\n",
       "  <thead>\n",
       "    <tr style=\"text-align: right;\">\n",
       "      <th></th>\n",
       "      <th>Statistic</th>\n",
       "      <th>GDP per capita</th>\n",
       "    </tr>\n",
       "  </thead>\n",
       "  <tbody>\n",
       "    <tr>\n",
       "      <th>0</th>\n",
       "      <td>count</td>\n",
       "      <td>166.000000</td>\n",
       "    </tr>\n",
       "    <tr>\n",
       "      <th>1</th>\n",
       "      <td>mean</td>\n",
       "      <td>18591.698795</td>\n",
       "    </tr>\n",
       "    <tr>\n",
       "      <th>2</th>\n",
       "      <td>std</td>\n",
       "      <td>19393.210172</td>\n",
       "    </tr>\n",
       "    <tr>\n",
       "      <th>3</th>\n",
       "      <td>min</td>\n",
       "      <td>619.000000</td>\n",
       "    </tr>\n",
       "    <tr>\n",
       "      <th>4</th>\n",
       "      <td>25%</td>\n",
       "      <td>3892.250000</td>\n",
       "    </tr>\n",
       "    <tr>\n",
       "      <th>5</th>\n",
       "      <td>50%</td>\n",
       "      <td>12134.500000</td>\n",
       "    </tr>\n",
       "    <tr>\n",
       "      <th>6</th>\n",
       "      <td>75%</td>\n",
       "      <td>26450.500000</td>\n",
       "    </tr>\n",
       "    <tr>\n",
       "      <th>7</th>\n",
       "      <td>max</td>\n",
       "      <td>139783.000000</td>\n",
       "    </tr>\n",
       "  </tbody>\n",
       "</table>\n",
       "</div>"
      ],
      "text/plain": [
       "  Statistic  GDP per capita\n",
       "0     count      166.000000\n",
       "1      mean    18591.698795\n",
       "2       std    19393.210172\n",
       "3       min      619.000000\n",
       "4       25%     3892.250000\n",
       "5       50%    12134.500000\n",
       "6       75%    26450.500000\n",
       "7       max   139783.000000"
      ]
     },
     "execution_count": 31,
     "metadata": {},
     "output_type": "execute_result"
    }
   ],
   "source": [
    "desc_ "
   ]
  },
  {
   "cell_type": "code",
   "execution_count": 32,
   "metadata": {
    "scrolled": true
   },
   "outputs": [
    {
     "name": "stdout",
     "output_type": "stream",
     "text": [
      "| Statistic   |   GDP per capita |\n",
      "|:------------|-----------------:|\n",
      "| count       |           166    |\n",
      "| mean        |         18591.7  |\n",
      "| std         |         19393.2  |\n",
      "| min         |           619    |\n",
      "| 25%         |          3892.25 |\n",
      "| 50%         |         12134.5  |\n",
      "| 75%         |         26450.5  |\n",
      "| max         |        139783    |\n"
     ]
    }
   ],
   "source": [
    "# Create a markdown table to be posted to my slides\n",
    "print(tabulate(desc_, tablefmt=\"pipe\", \n",
    "               showindex=False,headers=\"keys\"))\n"
   ]
  },
  {
   "cell_type": "code",
   "execution_count": 33,
   "metadata": {},
   "outputs": [],
   "source": [
    "# Example countries\n",
    "country_list = ['USA','IRN','MDA','ETH','GBR','QAT']"
   ]
  },
  {
   "cell_type": "code",
   "execution_count": 34,
   "metadata": {},
   "outputs": [
    {
     "data": {
      "text/html": [
       "<div>\n",
       "<style scoped>\n",
       "    .dataframe tbody tr th:only-of-type {\n",
       "        vertical-align: middle;\n",
       "    }\n",
       "\n",
       "    .dataframe tbody tr th {\n",
       "        vertical-align: top;\n",
       "    }\n",
       "\n",
       "    .dataframe thead th {\n",
       "        text-align: right;\n",
       "    }\n",
       "</style>\n",
       "<table border=\"1\" class=\"dataframe\">\n",
       "  <thead>\n",
       "    <tr style=\"text-align: right;\">\n",
       "      <th></th>\n",
       "      <th>country</th>\n",
       "      <th>cgdppc</th>\n",
       "    </tr>\n",
       "  </thead>\n",
       "  <tbody>\n",
       "    <tr>\n",
       "      <th>5398</th>\n",
       "      <td>Ethiopia</td>\n",
       "      <td>1659.0</td>\n",
       "    </tr>\n",
       "    <tr>\n",
       "      <th>10842</th>\n",
       "      <td>Republic of Moldova</td>\n",
       "      <td>5851.0</td>\n",
       "    </tr>\n",
       "    <tr>\n",
       "      <th>8643</th>\n",
       "      <td>Iran (Islamic Republic of)</td>\n",
       "      <td>15529.0</td>\n",
       "    </tr>\n",
       "    <tr>\n",
       "      <th>6708</th>\n",
       "      <td>United Kingdom</td>\n",
       "      <td>39162.0</td>\n",
       "    </tr>\n",
       "    <tr>\n",
       "      <th>18959</th>\n",
       "      <td>United States</td>\n",
       "      <td>53015.0</td>\n",
       "    </tr>\n",
       "    <tr>\n",
       "      <th>15437</th>\n",
       "      <td>Qatar</td>\n",
       "      <td>139783.0</td>\n",
       "    </tr>\n",
       "  </tbody>\n",
       "</table>\n",
       "</div>"
      ],
      "text/plain": [
       "                          country    cgdppc\n",
       "5398                     Ethiopia    1659.0\n",
       "10842         Republic of Moldova    5851.0\n",
       "8643   Iran (Islamic Republic of)   15529.0\n",
       "6708               United Kingdom   39162.0\n",
       "18959               United States   53015.0\n",
       "15437                       Qatar  139783.0"
      ]
     },
     "execution_count": 34,
     "metadata": {},
     "output_type": "execute_result"
    }
   ],
   "source": [
    "# Show the GDP per capita of these countries in 2016\n",
    "select = (df.countrycode.isin(country_list) & (df.year == 2016))\n",
    "df[select][['country','cgdppc']].sort_values(['cgdppc'])"
   ]
  },
  {
   "cell_type": "code",
   "execution_count": 35,
   "metadata": {},
   "outputs": [
    {
     "data": {
      "text/html": [
       "<div>\n",
       "<style scoped>\n",
       "    .dataframe tbody tr th:only-of-type {\n",
       "        vertical-align: middle;\n",
       "    }\n",
       "\n",
       "    .dataframe tbody tr th {\n",
       "        vertical-align: top;\n",
       "    }\n",
       "\n",
       "    .dataframe thead th {\n",
       "        text-align: right;\n",
       "    }\n",
       "</style>\n",
       "<table border=\"1\" class=\"dataframe\">\n",
       "  <thead>\n",
       "    <tr style=\"text-align: right;\">\n",
       "      <th></th>\n",
       "      <th>cgdppc</th>\n",
       "    </tr>\n",
       "    <tr>\n",
       "      <th>country</th>\n",
       "      <th></th>\n",
       "    </tr>\n",
       "  </thead>\n",
       "  <tbody>\n",
       "    <tr>\n",
       "      <th>Ethiopia</th>\n",
       "      <td>1.000000</td>\n",
       "    </tr>\n",
       "    <tr>\n",
       "      <th>Republic of Moldova</th>\n",
       "      <td>3.526823</td>\n",
       "    </tr>\n",
       "    <tr>\n",
       "      <th>Iran (Islamic Republic of)</th>\n",
       "      <td>9.360458</td>\n",
       "    </tr>\n",
       "    <tr>\n",
       "      <th>United Kingdom</th>\n",
       "      <td>23.605787</td>\n",
       "    </tr>\n",
       "    <tr>\n",
       "      <th>United States</th>\n",
       "      <td>31.955998</td>\n",
       "    </tr>\n",
       "    <tr>\n",
       "      <th>Qatar</th>\n",
       "      <td>84.257384</td>\n",
       "    </tr>\n",
       "  </tbody>\n",
       "</table>\n",
       "</div>"
      ],
      "text/plain": [
       "                               cgdppc\n",
       "country                              \n",
       "Ethiopia                     1.000000\n",
       "Republic of Moldova          3.526823\n",
       "Iran (Islamic Republic of)   9.360458\n",
       "United Kingdom              23.605787\n",
       "United States               31.955998\n",
       "Qatar                       84.257384"
      ]
     },
     "execution_count": 35,
     "metadata": {},
     "output_type": "execute_result"
    }
   ],
   "source": [
    "# What are the GDP per capitas of these countries relative to Ethiopia?\n",
    "df[select][['country','cgdppc']].set_index('country').sort_values(['cgdppc'])/1659.0"
   ]
  },
  {
   "cell_type": "code",
   "execution_count": 36,
   "metadata": {},
   "outputs": [],
   "source": [
    "# select high income countries\n",
    "high_countries = ['USA','JPN','FRA','GBR','ESP']"
   ]
  },
  {
   "cell_type": "code",
   "execution_count": 37,
   "metadata": {},
   "outputs": [],
   "source": [
    "# create a table of high income countries in year 2016\n",
    "high_table = df[(df.countrycode.isin(high_countries))&(df.year==2016)]"
   ]
  },
  {
   "cell_type": "code",
   "execution_count": 38,
   "metadata": {
    "scrolled": true
   },
   "outputs": [
    {
     "data": {
      "text/html": [
       "<div>\n",
       "<style scoped>\n",
       "    .dataframe tbody tr th:only-of-type {\n",
       "        vertical-align: middle;\n",
       "    }\n",
       "\n",
       "    .dataframe tbody tr th {\n",
       "        vertical-align: top;\n",
       "    }\n",
       "\n",
       "    .dataframe thead th {\n",
       "        text-align: right;\n",
       "    }\n",
       "</style>\n",
       "<table border=\"1\" class=\"dataframe\">\n",
       "  <thead>\n",
       "    <tr style=\"text-align: right;\">\n",
       "      <th></th>\n",
       "      <th>countrycode</th>\n",
       "      <th>country</th>\n",
       "      <th>year</th>\n",
       "      <th>cgdppc</th>\n",
       "      <th>rgdpnapc</th>\n",
       "      <th>pop</th>\n",
       "      <th>i_cig</th>\n",
       "      <th>i_bm</th>\n",
       "      <th>emp</th>\n",
       "      <th>E/pop</th>\n",
       "      <th>GDP per worker</th>\n",
       "      <th>Avg. Growth (1960-2016)</th>\n",
       "      <th>Years to double</th>\n",
       "    </tr>\n",
       "  </thead>\n",
       "  <tbody>\n",
       "    <tr>\n",
       "      <th>5258</th>\n",
       "      <td>ESP</td>\n",
       "      <td>Spain</td>\n",
       "      <td>2016</td>\n",
       "      <td>31556.0</td>\n",
       "      <td>30110.0</td>\n",
       "      <td>47.024</td>\n",
       "      <td>Extrapolated</td>\n",
       "      <td>NaN</td>\n",
       "      <td>18.699034</td>\n",
       "      <td>39.764873</td>\n",
       "      <td>79356.471829</td>\n",
       "      <td>2.892477</td>\n",
       "      <td>24.892164</td>\n",
       "    </tr>\n",
       "    <tr>\n",
       "      <th>6312</th>\n",
       "      <td>FRA</td>\n",
       "      <td>France</td>\n",
       "      <td>2016</td>\n",
       "      <td>38758.0</td>\n",
       "      <td>37124.0</td>\n",
       "      <td>66.957</td>\n",
       "      <td>Extrapolated</td>\n",
       "      <td>NaN</td>\n",
       "      <td>27.622475</td>\n",
       "      <td>41.254051</td>\n",
       "      <td>93949.562339</td>\n",
       "      <td>1.991589</td>\n",
       "      <td>36.152040</td>\n",
       "    </tr>\n",
       "    <tr>\n",
       "      <th>6708</th>\n",
       "      <td>GBR</td>\n",
       "      <td>United Kingdom</td>\n",
       "      <td>2016</td>\n",
       "      <td>39162.0</td>\n",
       "      <td>37334.0</td>\n",
       "      <td>65.888</td>\n",
       "      <td>Extrapolated</td>\n",
       "      <td>NaN</td>\n",
       "      <td>31.683855</td>\n",
       "      <td>48.087444</td>\n",
       "      <td>81439.138368</td>\n",
       "      <td>1.814868</td>\n",
       "      <td>39.672300</td>\n",
       "    </tr>\n",
       "    <tr>\n",
       "      <th>9486</th>\n",
       "      <td>JPN</td>\n",
       "      <td>Japan</td>\n",
       "      <td>2016</td>\n",
       "      <td>36452.0</td>\n",
       "      <td>37465.0</td>\n",
       "      <td>126.310</td>\n",
       "      <td>Extrapolated</td>\n",
       "      <td>NaN</td>\n",
       "      <td>67.613182</td>\n",
       "      <td>53.529556</td>\n",
       "      <td>68096.959486</td>\n",
       "      <td>3.191344</td>\n",
       "      <td>22.561030</td>\n",
       "    </tr>\n",
       "    <tr>\n",
       "      <th>18959</th>\n",
       "      <td>USA</td>\n",
       "      <td>United States</td>\n",
       "      <td>2016</td>\n",
       "      <td>53015.0</td>\n",
       "      <td>53015.0</td>\n",
       "      <td>324.656</td>\n",
       "      <td>Extrapolated</td>\n",
       "      <td>NaN</td>\n",
       "      <td>152.632553</td>\n",
       "      <td>47.013625</td>\n",
       "      <td>112765.183379</td>\n",
       "      <td>1.923189</td>\n",
       "      <td>37.437809</td>\n",
       "    </tr>\n",
       "  </tbody>\n",
       "</table>\n",
       "</div>"
      ],
      "text/plain": [
       "      countrycode         country  year   cgdppc  rgdpnapc      pop  \\\n",
       "5258          ESP           Spain  2016  31556.0   30110.0   47.024   \n",
       "6312          FRA          France  2016  38758.0   37124.0   66.957   \n",
       "6708          GBR  United Kingdom  2016  39162.0   37334.0   65.888   \n",
       "9486          JPN           Japan  2016  36452.0   37465.0  126.310   \n",
       "18959         USA   United States  2016  53015.0   53015.0  324.656   \n",
       "\n",
       "              i_cig i_bm         emp      E/pop  GDP per worker  \\\n",
       "5258   Extrapolated  NaN   18.699034  39.764873    79356.471829   \n",
       "6312   Extrapolated  NaN   27.622475  41.254051    93949.562339   \n",
       "6708   Extrapolated  NaN   31.683855  48.087444    81439.138368   \n",
       "9486   Extrapolated  NaN   67.613182  53.529556    68096.959486   \n",
       "18959  Extrapolated  NaN  152.632553  47.013625   112765.183379   \n",
       "\n",
       "       Avg. Growth (1960-2016)  Years to double  \n",
       "5258                  2.892477        24.892164  \n",
       "6312                  1.991589        36.152040  \n",
       "6708                  1.814868        39.672300  \n",
       "9486                  3.191344        22.561030  \n",
       "18959                 1.923189        37.437809  "
      ]
     },
     "execution_count": 38,
     "metadata": {},
     "output_type": "execute_result"
    }
   ],
   "source": [
    "high_table"
   ]
  },
  {
   "cell_type": "code",
   "execution_count": 39,
   "metadata": {},
   "outputs": [],
   "source": [
    "# select only certain variables (columns) and rename column names\n",
    "high_table = (high_table[['country','year','cgdppc','GDP per worker','E/pop','Avg. Growth (1960-2016)','Years to double']]\n",
    "             .rename(columns={'cgdppc':'GDP per capita',\n",
    "                             'country':'Country',\n",
    "                             'year':'Year'}).set_index(['Country','Year']))"
   ]
  },
  {
   "cell_type": "code",
   "execution_count": 40,
   "metadata": {},
   "outputs": [
    {
     "data": {
      "text/html": [
       "<div>\n",
       "<style scoped>\n",
       "    .dataframe tbody tr th:only-of-type {\n",
       "        vertical-align: middle;\n",
       "    }\n",
       "\n",
       "    .dataframe tbody tr th {\n",
       "        vertical-align: top;\n",
       "    }\n",
       "\n",
       "    .dataframe thead th {\n",
       "        text-align: right;\n",
       "    }\n",
       "</style>\n",
       "<table border=\"1\" class=\"dataframe\">\n",
       "  <thead>\n",
       "    <tr style=\"text-align: right;\">\n",
       "      <th></th>\n",
       "      <th></th>\n",
       "      <th>GDP per capita</th>\n",
       "      <th>GDP per worker</th>\n",
       "      <th>E/pop</th>\n",
       "      <th>Avg. Growth (1960-2016)</th>\n",
       "      <th>Years to double</th>\n",
       "    </tr>\n",
       "    <tr>\n",
       "      <th>Country</th>\n",
       "      <th>Year</th>\n",
       "      <th></th>\n",
       "      <th></th>\n",
       "      <th></th>\n",
       "      <th></th>\n",
       "      <th></th>\n",
       "    </tr>\n",
       "  </thead>\n",
       "  <tbody>\n",
       "    <tr>\n",
       "      <th>Spain</th>\n",
       "      <th>2016</th>\n",
       "      <td>31556.0</td>\n",
       "      <td>79356.5</td>\n",
       "      <td>39.8</td>\n",
       "      <td>2.9</td>\n",
       "      <td>24.9</td>\n",
       "    </tr>\n",
       "    <tr>\n",
       "      <th>France</th>\n",
       "      <th>2016</th>\n",
       "      <td>38758.0</td>\n",
       "      <td>93949.6</td>\n",
       "      <td>41.3</td>\n",
       "      <td>2.0</td>\n",
       "      <td>36.2</td>\n",
       "    </tr>\n",
       "    <tr>\n",
       "      <th>United Kingdom</th>\n",
       "      <th>2016</th>\n",
       "      <td>39162.0</td>\n",
       "      <td>81439.1</td>\n",
       "      <td>48.1</td>\n",
       "      <td>1.8</td>\n",
       "      <td>39.7</td>\n",
       "    </tr>\n",
       "    <tr>\n",
       "      <th>Japan</th>\n",
       "      <th>2016</th>\n",
       "      <td>36452.0</td>\n",
       "      <td>68097.0</td>\n",
       "      <td>53.5</td>\n",
       "      <td>3.2</td>\n",
       "      <td>22.6</td>\n",
       "    </tr>\n",
       "    <tr>\n",
       "      <th>United States</th>\n",
       "      <th>2016</th>\n",
       "      <td>53015.0</td>\n",
       "      <td>112765.2</td>\n",
       "      <td>47.0</td>\n",
       "      <td>1.9</td>\n",
       "      <td>37.4</td>\n",
       "    </tr>\n",
       "  </tbody>\n",
       "</table>\n",
       "</div>"
      ],
      "text/plain": [
       "                     GDP per capita  GDP per worker  E/pop  \\\n",
       "Country        Year                                          \n",
       "Spain          2016         31556.0         79356.5   39.8   \n",
       "France         2016         38758.0         93949.6   41.3   \n",
       "United Kingdom 2016         39162.0         81439.1   48.1   \n",
       "Japan          2016         36452.0         68097.0   53.5   \n",
       "United States  2016         53015.0        112765.2   47.0   \n",
       "\n",
       "                     Avg. Growth (1960-2016)  Years to double  \n",
       "Country        Year                                            \n",
       "Spain          2016                      2.9             24.9  \n",
       "France         2016                      2.0             36.2  \n",
       "United Kingdom 2016                      1.8             39.7  \n",
       "Japan          2016                      3.2             22.6  \n",
       "United States  2016                      1.9             37.4  "
      ]
     },
     "execution_count": 40,
     "metadata": {},
     "output_type": "execute_result"
    }
   ],
   "source": [
    "high_table.round(decimals=1)"
   ]
  },
  {
   "cell_type": "code",
   "execution_count": 41,
   "metadata": {},
   "outputs": [
    {
     "name": "stdout",
     "output_type": "stream",
     "text": [
      "| Country        |   Year |   GDP per capita |   GDP per worker |   E/pop |   Avg. Growth (1960-2016) |   Years to double |\n",
      "|:---------------|-------:|-----------------:|-----------------:|--------:|--------------------------:|------------------:|\n",
      "| Spain          |   2016 |            31556 |          79356.5 |    39.8 |                       2.9 |              24.9 |\n",
      "| France         |   2016 |            38758 |          93949.6 |    41.3 |                       2   |              36.2 |\n",
      "| United Kingdom |   2016 |            39162 |          81439.1 |    48.1 |                       1.8 |              39.7 |\n",
      "| Japan          |   2016 |            36452 |          68097   |    53.5 |                       3.2 |              22.6 |\n",
      "| United States  |   2016 |            53015 |         112765   |    47   |                       1.9 |              37.4 |\n"
     ]
    }
   ],
   "source": [
    "print(tabulate(high_table.round(decimals=1).reset_index(), tablefmt=\"pipe\", \n",
    "               showindex=False,headers=\"keys\"))"
   ]
  },
  {
   "cell_type": "code",
   "execution_count": 42,
   "metadata": {},
   "outputs": [],
   "source": [
    "# select low income countries\n",
    "low_countries = ['IND','NGA','UGA']"
   ]
  },
  {
   "cell_type": "code",
   "execution_count": 43,
   "metadata": {},
   "outputs": [],
   "source": [
    "# create a table of low income countries in year 2016\n",
    "low_table = df[(df.countrycode.isin(low_countries))&(df.year==2016)]"
   ]
  },
  {
   "cell_type": "code",
   "execution_count": 44,
   "metadata": {},
   "outputs": [],
   "source": [
    "# rename columns\n",
    "low_table = (low_table[['country','year','cgdppc','GDP per worker','E/pop','Avg. Growth (1960-2016)','Years to double']]\n",
    "             .rename(columns={'cgdppc':'GDP per capita',\n",
    "                             'country':'Country',\n",
    "                             'year':'Year'}).set_index(['Country','Year']))"
   ]
  },
  {
   "cell_type": "code",
   "execution_count": 45,
   "metadata": {},
   "outputs": [
    {
     "data": {
      "text/html": [
       "<div>\n",
       "<style scoped>\n",
       "    .dataframe tbody tr th:only-of-type {\n",
       "        vertical-align: middle;\n",
       "    }\n",
       "\n",
       "    .dataframe tbody tr th {\n",
       "        vertical-align: top;\n",
       "    }\n",
       "\n",
       "    .dataframe thead th {\n",
       "        text-align: right;\n",
       "    }\n",
       "</style>\n",
       "<table border=\"1\" class=\"dataframe\">\n",
       "  <thead>\n",
       "    <tr style=\"text-align: right;\">\n",
       "      <th></th>\n",
       "      <th></th>\n",
       "      <th>GDP per capita</th>\n",
       "      <th>GDP per worker</th>\n",
       "      <th>E/pop</th>\n",
       "      <th>Avg. Growth (1960-2016)</th>\n",
       "      <th>Years to double</th>\n",
       "    </tr>\n",
       "    <tr>\n",
       "      <th>Country</th>\n",
       "      <th>Year</th>\n",
       "      <th></th>\n",
       "      <th></th>\n",
       "      <th></th>\n",
       "      <th></th>\n",
       "      <th></th>\n",
       "    </tr>\n",
       "  </thead>\n",
       "  <tbody>\n",
       "    <tr>\n",
       "      <th>India</th>\n",
       "      <th>2016</th>\n",
       "      <td>5961.0</td>\n",
       "      <td>14248.7</td>\n",
       "      <td>41.8</td>\n",
       "      <td>3.2</td>\n",
       "      <td>22.3</td>\n",
       "    </tr>\n",
       "    <tr>\n",
       "      <th>Nigeria</th>\n",
       "      <th>2016</th>\n",
       "      <td>5323.0</td>\n",
       "      <td>15641.8</td>\n",
       "      <td>34.0</td>\n",
       "      <td>1.6</td>\n",
       "      <td>43.8</td>\n",
       "    </tr>\n",
       "    <tr>\n",
       "      <th>Uganda</th>\n",
       "      <th>2016</th>\n",
       "      <td>1909.0</td>\n",
       "      <td>5036.0</td>\n",
       "      <td>37.9</td>\n",
       "      <td>1.0</td>\n",
       "      <td>69.3</td>\n",
       "    </tr>\n",
       "  </tbody>\n",
       "</table>\n",
       "</div>"
      ],
      "text/plain": [
       "              GDP per capita  GDP per worker  E/pop  Avg. Growth (1960-2016)  \\\n",
       "Country Year                                                                   \n",
       "India   2016          5961.0         14248.7   41.8                      3.2   \n",
       "Nigeria 2016          5323.0         15641.8   34.0                      1.6   \n",
       "Uganda  2016          1909.0          5036.0   37.9                      1.0   \n",
       "\n",
       "              Years to double  \n",
       "Country Year                   \n",
       "India   2016             22.3  \n",
       "Nigeria 2016             43.8  \n",
       "Uganda  2016             69.3  "
      ]
     },
     "execution_count": 45,
     "metadata": {},
     "output_type": "execute_result"
    }
   ],
   "source": [
    "# Here is the table\n",
    "low_table.round(decimals=1)"
   ]
  },
  {
   "cell_type": "code",
   "execution_count": 46,
   "metadata": {},
   "outputs": [],
   "source": [
    "# Uncomment if you want the above table printed as markdown table\n",
    "# print(tabulate(low_table.round(decimals=1).reset_index(), tablefmt=\"pipe\", \n",
    "#                showindex=False,headers=\"keys\"))"
   ]
  },
  {
   "cell_type": "markdown",
   "metadata": {},
   "source": [
    "### Fact 2: There is substantial variation in the rates of economic growth across countries."
   ]
  },
  {
   "cell_type": "code",
   "execution_count": 47,
   "metadata": {
    "scrolled": false
   },
   "outputs": [
    {
     "data": {
      "image/png": "[encoded data removed]",
      "text/plain": [
       "<Figure size 576x432 with 1 Axes>"
      ]
     },
     "metadata": {},
     "output_type": "display_data"
    }
   ],
   "source": [
    "# Plot a histogram of average growth rates from 1960 to 2016\n",
    "fig,ax=plt.subplots(figsize=(8,6))\n",
    "df_ = df[df.year==2016]['Avg. Growth (1960-2016)'].dropna()\n",
    "bins = np.append(np.arange(-2,6,0.5),[6])\n",
    "sns.distplot(df_,bins=bins,\n",
    "             ax=ax,color='purple',hist_kws={\"rwidth\":0.9,'alpha':0.6},kde=False)\n",
    "ax.set_xlabel('Growth Rate, %')\n",
    "ax.set_ylabel('Count')\n",
    "ax.set_ylim(ymin=-1,ymax=37)\n",
    "ax.text(-2,-9,'Source: Maddison Project Database (MPD) 2018')\n",
    "plt.savefig('../files/growth-histogram.svg',bbox_inches='tight')"
   ]
  },
  {
   "cell_type": "code",
   "execution_count": 48,
   "metadata": {},
   "outputs": [],
   "source": [
    "# Summary statistics of average growth rates\n",
    "desc_2 = df[df.year==2016]['Avg. Growth (1960-2016)'].describe().round(decimals=2).reset_index()\n",
    "desc_2.rename(columns={'index':'Statistic','cgdppc':'GDP per capita'},inplace=True)"
   ]
  },
  {
   "cell_type": "code",
   "execution_count": 49,
   "metadata": {},
   "outputs": [
    {
     "data": {
      "text/html": [
       "<div>\n",
       "<style scoped>\n",
       "    .dataframe tbody tr th:only-of-type {\n",
       "        vertical-align: middle;\n",
       "    }\n",
       "\n",
       "    .dataframe tbody tr th {\n",
       "        vertical-align: top;\n",
       "    }\n",
       "\n",
       "    .dataframe thead th {\n",
       "        text-align: right;\n",
       "    }\n",
       "</style>\n",
       "<table border=\"1\" class=\"dataframe\">\n",
       "  <thead>\n",
       "    <tr style=\"text-align: right;\">\n",
       "      <th></th>\n",
       "      <th>Statistic</th>\n",
       "      <th>Avg. Growth (1960-2016)</th>\n",
       "    </tr>\n",
       "  </thead>\n",
       "  <tbody>\n",
       "    <tr>\n",
       "      <th>0</th>\n",
       "      <td>count</td>\n",
       "      <td>144.00</td>\n",
       "    </tr>\n",
       "    <tr>\n",
       "      <th>1</th>\n",
       "      <td>mean</td>\n",
       "      <td>1.90</td>\n",
       "    </tr>\n",
       "    <tr>\n",
       "      <th>2</th>\n",
       "      <td>std</td>\n",
       "      <td>1.34</td>\n",
       "    </tr>\n",
       "    <tr>\n",
       "      <th>3</th>\n",
       "      <td>min</td>\n",
       "      <td>-1.73</td>\n",
       "    </tr>\n",
       "    <tr>\n",
       "      <th>4</th>\n",
       "      <td>25%</td>\n",
       "      <td>1.12</td>\n",
       "    </tr>\n",
       "    <tr>\n",
       "      <th>5</th>\n",
       "      <td>50%</td>\n",
       "      <td>1.89</td>\n",
       "    </tr>\n",
       "    <tr>\n",
       "      <th>6</th>\n",
       "      <td>75%</td>\n",
       "      <td>2.66</td>\n",
       "    </tr>\n",
       "    <tr>\n",
       "      <th>7</th>\n",
       "      <td>max</td>\n",
       "      <td>5.89</td>\n",
       "    </tr>\n",
       "  </tbody>\n",
       "</table>\n",
       "</div>"
      ],
      "text/plain": [
       "  Statistic  Avg. Growth (1960-2016)\n",
       "0     count                   144.00\n",
       "1      mean                     1.90\n",
       "2       std                     1.34\n",
       "3       min                    -1.73\n",
       "4       25%                     1.12\n",
       "5       50%                     1.89\n",
       "6       75%                     2.66\n",
       "7       max                     5.89"
      ]
     },
     "execution_count": 49,
     "metadata": {},
     "output_type": "execute_result"
    }
   ],
   "source": [
    "desc_2"
   ]
  },
  {
   "cell_type": "code",
   "execution_count": 50,
   "metadata": {},
   "outputs": [],
   "source": [
    "# print(tabulate(desc_2, tablefmt=\"pipe\", \n",
    "#                showindex=False,headers=\"keys\"))"
   ]
  },
  {
   "cell_type": "code",
   "execution_count": 51,
   "metadata": {},
   "outputs": [],
   "source": [
    "# Example of countries with high growth rates\n",
    "miracles = ['HKG','SGP','TWN','KOR']"
   ]
  },
  {
   "cell_type": "code",
   "execution_count": 52,
   "metadata": {},
   "outputs": [],
   "source": [
    "# create a table of growth miracles in 2016\n",
    "miracles_table = df[(df.countrycode.isin(miracles))&(df.year==2016)]\n",
    "miracles_table = (miracles_table[['country','year','cgdppc','GDP per worker','E/pop','Avg. Growth (1960-2016)','Years to double']]\n",
    "             .rename(columns={'cgdppc':'GDP per capita',\n",
    "                             'country':'Country',\n",
    "                             'year':'Year'}).set_index(['Country','Year']))"
   ]
  },
  {
   "cell_type": "code",
   "execution_count": 53,
   "metadata": {},
   "outputs": [
    {
     "data": {
      "text/html": [
       "<div>\n",
       "<style scoped>\n",
       "    .dataframe tbody tr th:only-of-type {\n",
       "        vertical-align: middle;\n",
       "    }\n",
       "\n",
       "    .dataframe tbody tr th {\n",
       "        vertical-align: top;\n",
       "    }\n",
       "\n",
       "    .dataframe thead th {\n",
       "        text-align: right;\n",
       "    }\n",
       "</style>\n",
       "<table border=\"1\" class=\"dataframe\">\n",
       "  <thead>\n",
       "    <tr style=\"text-align: right;\">\n",
       "      <th></th>\n",
       "      <th></th>\n",
       "      <th>GDP per capita</th>\n",
       "      <th>GDP per worker</th>\n",
       "      <th>E/pop</th>\n",
       "      <th>Avg. Growth (1960-2016)</th>\n",
       "      <th>Years to double</th>\n",
       "    </tr>\n",
       "    <tr>\n",
       "      <th>Country</th>\n",
       "      <th>Year</th>\n",
       "      <th></th>\n",
       "      <th></th>\n",
       "      <th></th>\n",
       "      <th></th>\n",
       "      <th></th>\n",
       "    </tr>\n",
       "  </thead>\n",
       "  <tbody>\n",
       "    <tr>\n",
       "      <th>China, Hong Kong SAR</th>\n",
       "      <th>2016</th>\n",
       "      <td>47043.0</td>\n",
       "      <td>89121.0</td>\n",
       "      <td>52.8</td>\n",
       "      <td>4.3</td>\n",
       "      <td>16.7</td>\n",
       "    </tr>\n",
       "    <tr>\n",
       "      <th>Republic of Korea</th>\n",
       "      <th>2016</th>\n",
       "      <td>36151.0</td>\n",
       "      <td>71246.1</td>\n",
       "      <td>50.7</td>\n",
       "      <td>5.5</td>\n",
       "      <td>13.2</td>\n",
       "    </tr>\n",
       "    <tr>\n",
       "      <th>Singapore</th>\n",
       "      <th>2016</th>\n",
       "      <td>67180.0</td>\n",
       "      <td>108866.5</td>\n",
       "      <td>61.7</td>\n",
       "      <td>4.8</td>\n",
       "      <td>14.9</td>\n",
       "    </tr>\n",
       "    <tr>\n",
       "      <th>Taiwan, Province of China</th>\n",
       "      <th>2016</th>\n",
       "      <td>42304.0</td>\n",
       "      <td>84298.5</td>\n",
       "      <td>50.2</td>\n",
       "      <td>5.4</td>\n",
       "      <td>13.2</td>\n",
       "    </tr>\n",
       "  </tbody>\n",
       "</table>\n",
       "</div>"
      ],
      "text/plain": [
       "                                GDP per capita  GDP per worker  E/pop  \\\n",
       "Country                   Year                                          \n",
       "China, Hong Kong SAR      2016         47043.0         89121.0   52.8   \n",
       "Republic of Korea         2016         36151.0         71246.1   50.7   \n",
       "Singapore                 2016         67180.0        108866.5   61.7   \n",
       "Taiwan, Province of China 2016         42304.0         84298.5   50.2   \n",
       "\n",
       "                                Avg. Growth (1960-2016)  Years to double  \n",
       "Country                   Year                                            \n",
       "China, Hong Kong SAR      2016                      4.3             16.7  \n",
       "Republic of Korea         2016                      5.5             13.2  \n",
       "Singapore                 2016                      4.8             14.9  \n",
       "Taiwan, Province of China 2016                      5.4             13.2  "
      ]
     },
     "execution_count": 53,
     "metadata": {},
     "output_type": "execute_result"
    }
   ],
   "source": [
    "miracles_table.round(decimals=1)"
   ]
  },
  {
   "cell_type": "code",
   "execution_count": 54,
   "metadata": {},
   "outputs": [],
   "source": [
    "# print(tabulate(miracles_table.round(decimals=1).reset_index(), tablefmt=\"pipe\", \n",
    "#                showindex=False,headers=\"keys\"))"
   ]
  },
  {
   "cell_type": "code",
   "execution_count": 55,
   "metadata": {},
   "outputs": [],
   "source": [
    "# Examples of countries with low average growth rates, growth disasters\n",
    "disasters = ['CAF','VEN','HTI','MDG','ZWE']"
   ]
  },
  {
   "cell_type": "code",
   "execution_count": 56,
   "metadata": {},
   "outputs": [],
   "source": [
    "# Create a table of growth disasters\n",
    "disasters_table = df[(df.countrycode.isin(disasters))&(df.year==2016)]\n",
    "disasters_table = (disasters_table[['country','year','cgdppc','GDP per worker','E/pop','Avg. Growth (1960-2016)','Years to double']]\n",
    "             .rename(columns={'cgdppc':'GDP per capita',\n",
    "                             'country':'Country',\n",
    "                             'year':'Year'}).set_index(['Country','Year']))"
   ]
  },
  {
   "cell_type": "code",
   "execution_count": 57,
   "metadata": {},
   "outputs": [
    {
     "data": {
      "text/html": [
       "<div>\n",
       "<style scoped>\n",
       "    .dataframe tbody tr th:only-of-type {\n",
       "        vertical-align: middle;\n",
       "    }\n",
       "\n",
       "    .dataframe tbody tr th {\n",
       "        vertical-align: top;\n",
       "    }\n",
       "\n",
       "    .dataframe thead th {\n",
       "        text-align: right;\n",
       "    }\n",
       "</style>\n",
       "<table border=\"1\" class=\"dataframe\">\n",
       "  <thead>\n",
       "    <tr style=\"text-align: right;\">\n",
       "      <th></th>\n",
       "      <th></th>\n",
       "      <th>GDP per capita</th>\n",
       "      <th>GDP per worker</th>\n",
       "      <th>E/pop</th>\n",
       "      <th>Avg. Growth (1960-2016)</th>\n",
       "      <th>Years to double</th>\n",
       "    </tr>\n",
       "    <tr>\n",
       "      <th>Country</th>\n",
       "      <th>Year</th>\n",
       "      <th></th>\n",
       "      <th></th>\n",
       "      <th></th>\n",
       "      <th></th>\n",
       "      <th></th>\n",
       "    </tr>\n",
       "  </thead>\n",
       "  <tbody>\n",
       "    <tr>\n",
       "      <th>Central African Republic</th>\n",
       "      <th>2016</th>\n",
       "      <td>619.0</td>\n",
       "      <td>1958.0</td>\n",
       "      <td>31.6</td>\n",
       "      <td>-1.7</td>\n",
       "      <td>-41.5</td>\n",
       "    </tr>\n",
       "    <tr>\n",
       "      <th>Haiti</th>\n",
       "      <th>2016</th>\n",
       "      <td>1636.0</td>\n",
       "      <td>4066.2</td>\n",
       "      <td>40.2</td>\n",
       "      <td>-0.7</td>\n",
       "      <td>-107.8</td>\n",
       "    </tr>\n",
       "    <tr>\n",
       "      <th>Madagascar</th>\n",
       "      <th>2016</th>\n",
       "      <td>1307.0</td>\n",
       "      <td>2528.6</td>\n",
       "      <td>51.7</td>\n",
       "      <td>-0.9</td>\n",
       "      <td>-80.8</td>\n",
       "    </tr>\n",
       "    <tr>\n",
       "      <th>Venezuela (Bolivarian Republic of)</th>\n",
       "      <th>2016</th>\n",
       "      <td>13159.0</td>\n",
       "      <td>28878.4</td>\n",
       "      <td>45.6</td>\n",
       "      <td>0.2</td>\n",
       "      <td>375.1</td>\n",
       "    </tr>\n",
       "    <tr>\n",
       "      <th>Zimbabwe</th>\n",
       "      <th>2016</th>\n",
       "      <td>1729.0</td>\n",
       "      <td>2845.4</td>\n",
       "      <td>60.8</td>\n",
       "      <td>-0.0</td>\n",
       "      <td>-6205.2</td>\n",
       "    </tr>\n",
       "  </tbody>\n",
       "</table>\n",
       "</div>"
      ],
      "text/plain": [
       "                                         GDP per capita  GDP per worker  \\\n",
       "Country                            Year                                   \n",
       "Central African Republic           2016           619.0          1958.0   \n",
       "Haiti                              2016          1636.0          4066.2   \n",
       "Madagascar                         2016          1307.0          2528.6   \n",
       "Venezuela (Bolivarian Republic of) 2016         13159.0         28878.4   \n",
       "Zimbabwe                           2016          1729.0          2845.4   \n",
       "\n",
       "                                         E/pop  Avg. Growth (1960-2016)  \\\n",
       "Country                            Year                                   \n",
       "Central African Republic           2016   31.6                     -1.7   \n",
       "Haiti                              2016   40.2                     -0.7   \n",
       "Madagascar                         2016   51.7                     -0.9   \n",
       "Venezuela (Bolivarian Republic of) 2016   45.6                      0.2   \n",
       "Zimbabwe                           2016   60.8                     -0.0   \n",
       "\n",
       "                                         Years to double  \n",
       "Country                            Year                   \n",
       "Central African Republic           2016            -41.5  \n",
       "Haiti                              2016           -107.8  \n",
       "Madagascar                         2016            -80.8  \n",
       "Venezuela (Bolivarian Republic of) 2016            375.1  \n",
       "Zimbabwe                           2016          -6205.2  "
      ]
     },
     "execution_count": 57,
     "metadata": {},
     "output_type": "execute_result"
    }
   ],
   "source": [
    "disasters_table.round(decimals=1)"
   ]
  },
  {
   "cell_type": "code",
   "execution_count": 58,
   "metadata": {},
   "outputs": [],
   "source": [
    "# print(tabulate(disasters_table.round(decimals=1).reset_index(), tablefmt=\"pipe\", \n",
    "#                showindex=False,headers=\"keys\"))"
   ]
  },
  {
   "cell_type": "markdown",
   "metadata": {},
   "source": [
    "### Fact 3: Growth rates are not usually constant over time"
   ]
  },
  {
   "cell_type": "code",
   "execution_count": 59,
   "metadata": {},
   "outputs": [],
   "source": [
    "df_ = df[df.countrycode=='GBR']"
   ]
  },
  {
   "cell_type": "code",
   "execution_count": 60,
   "metadata": {},
   "outputs": [],
   "source": [
    "# A function to calculate annual and 10 year rolling window average growh rates\n",
    "def ave_growth(group):\n",
    "    x = np.log(group.rgdpnapc.iloc[1:].values)-np.log(group.rgdpnapc.iloc[:-1].values)\n",
    "    y = group.year.iloc[1:].values-group.year.iloc[:-1].values\n",
    "    growth = x/y\n",
    "    years = group.year.iloc[1:].values\n",
    "    data = pd.DataFrame(data={'Year':years,'Growth Rate':growth})\n",
    "    ave_growth_ = []\n",
    "    for year in years:\n",
    "        data_ = data[(data.Year > year-10) & ((data.Year) <= year)].copy()\n",
    "        ave_growth_ += [data_['Growth Rate'].mean()]\n",
    "    data2 = pd.DataFrame(data={'Year':years,'Ave Growth Rate':ave_growth_})\n",
    "    data = data.merge(data2,on='Year',how='left')\n",
    "    return data"
   ]
  },
  {
   "cell_type": "code",
   "execution_count": 61,
   "metadata": {},
   "outputs": [],
   "source": [
    "# Calculate growth rates \n",
    "growth_rates = df.groupby(['countrycode','country']).apply(ave_growth)\n",
    "growth_rates = (growth_rates.reset_index(level=2,drop=True).reset_index().\n",
    "                set_index(['countrycode','Year']))"
   ]
  },
  {
   "cell_type": "code",
   "execution_count": 62,
   "metadata": {},
   "outputs": [
    {
     "data": {
      "image/png": "[encoded data removed]",
      "text/plain": [
       "<Figure size 432x288 with 1 Axes>"
      ]
     },
     "metadata": {},
     "output_type": "display_data"
    }
   ],
   "source": [
    "plt.plot(growth_rates.xs('CHN').loc[1960:]['Ave Growth Rate'],label='China')\n",
    "plt.annotate('China',(2001,0.08),color=colors[1][0],fontsize=16)\n",
    "plt.plot(growth_rates.xs('IND').loc[1960:]['Ave Growth Rate'],label='India')\n",
    "plt.annotate('India',(2001,0.032),color=colors[1][1],fontsize=16)\n",
    "plt.xlabel('Year')\n",
    "plt.ylabel('Growth rate, 10-year average')\n",
    "plt.text(1960,-0.04,'Source: Maddison Project Database (MPD) 2018')\n",
    "plt.savefig('../files/china-india.svg',bbox_inches='tight')"
   ]
  },
  {
   "cell_type": "markdown",
   "metadata": {},
   "source": [
    "### Fact 4: A country's relative position in the relative income rank may change over time"
   ]
  },
  {
   "cell_type": "code",
   "execution_count": 63,
   "metadata": {},
   "outputs": [
    {
     "data": {
      "text/html": [
       "<div>\n",
       "<style scoped>\n",
       "    .dataframe tbody tr th:only-of-type {\n",
       "        vertical-align: middle;\n",
       "    }\n",
       "\n",
       "    .dataframe tbody tr th {\n",
       "        vertical-align: top;\n",
       "    }\n",
       "\n",
       "    .dataframe thead th {\n",
       "        text-align: right;\n",
       "    }\n",
       "</style>\n",
       "<table border=\"1\" class=\"dataframe\">\n",
       "  <thead>\n",
       "    <tr style=\"text-align: right;\">\n",
       "      <th></th>\n",
       "      <th></th>\n",
       "      <th>country</th>\n",
       "      <th>cgdppc</th>\n",
       "      <th>rgdpnapc</th>\n",
       "      <th>pop</th>\n",
       "      <th>i_cig</th>\n",
       "      <th>i_bm</th>\n",
       "      <th>emp</th>\n",
       "      <th>E/pop</th>\n",
       "      <th>GDP per worker</th>\n",
       "      <th>Avg. Growth (1960-2016)</th>\n",
       "      <th>Years to double</th>\n",
       "    </tr>\n",
       "    <tr>\n",
       "      <th>countrycode</th>\n",
       "      <th>year</th>\n",
       "      <th></th>\n",
       "      <th></th>\n",
       "      <th></th>\n",
       "      <th></th>\n",
       "      <th></th>\n",
       "      <th></th>\n",
       "      <th></th>\n",
       "      <th></th>\n",
       "      <th></th>\n",
       "      <th></th>\n",
       "      <th></th>\n",
       "    </tr>\n",
       "  </thead>\n",
       "  <tbody>\n",
       "    <tr>\n",
       "      <th rowspan=\"2\" valign=\"top\">ARG</th>\n",
       "      <th>1870</th>\n",
       "      <td>Argentina</td>\n",
       "      <td>2514.0</td>\n",
       "      <td>2578.0</td>\n",
       "      <td>1.796</td>\n",
       "      <td>Extrapolated</td>\n",
       "      <td>NaN</td>\n",
       "      <td>NaN</td>\n",
       "      <td>NaN</td>\n",
       "      <td>NaN</td>\n",
       "      <td>1.176846</td>\n",
       "      <td>61.180480</td>\n",
       "    </tr>\n",
       "    <tr>\n",
       "      <th>2016</th>\n",
       "      <td>Argentina</td>\n",
       "      <td>18695.0</td>\n",
       "      <td>18875.0</td>\n",
       "      <td>43.887</td>\n",
       "      <td>Extrapolated</td>\n",
       "      <td>NaN</td>\n",
       "      <td>19.683954</td>\n",
       "      <td>44.851446</td>\n",
       "      <td>41682.044931</td>\n",
       "      <td>1.176846</td>\n",
       "      <td>61.180480</td>\n",
       "    </tr>\n",
       "    <tr>\n",
       "      <th rowspan=\"2\" valign=\"top\">GBR</th>\n",
       "      <th>1870</th>\n",
       "      <td>United Kingdom</td>\n",
       "      <td>3846.0</td>\n",
       "      <td>5716.0</td>\n",
       "      <td>31.400</td>\n",
       "      <td>Extrapolated</td>\n",
       "      <td>NaN</td>\n",
       "      <td>NaN</td>\n",
       "      <td>NaN</td>\n",
       "      <td>NaN</td>\n",
       "      <td>1.814868</td>\n",
       "      <td>39.672300</td>\n",
       "    </tr>\n",
       "    <tr>\n",
       "      <th>2016</th>\n",
       "      <td>United Kingdom</td>\n",
       "      <td>39162.0</td>\n",
       "      <td>37334.0</td>\n",
       "      <td>65.888</td>\n",
       "      <td>Extrapolated</td>\n",
       "      <td>NaN</td>\n",
       "      <td>31.683855</td>\n",
       "      <td>48.087444</td>\n",
       "      <td>81439.138368</td>\n",
       "      <td>1.814868</td>\n",
       "      <td>39.672300</td>\n",
       "    </tr>\n",
       "    <tr>\n",
       "      <th rowspan=\"2\" valign=\"top\">HTI</th>\n",
       "      <th>1870</th>\n",
       "      <td>Haiti</td>\n",
       "      <td>NaN</td>\n",
       "      <td>NaN</td>\n",
       "      <td>1.150</td>\n",
       "      <td>NaN</td>\n",
       "      <td>NaN</td>\n",
       "      <td>NaN</td>\n",
       "      <td>NaN</td>\n",
       "      <td>NaN</td>\n",
       "      <td>-0.668062</td>\n",
       "      <td>-107.774469</td>\n",
       "    </tr>\n",
       "    <tr>\n",
       "      <th>2016</th>\n",
       "      <td>Haiti</td>\n",
       "      <td>1636.0</td>\n",
       "      <td>1728.0</td>\n",
       "      <td>10.486</td>\n",
       "      <td>Extrapolated</td>\n",
       "      <td>NaN</td>\n",
       "      <td>4.219000</td>\n",
       "      <td>40.234597</td>\n",
       "      <td>4066.152301</td>\n",
       "      <td>-0.668062</td>\n",
       "      <td>-107.774469</td>\n",
       "    </tr>\n",
       "    <tr>\n",
       "      <th rowspan=\"2\" valign=\"top\">USA</th>\n",
       "      <th>1870</th>\n",
       "      <td>United States</td>\n",
       "      <td>3736.0</td>\n",
       "      <td>3736.0</td>\n",
       "      <td>40.241</td>\n",
       "      <td>Extrapolated</td>\n",
       "      <td>NaN</td>\n",
       "      <td>NaN</td>\n",
       "      <td>NaN</td>\n",
       "      <td>NaN</td>\n",
       "      <td>1.923189</td>\n",
       "      <td>37.437809</td>\n",
       "    </tr>\n",
       "    <tr>\n",
       "      <th>2016</th>\n",
       "      <td>United States</td>\n",
       "      <td>53015.0</td>\n",
       "      <td>53015.0</td>\n",
       "      <td>324.656</td>\n",
       "      <td>Extrapolated</td>\n",
       "      <td>NaN</td>\n",
       "      <td>152.632553</td>\n",
       "      <td>47.013625</td>\n",
       "      <td>112765.183379</td>\n",
       "      <td>1.923189</td>\n",
       "      <td>37.437809</td>\n",
       "    </tr>\n",
       "  </tbody>\n",
       "</table>\n",
       "</div>"
      ],
      "text/plain": [
       "                         country   cgdppc  rgdpnapc      pop         i_cig  \\\n",
       "countrycode year                                                             \n",
       "ARG         1870       Argentina   2514.0    2578.0    1.796  Extrapolated   \n",
       "            2016       Argentina  18695.0   18875.0   43.887  Extrapolated   \n",
       "GBR         1870  United Kingdom   3846.0    5716.0   31.400  Extrapolated   \n",
       "            2016  United Kingdom  39162.0   37334.0   65.888  Extrapolated   \n",
       "HTI         1870           Haiti      NaN       NaN    1.150           NaN   \n",
       "            2016           Haiti   1636.0    1728.0   10.486  Extrapolated   \n",
       "USA         1870   United States   3736.0    3736.0   40.241  Extrapolated   \n",
       "            2016   United States  53015.0   53015.0  324.656  Extrapolated   \n",
       "\n",
       "                 i_bm         emp      E/pop  GDP per worker  \\\n",
       "countrycode year                                               \n",
       "ARG         1870  NaN         NaN        NaN             NaN   \n",
       "            2016  NaN   19.683954  44.851446    41682.044931   \n",
       "GBR         1870  NaN         NaN        NaN             NaN   \n",
       "            2016  NaN   31.683855  48.087444    81439.138368   \n",
       "HTI         1870  NaN         NaN        NaN             NaN   \n",
       "            2016  NaN    4.219000  40.234597     4066.152301   \n",
       "USA         1870  NaN         NaN        NaN             NaN   \n",
       "            2016  NaN  152.632553  47.013625   112765.183379   \n",
       "\n",
       "                  Avg. Growth (1960-2016)  Years to double  \n",
       "countrycode year                                            \n",
       "ARG         1870                 1.176846        61.180480  \n",
       "            2016                 1.176846        61.180480  \n",
       "GBR         1870                 1.814868        39.672300  \n",
       "            2016                 1.814868        39.672300  \n",
       "HTI         1870                -0.668062      -107.774469  \n",
       "            2016                -0.668062      -107.774469  \n",
       "USA         1870                 1.923189        37.437809  \n",
       "            2016                 1.923189        37.437809  "
      ]
     },
     "execution_count": 63,
     "metadata": {},
     "output_type": "execute_result"
    }
   ],
   "source": [
    "df_ = df[df.countrycode.isin(['USA','GBR','ARG','HTI']) & (df.year.isin([1870,2016]))\n",
    "        ].set_index(['countrycode','year'])\n",
    "df_"
   ]
  },
  {
   "cell_type": "code",
   "execution_count": 64,
   "metadata": {},
   "outputs": [
    {
     "name": "stdout",
     "output_type": "stream",
     "text": [
      "In 1870 the UK was 3% richer than the US\n"
     ]
    }
   ],
   "source": [
    "value = np.round((df_.xs(['GBR',1870]).cgdppc/\n",
    "                  df_.xs(['USA',1870]).cgdppc-1)*100,decimals=0).astype(int)\n",
    "print(f'In 1870 the UK was {value}% richer than the US')"
   ]
  },
  {
   "cell_type": "code",
   "execution_count": 65,
   "metadata": {},
   "outputs": [
    {
     "name": "stdout",
     "output_type": "stream",
     "text": [
      "In 2016 the UK was 26% poorer than the US\n"
     ]
    }
   ],
   "source": [
    "value = np.round((-df_.xs(['GBR',2016]).cgdppc/\n",
    "                  df_.xs(['USA',2016]).cgdppc+1)*100,decimals=0).astype(int)\n",
    "print(f'In 2016 the UK was {value}% poorer than the US')"
   ]
  },
  {
   "cell_type": "code",
   "execution_count": 66,
   "metadata": {},
   "outputs": [
    {
     "name": "stdout",
     "output_type": "stream",
     "text": [
      "In 2016 Argentina was 65% poorer than the US\n"
     ]
    }
   ],
   "source": [
    "value = np.round((-df_.xs(['ARG',2016]).cgdppc/\n",
    "                  df_.xs(['USA',2016]).cgdppc+1)*100,decimals=0).astype(int)\n",
    "print(f'In 2016 Argentina was {value}% poorer than the US')"
   ]
  },
  {
   "cell_type": "code",
   "execution_count": 67,
   "metadata": {},
   "outputs": [
    {
     "name": "stdout",
     "output_type": "stream",
     "text": [
      "In 2016 Argentina was 97% poorer than the US\n"
     ]
    }
   ],
   "source": [
    "value = np.round((-df_.xs(['HTI',2016]).cgdppc/\n",
    "                  df_.xs(['USA',2016]).cgdppc+1)*100,decimals=0).astype(int)\n",
    "print(f'In 2016 Argentina was {value}% poorer than the US')"
   ]
  },
  {
   "cell_type": "code",
   "execution_count": 68,
   "metadata": {},
   "outputs": [
    {
     "name": "stdout",
     "output_type": "stream",
     "text": [
      "The average growth rate of the UK from 1870 to 2016 is 1.3%\n"
     ]
    }
   ],
   "source": [
    "value = np.round((np.log(df_.xs(['GBR',2016]).rgdpnapc)-\n",
    "          np.log(df_.xs(['GBR',1870]).rgdpnapc))/(2016-1870)*100,decimals=1)\n",
    "print(f'The average growth rate of the UK from 1870 to 2016 is {value}%')"
   ]
  },
  {
   "cell_type": "code",
   "execution_count": 69,
   "metadata": {},
   "outputs": [
    {
     "name": "stdout",
     "output_type": "stream",
     "text": [
      "The average growth rate of the USA from 1870 to 2016 is 1.8%\n"
     ]
    }
   ],
   "source": [
    "value = np.round((np.log(df_.xs(['USA',2016]).rgdpnapc)-\n",
    "          np.log(df_.xs(['USA',1870]).rgdpnapc))/(2016-1870)*100,decimals=1)\n",
    "print(f'The average growth rate of the USA from 1870 to 2016 is {value}%')"
   ]
  },
  {
   "cell_type": "code",
   "execution_count": 70,
   "metadata": {},
   "outputs": [],
   "source": [
    "# Plot GDP per capita of these counties over time\n",
    "country_list = ['USA','GBR','JPN','KOR','ARG','HTI']\n",
    "\n",
    "groups = [0,2,4,5,6]\n",
    "\n",
    "color_codes = dict(zip(country_list,colors[3]))\n",
    "\n",
    "alphas = dict(zip(country_list,np.ones(len(country_list))))"
   ]
  },
  {
   "cell_type": "code",
   "execution_count": 71,
   "metadata": {
    "scrolled": true
   },
   "outputs": [
    {
     "data": {
      "image/png": "[encoded data removed]",
      "text/plain": [
       "<Figure size 576x432 with 1 Axes>"
      ]
     },
     "metadata": {},
     "output_type": "display_data"
    },
    {
     "data": {
      "image/png": "[encoded data removed]",
      "text/plain": [
       "<Figure size 576x432 with 1 Axes>"
      ]
     },
     "metadata": {},
     "output_type": "display_data"
    },
    {
     "data": {
      "image/png": "[encoded data removed]",
      "text/plain": [
       "<Figure size 576x432 with 1 Axes>"
      ]
     },
     "metadata": {},
     "output_type": "display_data"
    },
    {
     "data": {
      "image/png": "[encoded data removed]",
      "text/plain": [
       "<Figure size 576x432 with 1 Axes>"
      ]
     },
     "metadata": {},
     "output_type": "display_data"
    }
   ],
   "source": [
    "annotate={'USA':(1935,25000),\n",
    "         'GBR':(1910,4500),\n",
    "         'JPN':(1900,2200),\n",
    "         'KOR':(1982,5000),\n",
    "         'ARG':(2010,15000),\n",
    "         'HTI':(2010,1800)}\n",
    "ticks = np.array([.5,1,5,30,60],dtype=int)\n",
    "for group in groups[1:]:\n",
    "    fig,ax = plt.subplots(figsize=(8,6))\n",
    "    file_name = '../files/gdp-per-capita'\n",
    "    for country in country_list[:group]:\n",
    "        data = df[(df.countrycode==country) & (df.year>=1860)]\n",
    "        country_name = data.country.unique()[0]\n",
    "        ax.plot(data.year,data.cgdppc,color_codes[country],linewidth=3,alpha=alphas[country])\n",
    "        ax.set_yscale('log')\n",
    "        ax.set_yticks(ticks*1000)\n",
    "        ax.set_ylim(ymin=500,ymax=65000)\n",
    "        ax.set_xlim(xmax=2039)\n",
    "        ax.set_yticklabels((ticks))\n",
    "        ax.annotate(country_name,annotate[country],color=color_codes[country],alpha=alphas[country],fontsize=16)\n",
    "        ax.set_xlabel('Year')\n",
    "        ax.set_ylabel('GDP per capita in thousand 2011US$')\n",
    "        file_name += f'_{country}'\n",
    "        alphas[country]=.3\n",
    "    plt.savefig(file_name+'.svg',bbox_inches='tight')"
   ]
  },
  {
   "cell_type": "markdown",
   "metadata": {},
   "source": [
    "### Income per capita of the countries relative to the US"
   ]
  },
  {
   "cell_type": "code",
   "execution_count": 72,
   "metadata": {},
   "outputs": [],
   "source": [
    "# Focus on two years 1960 and 2016\n",
    "df_income = df[df.year.isin([1960,2016])][['country','countrycode','year','cgdppc']]\n",
    "\n",
    "# Transform the table such that incomes 1960 and 2016 are showns as columns\n",
    "df_income=df_income.pivot_table(index=['country','countrycode'],values='cgdppc',columns=['year'])\n",
    "\n",
    "# Drop missing observations\n",
    "df_income.dropna(inplace=True)"
   ]
  },
  {
   "cell_type": "code",
   "execution_count": 73,
   "metadata": {},
   "outputs": [
    {
     "data": {
      "text/html": [
       "<div>\n",
       "<style scoped>\n",
       "    .dataframe tbody tr th:only-of-type {\n",
       "        vertical-align: middle;\n",
       "    }\n",
       "\n",
       "    .dataframe tbody tr th {\n",
       "        vertical-align: top;\n",
       "    }\n",
       "\n",
       "    .dataframe thead th {\n",
       "        text-align: right;\n",
       "    }\n",
       "</style>\n",
       "<table border=\"1\" class=\"dataframe\">\n",
       "  <thead>\n",
       "    <tr style=\"text-align: right;\">\n",
       "      <th></th>\n",
       "      <th>year</th>\n",
       "      <th>1960</th>\n",
       "      <th>2016</th>\n",
       "    </tr>\n",
       "    <tr>\n",
       "      <th>country</th>\n",
       "      <th>countrycode</th>\n",
       "      <th></th>\n",
       "      <th></th>\n",
       "    </tr>\n",
       "  </thead>\n",
       "  <tbody>\n",
       "    <tr>\n",
       "      <th>Afghanistan</th>\n",
       "      <th>AFG</th>\n",
       "      <td>2744.0</td>\n",
       "      <td>1929.0</td>\n",
       "    </tr>\n",
       "    <tr>\n",
       "      <th>Albania</th>\n",
       "      <th>ALB</th>\n",
       "      <td>2142.0</td>\n",
       "      <td>11285.0</td>\n",
       "    </tr>\n",
       "    <tr>\n",
       "      <th>Argentina</th>\n",
       "      <th>ARG</th>\n",
       "      <td>8928.0</td>\n",
       "      <td>18695.0</td>\n",
       "    </tr>\n",
       "    <tr>\n",
       "      <th>Australia</th>\n",
       "      <th>AUS</th>\n",
       "      <td>15196.0</td>\n",
       "      <td>44783.0</td>\n",
       "    </tr>\n",
       "    <tr>\n",
       "      <th>Austria</th>\n",
       "      <th>AUT</th>\n",
       "      <td>8508.0</td>\n",
       "      <td>45010.0</td>\n",
       "    </tr>\n",
       "    <tr>\n",
       "      <th>...</th>\n",
       "      <th>...</th>\n",
       "      <td>...</td>\n",
       "      <td>...</td>\n",
       "    </tr>\n",
       "    <tr>\n",
       "      <th>Venezuela (Bolivarian Republic of)</th>\n",
       "      <th>VEN</th>\n",
       "      <td>5707.0</td>\n",
       "      <td>13159.0</td>\n",
       "    </tr>\n",
       "    <tr>\n",
       "      <th>Viet Nam</th>\n",
       "      <th>VNM</th>\n",
       "      <td>1080.0</td>\n",
       "      <td>6031.0</td>\n",
       "    </tr>\n",
       "    <tr>\n",
       "      <th>Yemen</th>\n",
       "      <th>YEM</th>\n",
       "      <td>1116.0</td>\n",
       "      <td>2199.0</td>\n",
       "    </tr>\n",
       "    <tr>\n",
       "      <th>Zambia</th>\n",
       "      <th>ZMB</th>\n",
       "      <td>1706.0</td>\n",
       "      <td>3538.0</td>\n",
       "    </tr>\n",
       "    <tr>\n",
       "      <th>Zimbabwe</th>\n",
       "      <th>ZWE</th>\n",
       "      <td>2710.0</td>\n",
       "      <td>1729.0</td>\n",
       "    </tr>\n",
       "  </tbody>\n",
       "</table>\n",
       "<p>144 rows × 2 columns</p>\n",
       "</div>"
      ],
      "text/plain": [
       "year                                               1960     2016\n",
       "country                            countrycode                  \n",
       "Afghanistan                        AFG           2744.0   1929.0\n",
       "Albania                            ALB           2142.0  11285.0\n",
       "Argentina                          ARG           8928.0  18695.0\n",
       "Australia                          AUS          15196.0  44783.0\n",
       "Austria                            AUT           8508.0  45010.0\n",
       "...                                                 ...      ...\n",
       "Venezuela (Bolivarian Republic of) VEN           5707.0  13159.0\n",
       "Viet Nam                           VNM           1080.0   6031.0\n",
       "Yemen                              YEM           1116.0   2199.0\n",
       "Zambia                             ZMB           1706.0   3538.0\n",
       "Zimbabwe                           ZWE           2710.0   1729.0\n",
       "\n",
       "[144 rows x 2 columns]"
      ]
     },
     "execution_count": 73,
     "metadata": {},
     "output_type": "execute_result"
    }
   ],
   "source": [
    "# Here is how the table looks like\n",
    "df_income"
   ]
  },
  {
   "cell_type": "code",
   "execution_count": 74,
   "metadata": {},
   "outputs": [],
   "source": [
    "# Select USA as we will express income per capita relative to the US\n",
    "USA_income = df_income.xs('USA',level=1)"
   ]
  },
  {
   "cell_type": "code",
   "execution_count": 75,
   "metadata": {},
   "outputs": [],
   "source": [
    "# Calculate income per capita relative to the US income per capita\n",
    "df_income[1960]=df_income[1960]/USA_income[1960].values[0]\n",
    "df_income[2016]=df_income[2016]/USA_income[2016].values[0]\n",
    "\n",
    "df_income.reset_index(inplace=True)"
   ]
  },
  {
   "cell_type": "code",
   "execution_count": 76,
   "metadata": {
    "scrolled": true
   },
   "outputs": [],
   "source": [
    "# Merge relative income data with our original dataset\n",
    "# we will need population data\n",
    "df_income=df_income.merge(df[df.year==2016][['countrycode','country','pop']],on=['countrycode','country'],how='left')\n",
    "\n",
    "df_income.dropna(inplace=True)"
   ]
  },
  {
   "cell_type": "code",
   "execution_count": null,
   "metadata": {},
   "outputs": [],
   "source": []
  },
  {
   "cell_type": "code",
   "execution_count": 77,
   "metadata": {
    "scrolled": false
   },
   "outputs": [
    {
     "data": {
      "image/png": "[encoded data removed]",
      "text/plain": [
       "<Figure size 576x576 with 1 Axes>"
      ]
     },
     "metadata": {},
     "output_type": "display_data"
    }
   ],
   "source": [
    "# Scatter plot\n",
    "fig,ax = plt.subplots(figsize=(8,8))\n",
    "ax.scatter(df_income[1960],df_income[2016],color='k',sizes=df_income['pop'],alpha=.7)\n",
    "ax.plot(np.linspace(0,1.2),np.linspace(0,1.2),color='r',linewidth=2)\n",
    "ax.set_xlim(xmin=-0.1,xmax=1.31)\n",
    "ax.set_ylim(ymin=-0.1,ymax=1.31)\n",
    "ax.set_xlabel('GDP per capita relative to the US in 1960')\n",
    "ax.set_ylabel('GDP per capita relative to the US in 2016')\n",
    "ax.annotate('$45^\\circ$',(1.2,1.2),color='r')\n",
    "ax.spines['left'].set_visible(False)\n",
    "ax.spines['right'].set_visible(False)\n",
    "ax.spines['top'].set_visible(False)\n",
    "ax.spines['bottom'].set_visible(False)\n",
    "usa_ = df_income[df_income.countrycode=='USA'][[1960,2016]].values[0]\n",
    "gbr_ = df_income[df_income.countrycode=='GBR'][[1960,2016]].values[0]\n",
    "chn_ = df_income[df_income.countrycode=='CHN'][[1960,2016]].values[0]\n",
    "ind_ = df_income[df_income.countrycode=='IND'][[1960,2016]].values[0]\n",
    "deu_ = df_income[df_income.countrycode=='DEU'][[1960,2016]].values[0]\n",
    "\n",
    "ax.annotate(\n",
    "    \"USA\", xy=(usa_[0],usa_[1]), xycoords=\"data\",\n",
    "    xytext=(25, -25), textcoords=\"offset points\",\n",
    "    arrowprops=dict(arrowstyle=\"->\", color='k',connectionstyle=\"arc3,rad=0.6\"))\n",
    "ax.annotate(\n",
    "    \"GBR\", xy=(gbr_[0],gbr_[1]), xycoords=\"data\",\n",
    "    xytext=(25, -25), textcoords=\"offset points\",\n",
    "    arrowprops=dict(arrowstyle=\"->\", color='k',connectionstyle=\"arc3,rad=0.6\"))\n",
    "ax.annotate(\n",
    "    \"DEU\", xy=(deu_[0],deu_[1]), xycoords=\"data\",\n",
    "    xytext=(-35, 35), textcoords=\"offset points\",\n",
    "    arrowprops=dict(arrowstyle=\"->\", color='k',connectionstyle=\"arc3,rad=0.6\"))\n",
    "ax.annotate(\n",
    "    \"CHN\", xy=(chn_[0],chn_[1]), xycoords=\"data\",\n",
    "    xytext=(-35, 35), textcoords=\"offset points\",\n",
    "    arrowprops=dict(arrowstyle=\"->\", color='k',connectionstyle=\"arc3,rad=0.6\"))\n",
    "ax.annotate(\n",
    "    \"IND\", xy=(ind_[0],ind_[1]), xycoords=\"data\",\n",
    "    xytext=(35, -35), textcoords=\"offset points\",\n",
    "    arrowprops=dict(arrowstyle=\"->\", color='k',connectionstyle=\"arc3,rad=0.6\"))\n",
    "plt.savefig('../files/scatter-gdp-size.svg',bbox_inches='tight')"
   ]
  },
  {
   "cell_type": "code",
   "execution_count": 78,
   "metadata": {},
   "outputs": [
    {
     "data": {
      "text/html": [
       "        <script type=\"text/javascript\">\n",
       "        window.PlotlyConfig = {MathJaxConfig: 'local'};\n",
       "        if (window.MathJax) {MathJax.Hub.Config({SVG: {font: \"STIX-Web\"}});}\n",
       "        if (typeof require !== 'undefined') {\n",
       "        require.undef(\"plotly\");\n",
       "        requirejs.config({\n",
       "            paths: {\n",
       "                'plotly': ['https://cdn.plot.ly/plotly-latest.min']\n",
       "            }\n",
       "        });\n",
       "        require(['plotly'], function(Plotly) {\n",
       "            window._Plotly = Plotly;\n",
       "        });\n",
       "        }\n",
       "        </script>\n",
       "        "
      ]
     },
     "metadata": {},
     "output_type": "display_data"
    }
   ],
   "source": [
    "# Plot the above graph as an interactive object\n",
    "import plotly_express as px\n",
    "import plotly as py\n",
    "py.offline.init_notebook_mode(connected=True)"
   ]
  },
  {
   "cell_type": "code",
   "execution_count": 79,
   "metadata": {},
   "outputs": [],
   "source": [
    "data = px.scatter(df_income, x=1960, y=2016,size='pop',\n",
    "           labels={1960:'GDP per capita relative to the US, 1960',\n",
    "                  2016:'GDP per capita relative to the US, 2016',\n",
    "                  'pop':'Population'},hover_name='country',\n",
    "          width=500,height=500,range_x=(0,1.3),range_y=(0,1.3),\n",
    "          template='plotly_white')"
   ]
  },
  {
   "cell_type": "code",
   "execution_count": 80,
   "metadata": {},
   "outputs": [
    {
     "data": {
      "application/vnd.plotly.v1+json": {
       "config": {
        "plotlyServerURL": "https://plot.ly"
       },
       "data": [
        {
         "hoverlabel": {
          "namelength": 0
         },
         "hovertemplate": "<b>%{hovertext}</b><br><br>1960=%{x}<br>2016=%{y}<br>Population=%{marker.size}",
         "hovertext": [
          "Afghanistan",
          "Albania",
          "Argentina",
          "Australia",
          "Austria",
          "Bangladesh",
          "Barbados",
          "Belgium",
          "Benin",
          "Bolivia (Plurinational State of)",
          "Bosnia and Herzegovina",
          "Botswana",
          "Brazil",
          "Bulgaria",
          "Burkina Faso",
          "Burundi",
          "Cabo Verde",
          "Cambodia",
          "Cameroon",
          "Canada",
          "Central African Republic",
          "Chad",
          "Chile",
          "China",
          "China, Hong Kong SAR",
          "Colombia",
          "Comoros",
          "Congo",
          "Costa Rica",
          "Croatia",
          "Cyprus",
          "Czechoslovakia",
          "Côte d'Ivoire",
          "D.R. of the Congo",
          "Denmark",
          "Djibouti",
          "Dominica",
          "Dominican Republic",
          "Ecuador",
          "Egypt",
          "El Salvador",
          "Equatorial Guinea",
          "Ethiopia",
          "Finland",
          "Former USSR",
          "Former Yugoslavia",
          "France",
          "Gabon",
          "Gambia",
          "Germany",
          "Ghana",
          "Greece",
          "Guatemala",
          "Guinea",
          "Guinea-Bissau",
          "Haiti",
          "Honduras",
          "Hungary",
          "Iceland",
          "India",
          "Indonesia",
          "Iran (Islamic Republic of)",
          "Iraq",
          "Ireland",
          "Israel",
          "Italy",
          "Jamaica",
          "Japan",
          "Jordan",
          "Kenya",
          "Lao People's DR",
          "Lebanon",
          "Lesotho",
          "Liberia",
          "Libya",
          "Luxembourg",
          "Madagascar",
          "Malawi",
          "Malaysia",
          "Mali",
          "Malta",
          "Mauritania",
          "Mauritius",
          "Mexico",
          "Mongolia",
          "Montenegro",
          "Morocco",
          "Mozambique",
          "Myanmar",
          "Namibia",
          "Nepal",
          "Netherlands",
          "New Zealand",
          "Nicaragua",
          "Niger",
          "Nigeria",
          "Norway",
          "Oman",
          "Pakistan",
          "Panama",
          "Paraguay",
          "Peru",
          "Philippines",
          "Poland",
          "Portugal",
          "Puerto Rico",
          "Republic of Korea",
          "Romania",
          "Russian Federation",
          "Rwanda",
          "Saint Lucia",
          "Sao Tome and Principe",
          "Saudi Arabia",
          "Senegal",
          "Serbia",
          "Seychelles",
          "Sierra Leone",
          "Singapore",
          "Slovenia",
          "South Africa",
          "Spain",
          "Sri Lanka",
          "Sudan (Former)",
          "Swaziland",
          "Sweden",
          "Switzerland",
          "Syrian Arab Republic",
          "TFYR of Macedonia",
          "Taiwan, Province of China",
          "Thailand",
          "Togo",
          "Trinidad and Tobago",
          "Tunisia",
          "Turkey",
          "U.R. of Tanzania: Mainland",
          "Uganda",
          "United Kingdom",
          "United States",
          "Uruguay",
          "Venezuela (Bolivarian Republic of)",
          "Viet Nam",
          "Yemen",
          "Zambia",
          "Zimbabwe"
         ],
         "legendgroup": "",
         "marker": {
          "color": "#636efa",
          "size": [
           33.332,
           3.044,
           43.887,
           23.978,
           8.78,
           164.044,
           0.291,
           11.285,
           10.741,
           10.97,
           3.959,
           2.181,
           208.249,
           7.145,
           19.513,
           11.099,
           0.553,
           15.918,
           24.16,
           36.437,
           5.507,
           11.852,
           18.212,
           1372.86,
           7.233,
           47.079,
           0.795,
           4.852,
           4.879,
           4.314,
           1,
           15.935,
           23.74,
           81.116,
           5.731,
           0.847,
           0.074,
           10.606,
           16.081,
           97.305,
           6.157,
           0.759,
           110.945,
           5.495,
           291.22,
           21.817,
           66.957,
           1.739,
           2.01,
           83.707,
           26.675,
           10.688,
           15.191,
           12.093,
           1.759,
           10.486,
           8.893,
           9.822,
           0.335,
           1268.155,
           255.079,
           80.755,
           38.957,
           4.711,
           8.209,
           60.738,
           2.971,
           126.31,
           7.525,
           46.778,
           7.019,
           6.238,
           1.953,
           4.576,
           6.542,
           0.584,
           24.43,
           18.92,
           30.301,
           15.98,
           0.439,
           3.677,
           1.348,
           119.252,
           3.031,
           0.645,
           34.686,
           25.286,
           55.174,
           2.436,
           29.034,
           17.035,
           4.659,
           5.967,
           18.677,
           185.899,
           5.236,
           4.554,
           194.839,
           3.705,
           6.863,
           30.791,
           108.645,
           38.505,
           10.263,
           3.411,
           51.246,
           21.6,
           143.833,
           11.605,
           0.164,
           0.198,
           31.567,
           15.593,
           8.742,
           0.093,
           6.019,
           5.782,
           2.057,
           54.263,
           47.024,
           22.687,
           45.282,
           1.451,
           9.917,
           8.491,
           18.54,
           2.1,
           23.276,
           67.107,
           7.757,
           1.22,
           11.14,
           83.463,
           53.349,
           40.419,
           65.888,
           324.656,
           3.378,
           30.111,
           95.296,
           28.523,
           16.274,
           14.547
          ],
          "sizemode": "area",
          "sizeref": 3.4321499999999996,
          "symbol": "circle"
         },
         "mode": "markers",
         "name": "",
         "showlegend": false,
         "type": "scatter",
         "x": [
          0.1519548122715694,
          0.11861778713035774,
          0.4944069110643482,
          0.8415106877838078,
          0.4711485214309447,
          0.06373906301916048,
          0.3973308229039761,
          0.5046516779266806,
          0.0709380883818806,
          0.06850149518219072,
          0.053272787684128915,
          0.06645254180972422,
          0.12625982943847602,
          0.2853582899545908,
          0.08622217299811717,
          0.05388193598405139,
          0.07110421973640492,
          0.04258500387639827,
          0.05908738509247979,
          0.7545686122494185,
          0.0772510798538044,
          0.08206888913500941,
          0.2746705061468601,
          0.05111308007531288,
          0.2769963451102005,
          0.18700852807619892,
          0.06108096134677152,
          0.07730645697197917,
          0.21170672278214642,
          0.32185181083176434,
          0.25058145974083507,
          0.5289068556872301,
          0.11463063462177428,
          0.11734411341233802,
          0.667460405360505,
          0.2783807730645697,
          0.1688448333148743,
          0.11269243548565733,
          0.16203344777937756,
          0.09187063905194373,
          0.0845054823346993,
          0.0636836859009857,
          0.04153283863107764,
          0.4667183519769631,
          0.4643925130136228,
          0.11728873629416325,
          0.5694982833093366,
          0.2958245652896223,
          0.11042197364049175,
          0.6416546682910621,
          0.1524532063351423,
          0.24864326060471814,
          0.11889467272123158,
          0.07858013068999889,
          0.046572156384981724,
          0.1489644478901318,
          0.1092036770406468,
          0.24958467161368922,
          0.6265367150293498,
          0.07769409679920257,
          0.08168124930778602,
          0.17709602392291504,
          0.33519769631188395,
          0.32168567947724,
          0.3670949163805516,
          0.3913500941411009,
          0.23136559973418983,
          0.2871303577361834,
          0.1452541809724222,
          0.07730645697197917,
          0.038099457304241885,
          0.5100232583896334,
          0.028463838741831875,
          0.049119503821021156,
          0.351810831764315,
          0.8793886366153505,
          0.06207774947391738,
          0.060471813046849045,
          0.13733525307343006,
          0.0644589655554325,
          0.1318529183741278,
          0.05742607154723668,
          0.1918817144755787,
          0.18717465943072323,
          0.04983940635729316,
          0.24028131576032782,
          0.13711374460073097,
          0.030235906523424522,
          0.043747923358068444,
          0.21851810831764315,
          0.038154834422416656,
          0.5964115627422749,
          0.7020157271015617,
          0.11728873629416325,
          0.07536825783586222,
          0.12066674050282424,
          0.5676154612913944,
          0.10831764314985048,
          0.06069332151954812,
          0.13179754125595303,
          0.06595414774615128,
          0.13766751578247868,
          0.09851589323291617,
          0.2284859895891018,
          0.21597076088160372,
          0.4189832761103112,
          0.08234577472588327,
          0.10261379997784915,
          0.45475689445121276,
          0.04031454203123269,
          0.14990585889910288,
          0.06689555875512239,
          0.4158821574925241,
          0.12941632517443794,
          0.16413777827001882,
          0.33796655222062244,
          0.10864990585889911,
          0.1309668844833315,
          0.3657104884261823,
          0.32129803965001663,
          0.30302359065234247,
          0.08350869420755344,
          0.116624210876066,
          0.0529405249750803,
          0.6308007531288071,
          0.8100011075423635,
          0.15339461734411342,
          0.1718351976963119,
          0.11712260493963894,
          0.07575589766308562,
          0.061025584228596746,
          0.4304463395724886,
          0.10798538044080186,
          0.169398604496622,
          0.07531288071768745,
          0.06700631299147192,
          0.6645254180972422,
          1,
          0.3802746705061469,
          0.31603721342341345,
          0.0598072876287518,
          0.061800863883043525,
          0.09447336360615793,
          0.1500719902536272
         ],
         "xaxis": "x",
         "y": [
          0.03638592851079883,
          0.21286428369329435,
          0.3526360464019617,
          0.8447231915495614,
          0.8490049985853061,
          0.06130340469678393,
          0.19164387437517683,
          0.7494671319437894,
          0.04085636140714892,
          0.11540130151843818,
          0.1994907101763652,
          0.2832217296991418,
          0.2542487975101386,
          0.3386400075450344,
          0.029444496840516834,
          0.013052909553899839,
          0.12283316042629444,
          0.062378572102235214,
          0.05287182872771857,
          0.8105064604357257,
          0.01167594077147977,
          0.041346788644723194,
          0.4045270206545317,
          0.23238706026596245,
          0.8873526360464019,
          0.24451570310289542,
          0.03231160992172027,
          0.08129774592096577,
          0.26381212864283693,
          0.40790342355937,
          0.5006130340469679,
          0.5681033669716118,
          0.06911251532585118,
          0.01576912194661888,
          0.851475997359238,
          0.06401961708950298,
          0.1843440535697444,
          0.2657361124210129,
          0.1987362067339432,
          0.21559935867207394,
          0.1572196548146751,
          0.5939073847024428,
          0.03129303027445063,
          0.7230972366311421,
          0.34150712062623784,
          0.3086107705366406,
          0.7310761105347543,
          0.270376308591908,
          0.036782042818070355,
          0.8835423936621711,
          0.07079128548524002,
          0.46569838724889184,
          0.1346222767141375,
          0.03146279354899557,
          0.025539941525983212,
          0.030859190795058004,
          0.08365556917853438,
          0.45358860699801945,
          0.8107139488823918,
          0.112439875506932,
          0.1982646420824295,
          0.2929170989342639,
          0.26362350278223146,
          1.049759502027728,
          0.612920871451476,
          0.6599830236725455,
          0.13533905498443838,
          0.6875789870791286,
          0.2215976610393285,
          0.060624351598604166,
          0.11928699424691125,
          0.2392341790059417,
          0.05687069697255494,
          0.01441101575025936,
          0.1527114967462039,
          1.3025936055833254,
          0.024653399981137414,
          0.017919456757521456,
          0.42793548995567293,
          0.030255588041120437,
          0.5208337263038763,
          0.062378572102235214,
          0.3555974724134679,
          0.2980854475148543,
          0.20946901820239555,
          0.34412902008865415,
          0.1436008676789588,
          0.024295010845986984,
          0.11579741582570971,
          0.22146562293690464,
          0.048778647552579456,
          0.9290578138262756,
          0.6420824295010846,
          0.09189851928699425,
          0.017089502970857304,
          0.10040554560030181,
          1.4410449872677544,
          0.6957087616712251,
          0.09902857681788173,
          0.40626237857210223,
          0.1623125530510233,
          0.21767424313873432,
          0.13624445911534472,
          0.4904649627463925,
          0.5229840611147788,
          0.6617372441761765,
          0.6819013486749034,
          0.3567480901631614,
          0.43504668490049986,
          0.03283976233141564,
          0.20252758653211356,
          0.068659813260398,
          0.8954824106384985,
          0.0479864189380364,
          0.26409506743374517,
          0.4688484391210035,
          0.020182967084787326,
          1.2671885315476752,
          0.5425068376874469,
          0.22538904083749883,
          0.5952277657266811,
          0.20971423182118268,
          0.07073469772705838,
          0.14412902008865416,
          0.8369518060926153,
          1.1665377723285864,
          0.06709421861737244,
          0.26194473262284257,
          0.7979628407054608,
          0.27050834669433177,
          0.028576817881731584,
          0.5537678015655947,
          0.20033952654908987,
          0.35431481656135055,
          0.047495991700462134,
          0.03600867678958785,
          0.7386965953032161,
          1,
          0.3752900122606809,
          0.248212769970763,
          0.11376025653117042,
          0.041478826747147035,
          0.06673582948222201,
          0.03261341129868905
         ],
         "yaxis": "y"
        }
       ],
       "layout": {
        "height": 500,
        "legend": {
         "itemsizing": "constant",
         "tracegroupgap": 0
        },
        "margin": {
         "t": 60
        },
        "template": {
         "data": {
          "bar": [
           {
            "error_x": {
             "color": "#2a3f5f"
            },
            "error_y": {
             "color": "#2a3f5f"
            },
            "marker": {
             "line": {
              "color": "white",
              "width": 0.5
             }
            },
            "type": "bar"
           }
          ],
          "barpolar": [
           {
            "marker": {
             "line": {
              "color": "white",
              "width": 0.5
             }
            },
            "type": "barpolar"
           }
          ],
          "carpet": [
           {
            "aaxis": {
             "endlinecolor": "#2a3f5f",
             "gridcolor": "#C8D4E3",
             "linecolor": "#C8D4E3",
             "minorgridcolor": "#C8D4E3",
             "startlinecolor": "#2a3f5f"
            },
            "baxis": {
             "endlinecolor": "#2a3f5f",
             "gridcolor": "#C8D4E3",
             "linecolor": "#C8D4E3",
             "minorgridcolor": "#C8D4E3",
             "startlinecolor": "#2a3f5f"
            },
            "type": "carpet"
           }
          ],
          "choropleth": [
           {
            "colorbar": {
             "outlinewidth": 0,
             "ticks": ""
            },
            "type": "choropleth"
           }
          ],
          "contour": [
           {
            "colorbar": {
             "outlinewidth": 0,
             "ticks": ""
            },
            "colorscale": [
             [
              0,
              "#0d0887"
             ],
             [
              0.1111111111111111,
              "#46039f"
             ],
             [
              0.2222222222222222,
              "#7201a8"
             ],
             [
              0.3333333333333333,
              "#9c179e"
             ],
             [
              0.4444444444444444,
              "#bd3786"
             ],
             [
              0.5555555555555556,
              "#d8576b"
             ],
             [
              0.6666666666666666,
              "#ed7953"
             ],
             [
              0.7777777777777778,
              "#fb9f3a"
             ],
             [
              0.8888888888888888,
              "#fdca26"
             ],
             [
              1,
              "#f0f921"
             ]
            ],
            "type": "contour"
           }
          ],
          "contourcarpet": [
           {
            "colorbar": {
             "outlinewidth": 0,
             "ticks": ""
            },
            "type": "contourcarpet"
           }
          ],
          "heatmap": [
           {
            "colorbar": {
             "outlinewidth": 0,
             "ticks": ""
            },
            "colorscale": [
             [
              0,
              "#0d0887"
             ],
             [
              0.1111111111111111,
              "#46039f"
             ],
             [
              0.2222222222222222,
              "#7201a8"
             ],
             [
              0.3333333333333333,
              "#9c179e"
             ],
             [
              0.4444444444444444,
              "#bd3786"
             ],
             [
              0.5555555555555556,
              "#d8576b"
             ],
             [
              0.6666666666666666,
              "#ed7953"
             ],
             [
              0.7777777777777778,
              "#fb9f3a"
             ],
             [
              0.8888888888888888,
              "#fdca26"
             ],
             [
              1,
              "#f0f921"
             ]
            ],
            "type": "heatmap"
           }
          ],
          "heatmapgl": [
           {
            "colorbar": {
             "outlinewidth": 0,
             "ticks": ""
            },
            "colorscale": [
             [
              0,
              "#0d0887"
             ],
             [
              0.1111111111111111,
              "#46039f"
             ],
             [
              0.2222222222222222,
              "#7201a8"
             ],
             [
              0.3333333333333333,
              "#9c179e"
             ],
             [
              0.4444444444444444,
              "#bd3786"
             ],
             [
              0.5555555555555556,
              "#d8576b"
             ],
             [
              0.6666666666666666,
              "#ed7953"
             ],
             [
              0.7777777777777778,
              "#fb9f3a"
             ],
             [
              0.8888888888888888,
              "#fdca26"
             ],
             [
              1,
              "#f0f921"
             ]
            ],
            "type": "heatmapgl"
           }
          ],
          "histogram": [
           {
            "marker": {
             "colorbar": {
              "outlinewidth": 0,
              "ticks": ""
             }
            },
            "type": "histogram"
           }
          ],
          "histogram2d": [
           {
            "colorbar": {
             "outlinewidth": 0,
             "ticks": ""
            },
            "colorscale": [
             [
              0,
              "#0d0887"
             ],
             [
              0.1111111111111111,
              "#46039f"
             ],
             [
              0.2222222222222222,
              "#7201a8"
             ],
             [
              0.3333333333333333,
              "#9c179e"
             ],
             [
              0.4444444444444444,
              "#bd3786"
             ],
             [
              0.5555555555555556,
              "#d8576b"
             ],
             [
              0.6666666666666666,
              "#ed7953"
             ],
             [
              0.7777777777777778,
              "#fb9f3a"
             ],
             [
              0.8888888888888888,
              "#fdca26"
             ],
             [
              1,
              "#f0f921"
             ]
            ],
            "type": "histogram2d"
           }
          ],
          "histogram2dcontour": [
           {
            "colorbar": {
             "outlinewidth": 0,
             "ticks": ""
            },
            "colorscale": [
             [
              0,
              "#0d0887"
             ],
             [
              0.1111111111111111,
              "#46039f"
             ],
             [
              0.2222222222222222,
              "#7201a8"
             ],
             [
              0.3333333333333333,
              "#9c179e"
             ],
             [
              0.4444444444444444,
              "#bd3786"
             ],
             [
              0.5555555555555556,
              "#d8576b"
             ],
             [
              0.6666666666666666,
              "#ed7953"
             ],
             [
              0.7777777777777778,
              "#fb9f3a"
             ],
             [
              0.8888888888888888,
              "#fdca26"
             ],
             [
              1,
              "#f0f921"
             ]
            ],
            "type": "histogram2dcontour"
           }
          ],
          "mesh3d": [
           {
            "colorbar": {
             "outlinewidth": 0,
             "ticks": ""
            },
            "type": "mesh3d"
           }
          ],
          "parcoords": [
           {
            "line": {
             "colorbar": {
              "outlinewidth": 0,
              "ticks": ""
             }
            },
            "type": "parcoords"
           }
          ],
          "pie": [
           {
            "automargin": true,
            "type": "pie"
           }
          ],
          "scatter": [
           {
            "marker": {
             "colorbar": {
              "outlinewidth": 0,
              "ticks": ""
             }
            },
            "type": "scatter"
           }
          ],
          "scatter3d": [
           {
            "line": {
             "colorbar": {
              "outlinewidth": 0,
              "ticks": ""
             }
            },
            "marker": {
             "colorbar": {
              "outlinewidth": 0,
              "ticks": ""
             }
            },
            "type": "scatter3d"
           }
          ],
          "scattercarpet": [
           {
            "marker": {
             "colorbar": {
              "outlinewidth": 0,
              "ticks": ""
             }
            },
            "type": "scattercarpet"
           }
          ],
          "scattergeo": [
           {
            "marker": {
             "colorbar": {
              "outlinewidth": 0,
              "ticks": ""
             }
            },
            "type": "scattergeo"
           }
          ],
          "scattergl": [
           {
            "marker": {
             "colorbar": {
              "outlinewidth": 0,
              "ticks": ""
             }
            },
            "type": "scattergl"
           }
          ],
          "scattermapbox": [
           {
            "marker": {
             "colorbar": {
              "outlinewidth": 0,
              "ticks": ""
             }
            },
            "type": "scattermapbox"
           }
          ],
          "scatterpolar": [
           {
            "marker": {
             "colorbar": {
              "outlinewidth": 0,
              "ticks": ""
             }
            },
            "type": "scatterpolar"
           }
          ],
          "scatterpolargl": [
           {
            "marker": {
             "colorbar": {
              "outlinewidth": 0,
              "ticks": ""
             }
            },
            "type": "scatterpolargl"
           }
          ],
          "scatterternary": [
           {
            "marker": {
             "colorbar": {
              "outlinewidth": 0,
              "ticks": ""
             }
            },
            "type": "scatterternary"
           }
          ],
          "surface": [
           {
            "colorbar": {
             "outlinewidth": 0,
             "ticks": ""
            },
            "colorscale": [
             [
              0,
              "#0d0887"
             ],
             [
              0.1111111111111111,
              "#46039f"
             ],
             [
              0.2222222222222222,
              "#7201a8"
             ],
             [
              0.3333333333333333,
              "#9c179e"
             ],
             [
              0.4444444444444444,
              "#bd3786"
             ],
             [
              0.5555555555555556,
              "#d8576b"
             ],
             [
              0.6666666666666666,
              "#ed7953"
             ],
             [
              0.7777777777777778,
              "#fb9f3a"
             ],
             [
              0.8888888888888888,
              "#fdca26"
             ],
             [
              1,
              "#f0f921"
             ]
            ],
            "type": "surface"
           }
          ],
          "table": [
           {
            "cells": {
             "fill": {
              "color": "#EBF0F8"
             },
             "line": {
              "color": "white"
             }
            },
            "header": {
             "fill": {
              "color": "#C8D4E3"
             },
             "line": {
              "color": "white"
             }
            },
            "type": "table"
           }
          ]
         },
         "layout": {
          "annotationdefaults": {
           "arrowcolor": "#2a3f5f",
           "arrowhead": 0,
           "arrowwidth": 1
          },
          "coloraxis": {
           "colorbar": {
            "outlinewidth": 0,
            "ticks": ""
           }
          },
          "colorscale": {
           "diverging": [
            [
             0,
             "#8e0152"
            ],
            [
             0.1,
             "#c51b7d"
            ],
            [
             0.2,
             "#de77ae"
            ],
            [
             0.3,
             "#f1b6da"
            ],
            [
             0.4,
             "#fde0ef"
            ],
            [
             0.5,
             "#f7f7f7"
            ],
            [
             0.6,
             "#e6f5d0"
            ],
            [
             0.7,
             "#b8e186"
            ],
            [
             0.8,
             "#7fbc41"
            ],
            [
             0.9,
             "#4d9221"
            ],
            [
             1,
             "#276419"
            ]
           ],
           "sequential": [
            [
             0,
             "#0d0887"
            ],
            [
             0.1111111111111111,
             "#46039f"
            ],
            [
             0.2222222222222222,
             "#7201a8"
            ],
            [
             0.3333333333333333,
             "#9c179e"
            ],
            [
             0.4444444444444444,
             "#bd3786"
            ],
            [
             0.5555555555555556,
             "#d8576b"
            ],
            [
             0.6666666666666666,
             "#ed7953"
            ],
            [
             0.7777777777777778,
             "#fb9f3a"
            ],
            [
             0.8888888888888888,
             "#fdca26"
            ],
            [
             1,
             "#f0f921"
            ]
           ],
           "sequentialminus": [
            [
             0,
             "#0d0887"
            ],
            [
             0.1111111111111111,
             "#46039f"
            ],
            [
             0.2222222222222222,
             "#7201a8"
            ],
            [
             0.3333333333333333,
             "#9c179e"
            ],
            [
             0.4444444444444444,
             "#bd3786"
            ],
            [
             0.5555555555555556,
             "#d8576b"
            ],
            [
             0.6666666666666666,
             "#ed7953"
            ],
            [
             0.7777777777777778,
             "#fb9f3a"
            ],
            [
             0.8888888888888888,
             "#fdca26"
            ],
            [
             1,
             "#f0f921"
            ]
           ]
          },
          "colorway": [
           "#636efa",
           "#EF553B",
           "#00cc96",
           "#ab63fa",
           "#FFA15A",
           "#19d3f3",
           "#FF6692",
           "#B6E880",
           "#FF97FF",
           "#FECB52"
          ],
          "font": {
           "color": "#2a3f5f"
          },
          "geo": {
           "bgcolor": "white",
           "lakecolor": "white",
           "landcolor": "white",
           "showlakes": true,
           "showland": true,
           "subunitcolor": "#C8D4E3"
          },
          "hoverlabel": {
           "align": "left"
          },
          "hovermode": "closest",
          "mapbox": {
           "style": "light"
          },
          "paper_bgcolor": "white",
          "plot_bgcolor": "white",
          "polar": {
           "angularaxis": {
            "gridcolor": "#EBF0F8",
            "linecolor": "#EBF0F8",
            "ticks": ""
           },
           "bgcolor": "white",
           "radialaxis": {
            "gridcolor": "#EBF0F8",
            "linecolor": "#EBF0F8",
            "ticks": ""
           }
          },
          "scene": {
           "xaxis": {
            "backgroundcolor": "white",
            "gridcolor": "#DFE8F3",
            "gridwidth": 2,
            "linecolor": "#EBF0F8",
            "showbackground": true,
            "ticks": "",
            "zerolinecolor": "#EBF0F8"
           },
           "yaxis": {
            "backgroundcolor": "white",
            "gridcolor": "#DFE8F3",
            "gridwidth": 2,
            "linecolor": "#EBF0F8",
            "showbackground": true,
            "ticks": "",
            "zerolinecolor": "#EBF0F8"
           },
           "zaxis": {
            "backgroundcolor": "white",
            "gridcolor": "#DFE8F3",
            "gridwidth": 2,
            "linecolor": "#EBF0F8",
            "showbackground": true,
            "ticks": "",
            "zerolinecolor": "#EBF0F8"
           }
          },
          "shapedefaults": {
           "line": {
            "color": "#2a3f5f"
           }
          },
          "ternary": {
           "aaxis": {
            "gridcolor": "#DFE8F3",
            "linecolor": "#A2B1C6",
            "ticks": ""
           },
           "baxis": {
            "gridcolor": "#DFE8F3",
            "linecolor": "#A2B1C6",
            "ticks": ""
           },
           "bgcolor": "white",
           "caxis": {
            "gridcolor": "#DFE8F3",
            "linecolor": "#A2B1C6",
            "ticks": ""
           }
          },
          "title": {
           "x": 0.05
          },
          "xaxis": {
           "automargin": true,
           "gridcolor": "#EBF0F8",
           "linecolor": "#EBF0F8",
           "ticks": "",
           "title": {
            "standoff": 15
           },
           "zerolinecolor": "#EBF0F8",
           "zerolinewidth": 2
          },
          "yaxis": {
           "automargin": true,
           "gridcolor": "#EBF0F8",
           "linecolor": "#EBF0F8",
           "ticks": "",
           "title": {
            "standoff": 15
           },
           "zerolinecolor": "#EBF0F8",
           "zerolinewidth": 2
          }
         }
        },
        "width": 500,
        "xaxis": {
         "anchor": "y",
         "domain": [
          0,
          1
         ],
         "range": [
          0,
          1.3
         ],
         "title": {
          "text": "1960"
         }
        },
        "yaxis": {
         "anchor": "x",
         "domain": [
          0,
          1
         ],
         "range": [
          0,
          1.3
         ],
         "title": {
          "text": "2016"
         }
        }
       }
      },
      "text/html": [
       "<div>\n",
       "        \n",
       "        \n",
       "            <div id=\"83674b8e-024a-4e84-873d-7291bc01dabb\" class=\"plotly-graph-div\" style=\"height:500px; width:500px;\"></div>\n",
       "            <script type=\"text/javascript\">\n",
       "                require([\"plotly\"], function(Plotly) {\n",
       "                    window.PLOTLYENV=window.PLOTLYENV || {};\n",
       "                    \n",
       "                if (document.getElementById(\"83674b8e-024a-4e84-873d-7291bc01dabb\")) {\n",
       "                    Plotly.newPlot(\n",
       "                        '83674b8e-024a-4e84-873d-7291bc01dabb',\n",
       "                        [{\"hoverlabel\": {\"namelength\": 0}, \"hovertemplate\": \"<b>%{hovertext}</b><br><br>1960=%{x}<br>2016=%{y}<br>Population=%{marker.size}\", \"hovertext\": [\"Afghanistan\", \"Albania\", \"Argentina\", \"Australia\", \"Austria\", \"Bangladesh\", \"Barbados\", \"Belgium\", \"Benin\", \"Bolivia (Plurinational State of)\", \"Bosnia and Herzegovina\", \"Botswana\", \"Brazil\", \"Bulgaria\", \"Burkina Faso\", \"Burundi\", \"Cabo Verde\", \"Cambodia\", \"Cameroon\", \"Canada\", \"Central African Republic\", \"Chad\", \"Chile\", \"China\", \"China, Hong Kong SAR\", \"Colombia\", \"Comoros\", \"Congo\", \"Costa Rica\", \"Croatia\", \"Cyprus\", \"Czechoslovakia\", \"C\\u00f4te d'Ivoire\", \"D.R. of the Congo\", \"Denmark\", \"Djibouti\", \"Dominica\", \"Dominican Republic\", \"Ecuador\", \"Egypt\", \"El Salvador\", \"Equatorial Guinea\", \"Ethiopia\", \"Finland\", \"Former USSR\", \"Former Yugoslavia\", \"France\", \"Gabon\", \"Gambia\", \"Germany\", \"Ghana\", \"Greece\", \"Guatemala\", \"Guinea\", \"Guinea-Bissau\", \"Haiti\", \"Honduras\", \"Hungary\", \"Iceland\", \"India\", \"Indonesia\", \"Iran (Islamic Republic of)\", \"Iraq\", \"Ireland\", \"Israel\", \"Italy\", \"Jamaica\", \"Japan\", \"Jordan\", \"Kenya\", \"Lao People's DR\", \"Lebanon\", \"Lesotho\", \"Liberia\", \"Libya\", \"Luxembourg\", \"Madagascar\", \"Malawi\", \"Malaysia\", \"Mali\", \"Malta\", \"Mauritania\", \"Mauritius\", \"Mexico\", \"Mongolia\", \"Montenegro\", \"Morocco\", \"Mozambique\", \"Myanmar\", \"Namibia\", \"Nepal\", \"Netherlands\", \"New Zealand\", \"Nicaragua\", \"Niger\", \"Nigeria\", \"Norway\", \"Oman\", \"Pakistan\", \"Panama\", \"Paraguay\", \"Peru\", \"Philippines\", \"Poland\", \"Portugal\", \"Puerto Rico\", \"Republic of Korea\", \"Romania\", \"Russian Federation\", \"Rwanda\", \"Saint Lucia\", \"Sao Tome and Principe\", \"Saudi Arabia\", \"Senegal\", \"Serbia\", \"Seychelles\", \"Sierra Leone\", \"Singapore\", \"Slovenia\", \"South Africa\", \"Spain\", \"Sri Lanka\", \"Sudan (Former)\", \"Swaziland\", \"Sweden\", \"Switzerland\", \"Syrian Arab Republic\", \"TFYR of Macedonia\", \"Taiwan, Province of China\", \"Thailand\", \"Togo\", \"Trinidad and Tobago\", \"Tunisia\", \"Turkey\", \"U.R. of Tanzania: Mainland\", \"Uganda\", \"United Kingdom\", \"United States\", \"Uruguay\", \"Venezuela (Bolivarian Republic of)\", \"Viet Nam\", \"Yemen\", \"Zambia\", \"Zimbabwe\"], \"legendgroup\": \"\", \"marker\": {\"color\": \"#636efa\", \"size\": [33.332, 3.044, 43.887, 23.978, 8.78, 164.044, 0.291, 11.285, 10.741, 10.97, 3.959, 2.181, 208.249, 7.145, 19.513, 11.099, 0.553, 15.918, 24.16, 36.437, 5.507, 11.852, 18.212, 1372.86, 7.233, 47.079, 0.795, 4.852, 4.879, 4.314, 1.0, 15.935, 23.74, 81.116, 5.731, 0.847, 0.074, 10.606, 16.081, 97.305, 6.157, 0.759, 110.945, 5.495, 291.22, 21.817, 66.957, 1.739, 2.01, 83.707, 26.675, 10.688, 15.191, 12.093, 1.759, 10.486, 8.893, 9.822, 0.335, 1268.155, 255.079, 80.755, 38.957, 4.711, 8.209, 60.738, 2.971, 126.31, 7.525, 46.778, 7.019, 6.238, 1.953, 4.576, 6.542, 0.584, 24.43, 18.92, 30.301, 15.98, 0.439, 3.677, 1.348, 119.252, 3.031, 0.645, 34.686, 25.286, 55.174, 2.436, 29.034, 17.035, 4.659, 5.967, 18.677, 185.899, 5.236, 4.554, 194.839, 3.705, 6.863, 30.791, 108.645, 38.505, 10.263, 3.411, 51.246, 21.6, 143.833, 11.605, 0.164, 0.198, 31.567, 15.593, 8.742, 0.093, 6.019, 5.782, 2.057, 54.263, 47.024, 22.687, 45.282, 1.451, 9.917, 8.491, 18.54, 2.1, 23.276, 67.107, 7.757, 1.22, 11.14, 83.463, 53.349, 40.419, 65.888, 324.656, 3.378, 30.111, 95.296, 28.523, 16.274, 14.547], \"sizemode\": \"area\", \"sizeref\": 3.4321499999999996, \"symbol\": \"circle\"}, \"mode\": \"markers\", \"name\": \"\", \"showlegend\": false, \"type\": \"scatter\", \"x\": [0.1519548122715694, 0.11861778713035774, 0.4944069110643482, 0.8415106877838078, 0.4711485214309447, 0.06373906301916048, 0.3973308229039761, 0.5046516779266806, 0.0709380883818806, 0.06850149518219072, 0.053272787684128915, 0.06645254180972422, 0.12625982943847602, 0.2853582899545908, 0.08622217299811717, 0.05388193598405139, 0.07110421973640492, 0.04258500387639827, 0.05908738509247979, 0.7545686122494185, 0.0772510798538044, 0.08206888913500941, 0.2746705061468601, 0.05111308007531288, 0.2769963451102005, 0.18700852807619892, 0.06108096134677152, 0.07730645697197917, 0.21170672278214642, 0.32185181083176434, 0.25058145974083507, 0.5289068556872301, 0.11463063462177428, 0.11734411341233802, 0.667460405360505, 0.2783807730645697, 0.1688448333148743, 0.11269243548565733, 0.16203344777937756, 0.09187063905194373, 0.0845054823346993, 0.0636836859009857, 0.04153283863107764, 0.4667183519769631, 0.4643925130136228, 0.11728873629416325, 0.5694982833093366, 0.2958245652896223, 0.11042197364049175, 0.6416546682910621, 0.1524532063351423, 0.24864326060471814, 0.11889467272123158, 0.07858013068999889, 0.046572156384981724, 0.1489644478901318, 0.1092036770406468, 0.24958467161368922, 0.6265367150293498, 0.07769409679920257, 0.08168124930778602, 0.17709602392291504, 0.33519769631188395, 0.32168567947724, 0.3670949163805516, 0.3913500941411009, 0.23136559973418983, 0.2871303577361834, 0.1452541809724222, 0.07730645697197917, 0.038099457304241885, 0.5100232583896334, 0.028463838741831875, 0.049119503821021156, 0.351810831764315, 0.8793886366153505, 0.06207774947391738, 0.060471813046849045, 0.13733525307343006, 0.0644589655554325, 0.1318529183741278, 0.05742607154723668, 0.1918817144755787, 0.18717465943072323, 0.04983940635729316, 0.24028131576032782, 0.13711374460073097, 0.030235906523424522, 0.043747923358068444, 0.21851810831764315, 0.038154834422416656, 0.5964115627422749, 0.7020157271015617, 0.11728873629416325, 0.07536825783586222, 0.12066674050282424, 0.5676154612913944, 0.10831764314985048, 0.06069332151954812, 0.13179754125595303, 0.06595414774615128, 0.13766751578247868, 0.09851589323291617, 0.2284859895891018, 0.21597076088160372, 0.4189832761103112, 0.08234577472588327, 0.10261379997784915, 0.45475689445121276, 0.04031454203123269, 0.14990585889910288, 0.06689555875512239, 0.4158821574925241, 0.12941632517443794, 0.16413777827001882, 0.33796655222062244, 0.10864990585889911, 0.1309668844833315, 0.3657104884261823, 0.32129803965001663, 0.30302359065234247, 0.08350869420755344, 0.116624210876066, 0.0529405249750803, 0.6308007531288071, 0.8100011075423635, 0.15339461734411342, 0.1718351976963119, 0.11712260493963894, 0.07575589766308562, 0.061025584228596746, 0.4304463395724886, 0.10798538044080186, 0.169398604496622, 0.07531288071768745, 0.06700631299147192, 0.6645254180972422, 1.0, 0.3802746705061469, 0.31603721342341345, 0.0598072876287518, 0.061800863883043525, 0.09447336360615793, 0.1500719902536272], \"xaxis\": \"x\", \"y\": [0.03638592851079883, 0.21286428369329435, 0.3526360464019617, 0.8447231915495614, 0.8490049985853061, 0.06130340469678393, 0.19164387437517683, 0.7494671319437894, 0.04085636140714892, 0.11540130151843818, 0.1994907101763652, 0.2832217296991418, 0.2542487975101386, 0.3386400075450344, 0.029444496840516834, 0.013052909553899839, 0.12283316042629444, 0.062378572102235214, 0.05287182872771857, 0.8105064604357257, 0.01167594077147977, 0.041346788644723194, 0.4045270206545317, 0.23238706026596245, 0.8873526360464019, 0.24451570310289542, 0.03231160992172027, 0.08129774592096577, 0.26381212864283693, 0.40790342355937, 0.5006130340469679, 0.5681033669716118, 0.06911251532585118, 0.01576912194661888, 0.851475997359238, 0.06401961708950298, 0.1843440535697444, 0.2657361124210129, 0.1987362067339432, 0.21559935867207394, 0.1572196548146751, 0.5939073847024428, 0.03129303027445063, 0.7230972366311421, 0.34150712062623784, 0.3086107705366406, 0.7310761105347543, 0.270376308591908, 0.036782042818070355, 0.8835423936621711, 0.07079128548524002, 0.46569838724889184, 0.1346222767141375, 0.03146279354899557, 0.025539941525983212, 0.030859190795058004, 0.08365556917853438, 0.45358860699801945, 0.8107139488823918, 0.112439875506932, 0.1982646420824295, 0.2929170989342639, 0.26362350278223146, 1.049759502027728, 0.612920871451476, 0.6599830236725455, 0.13533905498443838, 0.6875789870791286, 0.2215976610393285, 0.060624351598604166, 0.11928699424691125, 0.2392341790059417, 0.05687069697255494, 0.01441101575025936, 0.1527114967462039, 1.3025936055833254, 0.024653399981137414, 0.017919456757521456, 0.42793548995567293, 0.030255588041120437, 0.5208337263038763, 0.062378572102235214, 0.3555974724134679, 0.2980854475148543, 0.20946901820239555, 0.34412902008865415, 0.1436008676789588, 0.024295010845986984, 0.11579741582570971, 0.22146562293690464, 0.048778647552579456, 0.9290578138262756, 0.6420824295010846, 0.09189851928699425, 0.017089502970857304, 0.10040554560030181, 1.4410449872677544, 0.6957087616712251, 0.09902857681788173, 0.40626237857210223, 0.1623125530510233, 0.21767424313873432, 0.13624445911534472, 0.4904649627463925, 0.5229840611147788, 0.6617372441761765, 0.6819013486749034, 0.3567480901631614, 0.43504668490049986, 0.03283976233141564, 0.20252758653211356, 0.068659813260398, 0.8954824106384985, 0.0479864189380364, 0.26409506743374517, 0.4688484391210035, 0.020182967084787326, 1.2671885315476752, 0.5425068376874469, 0.22538904083749883, 0.5952277657266811, 0.20971423182118268, 0.07073469772705838, 0.14412902008865416, 0.8369518060926153, 1.1665377723285864, 0.06709421861737244, 0.26194473262284257, 0.7979628407054608, 0.27050834669433177, 0.028576817881731584, 0.5537678015655947, 0.20033952654908987, 0.35431481656135055, 0.047495991700462134, 0.03600867678958785, 0.7386965953032161, 1.0, 0.3752900122606809, 0.248212769970763, 0.11376025653117042, 0.041478826747147035, 0.06673582948222201, 0.03261341129868905], \"yaxis\": \"y\"}],\n",
       "                        {\"height\": 500, \"legend\": {\"itemsizing\": \"constant\", \"tracegroupgap\": 0}, \"margin\": {\"t\": 60}, \"template\": {\"data\": {\"bar\": [{\"error_x\": {\"color\": \"#2a3f5f\"}, \"error_y\": {\"color\": \"#2a3f5f\"}, \"marker\": {\"line\": {\"color\": \"white\", \"width\": 0.5}}, \"type\": \"bar\"}], \"barpolar\": [{\"marker\": {\"line\": {\"color\": \"white\", \"width\": 0.5}}, \"type\": \"barpolar\"}], \"carpet\": [{\"aaxis\": {\"endlinecolor\": \"#2a3f5f\", \"gridcolor\": \"#C8D4E3\", \"linecolor\": \"#C8D4E3\", \"minorgridcolor\": \"#C8D4E3\", \"startlinecolor\": \"#2a3f5f\"}, \"baxis\": {\"endlinecolor\": \"#2a3f5f\", \"gridcolor\": \"#C8D4E3\", \"linecolor\": \"#C8D4E3\", \"minorgridcolor\": \"#C8D4E3\", \"startlinecolor\": \"#2a3f5f\"}, \"type\": \"carpet\"}], \"choropleth\": [{\"colorbar\": {\"outlinewidth\": 0, \"ticks\": \"\"}, \"type\": \"choropleth\"}], \"contour\": [{\"colorbar\": {\"outlinewidth\": 0, \"ticks\": \"\"}, \"colorscale\": [[0.0, \"#0d0887\"], [0.1111111111111111, \"#46039f\"], [0.2222222222222222, \"#7201a8\"], [0.3333333333333333, \"#9c179e\"], [0.4444444444444444, \"#bd3786\"], [0.5555555555555556, \"#d8576b\"], [0.6666666666666666, \"#ed7953\"], [0.7777777777777778, \"#fb9f3a\"], [0.8888888888888888, \"#fdca26\"], [1.0, \"#f0f921\"]], \"type\": \"contour\"}], \"contourcarpet\": [{\"colorbar\": {\"outlinewidth\": 0, \"ticks\": \"\"}, \"type\": \"contourcarpet\"}], \"heatmap\": [{\"colorbar\": {\"outlinewidth\": 0, \"ticks\": \"\"}, \"colorscale\": [[0.0, \"#0d0887\"], [0.1111111111111111, \"#46039f\"], [0.2222222222222222, \"#7201a8\"], [0.3333333333333333, \"#9c179e\"], [0.4444444444444444, \"#bd3786\"], [0.5555555555555556, \"#d8576b\"], [0.6666666666666666, \"#ed7953\"], [0.7777777777777778, \"#fb9f3a\"], [0.8888888888888888, \"#fdca26\"], [1.0, \"#f0f921\"]], \"type\": \"heatmap\"}], \"heatmapgl\": [{\"colorbar\": {\"outlinewidth\": 0, \"ticks\": \"\"}, \"colorscale\": [[0.0, \"#0d0887\"], [0.1111111111111111, \"#46039f\"], [0.2222222222222222, \"#7201a8\"], [0.3333333333333333, \"#9c179e\"], [0.4444444444444444, \"#bd3786\"], [0.5555555555555556, \"#d8576b\"], [0.6666666666666666, \"#ed7953\"], [0.7777777777777778, \"#fb9f3a\"], [0.8888888888888888, \"#fdca26\"], [1.0, \"#f0f921\"]], \"type\": \"heatmapgl\"}], \"histogram\": [{\"marker\": {\"colorbar\": {\"outlinewidth\": 0, \"ticks\": \"\"}}, \"type\": \"histogram\"}], \"histogram2d\": [{\"colorbar\": {\"outlinewidth\": 0, \"ticks\": \"\"}, \"colorscale\": [[0.0, \"#0d0887\"], [0.1111111111111111, \"#46039f\"], [0.2222222222222222, \"#7201a8\"], [0.3333333333333333, \"#9c179e\"], [0.4444444444444444, \"#bd3786\"], [0.5555555555555556, \"#d8576b\"], [0.6666666666666666, \"#ed7953\"], [0.7777777777777778, \"#fb9f3a\"], [0.8888888888888888, \"#fdca26\"], [1.0, \"#f0f921\"]], \"type\": \"histogram2d\"}], \"histogram2dcontour\": [{\"colorbar\": {\"outlinewidth\": 0, \"ticks\": \"\"}, \"colorscale\": [[0.0, \"#0d0887\"], [0.1111111111111111, \"#46039f\"], [0.2222222222222222, \"#7201a8\"], [0.3333333333333333, \"#9c179e\"], [0.4444444444444444, \"#bd3786\"], [0.5555555555555556, \"#d8576b\"], [0.6666666666666666, \"#ed7953\"], [0.7777777777777778, \"#fb9f3a\"], [0.8888888888888888, \"#fdca26\"], [1.0, \"#f0f921\"]], \"type\": \"histogram2dcontour\"}], \"mesh3d\": [{\"colorbar\": {\"outlinewidth\": 0, \"ticks\": \"\"}, \"type\": \"mesh3d\"}], \"parcoords\": [{\"line\": {\"colorbar\": {\"outlinewidth\": 0, \"ticks\": \"\"}}, \"type\": \"parcoords\"}], \"pie\": [{\"automargin\": true, \"type\": \"pie\"}], \"scatter\": [{\"marker\": {\"colorbar\": {\"outlinewidth\": 0, \"ticks\": \"\"}}, \"type\": \"scatter\"}], \"scatter3d\": [{\"line\": {\"colorbar\": {\"outlinewidth\": 0, \"ticks\": \"\"}}, \"marker\": {\"colorbar\": {\"outlinewidth\": 0, \"ticks\": \"\"}}, \"type\": \"scatter3d\"}], \"scattercarpet\": [{\"marker\": {\"colorbar\": {\"outlinewidth\": 0, \"ticks\": \"\"}}, \"type\": \"scattercarpet\"}], \"scattergeo\": [{\"marker\": {\"colorbar\": {\"outlinewidth\": 0, \"ticks\": \"\"}}, \"type\": \"scattergeo\"}], \"scattergl\": [{\"marker\": {\"colorbar\": {\"outlinewidth\": 0, \"ticks\": \"\"}}, \"type\": \"scattergl\"}], \"scattermapbox\": [{\"marker\": {\"colorbar\": {\"outlinewidth\": 0, \"ticks\": \"\"}}, \"type\": \"scattermapbox\"}], \"scatterpolar\": [{\"marker\": {\"colorbar\": {\"outlinewidth\": 0, \"ticks\": \"\"}}, \"type\": \"scatterpolar\"}], \"scatterpolargl\": [{\"marker\": {\"colorbar\": {\"outlinewidth\": 0, \"ticks\": \"\"}}, \"type\": \"scatterpolargl\"}], \"scatterternary\": [{\"marker\": {\"colorbar\": {\"outlinewidth\": 0, \"ticks\": \"\"}}, \"type\": \"scatterternary\"}], \"surface\": [{\"colorbar\": {\"outlinewidth\": 0, \"ticks\": \"\"}, \"colorscale\": [[0.0, \"#0d0887\"], [0.1111111111111111, \"#46039f\"], [0.2222222222222222, \"#7201a8\"], [0.3333333333333333, \"#9c179e\"], [0.4444444444444444, \"#bd3786\"], [0.5555555555555556, \"#d8576b\"], [0.6666666666666666, \"#ed7953\"], [0.7777777777777778, \"#fb9f3a\"], [0.8888888888888888, \"#fdca26\"], [1.0, \"#f0f921\"]], \"type\": \"surface\"}], \"table\": [{\"cells\": {\"fill\": {\"color\": \"#EBF0F8\"}, \"line\": {\"color\": \"white\"}}, \"header\": {\"fill\": {\"color\": \"#C8D4E3\"}, \"line\": {\"color\": \"white\"}}, \"type\": \"table\"}]}, \"layout\": {\"annotationdefaults\": {\"arrowcolor\": \"#2a3f5f\", \"arrowhead\": 0, \"arrowwidth\": 1}, \"coloraxis\": {\"colorbar\": {\"outlinewidth\": 0, \"ticks\": \"\"}}, \"colorscale\": {\"diverging\": [[0, \"#8e0152\"], [0.1, \"#c51b7d\"], [0.2, \"#de77ae\"], [0.3, \"#f1b6da\"], [0.4, \"#fde0ef\"], [0.5, \"#f7f7f7\"], [0.6, \"#e6f5d0\"], [0.7, \"#b8e186\"], [0.8, \"#7fbc41\"], [0.9, \"#4d9221\"], [1, \"#276419\"]], \"sequential\": [[0.0, \"#0d0887\"], [0.1111111111111111, \"#46039f\"], [0.2222222222222222, \"#7201a8\"], [0.3333333333333333, \"#9c179e\"], [0.4444444444444444, \"#bd3786\"], [0.5555555555555556, \"#d8576b\"], [0.6666666666666666, \"#ed7953\"], [0.7777777777777778, \"#fb9f3a\"], [0.8888888888888888, \"#fdca26\"], [1.0, \"#f0f921\"]], \"sequentialminus\": [[0.0, \"#0d0887\"], [0.1111111111111111, \"#46039f\"], [0.2222222222222222, \"#7201a8\"], [0.3333333333333333, \"#9c179e\"], [0.4444444444444444, \"#bd3786\"], [0.5555555555555556, \"#d8576b\"], [0.6666666666666666, \"#ed7953\"], [0.7777777777777778, \"#fb9f3a\"], [0.8888888888888888, \"#fdca26\"], [1.0, \"#f0f921\"]]}, \"colorway\": [\"#636efa\", \"#EF553B\", \"#00cc96\", \"#ab63fa\", \"#FFA15A\", \"#19d3f3\", \"#FF6692\", \"#B6E880\", \"#FF97FF\", \"#FECB52\"], \"font\": {\"color\": \"#2a3f5f\"}, \"geo\": {\"bgcolor\": \"white\", \"lakecolor\": \"white\", \"landcolor\": \"white\", \"showlakes\": true, \"showland\": true, \"subunitcolor\": \"#C8D4E3\"}, \"hoverlabel\": {\"align\": \"left\"}, \"hovermode\": \"closest\", \"mapbox\": {\"style\": \"light\"}, \"paper_bgcolor\": \"white\", \"plot_bgcolor\": \"white\", \"polar\": {\"angularaxis\": {\"gridcolor\": \"#EBF0F8\", \"linecolor\": \"#EBF0F8\", \"ticks\": \"\"}, \"bgcolor\": \"white\", \"radialaxis\": {\"gridcolor\": \"#EBF0F8\", \"linecolor\": \"#EBF0F8\", \"ticks\": \"\"}}, \"scene\": {\"xaxis\": {\"backgroundcolor\": \"white\", \"gridcolor\": \"#DFE8F3\", \"gridwidth\": 2, \"linecolor\": \"#EBF0F8\", \"showbackground\": true, \"ticks\": \"\", \"zerolinecolor\": \"#EBF0F8\"}, \"yaxis\": {\"backgroundcolor\": \"white\", \"gridcolor\": \"#DFE8F3\", \"gridwidth\": 2, \"linecolor\": \"#EBF0F8\", \"showbackground\": true, \"ticks\": \"\", \"zerolinecolor\": \"#EBF0F8\"}, \"zaxis\": {\"backgroundcolor\": \"white\", \"gridcolor\": \"#DFE8F3\", \"gridwidth\": 2, \"linecolor\": \"#EBF0F8\", \"showbackground\": true, \"ticks\": \"\", \"zerolinecolor\": \"#EBF0F8\"}}, \"shapedefaults\": {\"line\": {\"color\": \"#2a3f5f\"}}, \"ternary\": {\"aaxis\": {\"gridcolor\": \"#DFE8F3\", \"linecolor\": \"#A2B1C6\", \"ticks\": \"\"}, \"baxis\": {\"gridcolor\": \"#DFE8F3\", \"linecolor\": \"#A2B1C6\", \"ticks\": \"\"}, \"bgcolor\": \"white\", \"caxis\": {\"gridcolor\": \"#DFE8F3\", \"linecolor\": \"#A2B1C6\", \"ticks\": \"\"}}, \"title\": {\"x\": 0.05}, \"xaxis\": {\"automargin\": true, \"gridcolor\": \"#EBF0F8\", \"linecolor\": \"#EBF0F8\", \"ticks\": \"\", \"title\": {\"standoff\": 15}, \"zerolinecolor\": \"#EBF0F8\", \"zerolinewidth\": 2}, \"yaxis\": {\"automargin\": true, \"gridcolor\": \"#EBF0F8\", \"linecolor\": \"#EBF0F8\", \"ticks\": \"\", \"title\": {\"standoff\": 15}, \"zerolinecolor\": \"#EBF0F8\", \"zerolinewidth\": 2}}}, \"width\": 500, \"xaxis\": {\"anchor\": \"y\", \"domain\": [0.0, 1.0], \"range\": [0, 1.3], \"title\": {\"text\": \"1960\"}}, \"yaxis\": {\"anchor\": \"x\", \"domain\": [0.0, 1.0], \"range\": [0, 1.3], \"title\": {\"text\": \"2016\"}}},\n",
       "                        {\"responsive\": true}\n",
       "                    ).then(function(){\n",
       "                            \n",
       "var gd = document.getElementById('83674b8e-024a-4e84-873d-7291bc01dabb');\n",
       "var x = new MutationObserver(function (mutations, observer) {{\n",
       "        var display = window.getComputedStyle(gd).display;\n",
       "        if (!display || display === 'none') {{\n",
       "            console.log([gd, 'removed!']);\n",
       "            Plotly.purge(gd);\n",
       "            observer.disconnect();\n",
       "        }}\n",
       "}});\n",
       "\n",
       "// Listen for the removal of the full notebook cells\n",
       "var notebookContainer = gd.closest('#notebook-container');\n",
       "if (notebookContainer) {{\n",
       "    x.observe(notebookContainer, {childList: true});\n",
       "}}\n",
       "\n",
       "// Listen for the clearing of the current output cell\n",
       "var outputEl = gd.closest('.output');\n",
       "if (outputEl) {{\n",
       "    x.observe(outputEl, {childList: true});\n",
       "}}\n",
       "\n",
       "                        })\n",
       "                };\n",
       "                });\n",
       "            </script>\n",
       "        </div>"
      ]
     },
     "metadata": {},
     "output_type": "display_data"
    }
   ],
   "source": [
    "data"
   ]
  },
  {
   "cell_type": "code",
   "execution_count": 81,
   "metadata": {},
   "outputs": [
    {
     "data": {
      "text/plain": [
       "'../files/myplot.html'"
      ]
     },
     "execution_count": 81,
     "metadata": {},
     "output_type": "execute_result"
    }
   ],
   "source": [
    "py.offline.plot(data, filename='../files/myplot.html')"
   ]
  },
  {
   "cell_type": "code",
   "execution_count": null,
   "metadata": {},
   "outputs": [],
   "source": []
  }
 ],
 "metadata": {
  "kernelspec": {
   "display_name": "Python 3",
   "language": "python",
   "name": "python3"
  },
  "language_info": {
   "codemirror_mode": {
    "name": "ipython",
    "version": 3
   },
   "file_extension": ".py",
   "mimetype": "text/x-python",
   "name": "python",
   "nbconvert_exporter": "python",
   "pygments_lexer": "ipython3",
   "version": "3.7.7"
  }
 },
 "nbformat": 4,
 "nbformat_minor": 2
}
