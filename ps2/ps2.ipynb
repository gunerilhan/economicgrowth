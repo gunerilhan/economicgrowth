{
 "cells": [
  {
   "cell_type": "markdown",
   "metadata": {},
   "source": [
    "### Solutions of PS2\n",
    "\n",
    "This notebook is in html. To be able to run it, please click: [![Open In Colab](https://colab.research.google.com/assets/colab-badge.svg)](https://colab.research.google.com/github/gunerilhan/economicgrowth/blob/master/ps2/ps2.ipynb)"
   ]
  },
  {
   "cell_type": "code",
   "execution_count": 1,
   "metadata": {},
   "outputs": [],
   "source": [
    "# First import the packages we'll need\n",
    "# Numpy is for numerical analysis\n",
    "import numpy as np\n",
    "# Pandas is for data storage and manipulation\n",
    "import pandas as pd\n",
    "# Matplotlib and seaborn are for plotting\n",
    "import matplotlib.pyplot as plt\n",
    "%matplotlib inline\n",
    "import seaborn as sns\n",
    "from matplotlib import style\n",
    "style.use('https://gunerilhan.github.io/img/fivethirtyeight-modified.mplstyle')"
   ]
  },
  {
   "cell_type": "code",
   "execution_count": 2,
   "metadata": {},
   "outputs": [],
   "source": [
    "# Different color palettes that can be used in plots\n",
    "colors = {0:['#264653','#219D8F','#E9C46A','#F4A261','#E76F51'],\n",
    "  1:['#003049','#D62828','#F77F00','#FCBF49','#EAE2B7'],\n",
    "  2:['#F72585','#7209B7','#3A0CA3','#4361EE','#4CC9F0'],\n",
    "  3: ['#165aa7','#cb495c','#bb60d5','#f47915','#06ab54','#002070','#b27d12','#007030']}\n",
    "\n"
   ]
  },
  {
   "cell_type": "markdown",
   "metadata": {},
   "source": [
    "\n",
    "1. Go to the following website: https://www.rug.nl/ggdc/productivity/pwt/\n",
    "\n",
    "Download Penn World Table version 10.0 database in your preferred format. Consider the following countries: the UK, Argentina, Denmark, Central African Republic, Nigeria and Italy.\n",
    "\n",
    "a.  Using data in 2019, calculate real output per worker and human capital index for each of the countries listed above. Use \n",
    " - 'cgdpe' (Expenditure-side real GDP at current PPPs (in mil. 2017US$)) as a measure of real GDP,\n",
    " - 'emp' (Number of persons engaged (in millions)) as a measure of employment, \n",
    " - and 'hc' (Human capital index, based on years of schooling and returns to education) as a measure of human capital.\n",
    "\n",
    "b.  Assume a Cobb-Douglas production function with $\\alpha=1/3$. Suppose countries differ only with respect to their investment rates. For each country listed above, calculate Solow model's predicted output per worker relative to the UK output per worker. For investment rates of countries, use average of variable `csh\\_i' (Share of gross capital formation at current PPPs) over the years 1970-2019. Generate a table comparing Solow model's predicted output per worker relative to the UK with actual output per worker relative to the UK (in 2019, or in the latest available year). Hint, I ask you to do an exercise similar to what we have done in lecture 3. Briefly comment on the table. \n",
    "\n",
    "c. Now, assume that countries differ with respect to their investment rates and employment growth rates. Assume that depreciation rates in all countries are equal to 5%, $\\delta=0.05$. Calculate average annual employment growth rates of the above listed countries from 1970 to 2019. Repeat the exercise in part b. Create a table that compares Solow model's predicted output per worker differences with actual output per worker differences relative to the UK. Briefly comment on the table.\n",
    "\n",
    "d. Now, assume that countries differ not only in their investment and employment growth rates but also in their human capital. For this exercise use variable hc in 2019 (Human capital index, based on years of schooling and returns to education) as $h$ in the Solow model. Assume that depreciation rates in all countries are equal to 5%, $\\delta=0.05$. Repeat part c while considering human capital differences across countries. Create a table and briefly comment on it.\n",
    "\n",
    "e.Do your predictions approach to actual income differences as you take into account more variables? \n",
    "\n"
   ]
  },
  {
   "cell_type": "code",
   "execution_count": 3,
   "metadata": {
    "scrolled": true
   },
   "outputs": [],
   "source": [
    "# Here, I download the Penn World Tables legend\n",
    "df_legend = pd.read_excel('https://www.rug.nl/ggdc/docs/pwt100.xlsx',sheet_name='Legend')\n",
    "df_legend.dropna(subset=['Variable name','Variable definition'],inplace=True)\n",
    "# I create a dictionary of variables names and definitions\n",
    "df_legend = dict(zip(df_legend['Variable name'],df_legend['Variable definition']))"
   ]
  },
  {
   "cell_type": "code",
   "execution_count": 4,
   "metadata": {
    "scrolled": true
   },
   "outputs": [
    {
     "name": "stdout",
     "output_type": "stream",
     "text": [
      "cgdpe =  Expenditure-side real GDP at current PPPs (in mil. 2017US$)\n",
      "rnna =  Capital stock at constant 2017 national prices (in mil. 2017US$)\n",
      "emp =  Number of persons engaged (in millions)\n",
      "hc = Human capital index, based on years of schooling and returns to education; see Human capital in PWT9.\n",
      "csh_i = Share of gross capital formation at current PPPs\n"
     ]
    }
   ],
   "source": [
    "# Here are the variables, we will need in this analysis\n",
    "print('cgdpe = ', df_legend['cgdpe'])\n",
    "print('rnna = ', df_legend['rnna'])\n",
    "print('emp = ', df_legend['emp'])\n",
    "print('hc =', df_legend['hc'])\n",
    "print('csh_i =', df_legend['csh_i'])"
   ]
  },
  {
   "cell_type": "code",
   "execution_count": 5,
   "metadata": {},
   "outputs": [],
   "source": [
    "# now download the data\n",
    "df = pd.read_excel('https://www.rug.nl/ggdc/docs/pwt100.xlsx',sheet_name='Data')"
   ]
  },
  {
   "cell_type": "code",
   "execution_count": 6,
   "metadata": {},
   "outputs": [],
   "source": [
    "# create GDP per worker \n",
    "df['gdpPerworker'] = df['cgdpe']/df.emp"
   ]
  },
  {
   "cell_type": "code",
   "execution_count": 7,
   "metadata": {},
   "outputs": [],
   "source": [
    "# Penn World Tables contain many variables, but these are the variables ...\n",
    "# I need to create the table asked in part a\n",
    "var_list = ['countrycode','country','cgdpe','emp','hc','year']"
   ]
  },
  {
   "cell_type": "code",
   "execution_count": 8,
   "metadata": {},
   "outputs": [],
   "source": [
    "# List of countries\n",
    "country_list = ['GBR','ARG','DNK','CAF','NGA','ITA']"
   ]
  },
  {
   "cell_type": "code",
   "execution_count": 9,
   "metadata": {},
   "outputs": [
    {
     "data": {
      "text/html": [
       "<div>\n",
       "<style scoped>\n",
       "    .dataframe tbody tr th:only-of-type {\n",
       "        vertical-align: middle;\n",
       "    }\n",
       "\n",
       "    .dataframe tbody tr th {\n",
       "        vertical-align: top;\n",
       "    }\n",
       "\n",
       "    .dataframe thead th {\n",
       "        text-align: right;\n",
       "    }\n",
       "</style>\n",
       "<table border=\"1\" class=\"dataframe\">\n",
       "  <thead>\n",
       "    <tr style=\"text-align: right;\">\n",
       "      <th></th>\n",
       "      <th>country</th>\n",
       "      <th>year</th>\n",
       "      <th>gdpPerworker</th>\n",
       "      <th>hc</th>\n",
       "      <th>emp</th>\n",
       "      <th>pop</th>\n",
       "    </tr>\n",
       "  </thead>\n",
       "  <tbody>\n",
       "    <tr>\n",
       "      <th>419</th>\n",
       "      <td>Argentina</td>\n",
       "      <td>2019</td>\n",
       "      <td>48028.63</td>\n",
       "      <td>3.10</td>\n",
       "      <td>20.64</td>\n",
       "      <td>44.78</td>\n",
       "    </tr>\n",
       "    <tr>\n",
       "      <th>2099</th>\n",
       "      <td>Central African Republic</td>\n",
       "      <td>2019</td>\n",
       "      <td>2452.78</td>\n",
       "      <td>1.56</td>\n",
       "      <td>1.84</td>\n",
       "      <td>4.75</td>\n",
       "    </tr>\n",
       "    <tr>\n",
       "      <th>3499</th>\n",
       "      <td>Denmark</td>\n",
       "      <td>2019</td>\n",
       "      <td>108220.47</td>\n",
       "      <td>3.60</td>\n",
       "      <td>2.97</td>\n",
       "      <td>5.77</td>\n",
       "    </tr>\n",
       "    <tr>\n",
       "      <th>4339</th>\n",
       "      <td>United Kingdom</td>\n",
       "      <td>2019</td>\n",
       "      <td>94307.44</td>\n",
       "      <td>3.77</td>\n",
       "      <td>32.98</td>\n",
       "      <td>67.53</td>\n",
       "    </tr>\n",
       "    <tr>\n",
       "      <th>5949</th>\n",
       "      <td>Italy</td>\n",
       "      <td>2019</td>\n",
       "      <td>97679.75</td>\n",
       "      <td>3.16</td>\n",
       "      <td>25.60</td>\n",
       "      <td>60.55</td>\n",
       "    </tr>\n",
       "    <tr>\n",
       "      <th>8749</th>\n",
       "      <td>Nigeria</td>\n",
       "      <td>2019</td>\n",
       "      <td>13446.26</td>\n",
       "      <td>1.97</td>\n",
       "      <td>73.02</td>\n",
       "      <td>200.96</td>\n",
       "    </tr>\n",
       "  </tbody>\n",
       "</table>\n",
       "</div>"
      ],
      "text/plain": [
       "                       country  year  gdpPerworker    hc    emp     pop\n",
       "419                  Argentina  2019      48028.63  3.10  20.64   44.78\n",
       "2099  Central African Republic  2019       2452.78  1.56   1.84    4.75\n",
       "3499                   Denmark  2019     108220.47  3.60   2.97    5.77\n",
       "4339            United Kingdom  2019      94307.44  3.77  32.98   67.53\n",
       "5949                     Italy  2019      97679.75  3.16  25.60   60.55\n",
       "8749                   Nigeria  2019      13446.26  1.97  73.02  200.96"
      ]
     },
     "execution_count": 9,
     "metadata": {},
     "output_type": "execute_result"
    }
   ],
   "source": [
    "## Here, we create the table asked in part a)\n",
    "\n",
    "# This cell does five things:\n",
    "# 1) It selects the countries in my list: df.countrycode.isin(country_list)\n",
    "# 2) It selects year 2017: (df.year==201-)\n",
    "# 3) It selects the variables that I want to display :\n",
    "#               [['country','year','gdpPerworker','hc','emp','pop']]\n",
    "# 4) It rounds the variables to 2 decimal points: .round(decimals=2)\n",
    "# 5) Sets country as index: .set_index('country') \n",
    "df[df.countrycode.isin(country_list) & (df.year==2019)][\n",
    "    ['country','year','gdpPerworker','hc','emp','pop']].round(decimals=2)"
   ]
  },
  {
   "cell_type": "code",
   "execution_count": 10,
   "metadata": {},
   "outputs": [],
   "source": [
    "## To solve part b, I first need to calculate average investment rate ...\n",
    "# for each country from 1970 to 2009\n",
    "\n",
    "# This cell does the following things:\n",
    "# 1) It selects data from years 1970 to 2019: df[df.year.isin(np.arange(1970,2020))]\n",
    "# np.arange(1970,2020) creates a list from 1970 to 2019.\n",
    "# intervals on python is right-open. Hence np.arange(1970,2020) creates \n",
    "# an array that does not inclue 2020\n",
    "# 2) it takes averages of the investment rates for each country:\n",
    "                #.groupby(['countrycode','country'])['csh_i'].mean()\n",
    "# 3) it resets data index\n",
    "# 4) it renames 'csh_i' variable to \"Investment rate\"\n",
    "    \n",
    "begin,end=1970,2019\n",
    "df_fundamentals = (df[df.year.isin(np.arange(begin,end+1))]\n",
    "                   .groupby(['countrycode','country'])['csh_i'].mean().reset_index().rename(\n",
    "                       columns={'csh_i':'Investment rate'}))"
   ]
  },
  {
   "cell_type": "code",
   "execution_count": 11,
   "metadata": {
    "scrolled": true
   },
   "outputs": [
    {
     "data": {
      "text/html": [
       "<div>\n",
       "<style scoped>\n",
       "    .dataframe tbody tr th:only-of-type {\n",
       "        vertical-align: middle;\n",
       "    }\n",
       "\n",
       "    .dataframe tbody tr th {\n",
       "        vertical-align: top;\n",
       "    }\n",
       "\n",
       "    .dataframe thead th {\n",
       "        text-align: right;\n",
       "    }\n",
       "</style>\n",
       "<table border=\"1\" class=\"dataframe\">\n",
       "  <thead>\n",
       "    <tr style=\"text-align: right;\">\n",
       "      <th></th>\n",
       "      <th>country</th>\n",
       "      <th>Investment rate</th>\n",
       "    </tr>\n",
       "    <tr>\n",
       "      <th>countrycode</th>\n",
       "      <th></th>\n",
       "      <th></th>\n",
       "    </tr>\n",
       "  </thead>\n",
       "  <tbody>\n",
       "    <tr>\n",
       "      <th>GBR</th>\n",
       "      <td>United Kingdom</td>\n",
       "      <td>0.23</td>\n",
       "    </tr>\n",
       "    <tr>\n",
       "      <th>ARG</th>\n",
       "      <td>Argentina</td>\n",
       "      <td>0.15</td>\n",
       "    </tr>\n",
       "    <tr>\n",
       "      <th>DNK</th>\n",
       "      <td>Denmark</td>\n",
       "      <td>0.26</td>\n",
       "    </tr>\n",
       "    <tr>\n",
       "      <th>CAF</th>\n",
       "      <td>Central African Republic</td>\n",
       "      <td>0.14</td>\n",
       "    </tr>\n",
       "    <tr>\n",
       "      <th>NGA</th>\n",
       "      <td>Nigeria</td>\n",
       "      <td>0.38</td>\n",
       "    </tr>\n",
       "    <tr>\n",
       "      <th>ITA</th>\n",
       "      <td>Italy</td>\n",
       "      <td>0.26</td>\n",
       "    </tr>\n",
       "  </tbody>\n",
       "</table>\n",
       "</div>"
      ],
      "text/plain": [
       "                              country  Investment rate\n",
       "countrycode                                           \n",
       "GBR                    United Kingdom             0.23\n",
       "ARG                         Argentina             0.15\n",
       "DNK                           Denmark             0.26\n",
       "CAF          Central African Republic             0.14\n",
       "NGA                           Nigeria             0.38\n",
       "ITA                             Italy             0.26"
      ]
     },
     "execution_count": 11,
     "metadata": {},
     "output_type": "execute_result"
    }
   ],
   "source": [
    "# Now look at he investment rate of the countries we calculated above\n",
    "# In fact we calculated invesment rate for each country in our data\n",
    "# we display investment rate only for the countries we are interested in\n",
    "\n",
    "df_fundamentals.set_index('countrycode',inplace=True)\n",
    "df_fundamentals.loc[country_list].round(decimals=2)"
   ]
  },
  {
   "cell_type": "code",
   "execution_count": 12,
   "metadata": {},
   "outputs": [],
   "source": [
    "# In part c, we need to calculate the average employment growth"
   ]
  },
  {
   "cell_type": "code",
   "execution_count": 13,
   "metadata": {},
   "outputs": [],
   "source": [
    "# first sort our data by country and by year\n",
    "# we need by year sorting to ensure that 1970 data comes earlier than 2017 data ...\n",
    "# in our dataset. We need this in the next cell\n",
    "df.sort_values(['countrycode','year'],inplace=True)"
   ]
  },
  {
   "cell_type": "code",
   "execution_count": 14,
   "metadata": {},
   "outputs": [],
   "source": [
    "# This cell calculates the average annual employment growth rate from 1970 to 2017\n",
    "# It first selects the years 1970 and 2019\n",
    "# For each country it calculate average annual employment growth rate ...\n",
    "# using this formula = (emp_2019/emp_1970)^(1/49)-1\n",
    "# there are multiple ways of calculating average employment growth rate,...\n",
    "# the above is one of them\n",
    "\n",
    "# Here is how code works:\n",
    "# 1) it selects data from years 1970 and 2019: df[df.year.isin([1970,2019])]\n",
    "# 2) It groups the data based on countrycodes: .groupby(['countrycode']\n",
    "# 3) for each country code, we have 2 observations, from 1970 and from 2019\n",
    "# x['emp'].values[0] is the first observation from 1970 \n",
    "# x['emp'].values[1] is the second observation from 2019\n",
    "# the average annual employment growth is equal to \n",
    "# x['emp'].values[1]/x['emp'].values[0])**(1/49)-1, ...\n",
    "# where x represent a country\n",
    "# 4) Lastly it renames what we calculated as \n",
    "# 'Employment growth': .rename(columns={0:'Employment growth'})\n",
    "\n",
    "df_emp_growth = (df[df.year.isin([begin,end])]\n",
    "                 .groupby(['countrycode']).apply(lambda x: \n",
    "                (x['emp'].values[1]/x['emp'].values[0])**(1/(end-begin))-1)\n",
    "                 .reset_index().rename(columns={0:'Employment growth'}))"
   ]
  },
  {
   "cell_type": "code",
   "execution_count": 15,
   "metadata": {
    "scrolled": true
   },
   "outputs": [
    {
     "data": {
      "text/html": [
       "<div>\n",
       "<style scoped>\n",
       "    .dataframe tbody tr th:only-of-type {\n",
       "        vertical-align: middle;\n",
       "    }\n",
       "\n",
       "    .dataframe tbody tr th {\n",
       "        vertical-align: top;\n",
       "    }\n",
       "\n",
       "    .dataframe thead th {\n",
       "        text-align: right;\n",
       "    }\n",
       "</style>\n",
       "<table border=\"1\" class=\"dataframe\">\n",
       "  <thead>\n",
       "    <tr style=\"text-align: right;\">\n",
       "      <th></th>\n",
       "      <th>Employment growth</th>\n",
       "    </tr>\n",
       "    <tr>\n",
       "      <th>countrycode</th>\n",
       "      <th></th>\n",
       "    </tr>\n",
       "  </thead>\n",
       "  <tbody>\n",
       "    <tr>\n",
       "      <th>GBR</th>\n",
       "      <td>0.006</td>\n",
       "    </tr>\n",
       "    <tr>\n",
       "      <th>ARG</th>\n",
       "      <td>0.018</td>\n",
       "    </tr>\n",
       "    <tr>\n",
       "      <th>DNK</th>\n",
       "      <td>0.004</td>\n",
       "    </tr>\n",
       "    <tr>\n",
       "      <th>CAF</th>\n",
       "      <td>NaN</td>\n",
       "    </tr>\n",
       "    <tr>\n",
       "      <th>NGA</th>\n",
       "      <td>0.025</td>\n",
       "    </tr>\n",
       "    <tr>\n",
       "      <th>ITA</th>\n",
       "      <td>0.005</td>\n",
       "    </tr>\n",
       "  </tbody>\n",
       "</table>\n",
       "</div>"
      ],
      "text/plain": [
       "             Employment growth\n",
       "countrycode                   \n",
       "GBR                      0.006\n",
       "ARG                      0.018\n",
       "DNK                      0.004\n",
       "CAF                        NaN\n",
       "NGA                      0.025\n",
       "ITA                      0.005"
      ]
     },
     "execution_count": 15,
     "metadata": {},
     "output_type": "execute_result"
    }
   ],
   "source": [
    "# show the employment growth rate for the countries we selected\n",
    "df_emp_growth.set_index('countrycode',inplace=True)\n",
    "df_emp_growth.loc[country_list].round(decimals=3)"
   ]
  },
  {
   "cell_type": "markdown",
   "metadata": {},
   "source": [
    "Above, since data for CAF is missing in 1970, our method did not give a result for CAF. \n",
    "Alternatively, we could calculate employment growth for each available year, and take average of the \n",
    "employment growth rates."
   ]
  },
  {
   "cell_type": "code",
   "execution_count": 16,
   "metadata": {},
   "outputs": [],
   "source": [
    "# merge df_fundamentals data (contains invesment rates) \n",
    "# with df_emp_growth (contains employment growth rate)\n",
    "df_fundamentals= df_fundamentals.join(df_emp_growth,how='left')"
   ]
  },
  {
   "cell_type": "code",
   "execution_count": 17,
   "metadata": {
    "scrolled": true
   },
   "outputs": [],
   "source": [
    "# in part d, we will need human capital values\n",
    "# merge our df_fundamentals data with the Penn World Tables\n",
    "# but, we don't need all of PWT, select only year 2019, and other required variables\n",
    "df_fundamentals = df_fundamentals.join(df[df.year == end].set_index('countrycode')[\n",
    "    ['emp','gdpPerworker','hc']],how='left')"
   ]
  },
  {
   "cell_type": "code",
   "execution_count": 18,
   "metadata": {},
   "outputs": [],
   "source": [
    "# we will calculate Solow's predicted output per worker relative to the UK\n",
    "# hence, create a different data just for the UK values\n",
    "gbr = df_fundamentals.loc['GBR']"
   ]
  },
  {
   "cell_type": "code",
   "execution_count": 19,
   "metadata": {},
   "outputs": [],
   "source": [
    "# now add columns to df_fundamentals data, consisting of corresponding values from the UK\n",
    "for var in ['Investment rate','Employment growth','hc','gdpPerworker']:\n",
    "    df_fundamentals[f'{var}, GBR'] = gbr[var]"
   ]
  },
  {
   "cell_type": "code",
   "execution_count": 20,
   "metadata": {},
   "outputs": [
    {
     "data": {
      "text/html": [
       "<div>\n",
       "<style scoped>\n",
       "    .dataframe tbody tr th:only-of-type {\n",
       "        vertical-align: middle;\n",
       "    }\n",
       "\n",
       "    .dataframe tbody tr th {\n",
       "        vertical-align: top;\n",
       "    }\n",
       "\n",
       "    .dataframe thead th {\n",
       "        text-align: right;\n",
       "    }\n",
       "</style>\n",
       "<table border=\"1\" class=\"dataframe\">\n",
       "  <thead>\n",
       "    <tr style=\"text-align: right;\">\n",
       "      <th></th>\n",
       "      <th>country</th>\n",
       "      <th>Investment rate</th>\n",
       "      <th>Employment growth</th>\n",
       "      <th>emp</th>\n",
       "      <th>gdpPerworker</th>\n",
       "      <th>hc</th>\n",
       "      <th>Investment rate, GBR</th>\n",
       "      <th>Employment growth, GBR</th>\n",
       "      <th>hc, GBR</th>\n",
       "      <th>gdpPerworker, GBR</th>\n",
       "    </tr>\n",
       "    <tr>\n",
       "      <th>countrycode</th>\n",
       "      <th></th>\n",
       "      <th></th>\n",
       "      <th></th>\n",
       "      <th></th>\n",
       "      <th></th>\n",
       "      <th></th>\n",
       "      <th></th>\n",
       "      <th></th>\n",
       "      <th></th>\n",
       "      <th></th>\n",
       "    </tr>\n",
       "  </thead>\n",
       "  <tbody>\n",
       "    <tr>\n",
       "      <th>GBR</th>\n",
       "      <td>United Kingdom</td>\n",
       "      <td>0.232</td>\n",
       "      <td>0.006</td>\n",
       "      <td>32.982</td>\n",
       "      <td>94307.441</td>\n",
       "      <td>3.774</td>\n",
       "      <td>0.232</td>\n",
       "      <td>0.006</td>\n",
       "      <td>3.774</td>\n",
       "      <td>94307.441</td>\n",
       "    </tr>\n",
       "    <tr>\n",
       "      <th>ARG</th>\n",
       "      <td>Argentina</td>\n",
       "      <td>0.151</td>\n",
       "      <td>0.018</td>\n",
       "      <td>20.643</td>\n",
       "      <td>48028.635</td>\n",
       "      <td>3.097</td>\n",
       "      <td>0.232</td>\n",
       "      <td>0.006</td>\n",
       "      <td>3.774</td>\n",
       "      <td>94307.441</td>\n",
       "    </tr>\n",
       "    <tr>\n",
       "      <th>DNK</th>\n",
       "      <td>Denmark</td>\n",
       "      <td>0.265</td>\n",
       "      <td>0.004</td>\n",
       "      <td>2.972</td>\n",
       "      <td>108220.474</td>\n",
       "      <td>3.599</td>\n",
       "      <td>0.232</td>\n",
       "      <td>0.006</td>\n",
       "      <td>3.774</td>\n",
       "      <td>94307.441</td>\n",
       "    </tr>\n",
       "    <tr>\n",
       "      <th>CAF</th>\n",
       "      <td>Central African Republic</td>\n",
       "      <td>0.138</td>\n",
       "      <td>NaN</td>\n",
       "      <td>1.844</td>\n",
       "      <td>2452.784</td>\n",
       "      <td>1.562</td>\n",
       "      <td>0.232</td>\n",
       "      <td>0.006</td>\n",
       "      <td>3.774</td>\n",
       "      <td>94307.441</td>\n",
       "    </tr>\n",
       "    <tr>\n",
       "      <th>NGA</th>\n",
       "      <td>Nigeria</td>\n",
       "      <td>0.382</td>\n",
       "      <td>0.025</td>\n",
       "      <td>73.021</td>\n",
       "      <td>13446.265</td>\n",
       "      <td>1.974</td>\n",
       "      <td>0.232</td>\n",
       "      <td>0.006</td>\n",
       "      <td>3.774</td>\n",
       "      <td>94307.441</td>\n",
       "    </tr>\n",
       "    <tr>\n",
       "      <th>ITA</th>\n",
       "      <td>Italy</td>\n",
       "      <td>0.263</td>\n",
       "      <td>0.005</td>\n",
       "      <td>25.596</td>\n",
       "      <td>97679.750</td>\n",
       "      <td>3.158</td>\n",
       "      <td>0.232</td>\n",
       "      <td>0.006</td>\n",
       "      <td>3.774</td>\n",
       "      <td>94307.441</td>\n",
       "    </tr>\n",
       "  </tbody>\n",
       "</table>\n",
       "</div>"
      ],
      "text/plain": [
       "                              country  Investment rate  Employment growth  \\\n",
       "countrycode                                                                 \n",
       "GBR                    United Kingdom            0.232              0.006   \n",
       "ARG                         Argentina            0.151              0.018   \n",
       "DNK                           Denmark            0.265              0.004   \n",
       "CAF          Central African Republic            0.138                NaN   \n",
       "NGA                           Nigeria            0.382              0.025   \n",
       "ITA                             Italy            0.263              0.005   \n",
       "\n",
       "                emp  gdpPerworker     hc  Investment rate, GBR  \\\n",
       "countrycode                                                      \n",
       "GBR          32.982     94307.441  3.774                 0.232   \n",
       "ARG          20.643     48028.635  3.097                 0.232   \n",
       "DNK           2.972    108220.474  3.599                 0.232   \n",
       "CAF           1.844      2452.784  1.562                 0.232   \n",
       "NGA          73.021     13446.265  1.974                 0.232   \n",
       "ITA          25.596     97679.750  3.158                 0.232   \n",
       "\n",
       "             Employment growth, GBR  hc, GBR  gdpPerworker, GBR  \n",
       "countrycode                                                      \n",
       "GBR                           0.006    3.774          94307.441  \n",
       "ARG                           0.006    3.774          94307.441  \n",
       "DNK                           0.006    3.774          94307.441  \n",
       "CAF                           0.006    3.774          94307.441  \n",
       "NGA                           0.006    3.774          94307.441  \n",
       "ITA                           0.006    3.774          94307.441  "
      ]
     },
     "execution_count": 20,
     "metadata": {},
     "output_type": "execute_result"
    }
   ],
   "source": [
    "# here is our data\n",
    "df_fundamentals.loc[country_list].round(decimals=3)"
   ]
  },
  {
   "cell_type": "code",
   "execution_count": 21,
   "metadata": {},
   "outputs": [],
   "source": [
    "# We have prepared our data to conduct the required analysis\n",
    "# First set our parameter values\n",
    "alpha=1/3\n",
    "delta = 0.05\n",
    "# In many parts of the analysis, we will write alpha/(1-alpha)...\n",
    "# create a new variable to redue typing\n",
    "alpham = alpha/(1-alpha)"
   ]
  },
  {
   "cell_type": "markdown",
   "metadata": {},
   "source": [
    "Notice that at the steady state of the Solow model income per worker is equal to\n",
    "$$y^\\ast = A^{1/(1-\\alpha)}\\left(\\frac{\\gamma}{\\delta+n} \\right)^{\\alpha/(1-\\alpha)}h.$$\n",
    "\n",
    "Therefore income per worker ratios are (assuming countries have the same technology, $A$):\n",
    "$$\\frac{y_i}{y_{UK}} = \\left(\\frac{\\frac{\\gamma_i}{\\delta+n_i}}{\\frac{\\gamma_{UK}}{\\delta+n_{UK}}} \\right)^{\\alpha/(1-\\alpha)}\\frac{h_i}{h_{UK}}.$$\n",
    "\n",
    "Rewrite the above formula:\n",
    "$$\\frac{y_i}{y_{UK}} = \\left(\\frac{\\gamma_i}{\\gamma_{UK}}\\right)^{\\alpha/(1-\\alpha)}\\left(\\frac{\\delta+n_{UK}}{\\delta+n_i}\\right)^{\\alpha/(1-\\alpha)}\\frac{h_i}{h_{UK}}.$$\n",
    "\n",
    "\n"
   ]
  },
  {
   "cell_type": "markdown",
   "metadata": {},
   "source": [
    "In part b, we assume countries differ only with respect to their investment rates. Therefore:\n",
    "$$\\frac{y_i}{y_{UK}} = \\left(\\frac{\\gamma_i}{\\gamma_{UK}}\\right)^{\\alpha/(1-\\alpha)}.$$\n",
    "\n",
    "    \n"
   ]
  },
  {
   "cell_type": "code",
   "execution_count": 22,
   "metadata": {},
   "outputs": [],
   "source": [
    "# calculate Solow's predicted income per worker ratios as in the above formula\n",
    "df_fundamentals['rel_GDP_pred_inv']=(df_fundamentals['Investment rate']\n",
    "                                     /df_fundamentals['Investment rate, GBR'])**alpham"
   ]
  },
  {
   "cell_type": "code",
   "execution_count": 23,
   "metadata": {},
   "outputs": [],
   "source": [
    "# calculate the actual output per worker rations from data\n",
    "df_fundamentals['rel_GDP'] = (df_fundamentals['gdpPerworker']/\n",
    "                              df_fundamentals['gdpPerworker, GBR'])"
   ]
  },
  {
   "cell_type": "markdown",
   "metadata": {},
   "source": [
    "In part c, countries differ with respect to their employment growth rates as well as their investment rates:\n",
    "\n",
    "$$\\frac{y_i}{y_{UK}} = \\left(\\frac{\\frac{\\gamma_i}{\\delta+n_i}}{\\frac{\\gamma_{UK}}{\\delta+n_{UK}}} \\right)^{\\alpha/(1-\\alpha)}.$$\n",
    "\n",
    "\n"
   ]
  },
  {
   "cell_type": "code",
   "execution_count": 24,
   "metadata": {},
   "outputs": [],
   "source": [
    "## calculate Solow's predicted income per worker ratios as in the above formula\n",
    "df_fundamentals['rel_GDP_pred_inv_emp']=((df_fundamentals['Investment rate']/\n",
    "                                          (delta+df_fundamentals['Employment growth']))\n",
    "                                         /(df_fundamentals['Investment rate, GBR']/\n",
    "                            (delta+df_fundamentals['Employment growth, GBR'])))**alpham"
   ]
  },
  {
   "cell_type": "markdown",
   "metadata": {},
   "source": [
    "In part d, countries differ with respect to their human capital, employment growth rate and investment rate\n",
    "\n",
    "\n",
    "\n",
    "$$\\frac{y_i}{y_{UK}} = \\left(\\frac{\\frac{\\gamma_i}{\\delta+n_i}}{\\frac{\\gamma_{UK}}{\\delta+n_{UK}}} \\right)^{\\alpha/(1-\\alpha)}\\frac{h_i}{h_{UK}}.$$\n",
    "\n"
   ]
  },
  {
   "cell_type": "code",
   "execution_count": 25,
   "metadata": {},
   "outputs": [],
   "source": [
    "## calculate Solow's predicted income per worker ratios as in the above formula\n",
    "df_fundamentals['rel_GDP_pred_inv_emp_hc'] = (df_fundamentals['rel_GDP_pred_inv_emp']*\n",
    "                                    df_fundamentals['hc']/df_fundamentals['hc, GBR'])"
   ]
  },
  {
   "cell_type": "code",
   "execution_count": 26,
   "metadata": {},
   "outputs": [],
   "source": [
    "# I need this cell to rename the table columns\n",
    "column_names = dict(zip(['rel_GDP_pred_inv','rel_GDP_pred_inv_emp','rel_GDP_pred_inv_emp_hc','rel_GDP'],\n",
    "    ['Prediction, part b','Prediction, part c','Prediction, part d','Actual']))"
   ]
  },
  {
   "cell_type": "code",
   "execution_count": 27,
   "metadata": {},
   "outputs": [
    {
     "data": {
      "text/html": [
       "<div>\n",
       "<style scoped>\n",
       "    .dataframe tbody tr th:only-of-type {\n",
       "        vertical-align: middle;\n",
       "    }\n",
       "\n",
       "    .dataframe tbody tr th {\n",
       "        vertical-align: top;\n",
       "    }\n",
       "\n",
       "    .dataframe thead th {\n",
       "        text-align: right;\n",
       "    }\n",
       "</style>\n",
       "<table border=\"1\" class=\"dataframe\">\n",
       "  <thead>\n",
       "    <tr style=\"text-align: right;\">\n",
       "      <th></th>\n",
       "      <th>country</th>\n",
       "      <th>Investment rate</th>\n",
       "      <th>Employment growth</th>\n",
       "      <th>emp</th>\n",
       "      <th>gdpPerworker</th>\n",
       "      <th>hc</th>\n",
       "      <th>Investment rate, GBR</th>\n",
       "      <th>Employment growth, GBR</th>\n",
       "      <th>hc, GBR</th>\n",
       "      <th>gdpPerworker, GBR</th>\n",
       "      <th>rel_GDP_pred_inv</th>\n",
       "      <th>rel_GDP</th>\n",
       "      <th>rel_GDP_pred_inv_emp</th>\n",
       "      <th>rel_GDP_pred_inv_emp_hc</th>\n",
       "    </tr>\n",
       "    <tr>\n",
       "      <th>countrycode</th>\n",
       "      <th></th>\n",
       "      <th></th>\n",
       "      <th></th>\n",
       "      <th></th>\n",
       "      <th></th>\n",
       "      <th></th>\n",
       "      <th></th>\n",
       "      <th></th>\n",
       "      <th></th>\n",
       "      <th></th>\n",
       "      <th></th>\n",
       "      <th></th>\n",
       "      <th></th>\n",
       "      <th></th>\n",
       "    </tr>\n",
       "  </thead>\n",
       "  <tbody>\n",
       "    <tr>\n",
       "      <th>GBR</th>\n",
       "      <td>United Kingdom</td>\n",
       "      <td>0.232338</td>\n",
       "      <td>0.005918</td>\n",
       "      <td>32.982498</td>\n",
       "      <td>94307.440997</td>\n",
       "      <td>3.773596</td>\n",
       "      <td>0.232338</td>\n",
       "      <td>0.005918</td>\n",
       "      <td>3.773596</td>\n",
       "      <td>94307.440997</td>\n",
       "      <td>1.000000</td>\n",
       "      <td>1.000000</td>\n",
       "      <td>1.000000</td>\n",
       "      <td>1.000000</td>\n",
       "    </tr>\n",
       "    <tr>\n",
       "      <th>ARG</th>\n",
       "      <td>Argentina</td>\n",
       "      <td>0.151055</td>\n",
       "      <td>0.017905</td>\n",
       "      <td>20.643215</td>\n",
       "      <td>48028.634536</td>\n",
       "      <td>3.096804</td>\n",
       "      <td>0.232338</td>\n",
       "      <td>0.005918</td>\n",
       "      <td>3.773596</td>\n",
       "      <td>94307.440997</td>\n",
       "      <td>0.806320</td>\n",
       "      <td>0.509277</td>\n",
       "      <td>0.731699</td>\n",
       "      <td>0.600469</td>\n",
       "    </tr>\n",
       "    <tr>\n",
       "      <th>DNK</th>\n",
       "      <td>Denmark</td>\n",
       "      <td>0.264750</td>\n",
       "      <td>0.004179</td>\n",
       "      <td>2.971837</td>\n",
       "      <td>108220.474194</td>\n",
       "      <td>3.599265</td>\n",
       "      <td>0.232338</td>\n",
       "      <td>0.005918</td>\n",
       "      <td>3.773596</td>\n",
       "      <td>94307.440997</td>\n",
       "      <td>1.067477</td>\n",
       "      <td>1.147528</td>\n",
       "      <td>1.084478</td>\n",
       "      <td>1.034378</td>\n",
       "    </tr>\n",
       "    <tr>\n",
       "      <th>CAF</th>\n",
       "      <td>Central African Republic</td>\n",
       "      <td>0.138027</td>\n",
       "      <td>NaN</td>\n",
       "      <td>1.844328</td>\n",
       "      <td>2452.784401</td>\n",
       "      <td>1.561627</td>\n",
       "      <td>0.232338</td>\n",
       "      <td>0.005918</td>\n",
       "      <td>3.773596</td>\n",
       "      <td>94307.440997</td>\n",
       "      <td>0.770766</td>\n",
       "      <td>0.026008</td>\n",
       "      <td>NaN</td>\n",
       "      <td>NaN</td>\n",
       "    </tr>\n",
       "    <tr>\n",
       "      <th>NGA</th>\n",
       "      <td>Nigeria</td>\n",
       "      <td>0.381947</td>\n",
       "      <td>0.025056</td>\n",
       "      <td>73.020554</td>\n",
       "      <td>13446.264637</td>\n",
       "      <td>1.974245</td>\n",
       "      <td>0.232338</td>\n",
       "      <td>0.005918</td>\n",
       "      <td>3.773596</td>\n",
       "      <td>94307.440997</td>\n",
       "      <td>1.282158</td>\n",
       "      <td>0.142579</td>\n",
       "      <td>1.106691</td>\n",
       "      <td>0.578992</td>\n",
       "    </tr>\n",
       "    <tr>\n",
       "      <th>ITA</th>\n",
       "      <td>Italy</td>\n",
       "      <td>0.262603</td>\n",
       "      <td>0.005108</td>\n",
       "      <td>25.596329</td>\n",
       "      <td>97679.750321</td>\n",
       "      <td>3.158385</td>\n",
       "      <td>0.232338</td>\n",
       "      <td>0.005918</td>\n",
       "      <td>3.773596</td>\n",
       "      <td>94307.440997</td>\n",
       "      <td>1.063138</td>\n",
       "      <td>1.035759</td>\n",
       "      <td>1.070928</td>\n",
       "      <td>0.896335</td>\n",
       "    </tr>\n",
       "  </tbody>\n",
       "</table>\n",
       "</div>"
      ],
      "text/plain": [
       "                              country  Investment rate  Employment growth  \\\n",
       "countrycode                                                                 \n",
       "GBR                    United Kingdom         0.232338           0.005918   \n",
       "ARG                         Argentina         0.151055           0.017905   \n",
       "DNK                           Denmark         0.264750           0.004179   \n",
       "CAF          Central African Republic         0.138027                NaN   \n",
       "NGA                           Nigeria         0.381947           0.025056   \n",
       "ITA                             Italy         0.262603           0.005108   \n",
       "\n",
       "                   emp   gdpPerworker        hc  Investment rate, GBR  \\\n",
       "countrycode                                                             \n",
       "GBR          32.982498   94307.440997  3.773596              0.232338   \n",
       "ARG          20.643215   48028.634536  3.096804              0.232338   \n",
       "DNK           2.971837  108220.474194  3.599265              0.232338   \n",
       "CAF           1.844328    2452.784401  1.561627              0.232338   \n",
       "NGA          73.020554   13446.264637  1.974245              0.232338   \n",
       "ITA          25.596329   97679.750321  3.158385              0.232338   \n",
       "\n",
       "             Employment growth, GBR   hc, GBR  gdpPerworker, GBR  \\\n",
       "countrycode                                                        \n",
       "GBR                        0.005918  3.773596       94307.440997   \n",
       "ARG                        0.005918  3.773596       94307.440997   \n",
       "DNK                        0.005918  3.773596       94307.440997   \n",
       "CAF                        0.005918  3.773596       94307.440997   \n",
       "NGA                        0.005918  3.773596       94307.440997   \n",
       "ITA                        0.005918  3.773596       94307.440997   \n",
       "\n",
       "             rel_GDP_pred_inv   rel_GDP  rel_GDP_pred_inv_emp  \\\n",
       "countrycode                                                     \n",
       "GBR                  1.000000  1.000000              1.000000   \n",
       "ARG                  0.806320  0.509277              0.731699   \n",
       "DNK                  1.067477  1.147528              1.084478   \n",
       "CAF                  0.770766  0.026008                   NaN   \n",
       "NGA                  1.282158  0.142579              1.106691   \n",
       "ITA                  1.063138  1.035759              1.070928   \n",
       "\n",
       "             rel_GDP_pred_inv_emp_hc  \n",
       "countrycode                           \n",
       "GBR                         1.000000  \n",
       "ARG                         0.600469  \n",
       "DNK                         1.034378  \n",
       "CAF                              NaN  \n",
       "NGA                         0.578992  \n",
       "ITA                         0.896335  "
      ]
     },
     "execution_count": 27,
     "metadata": {},
     "output_type": "execute_result"
    }
   ],
   "source": [
    "df_fundamentals.loc[country_list]"
   ]
  },
  {
   "cell_type": "code",
   "execution_count": 28,
   "metadata": {},
   "outputs": [],
   "source": [
    "# here is Solow's predicted output per worker ratios under different assumptions\n",
    "results_1=(df_fundamentals[\n",
    "    ['rel_GDP_pred_inv','rel_GDP_pred_inv_emp','rel_GDP_pred_inv_emp_hc','rel_GDP']].rename(\n",
    "    columns=column_names).round(decimals=2))"
   ]
  },
  {
   "cell_type": "code",
   "execution_count": 29,
   "metadata": {},
   "outputs": [
    {
     "data": {
      "text/html": [
       "<div>\n",
       "<style scoped>\n",
       "    .dataframe tbody tr th:only-of-type {\n",
       "        vertical-align: middle;\n",
       "    }\n",
       "\n",
       "    .dataframe tbody tr th {\n",
       "        vertical-align: top;\n",
       "    }\n",
       "\n",
       "    .dataframe thead th {\n",
       "        text-align: right;\n",
       "    }\n",
       "</style>\n",
       "<table border=\"1\" class=\"dataframe\">\n",
       "  <thead>\n",
       "    <tr style=\"text-align: right;\">\n",
       "      <th></th>\n",
       "      <th>Prediction, part b</th>\n",
       "      <th>Prediction, part c</th>\n",
       "      <th>Prediction, part d</th>\n",
       "      <th>Actual</th>\n",
       "    </tr>\n",
       "    <tr>\n",
       "      <th>countrycode</th>\n",
       "      <th></th>\n",
       "      <th></th>\n",
       "      <th></th>\n",
       "      <th></th>\n",
       "    </tr>\n",
       "  </thead>\n",
       "  <tbody>\n",
       "    <tr>\n",
       "      <th>GBR</th>\n",
       "      <td>1.00</td>\n",
       "      <td>1.00</td>\n",
       "      <td>1.00</td>\n",
       "      <td>1.00</td>\n",
       "    </tr>\n",
       "    <tr>\n",
       "      <th>ARG</th>\n",
       "      <td>0.81</td>\n",
       "      <td>0.73</td>\n",
       "      <td>0.60</td>\n",
       "      <td>0.51</td>\n",
       "    </tr>\n",
       "    <tr>\n",
       "      <th>DNK</th>\n",
       "      <td>1.07</td>\n",
       "      <td>1.08</td>\n",
       "      <td>1.03</td>\n",
       "      <td>1.15</td>\n",
       "    </tr>\n",
       "    <tr>\n",
       "      <th>CAF</th>\n",
       "      <td>0.77</td>\n",
       "      <td>NaN</td>\n",
       "      <td>NaN</td>\n",
       "      <td>0.03</td>\n",
       "    </tr>\n",
       "    <tr>\n",
       "      <th>NGA</th>\n",
       "      <td>1.28</td>\n",
       "      <td>1.11</td>\n",
       "      <td>0.58</td>\n",
       "      <td>0.14</td>\n",
       "    </tr>\n",
       "    <tr>\n",
       "      <th>ITA</th>\n",
       "      <td>1.06</td>\n",
       "      <td>1.07</td>\n",
       "      <td>0.90</td>\n",
       "      <td>1.04</td>\n",
       "    </tr>\n",
       "  </tbody>\n",
       "</table>\n",
       "</div>"
      ],
      "text/plain": [
       "             Prediction, part b  Prediction, part c  Prediction, part d  \\\n",
       "countrycode                                                               \n",
       "GBR                        1.00                1.00                1.00   \n",
       "ARG                        0.81                0.73                0.60   \n",
       "DNK                        1.07                1.08                1.03   \n",
       "CAF                        0.77                 NaN                 NaN   \n",
       "NGA                        1.28                1.11                0.58   \n",
       "ITA                        1.06                1.07                0.90   \n",
       "\n",
       "             Actual  \n",
       "countrycode          \n",
       "GBR            1.00  \n",
       "ARG            0.51  \n",
       "DNK            1.15  \n",
       "CAF            0.03  \n",
       "NGA            0.14  \n",
       "ITA            1.04  "
      ]
     },
     "execution_count": 29,
     "metadata": {},
     "output_type": "execute_result"
    }
   ],
   "source": [
    "results_1.loc[country_list]"
   ]
  },
  {
   "cell_type": "markdown",
   "metadata": {},
   "source": [
    "In the above table, as we add more variables into our equation, Solow model's predicted income per worker ratios for Argentian, Central African Republic, and Nigeria are getting closer to its actual level, but not for other countries. "
   ]
  },
  {
   "cell_type": "code",
   "execution_count": 30,
   "metadata": {},
   "outputs": [
    {
     "data": {
      "image/png": "[encoded data removed]",
      "text/plain": [
       "<Figure size 432x432 with 1 Axes>"
      ]
     },
     "metadata": {},
     "output_type": "display_data"
    }
   ],
   "source": [
    "fig,ax = plt.subplots(figsize=(6,6))\n",
    "ax.scatter(df_fundamentals['rel_GDP_pred_inv'],df_fundamentals['rel_GDP'],\n",
    "          sizes=df_fundamentals['emp'].values,color=colors[1][0],alpha=.7,label='$\\gamma$')\n",
    "ax.scatter(df_fundamentals['rel_GDP_pred_inv_emp'],df_fundamentals['rel_GDP'],\n",
    "          sizes=df_fundamentals['emp'].values,color=colors[1][1],alpha=.7,label='$\\gamma,n$')\n",
    "ax.scatter(df_fundamentals['rel_GDP_pred_inv_emp_hc'],df_fundamentals['rel_GDP'],\n",
    "          sizes=df_fundamentals['emp'].values,color=colors[1][2],alpha=.7,label='$\\gamma,n,h$')\n",
    "ax.set_xlabel('Predicted')\n",
    "ax.set_ylabel('Actual')\n",
    "ticks = [0,.4,.8,1.2,1.6]\n",
    "ax.set_xlim(-0.2,1.7)\n",
    "ax.set_ylim(-0.2,1.7)\n",
    "ax.set_xticks(ticks)\n",
    "ax.set_yticks(ticks)\n",
    "\n",
    "\n",
    "ax.legend(loc='upper left',frameon=False)\n",
    "plt.savefig('./rel_GDP_pred_inv_emp_hc.svg',bbox_inches='tight')"
   ]
  },
  {
   "cell_type": "markdown",
   "metadata": {},
   "source": [
    "When we look at all the countries, the model does well as we control more and more variables. However, as shown in our table, the model does not do as well with 4 examples of advanced economies. We could conclude that the Solow model does in well in accounting for the income per worker differences between developed and developing countries. But, it does not do as well for accounting for the income per worker differences between developed countries, like the UK, Italy and Denmark listed in our question. Productivity differences is the main factor accounting the income per differences among  the developed countries."
   ]
  },
  {
   "cell_type": "markdown",
   "metadata": {},
   "source": [
    "2. Consider the extended Solow model. Suppose the production function is $Y =  K^\\alpha (ehL)^{1-\\alpha}.$\n",
    "\n",
    "a. Derive change in capital per effective worker, $\\dot{\\tilde{k}}$, as a function of capital per effective worker, $\\tilde{k}$, and other exogenous variables in the model.\n",
    "\n",
    "b. Suppose that investment rate is 20%, $\\gamma =.2$, depreciation rate is 5\\%, $\\delta=.05$, population growth rate is 1\\%, $n=.01$, labor-augmenting technological progress rate is 2\\%, $g = .02$, human capital is equal to 1, $h=1$,  and capital income share is .33, $\\alpha=.33$. Find steady state capital per effective worker, income per effective worker, consumption per effective worker.\n",
    "\n",
    "c. Suppose at time $t=0$, the economy is at the steady state, and level of labor-augmenting technology is equal to 1, $e(0)=1$. What's the income per worker level at time $t=20$? Remember that if a variable (say M) grows at a constant rate, say m, then the value of M at time $t$ is equal to $\\exp(mt)$ times the value of M at time $0$, i.e. $M(t)=M(0)\\exp(mt).$\n",
    "\n",
    "d. Suppose again that at time $t=0$, the economy is at the steady state and level of labor-augmenting technology is equal to 1, $e(0)=1$. Now, suddenly (and unexpectedly) the human capital increases by 10\\%, i.e. $h^{new} = 1.1$. Starting from the steady state you found in part b, simulate the model for 100 periods, and calculate capital per effective worker, capital per worker, income per effective worker, and income per worker at each time period.\n"
   ]
  },
  {
   "cell_type": "code",
   "execution_count": 31,
   "metadata": {},
   "outputs": [],
   "source": [
    "# First, set our parameter values\n",
    "alpha = .33\n",
    "delta = .05\n",
    "h = 1\n",
    "n = 0.01\n",
    "g = 0.02\n",
    "gamma = .2\n",
    "# this is one way of defining a function in python\n",
    "# f is our production function, output per effective workers\n",
    "f = lambda k,h: k**alpha*h**(1-alpha)\n",
    "# this is our kdot function\n",
    "kdot = lambda k,h: gamma*k**alpha*h**(1-alpha)-(delta+n+g)*k"
   ]
  },
  {
   "cell_type": "markdown",
   "metadata": {},
   "source": [
    "At the steady state:\n",
    "    $$\\tilde{k}^\\ast = \\left(\\frac{\\gamma}{n+g+\\delta}\\right)^{1/(1-\\alpha)}h $$\n",
    "\n",
    "Everytime:\n",
    "  $$ \\tilde{y} = \\tilde{k}^\\alpha h^{1-\\alpha} $$\n",
    "  $$ \\tilde{c} = (1-\\gamma)\\tilde{y}$$"
   ]
  },
  {
   "cell_type": "code",
   "execution_count": 32,
   "metadata": {},
   "outputs": [],
   "source": [
    "# calculate the steady state variables\n",
    "k_tilde_ss = (gamma/(n+delta+g))**(1/(1-alpha))*h\n",
    "y_tilde_ss = k_tilde_ss**alpha*h**(1-alpha)\n",
    "c_tilde_ss = y_tilde_ss*(1-alpha)"
   ]
  },
  {
   "cell_type": "code",
   "execution_count": 33,
   "metadata": {},
   "outputs": [
    {
     "name": "stdout",
     "output_type": "stream",
     "text": [
      "Steady state capital per effective worker =  3.93\n",
      "Steady state ouput per effective worker =  1.57\n",
      "Steady state consumption per effective worker =  1.05\n"
     ]
    }
   ],
   "source": [
    "print('Steady state capital per effective worker = ', np.round(k_tilde_ss,decimals=2))\n",
    "print('Steady state ouput per effective worker = ', np.round(y_tilde_ss,decimals=2))\n",
    "print('Steady state consumption per effective worker = ', np.round(c_tilde_ss,decimals=2))"
   ]
  },
  {
   "cell_type": "markdown",
   "metadata": {},
   "source": [
    "Recall the definition of $\\tilde{y} \\equiv \\frac{Y}{eL}$ and  $y\\equiv \\frac{Y}{L}$. Therefore, $y=e\\tilde{y}$. In part c, the economy is at the steady state, $\\tilde{y}\\ast$, and $e$ is growing at a constant rate. But we know the initial value of $e(0)=1$, the growth rate of $e$, $g=0.02$. Therefore, $e(20)=e(0)\\exp(g*20).$ Hence, $y(20)=e(20)*\\tilde{y}^\\ast$. "
   ]
  },
  {
   "cell_type": "code",
   "execution_count": 34,
   "metadata": {},
   "outputs": [
    {
     "name": "stdout",
     "output_type": "stream",
     "text": [
      "Income per worker at t=20 is equal to 2.34\n"
     ]
    }
   ],
   "source": [
    "print('Income per worker at t=20 is equal to', np.round(np.exp(g*20)*y_tilde_ss,decimals=2))"
   ]
  },
  {
   "cell_type": "markdown",
   "metadata": {},
   "source": [
    "To solve for part d, we first need to simulate $\\tilde{k}$ and $\\tilde{y}$ over time. We can quite easily calculate $e$ over time using the initial value of $e$, $e(0)$, and the growth rate of $e$, $g=0.02$. Then using $y(t)=\\tilde{y(t)}e(t)$ equality, we can generete $y$ sequence over time."
   ]
  },
  {
   "cell_type": "code",
   "execution_count": 35,
   "metadata": {},
   "outputs": [],
   "source": [
    "# k_tilde_seq will be sequence of k tilde over time\n",
    "# since the economy was at the steady state, I initiate k_tilde sequence with 10 values...\n",
    "# all equal to the steady state value\n",
    "# you assume this is the value of k_tilde before time t=0 and at time t=0,...\n",
    "# as there is no change in k_tilde at time t=0. k_tilde will begin increasing at t=1\n",
    "k_tilde_seq = [k_tilde_ss,]*10"
   ]
  },
  {
   "cell_type": "code",
   "execution_count": 36,
   "metadata": {},
   "outputs": [],
   "source": [
    "# I also create a sequence of human capital\n",
    "# h is equal to 1 initially, then it becomes 1.1\n",
    "h_seq = np.ones(111)\n",
    "# assume 9th element of the sequence corresponds to time t=0\n",
    "h_seq[9:] = 1.1"
   ]
  },
  {
   "cell_type": "code",
   "execution_count": 37,
   "metadata": {},
   "outputs": [],
   "source": [
    "# starting from the 9th element, or time t=0, simulate the model to get k_tilde over time\n",
    "for t in range(9,110):\n",
    "    # k_prime is the next periods capital\n",
    "    # k_prime is equal to current capital plus the change in capital\n",
    "    k_prime = k_tilde_seq[t]+kdot(k_tilde_seq[t],h_seq[t])\n",
    "    k_tilde_seq.append(k_prime)"
   ]
  },
  {
   "cell_type": "code",
   "execution_count": 38,
   "metadata": {},
   "outputs": [],
   "source": [
    "# generate e sequence as given in the formula: e(t) = e(0)*exp(g*t)\n",
    "e_seq = [np.exp(t*g) for t in range(-9,102)]"
   ]
  },
  {
   "cell_type": "code",
   "execution_count": 39,
   "metadata": {},
   "outputs": [],
   "source": [
    "# k = k_tilde*e\n",
    "k_seq = np.array(k_tilde_seq)*np.array(e_seq)"
   ]
  },
  {
   "cell_type": "code",
   "execution_count": 40,
   "metadata": {},
   "outputs": [],
   "source": [
    "# y_tilde = k_tilde^alpha*h^(1-alpha)\n",
    "y_tilde_seq = [f(k_tilde_seq[t],h_seq[t]) for t in range(111)]"
   ]
  },
  {
   "cell_type": "code",
   "execution_count": 41,
   "metadata": {},
   "outputs": [],
   "source": [
    "# y = y_tilde*e\n",
    "y_seq = np.array(y_tilde_seq)*np.array(e_seq)"
   ]
  },
  {
   "cell_type": "code",
   "execution_count": 42,
   "metadata": {},
   "outputs": [],
   "source": [
    "# now put all these variables into a table\n",
    "df2 = pd.DataFrame({'Time':np.arange(-9,102),\n",
    "                    'h':h_seq,\n",
    "                    'k tilde':k_tilde_seq,\n",
    "                   'y tilde':y_tilde_seq,\n",
    "                   'e':e_seq,\n",
    "                   'k':k_seq,\n",
    "                   'y':y_seq})"
   ]
  },
  {
   "cell_type": "code",
   "execution_count": 43,
   "metadata": {},
   "outputs": [
    {
     "data": {
      "text/html": [
       "<div>\n",
       "<style scoped>\n",
       "    .dataframe tbody tr th:only-of-type {\n",
       "        vertical-align: middle;\n",
       "    }\n",
       "\n",
       "    .dataframe tbody tr th {\n",
       "        vertical-align: top;\n",
       "    }\n",
       "\n",
       "    .dataframe thead th {\n",
       "        text-align: right;\n",
       "    }\n",
       "</style>\n",
       "<table border=\"1\" class=\"dataframe\">\n",
       "  <thead>\n",
       "    <tr style=\"text-align: right;\">\n",
       "      <th></th>\n",
       "      <th>Time</th>\n",
       "      <th>h</th>\n",
       "      <th>k tilde</th>\n",
       "      <th>y tilde</th>\n",
       "      <th>e</th>\n",
       "      <th>k</th>\n",
       "      <th>y</th>\n",
       "    </tr>\n",
       "  </thead>\n",
       "  <tbody>\n",
       "    <tr>\n",
       "      <th>0</th>\n",
       "      <td>-9</td>\n",
       "      <td>1.0</td>\n",
       "      <td>3.925910</td>\n",
       "      <td>1.570364</td>\n",
       "      <td>0.835270</td>\n",
       "      <td>3.279195</td>\n",
       "      <td>1.311678</td>\n",
       "    </tr>\n",
       "    <tr>\n",
       "      <th>1</th>\n",
       "      <td>-8</td>\n",
       "      <td>1.0</td>\n",
       "      <td>3.925910</td>\n",
       "      <td>1.570364</td>\n",
       "      <td>0.852144</td>\n",
       "      <td>3.345440</td>\n",
       "      <td>1.338176</td>\n",
       "    </tr>\n",
       "    <tr>\n",
       "      <th>2</th>\n",
       "      <td>-7</td>\n",
       "      <td>1.0</td>\n",
       "      <td>3.925910</td>\n",
       "      <td>1.570364</td>\n",
       "      <td>0.869358</td>\n",
       "      <td>3.413022</td>\n",
       "      <td>1.365209</td>\n",
       "    </tr>\n",
       "    <tr>\n",
       "      <th>3</th>\n",
       "      <td>-6</td>\n",
       "      <td>1.0</td>\n",
       "      <td>3.925910</td>\n",
       "      <td>1.570364</td>\n",
       "      <td>0.886920</td>\n",
       "      <td>3.481970</td>\n",
       "      <td>1.392788</td>\n",
       "    </tr>\n",
       "    <tr>\n",
       "      <th>4</th>\n",
       "      <td>-5</td>\n",
       "      <td>1.0</td>\n",
       "      <td>3.925910</td>\n",
       "      <td>1.570364</td>\n",
       "      <td>0.904837</td>\n",
       "      <td>3.552310</td>\n",
       "      <td>1.420924</td>\n",
       "    </tr>\n",
       "    <tr>\n",
       "      <th>5</th>\n",
       "      <td>-4</td>\n",
       "      <td>1.0</td>\n",
       "      <td>3.925910</td>\n",
       "      <td>1.570364</td>\n",
       "      <td>0.923116</td>\n",
       "      <td>3.624071</td>\n",
       "      <td>1.449629</td>\n",
       "    </tr>\n",
       "    <tr>\n",
       "      <th>6</th>\n",
       "      <td>-3</td>\n",
       "      <td>1.0</td>\n",
       "      <td>3.925910</td>\n",
       "      <td>1.570364</td>\n",
       "      <td>0.941765</td>\n",
       "      <td>3.697283</td>\n",
       "      <td>1.478913</td>\n",
       "    </tr>\n",
       "    <tr>\n",
       "      <th>7</th>\n",
       "      <td>-2</td>\n",
       "      <td>1.0</td>\n",
       "      <td>3.925910</td>\n",
       "      <td>1.570364</td>\n",
       "      <td>0.960789</td>\n",
       "      <td>3.771973</td>\n",
       "      <td>1.508789</td>\n",
       "    </tr>\n",
       "    <tr>\n",
       "      <th>8</th>\n",
       "      <td>-1</td>\n",
       "      <td>1.0</td>\n",
       "      <td>3.925910</td>\n",
       "      <td>1.570364</td>\n",
       "      <td>0.980199</td>\n",
       "      <td>3.848172</td>\n",
       "      <td>1.539269</td>\n",
       "    </tr>\n",
       "    <tr>\n",
       "      <th>9</th>\n",
       "      <td>0</td>\n",
       "      <td>1.1</td>\n",
       "      <td>3.925910</td>\n",
       "      <td>1.673915</td>\n",
       "      <td>1.000000</td>\n",
       "      <td>3.925910</td>\n",
       "      <td>1.673915</td>\n",
       "    </tr>\n",
       "    <tr>\n",
       "      <th>10</th>\n",
       "      <td>1</td>\n",
       "      <td>1.1</td>\n",
       "      <td>3.946620</td>\n",
       "      <td>1.676824</td>\n",
       "      <td>1.020201</td>\n",
       "      <td>4.026347</td>\n",
       "      <td>1.710698</td>\n",
       "    </tr>\n",
       "    <tr>\n",
       "      <th>11</th>\n",
       "      <td>2</td>\n",
       "      <td>1.1</td>\n",
       "      <td>3.966255</td>\n",
       "      <td>1.679572</td>\n",
       "      <td>1.040811</td>\n",
       "      <td>4.128121</td>\n",
       "      <td>1.748117</td>\n",
       "    </tr>\n",
       "    <tr>\n",
       "      <th>12</th>\n",
       "      <td>3</td>\n",
       "      <td>1.1</td>\n",
       "      <td>3.984869</td>\n",
       "      <td>1.682169</td>\n",
       "      <td>1.061837</td>\n",
       "      <td>4.231280</td>\n",
       "      <td>1.786189</td>\n",
       "    </tr>\n",
       "    <tr>\n",
       "      <th>13</th>\n",
       "      <td>4</td>\n",
       "      <td>1.1</td>\n",
       "      <td>4.002514</td>\n",
       "      <td>1.684624</td>\n",
       "      <td>1.083287</td>\n",
       "      <td>4.335871</td>\n",
       "      <td>1.824931</td>\n",
       "    </tr>\n",
       "    <tr>\n",
       "      <th>14</th>\n",
       "      <td>5</td>\n",
       "      <td>1.1</td>\n",
       "      <td>4.019237</td>\n",
       "      <td>1.686943</td>\n",
       "      <td>1.105171</td>\n",
       "      <td>4.441944</td>\n",
       "      <td>1.864361</td>\n",
       "    </tr>\n",
       "  </tbody>\n",
       "</table>\n",
       "</div>"
      ],
      "text/plain": [
       "    Time    h   k tilde   y tilde         e         k         y\n",
       "0     -9  1.0  3.925910  1.570364  0.835270  3.279195  1.311678\n",
       "1     -8  1.0  3.925910  1.570364  0.852144  3.345440  1.338176\n",
       "2     -7  1.0  3.925910  1.570364  0.869358  3.413022  1.365209\n",
       "3     -6  1.0  3.925910  1.570364  0.886920  3.481970  1.392788\n",
       "4     -5  1.0  3.925910  1.570364  0.904837  3.552310  1.420924\n",
       "5     -4  1.0  3.925910  1.570364  0.923116  3.624071  1.449629\n",
       "6     -3  1.0  3.925910  1.570364  0.941765  3.697283  1.478913\n",
       "7     -2  1.0  3.925910  1.570364  0.960789  3.771973  1.508789\n",
       "8     -1  1.0  3.925910  1.570364  0.980199  3.848172  1.539269\n",
       "9      0  1.1  3.925910  1.673915  1.000000  3.925910  1.673915\n",
       "10     1  1.1  3.946620  1.676824  1.020201  4.026347  1.710698\n",
       "11     2  1.1  3.966255  1.679572  1.040811  4.128121  1.748117\n",
       "12     3  1.1  3.984869  1.682169  1.061837  4.231280  1.786189\n",
       "13     4  1.1  4.002514  1.684624  1.083287  4.335871  1.824931\n",
       "14     5  1.1  4.019237  1.686943  1.105171  4.441944  1.864361"
      ]
     },
     "execution_count": 43,
     "metadata": {},
     "output_type": "execute_result"
    }
   ],
   "source": [
    "# here is how our data looks like\n",
    "df2.head(15)"
   ]
  },
  {
   "cell_type": "code",
   "execution_count": 44,
   "metadata": {},
   "outputs": [
    {
     "data": {
      "text/html": [
       "<div>\n",
       "<style scoped>\n",
       "    .dataframe tbody tr th:only-of-type {\n",
       "        vertical-align: middle;\n",
       "    }\n",
       "\n",
       "    .dataframe tbody tr th {\n",
       "        vertical-align: top;\n",
       "    }\n",
       "\n",
       "    .dataframe thead th {\n",
       "        text-align: right;\n",
       "    }\n",
       "</style>\n",
       "<table border=\"1\" class=\"dataframe\">\n",
       "  <thead>\n",
       "    <tr style=\"text-align: right;\">\n",
       "      <th></th>\n",
       "      <th>Time</th>\n",
       "      <th>h</th>\n",
       "      <th>k tilde</th>\n",
       "      <th>y tilde</th>\n",
       "      <th>e</th>\n",
       "      <th>k</th>\n",
       "      <th>y</th>\n",
       "    </tr>\n",
       "  </thead>\n",
       "  <tbody>\n",
       "    <tr>\n",
       "      <th>69</th>\n",
       "      <td>60</td>\n",
       "      <td>1.1</td>\n",
       "      <td>4.3</td>\n",
       "      <td>1.73</td>\n",
       "      <td>3.32</td>\n",
       "      <td>14.29</td>\n",
       "      <td>5.73</td>\n",
       "    </tr>\n",
       "  </tbody>\n",
       "</table>\n",
       "</div>"
      ],
      "text/plain": [
       "    Time    h  k tilde  y tilde     e      k     y\n",
       "69    60  1.1      4.3     1.73  3.32  14.29  5.73"
      ]
     },
     "execution_count": 44,
     "metadata": {},
     "output_type": "execute_result"
    }
   ],
   "source": [
    "df2[df2.Time==60].round(decimals=2)"
   ]
  },
  {
   "cell_type": "code",
   "execution_count": 45,
   "metadata": {},
   "outputs": [
    {
     "data": {
      "text/plain": [
       "Text(0.5, 1.0, '$\\\\tilde{k}$')"
      ]
     },
     "execution_count": 45,
     "metadata": {},
     "output_type": "execute_result"
    },
    {
     "data": {
      "image/png": "[encoded data removed]",
      "text/plain": [
       "<Figure size 432x288 with 1 Axes>"
      ]
     },
     "metadata": {},
     "output_type": "display_data"
    }
   ],
   "source": [
    "# plot k_tilde over time\n",
    "fig,ax = plt.subplots()\n",
    "plt.plot(df2.Time,df2['k tilde'],'k',linewidth=2)\n",
    "ax.spines['left'].set_visible(False)\n",
    "ax.spines['right'].set_visible(False)\n",
    "ax.spines['top'].set_visible(False)\n",
    "ax.spines['bottom'].set_visible(False)\n",
    "ax.set_xlabel('Time')\n",
    "ax.set_title(r'$\\tilde{k}$')"
   ]
  },
  {
   "cell_type": "code",
   "execution_count": 46,
   "metadata": {},
   "outputs": [
    {
     "data": {
      "text/plain": [
       "Text(0.5, 1.0, '$\\\\tilde{y}$')"
      ]
     },
     "execution_count": 46,
     "metadata": {},
     "output_type": "execute_result"
    },
    {
     "data": {
      "image/png": "[encoded data removed]",
      "text/plain": [
       "<Figure size 432x288 with 1 Axes>"
      ]
     },
     "metadata": {},
     "output_type": "display_data"
    }
   ],
   "source": [
    "# plot y_tilde over time\n",
    "fig,ax = plt.subplots()\n",
    "plt.plot(df2.Time,df2['y tilde'],'k.',linewidth=2)\n",
    "ax.spines['left'].set_visible(False)\n",
    "ax.spines['right'].set_visible(False)\n",
    "ax.spines['top'].set_visible(False)\n",
    "ax.spines['bottom'].set_visible(False)\n",
    "ax.set_xlabel('Time')\n",
    "ax.set_title(r'$\\tilde{y}$')"
   ]
  },
  {
   "cell_type": "code",
   "execution_count": 47,
   "metadata": {},
   "outputs": [
    {
     "data": {
      "text/plain": [
       "Text(0.5, 1.0, '$k$')"
      ]
     },
     "execution_count": 47,
     "metadata": {},
     "output_type": "execute_result"
    },
    {
     "data": {
      "image/png": "[encoded data removed]",
      "text/plain": [
       "<Figure size 432x288 with 1 Axes>"
      ]
     },
     "metadata": {},
     "output_type": "display_data"
    }
   ],
   "source": [
    "# plot k over time\n",
    "yticks = [5,10,20,40]\n",
    "fig,ax = plt.subplots()\n",
    "plt.plot(df2.Time,df2['k'],'k',linewidth=2)\n",
    "plt.plot(df2.Time,k_tilde_ss*np.array(e_seq),'k--',linewidth=2)\n",
    "ax.set_yscale('log')\n",
    "ax.set_ylim(ymax=50)\n",
    "ax.set_yticks(yticks)\n",
    "ax.set_yticklabels(yticks)\n",
    "ax.spines['left'].set_visible(False)\n",
    "ax.spines['right'].set_visible(False)\n",
    "ax.spines['top'].set_visible(False)\n",
    "ax.spines['bottom'].set_visible(False)\n",
    "ax.set_xlabel('Time')\n",
    "ax.set_title(r'$k$')"
   ]
  },
  {
   "cell_type": "code",
   "execution_count": 48,
   "metadata": {},
   "outputs": [
    {
     "data": {
      "text/plain": [
       "Text(0.5, 1.0, '$y$')"
      ]
     },
     "execution_count": 48,
     "metadata": {},
     "output_type": "execute_result"
    },
    {
     "data": {
      "image/png": "[encoded data removed]",
      "text/plain": [
       "<Figure size 432x288 with 1 Axes>"
      ]
     },
     "metadata": {},
     "output_type": "display_data"
    }
   ],
   "source": [
    "# plot y over time\n",
    "yticks = [2,4,8,16]\n",
    "fig,ax = plt.subplots()\n",
    "plt.plot(df2.Time,df2['y'],'k.',linewidth=2)\n",
    "plt.plot(df2.Time,y_tilde_ss*np.array(e_seq),'k--',linewidth=2)\n",
    "ax.set_yscale('log')\n",
    "ax.set_ylim(ymax=20)\n",
    "ax.set_yticks(yticks)\n",
    "ax.set_yticklabels(yticks)\n",
    "ax.spines['left'].set_visible(False)\n",
    "ax.spines['right'].set_visible(False)\n",
    "ax.spines['top'].set_visible(False)\n",
    "ax.spines['bottom'].set_visible(False)\n",
    "ax.set_xlabel('Time')\n",
    "ax.set_title(r'$y$')"
   ]
  },
  {
   "cell_type": "code",
   "execution_count": 49,
   "metadata": {},
   "outputs": [
    {
     "data": {
      "text/plain": [
       "Text(0.5, 1.0, '$\\\\dot{y}/y$')"
      ]
     },
     "execution_count": 49,
     "metadata": {},
     "output_type": "execute_result"
    },
    {
     "data": {
      "image/png": "[encoded data removed]",
      "text/plain": [
       "<Figure size 432x288 with 1 Axes>"
      ]
     },
     "metadata": {},
     "output_type": "display_data"
    }
   ],
   "source": [
    "# plot growth rate of y over time\n",
    "fig,ax = plt.subplots()\n",
    "plt.plot(df2.Time,np.log(df2['y']).diff(),'k.',linewidth=2)\n",
    "ax.spines['left'].set_visible(False)\n",
    "ax.spines['right'].set_visible(False)\n",
    "ax.spines['top'].set_visible(False)\n",
    "ax.spines['bottom'].set_visible(False)\n",
    "ax.set_ylim(ymax= .023)\n",
    "ax.set_xlabel('Time')\n",
    "ax.set_title(r'$\\dot{y}/y$')"
   ]
  },
  {
   "cell_type": "code",
   "execution_count": null,
   "metadata": {},
   "outputs": [],
   "source": []
  },
  {
   "cell_type": "code",
   "execution_count": null,
   "metadata": {},
   "outputs": [],
   "source": []
  }
 ],
 "metadata": {
  "kernelspec": {
   "display_name": "Python 3",
   "language": "python",
   "name": "python3"
  },
  "language_info": {
   "codemirror_mode": {
    "name": "ipython",
    "version": 3
   },
   "file_extension": ".py",
   "mimetype": "text/x-python",
   "name": "python",
   "nbconvert_exporter": "python",
   "pygments_lexer": "ipython3",
   "version": "3.7.7"
  }
 },
 "nbformat": 4,
 "nbformat_minor": 2
}
